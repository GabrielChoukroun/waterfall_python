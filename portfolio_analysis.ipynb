{
 "cells": [
  {
   "cell_type": "code",
   "execution_count": 34,
   "metadata": {
    "collapsed": true
   },
   "outputs": [],
   "source": [
    "import os.path\n",
    "import pandas as pd\n",
    "from googleapiclient.discovery import build\n",
    "from google_auth_oauthlib.flow import InstalledAppFlow\n",
    "from google.auth.transport.requests import Request\n",
    "from google.oauth2.credentials import Credentials\n",
    "import datetime as dt\n",
    "from google.api_core import exceptions\n",
    "import matplotlib.pyplot as plt"
   ]
  },
  {
   "cell_type": "code",
   "execution_count": 35,
   "outputs": [],
   "source": [
    "SCOPES = ['https://www.googleapis.com/auth/drive.readonly']\n",
    "today = dt.date.today().strftime(\"%m_%d_%Y\")\n",
    "# this is ID for recon live: instilend\n",
    "SPREADSHEET_ID = '1pzlQEQE4FI4OnGrhKMfu1Skwrvs-FubYuEn-Ez5HpsM'\n",
    "creds = None\n",
    "# The file token.json stores the user's access and refresh tokens, and is\n",
    "# created automatically when the authorization flow completes for the first\n",
    "# time.\n",
    "if os.path.exists('token.json'):\n",
    "        creds = Credentials.from_authorized_user_file('token.json', SCOPES)\n",
    "'''flow = InstalledAppFlow.from_client_secrets_file('client_secret_510599516312-aj6d72c90n3fmrbf3ou6gromil06pr8c.apps.googleusercontent.com.json', SCOPES)\n",
    "creds = flow.run_local_server(port=0)\n",
    "with open('token.json', 'w') as token:\n",
    "    token.write(creds.to_json())'''\n",
    "service = build('drive', 'v3', credentials=creds)\n",
    "\n",
    "# Call the Drive v3 API\n",
    "results = service.files().export_media(\n",
    "        fileId = SPREADSHEET_ID,\n",
    "        mimeType = 'application/vnd.openxmlformats-officedocument.spreadsheetml.sheet').execute()#\n",
    "path = f\"source/Portolio_History_{today}.xlsx\"\n",
    "with open(path, \"wb\") as f:\n",
    "    f.write(results)\n",
    "    f.close()"
   ],
   "metadata": {
    "collapsed": false,
    "pycharm": {
     "name": "#%%\n"
    }
   }
  },
  {
   "cell_type": "code",
   "execution_count": 36,
   "outputs": [],
   "source": [
    "pivot_data = pd.read_excel(path, 'Pivot_Data')"
   ],
   "metadata": {
    "collapsed": false,
    "pycharm": {
     "name": "#%%\n"
    }
   }
  },
  {
   "cell_type": "code",
   "execution_count": 72,
   "outputs": [],
   "source": [
    "total_coins = pivot_data.groupby(['Timestamp - UTC','Coin'])['# of Coins'].sum().reset_index()\n",
    "total_coins.columns = total_coins.columns[:-1].tolist() + ['Total Coins']\n",
    "pivot_data2 = pivot_data.merge(total_coins, on=['Timestamp - UTC','Coin'], how=\"left\")\n",
    "pivot_data2['% of Coins'] = pivot_data2['# of Coins']/pivot_data2['Total Coins']\n",
    "pivot_data2['Weighted_APY'] = pivot_data2['APY'] * pivot_data2['% of Coins']\n",
    "pivot_data2['Weighted_COFA'] = pivot_data2['COFA'] * pivot_data2['% of Coins']\n",
    "apy_history = pivot_data2.groupby(['Timestamp - UTC','Coin'])[['Weighted_APY','Weighted_COFA']].sum().reset_index()"
   ],
   "metadata": {
    "collapsed": false,
    "pycharm": {
     "name": "#%%\n"
    }
   }
  },
  {
   "cell_type": "code",
   "execution_count": null,
   "outputs": [],
   "source": [
    "apy_history['Timestamp - UTC'] = pd.to_datetime(apy_history['Timestamp - UTC'])\n",
    "for coin in apy_history['Coin'].unique():\n",
    "    plt.figure(figsize=(10,5))\n",
    "    plt.scatter(x='Timestamp - UTC', y='Weighted_APY', label='APY', color='b', data=apy_history[apy_history['Coin']==coin])\n",
    "    plt.scatter(x='Timestamp - UTC', y='Weighted_COFA', label='COFA', color='r', data=apy_history[apy_history['Coin']==coin])\n",
    "    #apy_history[apy_history['Coin']==coin].plot.scatter(x='Timestamp - UTC', y='Weighted_APY', label='APY', color='blue')\n",
    "    #apy_history[apy_history['Coin']==coin].plot.scatter(x='Timestamp - UTC', y='Weighted_APY', label='COFA', color='red')\n",
    "    plt.title(f\"APY-COFA History - {coin}\")\n",
    "    plt.xticks(rotation=45)\n",
    "    plt.legend()\n",
    "    plt.plot()"
   ],
   "metadata": {
    "collapsed": false,
    "pycharm": {
     "name": "#%%\n",
     "is_executing": true
    }
   }
  }
 ],
 "metadata": {
  "kernelspec": {
   "display_name": "Python 3",
   "language": "python",
   "name": "python3"
  },
  "language_info": {
   "codemirror_mode": {
    "name": "ipython",
    "version": 2
   },
   "file_extension": ".py",
   "mimetype": "text/x-python",
   "name": "python",
   "nbconvert_exporter": "python",
   "pygments_lexer": "ipython2",
   "version": "2.7.6"
  }
 },
 "nbformat": 4,
 "nbformat_minor": 0
}