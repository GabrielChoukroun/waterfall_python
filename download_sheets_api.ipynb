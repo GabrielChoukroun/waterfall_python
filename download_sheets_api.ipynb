{
 "cells": [
  {
   "cell_type": "code",
   "execution_count": 1,
   "id": "3652fb85",
   "metadata": {},
   "outputs": [],
   "source": [
    "import os.path\n",
    "import pandas as pd\n",
    "from googleapiclient.discovery import build\n",
    "from google_auth_oauthlib.flow import InstalledAppFlow\n",
    "from google.auth.transport.requests import Request\n",
    "from google.oauth2.credentials import Credentials\n",
    "import datetime as dt\n",
    "from google.api_core import exceptions"
   ]
  },
  {
   "cell_type": "code",
   "execution_count": 2,
   "id": "9efc6436",
   "metadata": {},
   "outputs": [],
   "source": [
    "SCOPES = ['https://www.googleapis.com/auth/drive.readonly']\n",
    "today = dt.date.today().strftime(\"%m_%d_%Y\")\n",
    "# this is ID for recon live: instilend\n",
    "SPREADSHEET_ID = '1GHaUO3fgpsUIrfbyM-mEFi7c_2yXEMKo-Sk7OJTWmao'\n",
    "creds = None\n",
    "# The file token.json stores the user's access and refresh tokens, and is\n",
    "# created automatically when the authorization flow completes for the first\n",
    "# time.\n",
    "if os.path.exists('token.json'):\n",
    "        creds = Credentials.from_authorized_user_file('token.json', SCOPES)\n",
    "'''flow = InstalledAppFlow.from_client_secrets_file('client_secret_510599516312-aj6d72c90n3fmrbf3ou6gromil06pr8c.apps.googleusercontent.com.json', SCOPES)\n",
    "creds = flow.run_local_server(port=0)\n",
    "with open('token.json', 'w') as token:\n",
    "    token.write(creds.to_json())'''\n",
    "service = build('drive', 'v3', credentials=creds)\n",
    "\n",
    "# Call the Drive v3 API\n",
    "results = service.files().export_media(\n",
    "        fileId = SPREADSHEET_ID,\n",
    "        mimeType = 'application/vnd.openxmlformats-officedocument.spreadsheetml.sheet').execute()#\n",
    "with open(\"excel_input/Recon_Live_Instilend.xlsx\", \"wb\") as f:\n",
    "    f.write(results)\n",
    "    f.close()\n"
   ]
  },
  {
   "cell_type": "code",
   "execution_count": 3,
   "id": "8013cf21-c521-420a-b55d-c810dd5de9ab",
   "metadata": {},
   "outputs": [],
   "source": [
    "# this is ID for Portfolio Waterfall - Last\n",
    "SPREADSHEET_ID = '1ZkSLZH2QwHnfdSpQUWAv2qum6xzhemngjWQBJBn_KeM'\n",
    "results = service.files().export_media(\n",
    "        fileId = SPREADSHEET_ID,\n",
    "        mimeType = 'application/vnd.openxmlformats-officedocument.spreadsheetml.sheet').execute()\n",
    "with open(\"excel_input/Portfolio_Waterfall_Last.xlsx\", \"wb\") as f:\n",
    "    f.write(results)\n",
    "    f.close()"
   ]
  },
  {
   "cell_type": "code",
   "execution_count": 5,
   "id": "1b81171a",
   "metadata": {},
   "outputs": [],
   "source": [
    "# this is ID for celsius recon master\n",
    "SPREADSHEET_ID = '1Sd_2S_W4XszBXexj-L0mcLPkgDuzQwB3_mczReDg-iI'\n",
    "results = service.files().export_media(\n",
    "        fileId = SPREADSHEET_ID,\n",
    "        mimeType = 'application/vnd.openxmlformats-officedocument.spreadsheetml.sheet').execute()\n",
    "with open(\"excel_input/Celsius_Reconciliation_Master.xlsx\", \"wb\") as f:\n",
    "    f.write(results)\n",
    "    f.close()"
   ]
  },
  {
   "cell_type": "code",
   "execution_count": 6,
   "id": "bfb661e4",
   "metadata": {},
   "outputs": [],
   "source": [
    "# this is ID for coin account, tier and deployment APY\n",
    "SPREADSHEET_ID = '1-qO6J7lAQIfQaUcuHC-nU75MZwK7ifmIs63YjhscBfY'\n",
    "results = service.files().export_media(\n",
    "        fileId = SPREADSHEET_ID,\n",
    "        mimeType = 'application/vnd.openxmlformats-officedocument.spreadsheetml.sheet').execute()\n",
    "with open(\"excel_input/coin_apy_template.xlsx\", \"wb\") as f:\n",
    "    f.write(results)\n",
    "    f.close()"
   ]
  },
  {
   "cell_type": "code",
   "execution_count": 7,
   "id": "576cc63f",
   "metadata": {},
   "outputs": [],
   "source": [
    "# this is ID for Freeze addresses\n",
    "# this sheet only contains a list of freeze ids, by comparing the length of the ids\n",
    "# we can know if there is any new freezes and if there is one, you need to run the waterfall-freeze code\n",
    "SPREADSHEET_ID = '1dBf2U0nfHzDqtkrfxdm8P2hfwM_Ndb9nx4OW8HCwmcg'\n",
    "results = service.files().export_media(\n",
    "        fileId = SPREADSHEET_ID,\n",
    "        mimeType = 'application/vnd.openxmlformats-officedocument.spreadsheetml.sheet').execute()\n",
    "with open(\"excel_input/freeze_address.xlsx\", \"wb\") as f:\n",
    "    f.write(results)\n",
    "    f.close()"
   ]
  },
  {
   "cell_type": "code",
   "execution_count": 8,
   "id": "d040bea5",
   "metadata": {},
   "outputs": [],
   "source": [
    "# extract the most recent freeze id from the url provided \n",
    "freeze = pd.read_excel(\"excel_input/freeze_address.xlsx\")\n",
    "freeze.columns = freeze.iloc[0]\n",
    "freeze.drop([0], inplace = True)\n",
    "freeze_address = str(freeze.iloc[-1][\"Freeze URL\"])\n",
    "#print(freeze_address)\n",
    "freeze_id = freeze_address.split(\"/\")[5]\n",
    "#freeze_id"
   ]
  },
  {
   "cell_type": "code",
   "execution_count": 9,
   "outputs": [],
   "source": [
    "freeze = pd.read_excel(\"excel_input/freeze_address.xlsx\",\n",
    "                                 sheet_name='Past Freezes',\n",
    "                                 engine=\"openpyxl\")\n",
    "freeze.columns = freeze.iloc[0]\n",
    "freeze.drop([0], inplace = True)\n",
    "freeze_address = str(freeze.iloc[-1][\"Freeze URL\"])\n",
    "#print(freeze_address)\n",
    "freeze_id = freeze_address.split(\"/\")[5]"
   ],
   "metadata": {
    "collapsed": false,
    "pycharm": {
     "name": "#%%\n"
    }
   }
  },
  {
   "cell_type": "code",
   "execution_count": 10,
   "outputs": [],
   "source": [
    "import requests"
   ],
   "metadata": {
    "collapsed": false,
    "pycharm": {
     "name": "#%%\n"
    }
   }
  },
  {
   "cell_type": "code",
   "execution_count": 11,
   "id": "0db89564",
   "metadata": {},
   "outputs": [],
   "source": [
    "# this is ID for freeze\n",
    "SPREADSHEET_ID = freeze_id\n",
    "try:\n",
    "    results = service.files().export_media(\n",
    "        fileId = SPREADSHEET_ID,\n",
    "        mimeType = 'application/vnd.openxmlformats-officedocument.spreadsheetml.sheet').execute()\n",
    "\n",
    "    with open(\"excel_input/freeze.xlsx\", \"wb\") as f:\n",
    "        f.write(results)\n",
    "        f.close()\n",
    "except requests.HTTPError:\n",
    "    print(\"SEND MAIL\")\n"
   ]
  },
  {
   "cell_type": "code",
   "execution_count": 12,
   "outputs": [],
   "source": [
    "# This is Id for the Deployable Metric\n",
    "SPREADSHEET_ID = '1-2FvSx-rVma1RCZ0Hu4p7J8DJjN6TpZwz6CgNSwa7CY'\n",
    "results = service.files().export_media(\n",
    "        fileId = SPREADSHEET_ID,\n",
    "        mimeType = 'application/vnd.openxmlformats-officedocument.spreadsheetml.sheet').execute()\n",
    "with open(\"excel_input/deployable_metric.xlsx\", \"wb\") as f:\n",
    "    f.write(results)\n",
    "    f.close()"
   ],
   "metadata": {
    "collapsed": false,
    "pycharm": {
     "name": "#%%\n"
    }
   }
  },
  {
   "cell_type": "markdown",
   "source": [
    "SCOPES = ['https://www.googleapis.com/auth/drive']\n",
    "# this is ID for recon live: instilend\n",
    "FOLDER_ID = '13f2xspl16wzdHBRwhgnEkKj80zLL9Rzu'\n",
    "creds = None\n",
    "# The file token.json stores the user's access and refresh tokens, and is\n",
    "# created automatically when the authorization flow completes for the first\n",
    "# time.\n",
    "if os.path.exists('token_drive.json'):\n",
    "        creds = Credentials.from_authorized_user_file('token_drive.json', SCOPES)\n",
    "service = build('drive', 'v3', credentials=creds)\n",
    "resource = service.files()\n",
    "result = resource.list(q=f\"name contains '{freeze_name}'\", pageSize=20, fields=\"files(id, name)\").execute()"
   ],
   "metadata": {
    "collapsed": false,
    "pycharm": {
     "name": "#%% md\n"
    }
   }
  }
 ],
 "metadata": {
  "kernelspec": {
   "display_name": "Python 3 (ipykernel)",
   "language": "python",
   "name": "python3"
  },
  "language_info": {
   "codemirror_mode": {
    "name": "ipython",
    "version": 3
   },
   "file_extension": ".py",
   "mimetype": "text/x-python",
   "name": "python",
   "nbconvert_exporter": "python",
   "pygments_lexer": "ipython3",
   "version": "3.9.7"
  }
 },
 "nbformat": 4,
 "nbformat_minor": 5
}