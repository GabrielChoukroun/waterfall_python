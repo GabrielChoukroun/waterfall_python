{
 "cells": [
  {
   "cell_type": "code",
   "execution_count": 1,
   "metadata": {
    "collapsed": true
   },
   "outputs": [],
   "source": [
    "import requests\n",
    "import sys\n",
    "import getopt"
   ]
  },
  {
   "cell_type": "code",
   "execution_count": null,
   "outputs": [],
   "source": [
    "def main(argv):\n",
    "    message = ' '\n",
    "\n",
    "    try: opts, args = getopt.getopt(argv, 'hm:', [\"message=\"])\n",
    "\n",
    "    except getopt.GetoptError:\n",
    "        print('SlackMessage.py -m <message>')\n",
    "        sys.exit(2)\n",
    "    if len(opts) == 0:\n",
    "        message = \"HELLO, WORLD!\"\n",
    "    for opt, arg in opts:\n",
    "        if opt == \"-h\":\n",
    "            print('SlackMessage.py -m <message>')\n",
    "            sys.exit()\n",
    "        elif opt in (\"--m\", \"--message\"):\n",
    "            message = arg\n",
    "\n",
    "    send_slack_message(message)\n",
    "\n",
    "if __name__ == \"__main__\":\n",
    "    main(sys.argv[1:])"
   ],
   "metadata": {
    "collapsed": false,
    "pycharm": {
     "name": "#%%\n"
    }
   }
  }
 ],
 "metadata": {
  "kernelspec": {
   "display_name": "Python 3",
   "language": "python",
   "name": "python3"
  },
  "language_info": {
   "codemirror_mode": {
    "name": "ipython",
    "version": 2
   },
   "file_extension": ".py",
   "mimetype": "text/x-python",
   "name": "python",
   "nbconvert_exporter": "python",
   "pygments_lexer": "ipython2",
   "version": "2.7.6"
  }
 },
 "nbformat": 4,
 "nbformat_minor": 0
}