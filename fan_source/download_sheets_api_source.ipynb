{
 "cells": [
  {
   "cell_type": "code",
   "execution_count": 1,
   "id": "3652fb85",
   "metadata": {},
   "outputs": [],
   "source": [
    "import os.path\n",
    "import pandas as pd\n",
    "from googleapiclient.discovery import build\n",
    "from google_auth_oauthlib.flow import InstalledAppFlow\n",
    "from google.auth.transport.requests import Request\n",
    "from google.oauth2.credentials import Credentials"
   ]
  },
  {
   "cell_type": "code",
   "execution_count": 2,
   "id": "9efc6436",
   "metadata": {},
   "outputs": [],
   "source": [
    "SCOPES = ['https://www.googleapis.com/auth/drive.readonly']\n",
    "\n",
    "# this is ID for recon live: instilend\n",
    "SPREADSHEET_ID = '1GHaUO3fgpsUIrfbyM-mEFi7c_2yXEMKo-Sk7OJTWmao'\n",
    "creds = None\n",
    "# The file token.json stores the user's access and refresh tokens, and is\n",
    "# created automatically when the authorization flow completes for the first\n",
    "# time.\n",
    "if os.path.exists('token.json'):\n",
    "        creds = Credentials.from_authorized_user_file('token.json', SCOPES)\n",
    "'''flow = InstalledAppFlow.from_client_secrets_file('client_secret_992941975507-pvjneopi7dhmj2mqq6arpghs6r7q31jj.json', SCOPES)\n",
    "creds = flow.run_local_server(port=0)\n",
    "with open('token.json', 'w') as token:\n",
    "    token.write(creds.to_json())'''\n",
    "service = build('drive', 'v3', credentials=creds)\n",
    "\n",
    "# Call the Drive v3 API\n",
    "results = service.files().export_media(\n",
    "        fileId = SPREADSHEET_ID,\n",
    "        mimeType = 'application/vnd.openxmlformats-officedocument.spreadsheetml.sheet').execute()\n",
    "with open(\"/home/fan7893/Documents/Celsius/Liquidity/Recon_Live_Instilend.xlsx\", \"wb\") as f:\n",
    "    f.write(results)\n",
    "    f.close()\n"
   ]
  },
  {
   "cell_type": "code",
   "execution_count": 4,
   "id": "1b81171a",
   "metadata": {},
   "outputs": [],
   "source": [
    "# this is ID for celsius recon master\n",
    "SPREADSHEET_ID = '1Sd_2S_W4XszBXexj-L0mcLPkgDuzQwB3_mczReDg-iI'\n",
    "results = service.files().export_media(\n",
    "        fileId = SPREADSHEET_ID,\n",
    "        mimeType = 'application/vnd.openxmlformats-officedocument.spreadsheetml.sheet').execute()\n",
    "with open(\"/home/fan7893/Documents/Celsius/Liquidity/Celsius_Reconciliation_Master.xlsx\", \"wb\") as f:\n",
    "    f.write(results)\n",
    "    f.close()"
   ]
  },
  {
   "cell_type": "code",
   "execution_count": 8,
   "id": "bfb661e4",
   "metadata": {},
   "outputs": [],
   "source": [
    "# this is ID for coin account, tier and deployment APY\n",
    "SPREADSHEET_ID = '1-qO6J7lAQIfQaUcuHC-nU75MZwK7ifmIs63YjhscBfY'\n",
    "results = service.files().export_media(\n",
    "        fileId = SPREADSHEET_ID,\n",
    "        mimeType = 'application/vnd.openxmlformats-officedocument.spreadsheetml.sheet').execute()\n",
    "with open(\"/home/fan7893/Documents/Celsius/Liquidity/coin_apy_template.xlsx\", \"wb\") as f:\n",
    "    f.write(results)\n",
    "    f.close()"
   ]
  },
  {
   "cell_type": "code",
   "execution_count": 10,
   "id": "576cc63f",
   "metadata": {},
   "outputs": [],
   "source": [
    "# this is ID for Freeze addresses\n",
    "# this sheet only contains a list of freeze ids, by comparing the length of the ids\n",
    "# we can know if there is any new freezes and if there is one, you need to run the waterfall-freeze code\n",
    "SPREADSHEET_ID = '1dBf2U0nfHzDqtkrfxdm8P2hfwM_Ndb9nx4OW8HCwmcg'\n",
    "results = service.files().export_media(\n",
    "        fileId = SPREADSHEET_ID,\n",
    "        mimeType = 'application/vnd.openxmlformats-officedocument.spreadsheetml.sheet').execute()\n",
    "with open(\"/home/fan7893/Documents/Celsius/Liquidity/freeze_address.xlsx\", \"wb\") as f:\n",
    "    f.write(results)\n",
    "    f.close()"
   ]
  },
  {
   "cell_type": "code",
   "execution_count": 11,
   "id": "d040bea5",
   "metadata": {},
   "outputs": [],
   "source": [
    "# extract the most recent freeze id from the url provided \n",
    "freeze = pd.read_excel(\"/home/fan7893/Documents/Celsius/Liquidity/freeze_address.xlsx\")\n",
    "freeze.columns = freeze.iloc[0]\n",
    "freeze.drop([0], inplace = True)\n",
    "freeze_address = str(freeze.iloc[-1][\"Freeze URL\"])\n",
    "#print(freeze_address)\n",
    "freeze_id = freeze_address.split(\"/\")[5]\n",
    "#freeze_id"
   ]
  },
  {
   "cell_type": "code",
   "execution_count": 12,
   "id": "0db89564",
   "metadata": {},
   "outputs": [],
   "source": [
    "# this is ID for freeze\n",
    "SPREADSHEET_ID = freeze_id\n",
    "results = service.files().export_media(\n",
    "        fileId = SPREADSHEET_ID,\n",
    "        mimeType = 'application/vnd.openxmlformats-officedocument.spreadsheetml.sheet').execute()\n",
    "with open(\"/home/fan7893/Documents/Celsius/Liquidity/freeze.xlsx\", \"wb\") as f:\n",
    "    f.write(results)\n",
    "    f.close()"
   ]
  },
  {
   "cell_type": "code",
   "execution_count": null,
   "id": "f23056f8",
   "metadata": {},
   "outputs": [],
   "source": []
  }
 ],
 "metadata": {
  "kernelspec": {
   "display_name": "Python 3",
   "language": "python",
   "name": "python3"
  },
  "language_info": {
   "codemirror_mode": {
    "name": "ipython",
    "version": 3
   },
   "file_extension": ".py",
   "mimetype": "text/x-python",
   "name": "python",
   "nbconvert_exporter": "python",
   "pygments_lexer": "ipython3",
   "version": "3.8.8"
  }
 },
 "nbformat": 4,
 "nbformat_minor": 5
}
