{
 "cells": [
  {
   "cell_type": "code",
   "execution_count": 227,
   "id": "e69b4082",
   "metadata": {},
   "outputs": [],
   "source": [
    "import pandas as pd\n",
    "import numpy as np\n",
    "from IPython.display import display\n",
    "import openpyxl\n",
    "from datetime import datetime\n",
    "import requests"
   ]
  },
  {
   "cell_type": "code",
   "execution_count": 228,
   "id": "bdb11193",
   "metadata": {},
   "outputs": [],
   "source": [
    "# You need coin recon sheet plus the APY/COFA sheet for live waterfall\n",
    "# I download the sheets and save them as excel files so I have a copy of the raw data (for debugging and archiving)"
   ]
  },
  {
   "cell_type": "code",
   "execution_count": 229,
   "id": "a63816f8",
   "metadata": {},
   "outputs": [],
   "source": [
    "def melt(df, col_vals, key, value):\n",
    "    # melt pandas dataframe\n",
    "    # col_vars: list of the columns that will be melted\n",
    "    # key: name of column needs to be generated\n",
    "    # value: name of the column that contains the value of interest\n",
    "    keep_vars = df.columns.difference(col_vals)\n",
    "    melted = []\n",
    "    for c in col_vals:\n",
    "        melted_c = df[keep_vars].copy()\n",
    "        melted_c[key] = c\n",
    "        melted_c[value] = df[c]\n",
    "        melted.append(melted_c)\n",
    "    return pd.concat(melted)"
   ]
  },
  {
   "cell_type": "code",
   "execution_count": 230,
   "outputs": [],
   "source": [
    "# CHECK IF THE FREEZE IS UPDATED\n",
    "waterfall_freeze = pd.read_excel(\"excel_input/freeze_address.xlsx\", sheet_name='Past Waterfall Freezes')\n",
    "waterfall_freeze.columns = waterfall_freeze.iloc[0]\n",
    "waterfall_freeze.drop([0], inplace = True)\n",
    "wfreeze_last_date = str(waterfall_freeze.iloc[-1][\"Date\"])\n",
    "\n",
    "freeze = pd.read_excel(\"excel_input/freeze_address.xlsx\")\n",
    "freeze.columns = freeze.iloc[0]\n",
    "freeze.drop([0], inplace = True)\n",
    "freeze_last_date = str(freeze.iloc[-1][\"Date\"])\n",
    "freeze_name_date = freeze.iloc[-1][\"Date\"].strftime('%b %d, %Y')\n",
    "freeze_date = freeze_last_date.split()[0]\n",
    "isFreeze = wfreeze_last_date != freeze_last_date"
   ],
   "metadata": {
    "collapsed": false,
    "pycharm": {
     "name": "#%%\n"
    }
   }
  },
  {
   "cell_type": "code",
   "execution_count": 231,
   "outputs": [
    {
     "data": {
      "text/plain": "False"
     },
     "execution_count": 231,
     "metadata": {},
     "output_type": "execute_result"
    }
   ],
   "source": [
    "isFreeze"
   ],
   "metadata": {
    "collapsed": false,
    "pycharm": {
     "name": "#%%\n"
    }
   }
  },
  {
   "cell_type": "code",
   "execution_count": 232,
   "id": "eaddfe03",
   "metadata": {},
   "outputs": [
    {
     "data": {
      "text/plain": "0          Coin  Bank - Balances  Celsius Network Limited (UK)  \\\n0          Coin  Bank - Balances  Celsius Network Limited (UK)   \n1      Category       undeployed                    undeployed   \n2          Tier              1.0                           1.0   \n3       Default              0.0                           0.0   \n4    wBTC (Y/N)                N                             N   \n..          ...              ...                           ...   \n117         ZEC              NaN                           NaN   \n118         ZRX              NaN                           NaN   \n119        ZUSD              NaN                           NaN   \n121       check                1                           0.0   \n123   All Coins              NaN                           NaN   \n\n0    Celsius Network LLC (US)  Celsius Network EU UAB (LT)  \\\n0    Celsius Network LLC (US)  Celsius Network EU UAB (LT)   \n1                  undeployed                   undeployed   \n2                         1.0                          1.0   \n3                         0.0                          0.0   \n4                           N                          NaN   \n..                        ...                          ...   \n117                       NaN                          NaN   \n118                       NaN                          NaN   \n119                       NaN                          NaN   \n121                       0.0                          NaN   \n123                       NaN                          NaN   \n\n0    Celsius Network Finance  Celsius OTC  CEL Treasury  CEL Users  \\\n0    Celsius Network Finance  Celsius OTC  CEL Treasury  CEL Users   \n1                 undeployed   undeployed  CEL Treasury  CEL Users   \n2                        1.0          1.0           1.0        1.0   \n3                        0.0          0.0           0.0        0.0   \n4                          N            N             N          N   \n..                       ...          ...           ...        ...   \n117                      NaN          NaN           NaN        NaN   \n118                      NaN          NaN           NaN        NaN   \n119                      NaN          NaN           NaN        NaN   \n121                      0.0          0.0           0.0        0.0   \n123                      NaN          NaN           NaN        NaN   \n\n0              Loans Out  ...  DD - CONVEX - gUSD  DD - CONVEX - RAI  \\\n0              Loans Out  ...  DD - CONVEX - gUSD  DD - CONVEX - RAI   \n1    Institutional Loans  ...                defi               defi   \n2                    4.0  ...                 1.0                2.0   \n3                    NaN  ...                 0.0                0.0   \n4                      N  ...                   N                  N   \n..                   ...  ...                 ...                ...   \n117              0.03567  ...                 NaN                NaN   \n118             0.055714  ...                 NaN                NaN   \n119                       ...                 NaN                NaN   \n121                   45  ...                   9                  8   \n123                  NaN  ...                 NaN                NaN   \n\n0    DD - Spartan Token  DD - Banker Joe - LINK.e  DD - Alpha HomoraV2 - AVAX  \\\n0    DD - Spartan Token  DD - Banker Joe - LINK.e  DD - Alpha HomoraV2 - AVAX   \n1                  defi                      defi                        defi   \n2                   2.0                       2.0                         2.0   \n3                   0.0                       0.0                         0.0   \n4                     N                         N                           N   \n..                  ...                       ...                         ...   \n117                 NaN                       NaN                         NaN   \n118                 NaN                       NaN                         NaN   \n119                 NaN                       NaN                         NaN   \n121                   1                       2.0                         2.0   \n123                 NaN                       NaN                         NaN   \n\n0    DeFi-Earmarked  DD - Banker Joe - WBTC.e  DD - Aave - Matic  \\\n0    DeFi-Earmarked  DD - Banker Joe - WBTC.e  DD - Aave - Matic   \n1              defi                      defi               defi   \n2               1.0                       2.0                2.0   \n3               0.0                       0.0                0.0   \n4                 Y                         Y                  N   \n..              ...                       ...                ...   \n117             NaN                       NaN                NaN   \n118             NaN                       NaN                NaN   \n119             NaN                       NaN                NaN   \n121               3                         3                  1   \n123             NaN                       NaN                NaN   \n\n0    DD - Bancor - LINK  DD - Badger - wibBTC  \n0    DD - Bancor - LINK  DD - Badger - wibBTC  \n1                  defi                  defi  \n2                   2.0                   2.0  \n3                   0.0                   0.0  \n4                     N                     Y  \n..                  ...                   ...  \n117                 NaN                   NaN  \n118                 NaN                   NaN  \n119                 NaN                   NaN  \n121                 2.0                     3  \n123                 NaN                   NaN  \n\n[122 rows x 184 columns]",
      "text/html": "<div>\n<style scoped>\n    .dataframe tbody tr th:only-of-type {\n        vertical-align: middle;\n    }\n\n    .dataframe tbody tr th {\n        vertical-align: top;\n    }\n\n    .dataframe thead th {\n        text-align: right;\n    }\n</style>\n<table border=\"1\" class=\"dataframe\">\n  <thead>\n    <tr style=\"text-align: right;\">\n      <th></th>\n      <th>Coin</th>\n      <th>Bank - Balances</th>\n      <th>Celsius Network Limited (UK)</th>\n      <th>Celsius Network LLC (US)</th>\n      <th>Celsius Network EU UAB (LT)</th>\n      <th>Celsius Network Finance</th>\n      <th>Celsius OTC</th>\n      <th>CEL Treasury</th>\n      <th>CEL Users</th>\n      <th>Loans Out</th>\n      <th>...</th>\n      <th>DD - CONVEX - gUSD</th>\n      <th>DD - CONVEX - RAI</th>\n      <th>DD - Spartan Token</th>\n      <th>DD - Banker Joe - LINK.e</th>\n      <th>DD - Alpha HomoraV2 - AVAX</th>\n      <th>DeFi-Earmarked</th>\n      <th>DD - Banker Joe - WBTC.e</th>\n      <th>DD - Aave - Matic</th>\n      <th>DD - Bancor - LINK</th>\n      <th>DD - Badger - wibBTC</th>\n    </tr>\n  </thead>\n  <tbody>\n    <tr>\n      <th>0</th>\n      <td>Coin</td>\n      <td>Bank - Balances</td>\n      <td>Celsius Network Limited (UK)</td>\n      <td>Celsius Network LLC (US)</td>\n      <td>Celsius Network EU UAB (LT)</td>\n      <td>Celsius Network Finance</td>\n      <td>Celsius OTC</td>\n      <td>CEL Treasury</td>\n      <td>CEL Users</td>\n      <td>Loans Out</td>\n      <td>...</td>\n      <td>DD - CONVEX - gUSD</td>\n      <td>DD - CONVEX - RAI</td>\n      <td>DD - Spartan Token</td>\n      <td>DD - Banker Joe - LINK.e</td>\n      <td>DD - Alpha HomoraV2 - AVAX</td>\n      <td>DeFi-Earmarked</td>\n      <td>DD - Banker Joe - WBTC.e</td>\n      <td>DD - Aave - Matic</td>\n      <td>DD - Bancor - LINK</td>\n      <td>DD - Badger - wibBTC</td>\n    </tr>\n    <tr>\n      <th>1</th>\n      <td>Category</td>\n      <td>undeployed</td>\n      <td>undeployed</td>\n      <td>undeployed</td>\n      <td>undeployed</td>\n      <td>undeployed</td>\n      <td>undeployed</td>\n      <td>CEL Treasury</td>\n      <td>CEL Users</td>\n      <td>Institutional Loans</td>\n      <td>...</td>\n      <td>defi</td>\n      <td>defi</td>\n      <td>defi</td>\n      <td>defi</td>\n      <td>defi</td>\n      <td>defi</td>\n      <td>defi</td>\n      <td>defi</td>\n      <td>defi</td>\n      <td>defi</td>\n    </tr>\n    <tr>\n      <th>2</th>\n      <td>Tier</td>\n      <td>1.0</td>\n      <td>1.0</td>\n      <td>1.0</td>\n      <td>1.0</td>\n      <td>1.0</td>\n      <td>1.0</td>\n      <td>1.0</td>\n      <td>1.0</td>\n      <td>4.0</td>\n      <td>...</td>\n      <td>1.0</td>\n      <td>2.0</td>\n      <td>2.0</td>\n      <td>2.0</td>\n      <td>2.0</td>\n      <td>1.0</td>\n      <td>2.0</td>\n      <td>2.0</td>\n      <td>2.0</td>\n      <td>2.0</td>\n    </tr>\n    <tr>\n      <th>3</th>\n      <td>Default</td>\n      <td>0.0</td>\n      <td>0.0</td>\n      <td>0.0</td>\n      <td>0.0</td>\n      <td>0.0</td>\n      <td>0.0</td>\n      <td>0.0</td>\n      <td>0.0</td>\n      <td>NaN</td>\n      <td>...</td>\n      <td>0.0</td>\n      <td>0.0</td>\n      <td>0.0</td>\n      <td>0.0</td>\n      <td>0.0</td>\n      <td>0.0</td>\n      <td>0.0</td>\n      <td>0.0</td>\n      <td>0.0</td>\n      <td>0.0</td>\n    </tr>\n    <tr>\n      <th>4</th>\n      <td>wBTC (Y/N)</td>\n      <td>N</td>\n      <td>N</td>\n      <td>N</td>\n      <td>NaN</td>\n      <td>N</td>\n      <td>N</td>\n      <td>N</td>\n      <td>N</td>\n      <td>N</td>\n      <td>...</td>\n      <td>N</td>\n      <td>N</td>\n      <td>N</td>\n      <td>N</td>\n      <td>N</td>\n      <td>Y</td>\n      <td>Y</td>\n      <td>N</td>\n      <td>N</td>\n      <td>Y</td>\n    </tr>\n    <tr>\n      <th>...</th>\n      <td>...</td>\n      <td>...</td>\n      <td>...</td>\n      <td>...</td>\n      <td>...</td>\n      <td>...</td>\n      <td>...</td>\n      <td>...</td>\n      <td>...</td>\n      <td>...</td>\n      <td>...</td>\n      <td>...</td>\n      <td>...</td>\n      <td>...</td>\n      <td>...</td>\n      <td>...</td>\n      <td>...</td>\n      <td>...</td>\n      <td>...</td>\n      <td>...</td>\n      <td>...</td>\n    </tr>\n    <tr>\n      <th>117</th>\n      <td>ZEC</td>\n      <td>NaN</td>\n      <td>NaN</td>\n      <td>NaN</td>\n      <td>NaN</td>\n      <td>NaN</td>\n      <td>NaN</td>\n      <td>NaN</td>\n      <td>NaN</td>\n      <td>0.03567</td>\n      <td>...</td>\n      <td>NaN</td>\n      <td>NaN</td>\n      <td>NaN</td>\n      <td>NaN</td>\n      <td>NaN</td>\n      <td>NaN</td>\n      <td>NaN</td>\n      <td>NaN</td>\n      <td>NaN</td>\n      <td>NaN</td>\n    </tr>\n    <tr>\n      <th>118</th>\n      <td>ZRX</td>\n      <td>NaN</td>\n      <td>NaN</td>\n      <td>NaN</td>\n      <td>NaN</td>\n      <td>NaN</td>\n      <td>NaN</td>\n      <td>NaN</td>\n      <td>NaN</td>\n      <td>0.055714</td>\n      <td>...</td>\n      <td>NaN</td>\n      <td>NaN</td>\n      <td>NaN</td>\n      <td>NaN</td>\n      <td>NaN</td>\n      <td>NaN</td>\n      <td>NaN</td>\n      <td>NaN</td>\n      <td>NaN</td>\n      <td>NaN</td>\n    </tr>\n    <tr>\n      <th>119</th>\n      <td>ZUSD</td>\n      <td>NaN</td>\n      <td>NaN</td>\n      <td>NaN</td>\n      <td>NaN</td>\n      <td>NaN</td>\n      <td>NaN</td>\n      <td>NaN</td>\n      <td>NaN</td>\n      <td></td>\n      <td>...</td>\n      <td>NaN</td>\n      <td>NaN</td>\n      <td>NaN</td>\n      <td>NaN</td>\n      <td>NaN</td>\n      <td>NaN</td>\n      <td>NaN</td>\n      <td>NaN</td>\n      <td>NaN</td>\n      <td>NaN</td>\n    </tr>\n    <tr>\n      <th>121</th>\n      <td>check</td>\n      <td>1</td>\n      <td>0.0</td>\n      <td>0.0</td>\n      <td>NaN</td>\n      <td>0.0</td>\n      <td>0.0</td>\n      <td>0.0</td>\n      <td>0.0</td>\n      <td>45</td>\n      <td>...</td>\n      <td>9</td>\n      <td>8</td>\n      <td>1</td>\n      <td>2.0</td>\n      <td>2.0</td>\n      <td>3</td>\n      <td>3</td>\n      <td>1</td>\n      <td>2.0</td>\n      <td>3</td>\n    </tr>\n    <tr>\n      <th>123</th>\n      <td>All Coins</td>\n      <td>NaN</td>\n      <td>NaN</td>\n      <td>NaN</td>\n      <td>NaN</td>\n      <td>NaN</td>\n      <td>NaN</td>\n      <td>NaN</td>\n      <td>NaN</td>\n      <td>NaN</td>\n      <td>...</td>\n      <td>NaN</td>\n      <td>NaN</td>\n      <td>NaN</td>\n      <td>NaN</td>\n      <td>NaN</td>\n      <td>NaN</td>\n      <td>NaN</td>\n      <td>NaN</td>\n      <td>NaN</td>\n      <td>NaN</td>\n    </tr>\n  </tbody>\n</table>\n<p>122 rows × 184 columns</p>\n</div>"
     },
     "execution_count": 232,
     "metadata": {},
     "output_type": "execute_result"
    }
   ],
   "source": [
    "# read the raw spreadsheet, downloanded from shared drive\n",
    "if isFreeze:\n",
    "    c_recon = pd.ExcelFile(\"excel_input/freeze.xlsx\")\n",
    "else:\n",
    "    c_recon = pd.ExcelFile(\"excel_input/Celsius_Reconciliation_Master.xlsx\")\n",
    "c_recon = pd.ExcelFile(\"excel_input/Celsius_Reconciliation_Master.xlsx\")\n",
    "#c_recon = pd.ExcelFile(\"excel_input/freeze.xlsx\")\n",
    "stats = pd.read_excel(c_recon, \"Coin Stats\", header = None)\n",
    "defi = pd.read_excel(c_recon, \"DeFi Assets\")\n",
    "ftx = pd.read_excel(c_recon, \"FTX Summary\")\n",
    "defi_main = pd.read_excel(c_recon, \"DeFi Main\")\n",
    "template = pd.read_excel(\"excel_input/coin_apy_template.xlsx\", \n",
    "                         sheet_name = \"APY\", \n",
    "                         header = None)\n",
    "carry = pd.read_excel(\"excel_input/coin_apy_template.xlsx\", sheet_name='Carry')\n",
    "manual_adjustements = pd.read_excel(\"excel_input/coin_apy_template.xlsx\", \n",
    "                         sheet_name = \"Manual_Adjustments\")\n",
    "\n",
    "deployable = pd.read_excel(\"excel_input/deployable_metric.xlsx\",\n",
    "                           sheet_name=\"Undeployed & Underdeployed\")\n",
    "template.columns = template.iloc[0]\n",
    "template = template[template[\"Coin\"].notnull()]\n",
    "template"
   ]
  },
  {
   "cell_type": "code",
   "execution_count": 233,
   "id": "55c30ac8-fbe3-4334-b275-8e967daf0e46",
   "metadata": {},
   "outputs": [],
   "source": [
    "'''This is computing the ETHER collateral ratio for Aave and Compounds Celsius Borrows Account'''\n",
    "borrow_account = defi_main[defi_main['Vault Name'] == 'Celsius Borrows Account']\n",
    "col_ratio = {}\n",
    "col_threshold = 2.0\n",
    "protocols = ['Compound', 'Aave V2']\n",
    "\n",
    "grouped = borrow_account[borrow_account['Coin']=='ETH'].groupby('Protocol')['sum Original Balance'].sum()\n",
    "grouped = grouped/grouped.sum()\n",
    "\n",
    "for protocol in protocols:\n",
    "    temp = borrow_account[borrow_account['Protocol'] == protocol]\n",
    "    borrow = sum([bal for bal in temp['sum Balance $USD'] if bal<0])\n",
    "    ether = temp[temp['Coin']=='ETH']['sum Balance $USD'].values[0]\n",
    "    col_ratio[protocol] = max(abs(ether/borrow) - col_threshold,0) \n",
    "    col_ratio[protocol] /= abs(ether/borrow)\n",
    "    col_ratio[protocol + '_part'] = grouped[protocol]\n"
   ]
  },
  {
   "cell_type": "code",
   "execution_count": 234,
   "outputs": [
    {
     "data": {
      "text/plain": "         Unnamed: 0  Unnamed: 1                 Unnamed: 2  \\\n0  Deployable (1-4)  Undeployed                        NaN   \n1               NaN        Coin  Total Fireblocks Balances   \n2       12020.21003         BTC                10456.41887   \n3       208989.8736         ETH                213456.4275   \n4        740161.489         SNX                6197530.531   \n\n                       Unnamed: 3                               Unnamed: 4  \\\n0                             NaN                                      NaN   \n1  Main Account (minimum reserve)  Treasury (margin reserves, mining, etc)   \n2                     1310.804598                              4440.137732   \n3                     12292.08978                              34065.87579   \n4                     109076.0552                              5466043.303   \n\n              Unnamed: 5      Unnamed: 6           Unnamed: 7  \\\n0                    NaN             NaN                  NaN   \n1  Frictional Balances 2  User's Wallets  Pending Withdrawals   \n2             639.802905         6.78103            11.183738   \n3            5018.036194     11688.58831           928.625294   \n4            78603.85056     52001.59799           105.153817   \n\n                 Unnamed: 8            Unnamed: 9                 Unnamed: 10  \\\n0                       NaN                   NaN                         NaN   \n1  Total Undeployed (Coins)  Total Undeployed ($)  Total Under and Undeployed   \n2               4698.695515           204788461.9                 12020.21003   \n3               155409.8736           480729019.3                 208989.8736   \n4               570409.5743           3134543.279                  740161.489   \n\n   Unnamed: 11  Unnamed: 12 Waterfall / Recon (will get)         Unnamed: 14  \\\n0          NaN          NaN               Under-Deployed                 NaN   \n1        Price          NaN       Under-Deployed (Coins)  Under-Deployed ($)   \n2  43584.10994          NaN                  7321.514516         319101693.5   \n3  3093.297795          NaN                        53580         165738895.9   \n4      5.49525          NaN                  169751.9147         932829.2286   \n\n   Unnamed: 15  Unnamed: 16  Unnamed: 17       Unnamed: 18  \n0          NaN          NaN          NaN               NaN  \n1          NaN          NaN          NaN  Total Deployable  \n2          NaN          0.0          NaN       12020.21003  \n3          NaN          NaN          NaN       208989.8736  \n4          NaN          NaN          NaN        740161.489  ",
      "text/html": "<div>\n<style scoped>\n    .dataframe tbody tr th:only-of-type {\n        vertical-align: middle;\n    }\n\n    .dataframe tbody tr th {\n        vertical-align: top;\n    }\n\n    .dataframe thead th {\n        text-align: right;\n    }\n</style>\n<table border=\"1\" class=\"dataframe\">\n  <thead>\n    <tr style=\"text-align: right;\">\n      <th></th>\n      <th>Unnamed: 0</th>\n      <th>Unnamed: 1</th>\n      <th>Unnamed: 2</th>\n      <th>Unnamed: 3</th>\n      <th>Unnamed: 4</th>\n      <th>Unnamed: 5</th>\n      <th>Unnamed: 6</th>\n      <th>Unnamed: 7</th>\n      <th>Unnamed: 8</th>\n      <th>Unnamed: 9</th>\n      <th>Unnamed: 10</th>\n      <th>Unnamed: 11</th>\n      <th>Unnamed: 12</th>\n      <th>Waterfall / Recon (will get)</th>\n      <th>Unnamed: 14</th>\n      <th>Unnamed: 15</th>\n      <th>Unnamed: 16</th>\n      <th>Unnamed: 17</th>\n      <th>Unnamed: 18</th>\n    </tr>\n  </thead>\n  <tbody>\n    <tr>\n      <th>0</th>\n      <td>Deployable (1-4)</td>\n      <td>Undeployed</td>\n      <td>NaN</td>\n      <td>NaN</td>\n      <td>NaN</td>\n      <td>NaN</td>\n      <td>NaN</td>\n      <td>NaN</td>\n      <td>NaN</td>\n      <td>NaN</td>\n      <td>NaN</td>\n      <td>NaN</td>\n      <td>NaN</td>\n      <td>Under-Deployed</td>\n      <td>NaN</td>\n      <td>NaN</td>\n      <td>NaN</td>\n      <td>NaN</td>\n      <td>NaN</td>\n    </tr>\n    <tr>\n      <th>1</th>\n      <td>NaN</td>\n      <td>Coin</td>\n      <td>Total Fireblocks Balances</td>\n      <td>Main Account (minimum reserve)</td>\n      <td>Treasury (margin reserves, mining, etc)</td>\n      <td>Frictional Balances 2</td>\n      <td>User's Wallets</td>\n      <td>Pending Withdrawals</td>\n      <td>Total Undeployed (Coins)</td>\n      <td>Total Undeployed ($)</td>\n      <td>Total Under and Undeployed</td>\n      <td>Price</td>\n      <td>NaN</td>\n      <td>Under-Deployed (Coins)</td>\n      <td>Under-Deployed ($)</td>\n      <td>NaN</td>\n      <td>NaN</td>\n      <td>NaN</td>\n      <td>Total Deployable</td>\n    </tr>\n    <tr>\n      <th>2</th>\n      <td>12020.21003</td>\n      <td>BTC</td>\n      <td>10456.41887</td>\n      <td>1310.804598</td>\n      <td>4440.137732</td>\n      <td>639.802905</td>\n      <td>6.78103</td>\n      <td>11.183738</td>\n      <td>4698.695515</td>\n      <td>204788461.9</td>\n      <td>12020.21003</td>\n      <td>43584.10994</td>\n      <td>NaN</td>\n      <td>7321.514516</td>\n      <td>319101693.5</td>\n      <td>NaN</td>\n      <td>0.0</td>\n      <td>NaN</td>\n      <td>12020.21003</td>\n    </tr>\n    <tr>\n      <th>3</th>\n      <td>208989.8736</td>\n      <td>ETH</td>\n      <td>213456.4275</td>\n      <td>12292.08978</td>\n      <td>34065.87579</td>\n      <td>5018.036194</td>\n      <td>11688.58831</td>\n      <td>928.625294</td>\n      <td>155409.8736</td>\n      <td>480729019.3</td>\n      <td>208989.8736</td>\n      <td>3093.297795</td>\n      <td>NaN</td>\n      <td>53580</td>\n      <td>165738895.9</td>\n      <td>NaN</td>\n      <td>NaN</td>\n      <td>NaN</td>\n      <td>208989.8736</td>\n    </tr>\n    <tr>\n      <th>4</th>\n      <td>740161.489</td>\n      <td>SNX</td>\n      <td>6197530.531</td>\n      <td>109076.0552</td>\n      <td>5466043.303</td>\n      <td>78603.85056</td>\n      <td>52001.59799</td>\n      <td>105.153817</td>\n      <td>570409.5743</td>\n      <td>3134543.279</td>\n      <td>740161.489</td>\n      <td>5.49525</td>\n      <td>NaN</td>\n      <td>169751.9147</td>\n      <td>932829.2286</td>\n      <td>NaN</td>\n      <td>NaN</td>\n      <td>NaN</td>\n      <td>740161.489</td>\n    </tr>\n  </tbody>\n</table>\n</div>"
     },
     "execution_count": 234,
     "metadata": {},
     "output_type": "execute_result"
    }
   ],
   "source": [
    "deployable.head()"
   ],
   "metadata": {
    "collapsed": false,
    "pycharm": {
     "name": "#%%\n"
    }
   }
  },
  {
   "cell_type": "code",
   "execution_count": 309,
   "outputs": [],
   "source": [
    "# We format the deployable tab\n",
    "deployable_0 = deployable.copy()\n",
    "deployable_0 = deployable.iloc[1:,[1,8]]\n",
    "deployable_0.columns = deployable_0.iloc[0]\n",
    "deployable_0 = deployable_0.iloc[1:]"
   ],
   "metadata": {
    "collapsed": false,
    "pycharm": {
     "name": "#%%\n"
    }
   }
  },
  {
   "cell_type": "code",
   "execution_count": 236,
   "id": "294a88c9",
   "metadata": {},
   "outputs": [],
   "source": [
    "# this is generating a assets/liabilities dataframe for waterfall sheet\n",
    "coin_asset_liability = stats[[0,2,3]].copy()\n",
    "coin_asset_liability.columns = coin_asset_liability.iloc[0]\n",
    "coin_asset_liability.drop([0], inplace = True)\n",
    "coin_asset_liability.dropna(axis = 0 , how = \"all\", inplace = True)\n",
    "coin_asset_liability.reset_index(drop = True, inplace = True)\n",
    "coin_asset_liability.at[0, \"Coin/Asset\"] = \"Total\"\n",
    "coin_asset_liability = coin_asset_liability[coin_asset_liability[\"Coin/Asset\"].notnull()]\n",
    "coin_asset_liability.columns = ['Coin', 'Net Assets Total', 'Net Liabilities Total']\n",
    "coin_asset_liability[\"Net Assets Total\"] = coin_asset_liability[\"Net Assets Total\"].astype(\"float\")\n",
    "coin_asset_liability[\"Net Liabilities Total\"] = coin_asset_liability[\"Net Liabilities Total\"].astype(\"float\")\n",
    "#coin_asset_liability.columns"
   ]
  },
  {
   "cell_type": "code",
   "execution_count": 237,
   "id": "27226995",
   "metadata": {},
   "outputs": [
    {
     "name": "stderr",
     "output_type": "stream",
     "text": [
      "/Users/gabrielchoukroun/.conda/envs/waterfall_python/lib/python3.10/site-packages/pandas/core/frame.py:4906: SettingWithCopyWarning: \n",
      "A value is trying to be set on a copy of a slice from a DataFrame\n",
      "\n",
      "See the caveats in the documentation: https://pandas.pydata.org/pandas-docs/stable/user_guide/indexing.html#returning-a-view-versus-a-copy\n",
      "  return super().drop(\n",
      "/Users/gabrielchoukroun/.conda/envs/waterfall_python/lib/python3.10/site-packages/pandas/util/_decorators.py:311: SettingWithCopyWarning: \n",
      "A value is trying to be set on a copy of a slice from a DataFrame\n",
      "\n",
      "See the caveats in the documentation: https://pandas.pydata.org/pandas-docs/stable/user_guide/indexing.html#returning-a-view-versus-a-copy\n",
      "  return func(*args, **kwargs)\n"
     ]
    },
    {
     "name": "stdout",
     "output_type": "stream",
     "text": [
      "['SLRS', 'BVOL']\n"
     ]
    },
    {
     "data": {
      "text/plain": "   Coin      Price\n0  SLRS    0.33297\n1  BVOL  545.45000",
      "text/html": "<div>\n<style scoped>\n    .dataframe tbody tr th:only-of-type {\n        vertical-align: middle;\n    }\n\n    .dataframe tbody tr th {\n        vertical-align: top;\n    }\n\n    .dataframe thead th {\n        text-align: right;\n    }\n</style>\n<table border=\"1\" class=\"dataframe\">\n  <thead>\n    <tr style=\"text-align: right;\">\n      <th></th>\n      <th>Coin</th>\n      <th>Price</th>\n    </tr>\n  </thead>\n  <tbody>\n    <tr>\n      <th>0</th>\n      <td>SLRS</td>\n      <td>0.33297</td>\n    </tr>\n    <tr>\n      <th>1</th>\n      <td>BVOL</td>\n      <td>545.45000</td>\n    </tr>\n  </tbody>\n</table>\n</div>"
     },
     "execution_count": 237,
     "metadata": {},
     "output_type": "execute_result"
    }
   ],
   "source": [
    "# get the coin price from coin recon sheet, there are some coins in FTX which are not listed in the \"coin stats\" tab\n",
    "# and have no price. I use FTX api to get their most recent price.\n",
    "coin_price = stats[[0,1]]\n",
    "coin_price.columns = [\"Coin\", \"Price\"]\n",
    "coin_price.drop([0], inplace = True)\n",
    "coin_price.dropna(axis = 0 , how = \"all\", inplace = True)\n",
    "coin_price = coin_price[coin_price[\"Coin\"].notnull()]\n",
    "coin_price.reset_index(drop = True, inplace = True)\n",
    "coin_price.loc[len(coin_price.index)] = ['Stable Coins', 1] \n",
    "srm_price = float(coin_price.loc[coin_price[\"Coin\"] == \"SRM\", \"Price\"])\n",
    "coin_price.loc[len(coin_price.index)] = ['SRM_LOCKED', srm_price] \n",
    "#coin_price\n",
    "\n",
    "\n",
    "existing_coins = coin_price[\"Coin\"].unique()\n",
    "coins_need_price = [\"ATLAS\", \"SOL\",\"POLIS\", \"RAY\", \"SLRS\", \"BVOL\", \"YFL\", \"QI\", \"CREAM\",\n",
    "                   \"FTT\", \"DASH\", \"THKD\", \"ALPHA\", \"WDGLD\", \"VSP\", \"ORBS\", \"WBTC\", \n",
    "                   \"3CRV\", \"KIN\", \"LRC\"]\n",
    "needed = []\n",
    "for coin in coins_need_price:\n",
    "    if coin not in existing_coins:\n",
    "        needed.append(coin)\n",
    "print(needed)\n",
    "price_dict ={\"Coin\": [], \"Price\": []}\n",
    "for coin in needed:\n",
    "    url1 = (f\"https://ftx.com/api/markets/{coin}/USD\")\n",
    "    data = requests.get(url1).json()\n",
    "    price_dict[\"Coin\"].append(coin)\n",
    "    price_dict[\"Price\"].append(data['result'][\"price\"])\n",
    "needed_price = pd.DataFrame.from_dict(price_dict)\n",
    "coin_price = pd.concat([coin_price, needed_price])\n",
    "needed_price"
   ]
  },
  {
   "cell_type": "code",
   "execution_count": 238,
   "id": "fe5d88ed",
   "metadata": {},
   "outputs": [],
   "source": [
    "# get coin tier info \n",
    "tiers = template[template[\"Coin\"]==\"Tier\"].T\n",
    "tiers.reset_index(inplace = True)\n",
    "tiers.columns = [\"Account\", \"Tier\"]\n",
    "tiers.drop([0], inplace = True)\n",
    "# there may be duplicate records in tier info\n",
    "tiers.drop_duplicates(inplace = True)\n",
    "# there are some rare occasions that the same account is assinged to two or more different tiers, use the first encountered\n",
    "# the others are likely for some testing purposes, which are usually added to the end \n",
    "tiers = tiers[~tiers.Account.duplicated()]\n",
    "filter4 = tiers['Tier'].isnull()\n",
    "tiers.at[filter4, \"Tier\"] = \"unassigned\"\n",
    "tiers[\"Tier\"] = tiers[\"Tier\"].astype(\"string\")\n",
    "#print(len(tiers))\n",
    "#print(len(tiers[tiers[\"Tier\"] == \"unassigned\"]))\n",
    "#print(tiers.Account.nunique())\n",
    "tiers[\"Tier\"] = tiers[\"Tier\"].apply(lambda x:x.split(\".\")[0])\n",
    "#tiers[\"Tier\"].unique()\n",
    "#tiers"
   ]
  },
  {
   "cell_type": "code",
   "execution_count": 239,
   "id": "9f7d83e7",
   "metadata": {
    "scrolled": true
   },
   "outputs": [],
   "source": [
    "# mapping each accout to a category\n",
    "categories = template[template[\"Coin\"].isin([\"Coin\", \"Category\"])].T\n",
    "categories.reset_index(drop = True, inplace = True)\n",
    "categories.columns = [\"Account\", \"Category\"]\n",
    "categories.drop([0], inplace = True)\n",
    "categories.Category.fillna(value = \"unassigned\", inplace = True)\n",
    "#print(len(categories))\n",
    "#print(len(categories[categories[\"Category\"] == \"unassigned\"]))\n",
    "#print(categories.Account.nunique())\n",
    "#categories"
   ]
  },
  {
   "cell_type": "code",
   "execution_count": 240,
   "id": "d8245bab",
   "metadata": {},
   "outputs": [],
   "source": [
    "# read the cofa data\n",
    "cofa_original = pd.read_excel(\"excel_input/coin_apy_template.xlsx\", sheet_name = \"COFA\")\n",
    "cofa_original.dropna(axis=0, how='all', inplace=True)\n",
    "cofa_original.reset_index(drop = True, inplace = True)\n",
    "#display(cofa_original)\n",
    "cofa_original.at[cofa_original[\"Coin\"] == \"stable (USD)\", \"Coin\"] = \"Stable Coins\"\n",
    "cofa_melt_cols = list(cofa_original.columns)\n",
    "cofa_melt_cols.remove(\"Coin\")\n",
    "#print(cofa_melt_cols)\n",
    "cofa = melt(cofa_original, cofa_melt_cols, \"Account\", \"COFA\")\n",
    "cofa = cofa[cofa[\"COFA\"].notnull()]\n",
    "cofa.reset_index(drop = True, inplace = True)\n",
    "#cofa\n"
   ]
  },
  {
   "cell_type": "code",
   "execution_count": 241,
   "outputs": [],
   "source": [
    "# process the carry tab (like the cofa)\n",
    "carry.dropna(axis=0, how='all', inplace=True)\n",
    "carry.reset_index(drop = True, inplace = True)\n",
    "#display(cofa_original)\n",
    "carry.at[carry[\"Coin\"] == \"stable (USD)\", \"Coin\"] = \"Stable Coins\"\n",
    "carry_melt_cols = list(carry.columns)\n",
    "carry_melt_cols.remove(\"Coin\")\n",
    "#print(cofa_melt_cols)\n",
    "carry2 = melt(carry, carry_melt_cols, \"Account\", \"CARRY\")\n",
    "carry2 = carry2[carry2[\"CARRY\"].notnull()]\n",
    "carry2.reset_index(drop = True, inplace = True)"
   ],
   "metadata": {
    "collapsed": false,
    "pycharm": {
     "name": "#%%\n"
    }
   }
  },
  {
   "cell_type": "code",
   "execution_count": 242,
   "id": "3c58826e",
   "metadata": {
    "scrolled": true
   },
   "outputs": [
    {
     "name": "stderr",
     "output_type": "stream",
     "text": [
      "/Users/gabrielchoukroun/.conda/envs/waterfall_python/lib/python3.10/site-packages/pandas/core/frame.py:5238: SettingWithCopyWarning: \n",
      "A value is trying to be set on a copy of a slice from a DataFrame\n",
      "\n",
      "See the caveats in the documentation: https://pandas.pydata.org/pandas-docs/stable/user_guide/indexing.html#returning-a-view-versus-a-copy\n",
      "  return super().replace(\n"
     ]
    }
   ],
   "source": [
    "# process apy data\n",
    "apy = template[~template[\"Coin\"].isin([\"Coin\", \"Category\", \"Tier\"])]\n",
    "#apy.fillna(value = 0, inplace = True)\n",
    "\n",
    "# people leave spaces in the excel file sometimes, need to get rid of them\n",
    "apy.replace([\" \", \"\", \"  \"], np.nan, inplace = True)\n",
    "apy =apy[apy[\"Coin\"] != \"wBTC (Y/N)\"]\n",
    "#apy"
   ]
  },
  {
   "cell_type": "code",
   "execution_count": 243,
   "id": "3cb13048",
   "metadata": {},
   "outputs": [],
   "source": [
    "apy2 = apy.copy()\n",
    "apy2[\"Coin\"] = apy2[\"Coin\"] + \"_APY\"\n",
    "apy5 = apy2.T\n",
    "apy5.reset_index(inplace = True)\n",
    "apy5.columns = apy5.iloc[0]\n",
    "apy5.rename(columns = {\"Coin\": \"Account\"}, inplace = True)\n",
    "apy5.drop([0], inplace = True)\n",
    "#apy5"
   ]
  },
  {
   "cell_type": "code",
   "execution_count": 244,
   "id": "0ae71c00",
   "metadata": {},
   "outputs": [],
   "source": [
    "# convert dyptes to float\n",
    "for col in apy5.columns:\n",
    "    if col != \"Account\":\n",
    "        apy5.loc[apy5[col].isin(template[\"Coin\"].unique()), col] = np.nan\n",
    "        apy5[col] = apy5[col].map(lambda x:np.nan if type(x)==str else x)\\\n",
    "            .astype(float)"
   ]
  },
  {
   "cell_type": "code",
   "execution_count": 245,
   "id": "b65a35a8",
   "metadata": {},
   "outputs": [
    {
     "data": {
      "text/plain": "Coin                object\nUser Collateral    float64\nInst Collateral    float64\ndtype: object"
     },
     "execution_count": 245,
     "metadata": {},
     "output_type": "execute_result"
    }
   ],
   "source": [
    "# get the user collateral and institutional collateral data in a dataframe\n",
    "# to be uploaded to waterfall sheet \n",
    "collateral = stats.copy()\n",
    "collateral_p1 = collateral.iloc[:, 0].to_frame()\n",
    "collateral_p1.columns = [\"Coin\"]\n",
    "collateral_p2 = collateral.iloc[:, 4:]\n",
    "collateral_p2.columns = collateral_p2.iloc[2]\n",
    "collateral = pd.concat([collateral_p1, collateral_p2[[\"User Collateral\", \"Inst Collateral\"]]], axis = 1)\n",
    "collateral.drop([0,1,2,3], inplace = True)\n",
    "collateral = collateral[collateral[\"Coin\"].notnull()]\n",
    "collateral[\"User Collateral\"] = -1 * collateral[\"User Collateral\"]\n",
    "collateral[\"Inst Collateral\"] = -1 * collateral[\"Inst Collateral\"]\n",
    "collateral.fillna(value = 0, inplace = True)\n",
    "collateral.dtypes"
   ]
  },
  {
   "cell_type": "code",
   "execution_count": 246,
   "id": "59083e70",
   "metadata": {
    "scrolled": true
   },
   "outputs": [
    {
     "name": "stderr",
     "output_type": "stream",
     "text": [
      "/Users/gabrielchoukroun/.conda/envs/waterfall_python/lib/python3.10/site-packages/pandas/core/frame.py:4906: SettingWithCopyWarning: \n",
      "A value is trying to be set on a copy of a slice from a DataFrame\n",
      "\n",
      "See the caveats in the documentation: https://pandas.pydata.org/pandas-docs/stable/user_guide/indexing.html#returning-a-view-versus-a-copy\n",
      "  return super().drop(\n",
      "/Users/gabrielchoukroun/.conda/envs/waterfall_python/lib/python3.10/site-packages/pandas/core/frame.py:5039: SettingWithCopyWarning: \n",
      "A value is trying to be set on a copy of a slice from a DataFrame\n",
      "\n",
      "See the caveats in the documentation: https://pandas.pydata.org/pandas-docs/stable/user_guide/indexing.html#returning-a-view-versus-a-copy\n",
      "  return super().rename(\n"
     ]
    },
    {
     "data": {
      "text/plain": "           Coin Bank - Balances Celsius Network Limited (UK)  \\\n3         1INCH               0                            0   \n4          3CRV               0                            0   \n5          AAVE               0                  13913.27039   \n6           ADA               0                  1200.761924   \n7          ALCX               0                            0   \n..          ...             ...                          ...   \n107         YFL               0                            0   \n108  yveCRV-DAO               0                            0   \n109         ZEC               0                     212.3086   \n110         ZRX               0                  16561.64384   \n111        ZUSD             NaN                          NaN   \n\n    Celsius Network LLC (US) Celsius Network EU UAB (LT)  Celsius OTC  \\\n3                  276022.85                           0            0   \n4                          0                           0            0   \n5                8112.500981                           0   106.934225   \n6                6968903.406                           1  106162.0661   \n7                          0                           0            0   \n..                       ...                         ...          ...   \n107                        0                           0            0   \n108                        0                           0            0   \n109              46744.36113                           0            0   \n110              2302316.134                           0            0   \n111                      NaN                         NaN          NaN   \n\n    Celsius Network Finance CEL Treasury CEL Users  Loans Out  ... Stakehound  \\\n3                         0            0         0          0  ...          0   \n4                         0            0         0          0  ...          0   \n5                   5.93778            0         0   19620.65  ...          0   \n6                268.036039            0         0  103318611  ...          0   \n7                         0            0         0          0  ...          0   \n..                      ...          ...       ...        ...  ...        ...   \n107                       0            0         0          0  ...          0   \n108                       0            0         0          0  ...          0   \n109                       0            0         0      73000  ...          0   \n110                  272.88            0         0    3500000  ...          0   \n111                     NaN          NaN       NaN        NaN  ...        NaN   \n\n    Kraken Staking Direct Staking Mining EAM - Balances Others - Asset  \\\n3                0              0      0              0     6666666.66   \n4                0              0      0              0              0   \n5                0              0      0              0              0   \n6                0    178989658.8      0              0              0   \n7                0              0      0              0              0   \n..             ...            ...    ...            ...            ...   \n107              0              0      0              0              0   \n108              0              0      0              0              0   \n109              0              0      0              0              0   \n110              0              0      0              0              0   \n111            NaN            NaN    NaN            NaN            NaN   \n\n        BITFINEX COINBASEPRO DERIBIT LIQUID  \n3              0           0       0      0  \n4              0           0       0      0  \n5              0           0       0      0  \n6              0           0       0      0  \n7              0           0       0      0  \n..           ...         ...     ...    ...  \n107            0           0       0      0  \n108            0           0       0      0  \n109  4630.620641           0       0      0  \n110   577627.223  8735.95141       0      0  \n111          NaN         NaN     NaN    NaN  \n\n[109 rows x 30 columns]",
      "text/html": "<div>\n<style scoped>\n    .dataframe tbody tr th:only-of-type {\n        vertical-align: middle;\n    }\n\n    .dataframe tbody tr th {\n        vertical-align: top;\n    }\n\n    .dataframe thead th {\n        text-align: right;\n    }\n</style>\n<table border=\"1\" class=\"dataframe\">\n  <thead>\n    <tr style=\"text-align: right;\">\n      <th></th>\n      <th>Coin</th>\n      <th>Bank - Balances</th>\n      <th>Celsius Network Limited (UK)</th>\n      <th>Celsius Network LLC (US)</th>\n      <th>Celsius Network EU UAB (LT)</th>\n      <th>Celsius OTC</th>\n      <th>Celsius Network Finance</th>\n      <th>CEL Treasury</th>\n      <th>CEL Users</th>\n      <th>Loans Out</th>\n      <th>...</th>\n      <th>Stakehound</th>\n      <th>Kraken Staking</th>\n      <th>Direct Staking</th>\n      <th>Mining</th>\n      <th>EAM - Balances</th>\n      <th>Others - Asset</th>\n      <th>BITFINEX</th>\n      <th>COINBASEPRO</th>\n      <th>DERIBIT</th>\n      <th>LIQUID</th>\n    </tr>\n  </thead>\n  <tbody>\n    <tr>\n      <th>3</th>\n      <td>1INCH</td>\n      <td>0</td>\n      <td>0</td>\n      <td>276022.85</td>\n      <td>0</td>\n      <td>0</td>\n      <td>0</td>\n      <td>0</td>\n      <td>0</td>\n      <td>0</td>\n      <td>...</td>\n      <td>0</td>\n      <td>0</td>\n      <td>0</td>\n      <td>0</td>\n      <td>0</td>\n      <td>6666666.66</td>\n      <td>0</td>\n      <td>0</td>\n      <td>0</td>\n      <td>0</td>\n    </tr>\n    <tr>\n      <th>4</th>\n      <td>3CRV</td>\n      <td>0</td>\n      <td>0</td>\n      <td>0</td>\n      <td>0</td>\n      <td>0</td>\n      <td>0</td>\n      <td>0</td>\n      <td>0</td>\n      <td>0</td>\n      <td>...</td>\n      <td>0</td>\n      <td>0</td>\n      <td>0</td>\n      <td>0</td>\n      <td>0</td>\n      <td>0</td>\n      <td>0</td>\n      <td>0</td>\n      <td>0</td>\n      <td>0</td>\n    </tr>\n    <tr>\n      <th>5</th>\n      <td>AAVE</td>\n      <td>0</td>\n      <td>13913.27039</td>\n      <td>8112.500981</td>\n      <td>0</td>\n      <td>106.934225</td>\n      <td>5.93778</td>\n      <td>0</td>\n      <td>0</td>\n      <td>19620.65</td>\n      <td>...</td>\n      <td>0</td>\n      <td>0</td>\n      <td>0</td>\n      <td>0</td>\n      <td>0</td>\n      <td>0</td>\n      <td>0</td>\n      <td>0</td>\n      <td>0</td>\n      <td>0</td>\n    </tr>\n    <tr>\n      <th>6</th>\n      <td>ADA</td>\n      <td>0</td>\n      <td>1200.761924</td>\n      <td>6968903.406</td>\n      <td>1</td>\n      <td>106162.0661</td>\n      <td>268.036039</td>\n      <td>0</td>\n      <td>0</td>\n      <td>103318611</td>\n      <td>...</td>\n      <td>0</td>\n      <td>0</td>\n      <td>178989658.8</td>\n      <td>0</td>\n      <td>0</td>\n      <td>0</td>\n      <td>0</td>\n      <td>0</td>\n      <td>0</td>\n      <td>0</td>\n    </tr>\n    <tr>\n      <th>7</th>\n      <td>ALCX</td>\n      <td>0</td>\n      <td>0</td>\n      <td>0</td>\n      <td>0</td>\n      <td>0</td>\n      <td>0</td>\n      <td>0</td>\n      <td>0</td>\n      <td>0</td>\n      <td>...</td>\n      <td>0</td>\n      <td>0</td>\n      <td>0</td>\n      <td>0</td>\n      <td>0</td>\n      <td>0</td>\n      <td>0</td>\n      <td>0</td>\n      <td>0</td>\n      <td>0</td>\n    </tr>\n    <tr>\n      <th>...</th>\n      <td>...</td>\n      <td>...</td>\n      <td>...</td>\n      <td>...</td>\n      <td>...</td>\n      <td>...</td>\n      <td>...</td>\n      <td>...</td>\n      <td>...</td>\n      <td>...</td>\n      <td>...</td>\n      <td>...</td>\n      <td>...</td>\n      <td>...</td>\n      <td>...</td>\n      <td>...</td>\n      <td>...</td>\n      <td>...</td>\n      <td>...</td>\n      <td>...</td>\n      <td>...</td>\n    </tr>\n    <tr>\n      <th>107</th>\n      <td>YFL</td>\n      <td>0</td>\n      <td>0</td>\n      <td>0</td>\n      <td>0</td>\n      <td>0</td>\n      <td>0</td>\n      <td>0</td>\n      <td>0</td>\n      <td>0</td>\n      <td>...</td>\n      <td>0</td>\n      <td>0</td>\n      <td>0</td>\n      <td>0</td>\n      <td>0</td>\n      <td>0</td>\n      <td>0</td>\n      <td>0</td>\n      <td>0</td>\n      <td>0</td>\n    </tr>\n    <tr>\n      <th>108</th>\n      <td>yveCRV-DAO</td>\n      <td>0</td>\n      <td>0</td>\n      <td>0</td>\n      <td>0</td>\n      <td>0</td>\n      <td>0</td>\n      <td>0</td>\n      <td>0</td>\n      <td>0</td>\n      <td>...</td>\n      <td>0</td>\n      <td>0</td>\n      <td>0</td>\n      <td>0</td>\n      <td>0</td>\n      <td>0</td>\n      <td>0</td>\n      <td>0</td>\n      <td>0</td>\n      <td>0</td>\n    </tr>\n    <tr>\n      <th>109</th>\n      <td>ZEC</td>\n      <td>0</td>\n      <td>212.3086</td>\n      <td>46744.36113</td>\n      <td>0</td>\n      <td>0</td>\n      <td>0</td>\n      <td>0</td>\n      <td>0</td>\n      <td>73000</td>\n      <td>...</td>\n      <td>0</td>\n      <td>0</td>\n      <td>0</td>\n      <td>0</td>\n      <td>0</td>\n      <td>0</td>\n      <td>4630.620641</td>\n      <td>0</td>\n      <td>0</td>\n      <td>0</td>\n    </tr>\n    <tr>\n      <th>110</th>\n      <td>ZRX</td>\n      <td>0</td>\n      <td>16561.64384</td>\n      <td>2302316.134</td>\n      <td>0</td>\n      <td>0</td>\n      <td>272.88</td>\n      <td>0</td>\n      <td>0</td>\n      <td>3500000</td>\n      <td>...</td>\n      <td>0</td>\n      <td>0</td>\n      <td>0</td>\n      <td>0</td>\n      <td>0</td>\n      <td>0</td>\n      <td>577627.223</td>\n      <td>8735.95141</td>\n      <td>0</td>\n      <td>0</td>\n    </tr>\n    <tr>\n      <th>111</th>\n      <td>ZUSD</td>\n      <td>NaN</td>\n      <td>NaN</td>\n      <td>NaN</td>\n      <td>NaN</td>\n      <td>NaN</td>\n      <td>NaN</td>\n      <td>NaN</td>\n      <td>NaN</td>\n      <td>NaN</td>\n      <td>...</td>\n      <td>NaN</td>\n      <td>NaN</td>\n      <td>NaN</td>\n      <td>NaN</td>\n      <td>NaN</td>\n      <td>NaN</td>\n      <td>NaN</td>\n      <td>NaN</td>\n      <td>NaN</td>\n      <td>NaN</td>\n    </tr>\n  </tbody>\n</table>\n<p>109 rows × 30 columns</p>\n</div>"
     },
     "execution_count": 246,
     "metadata": {},
     "output_type": "execute_result"
    }
   ],
   "source": [
    "# process stats table\n",
    "\n",
    "# first fill the \"asset\" or \"liability\" into row 0\n",
    "stats.iloc[0] = stats.iloc[0].ffill()\n",
    "# drop the secondary description of asset or liability (no use)\n",
    "stats.drop([1], inplace = True)\n",
    "\n",
    "#split stats into two parts, p1 is coin name and summary, p2 is assets/liabilities\n",
    "stats_p1 = stats.iloc[:, 0:3]\n",
    "stats_p1.columns = stats_p1.iloc[0]\n",
    "stats_p1.reset_index(drop = True, inplace = True)\n",
    "stats_p1.drop([0, 1, 2], inplace = True)\n",
    "stats_p1.rename(columns = {\"Coin/Asset\": \"Coin\"}, inplace = True)\n",
    "\n",
    "\n",
    "stats_p2 = stats.iloc[:, 4:]\n",
    "\n",
    "# filter according to \"assets\" and the detailed account name cannot be null\n",
    "stats_p3 = stats_p2.loc[:, stats_p2.loc[2].notnull()]\n",
    "stats_p4 = stats_p3.loc[:, stats_p3.loc[0] == \"Assets\"]\n",
    "stats_p4.reset_index(drop = True, inplace = True)\n",
    "stats_p4.columns = stats_p4.iloc[1]\n",
    "stats_p4.reset_index(drop = True, inplace = True)\n",
    "stats_p4.drop([0, 1, 2], inplace = True)\n",
    "stats = pd.concat([stats_p1[\"Coin\"], stats_p4], axis = 1)\n",
    "stats = stats[stats[\"Coin\"].notnull()]\n",
    "stats"
   ]
  },
  {
   "cell_type": "code",
   "execution_count": 247,
   "outputs": [
    {
     "data": {
      "text/plain": "           Coin Celsius Network LLC (US)\n3         1INCH                276022.85\n4          3CRV                        0\n5          AAVE              8112.500981\n6           ADA              6968903.406\n7          ALCX                        0\n..          ...                      ...\n107         YFL                        0\n108  yveCRV-DAO                        0\n109         ZEC              46744.36113\n110         ZRX              2302316.134\n111        ZUSD                      NaN\n\n[109 rows x 2 columns]",
      "text/html": "<div>\n<style scoped>\n    .dataframe tbody tr th:only-of-type {\n        vertical-align: middle;\n    }\n\n    .dataframe tbody tr th {\n        vertical-align: top;\n    }\n\n    .dataframe thead th {\n        text-align: right;\n    }\n</style>\n<table border=\"1\" class=\"dataframe\">\n  <thead>\n    <tr style=\"text-align: right;\">\n      <th></th>\n      <th>Coin</th>\n      <th>Celsius Network LLC (US)</th>\n    </tr>\n  </thead>\n  <tbody>\n    <tr>\n      <th>3</th>\n      <td>1INCH</td>\n      <td>276022.85</td>\n    </tr>\n    <tr>\n      <th>4</th>\n      <td>3CRV</td>\n      <td>0</td>\n    </tr>\n    <tr>\n      <th>5</th>\n      <td>AAVE</td>\n      <td>8112.500981</td>\n    </tr>\n    <tr>\n      <th>6</th>\n      <td>ADA</td>\n      <td>6968903.406</td>\n    </tr>\n    <tr>\n      <th>7</th>\n      <td>ALCX</td>\n      <td>0</td>\n    </tr>\n    <tr>\n      <th>...</th>\n      <td>...</td>\n      <td>...</td>\n    </tr>\n    <tr>\n      <th>107</th>\n      <td>YFL</td>\n      <td>0</td>\n    </tr>\n    <tr>\n      <th>108</th>\n      <td>yveCRV-DAO</td>\n      <td>0</td>\n    </tr>\n    <tr>\n      <th>109</th>\n      <td>ZEC</td>\n      <td>46744.36113</td>\n    </tr>\n    <tr>\n      <th>110</th>\n      <td>ZRX</td>\n      <td>2302316.134</td>\n    </tr>\n    <tr>\n      <th>111</th>\n      <td>ZUSD</td>\n      <td>NaN</td>\n    </tr>\n  </tbody>\n</table>\n<p>109 rows × 2 columns</p>\n</div>"
     },
     "execution_count": 247,
     "metadata": {},
     "output_type": "execute_result"
    }
   ],
   "source": [
    "stats[['Coin','Celsius Network LLC (US)']]"
   ],
   "metadata": {
    "collapsed": false,
    "pycharm": {
     "name": "#%%\n"
    }
   }
  },
  {
   "cell_type": "code",
   "execution_count": 248,
   "id": "6c73a994",
   "metadata": {},
   "outputs": [],
   "source": [
    "# process DeFi assets data\n",
    "defi_p1 = defi.iloc[:, 0:3]\n",
    "defi_p1.drop([0, 1, 2], inplace = True)\n",
    "defi_p1.rename(columns = {\"Coin/Asset\": \"Coin\"}, inplace = True)\n",
    "defi_p1\n",
    "defi_p2 = defi.iloc[:, 3:]\n",
    "\n",
    "# filter according the detailed account name cannot be null\n",
    "defi_p3 = defi_p2.loc[:, defi_p2.iloc[1].notnull()]\n",
    "defi_p3.reset_index(drop = True, inplace = True)\n",
    "defi_p3.columns = defi_p3.iloc[1]\n",
    "defi_p3.reset_index(drop = True, inplace = True)\n",
    "defi_p3.drop([0, 1, 2], inplace = True)\n",
    "defi_p3\n",
    "defi = pd.concat([defi_p1[\"Coin\"], defi_p3], axis = 1)\n",
    "defi = defi[defi[\"Coin\"].notnull()]\n",
    "#defi"
   ]
  },
  {
   "cell_type": "code",
   "execution_count": 249,
   "id": "cdb484dc-4965-4de4-af82-d372866f5d6f",
   "metadata": {},
   "outputs": [
    {
     "data": {
      "text/plain": "{'Compound': 0.0,\n 'Compound_part': 0.4027075805280056,\n 'Aave V2': 0.17373601556592622,\n 'Aave V2_part': 0.5593078733139167}"
     },
     "execution_count": 249,
     "metadata": {},
     "output_type": "execute_result"
    }
   ],
   "source": [
    "col_ratio"
   ]
  },
  {
   "cell_type": "code",
   "execution_count": 250,
   "id": "70e49690-34a5-4042-93fc-cee98f041af9",
   "metadata": {},
   "outputs": [
    {
     "data": {
      "text/plain": "38    551399.5719\nName: Celsius Borrows Account, dtype: object"
     },
     "execution_count": 250,
     "metadata": {},
     "output_type": "execute_result"
    }
   ],
   "source": [
    "defi[defi['Coin']=='ETH']['Celsius Borrows Account']"
   ]
  },
  {
   "cell_type": "code",
   "execution_count": 251,
   "outputs": [
    {
     "data": {
      "text/plain": "{'Compound': 0.0,\n 'Compound_part': 0.4027075805280056,\n 'Aave V2': 0.17373601556592622,\n 'Aave V2_part': 0.5593078733139167}"
     },
     "execution_count": 251,
     "metadata": {},
     "output_type": "execute_result"
    }
   ],
   "source": [
    "col_ratio"
   ],
   "metadata": {
    "collapsed": false,
    "pycharm": {
     "name": "#%%\n"
    }
   }
  },
  {
   "cell_type": "code",
   "execution_count": 252,
   "id": "82b364cf-2883-4c86-9518-92c7063de1a6",
   "metadata": {},
   "outputs": [],
   "source": [
    "# ADD GAB - SPLIT ON OVERCOLLATERIZED ETH IN CELSIUS BORROWS ACCOUNT\n",
    "borrow_eth = defi[defi['Coin']=='ETH']['Celsius Borrows Account'].iloc[0]\n",
    "idx_eth = defi[defi['Coin']=='ETH'].index[0]\n",
    "for col in ['Aave V2', 'Compound']:\n",
    "    new_col = f'Overcollaterized - {col}'\n",
    "    defi[new_col] = 0\n",
    "    defi.at[idx_eth,new_col] = borrow_eth * col_ratio[col+'_part']* col_ratio[col]\n",
    "    defi.at[idx_eth,'Celsius Borrows Account'] -= defi.at[idx_eth,new_col]"
   ]
  },
  {
   "cell_type": "code",
   "execution_count": 253,
   "id": "6b85b58b",
   "metadata": {},
   "outputs": [],
   "source": [
    "# process ftx summary data\n",
    "ftx.dropna(axis = 0 , how = \"all\", inplace = True)\n",
    "ftx.dropna(axis = 1 , how = \"all\", inplace = True)\n",
    "filter_ftx = ((ftx[\"Total Asset\"] == 0) & (ftx[\"Total Borrow\"] == 0))\n",
    "ftx = ftx[(ftx[ftx.columns[0]].notnull()) & ~filter_ftx]\n",
    "ftx.drop(columns = [\"Total Asset\", \"Total Borrow\"], inplace = True)\n",
    "ftx_cols = []\n",
    "for col in ftx.columns:\n",
    "    ftx_cols.append(\"FTX - \" + col)\n",
    "ftx.columns = ftx_cols\n",
    "ftx.rename(columns = {ftx.columns[0]: \"Coin\"}, inplace = True)\n",
    "\n",
    "# below lines of code will merge BTC and WBTC together\n",
    "ftx_btc = ftx[ftx[\"Coin\"].isin([\"BTC\", \"WBTC\"])]\n",
    "ftx_btc = ftx_btc.append(ftx_btc.sum(numeric_only=True), ignore_index=True)\n",
    "ftx_btc = ftx_btc[~ftx_btc[\"Coin\"].isin([\"BTC\", \"WBTC\"])]\n",
    "ftx_btc.reset_index(drop = True, inplace = True)\n",
    "ftx_btc.loc[0, \"Coin\"] = \"BTC\"\n",
    "ftx = pd.concat([ftx_btc, ftx[~ftx[\"Coin\"].isin([\"BTC\", \"WBTC\"])]])\n",
    "#ftx"
   ]
  },
  {
   "cell_type": "code",
   "execution_count": 254,
   "id": "35174754",
   "metadata": {},
   "outputs": [],
   "source": [
    "# get update date and time\n",
    "now = datetime.now()\n",
    "dt_string = now.strftime(\"%Y-%m-%d %H:%M:%S\")\n",
    "#print(\"Updated at:\", dt_string)"
   ]
  },
  {
   "cell_type": "code",
   "execution_count": 255,
   "id": "73eb1dd0",
   "metadata": {},
   "outputs": [],
   "source": [
    "# define the stable coins, these coins are listed together under \"stable coins\" in waterfall sheet\n",
    "stables = ['alUSD','BUSD', 'GUSD', 'LUSD', 'LUSD Curve','MCDAI', 'PAX', 'SUSD', 'TUSD', \n",
    "           'USDC', 'USDT ERC20', 'ZUSD', \"USD\"]"
   ]
  },
  {
   "cell_type": "code",
   "execution_count": 256,
   "id": "2e05b438",
   "metadata": {},
   "outputs": [
    {
     "data": {
      "text/plain": "         Tier\n0           1\n1           2\n2           3\n3           4\n4           5\n5  unassigned",
      "text/html": "<div>\n<style scoped>\n    .dataframe tbody tr th:only-of-type {\n        vertical-align: middle;\n    }\n\n    .dataframe tbody tr th {\n        vertical-align: top;\n    }\n\n    .dataframe thead th {\n        text-align: right;\n    }\n</style>\n<table border=\"1\" class=\"dataframe\">\n  <thead>\n    <tr style=\"text-align: right;\">\n      <th></th>\n      <th>Tier</th>\n    </tr>\n  </thead>\n  <tbody>\n    <tr>\n      <th>0</th>\n      <td>1</td>\n    </tr>\n    <tr>\n      <th>1</th>\n      <td>2</td>\n    </tr>\n    <tr>\n      <th>2</th>\n      <td>3</td>\n    </tr>\n    <tr>\n      <th>3</th>\n      <td>4</td>\n    </tr>\n    <tr>\n      <th>4</th>\n      <td>5</td>\n    </tr>\n    <tr>\n      <th>5</th>\n      <td>unassigned</td>\n    </tr>\n  </tbody>\n</table>\n</div>"
     },
     "execution_count": 256,
     "metadata": {},
     "output_type": "execute_result"
    }
   ],
   "source": [
    "# create a Tier dataframe for merging purpose\n",
    "tier_dict = {\"Tier\":[\"1\", \"2\", \"3\", \"4\", \"5\", \"unassigned\"]}\n",
    "coin_tiers = pd.DataFrame.from_dict(tier_dict)\n",
    "coin_tiers"
   ]
  },
  {
   "cell_type": "code",
   "execution_count": 257,
   "outputs": [
    {
     "data": {
      "text/plain": "3      0.0\n5      NaN\n6      NaN\n7      NaN\n8      NaN\n      ... \n117    NaN\n118    NaN\n119    NaN\n121      4\n123    NaN\nName: DD - BANCOR - WBTC, Length: 118, dtype: object"
     },
     "execution_count": 257,
     "metadata": {},
     "output_type": "execute_result"
    }
   ],
   "source": [
    "apy['DD - BANCOR - WBTC']"
   ],
   "metadata": {
    "collapsed": false,
    "pycharm": {
     "name": "#%%\n"
    }
   }
  },
  {
   "cell_type": "code",
   "execution_count": 258,
   "outputs": [
    {
     "data": {
      "text/plain": "0               Account  Default_APY  1INCH_APY  3CRV_APY  AAVE_APY  ADA_APY  \\\n170  DD - BANCOR - WBTC          0.0        NaN       NaN       NaN      NaN   \n\n0    ALCX_APY  ALICE_APY  ALPHA_APY  alUSD_APY  ...  XRP_APY  XTZ_APY  \\\n170       NaN        NaN        NaN        NaN  ...      NaN      NaN   \n\n0    YFI_APY  YFL_APY  yveCRV-DAO_APY  ZEC_APY  ZRX_APY  ZUSD_APY  check_APY  \\\n170      NaN      NaN             NaN      NaN      NaN       NaN        4.0   \n\n0    All Coins_APY  \n170            NaN  \n\n[1 rows x 119 columns]",
      "text/html": "<div>\n<style scoped>\n    .dataframe tbody tr th:only-of-type {\n        vertical-align: middle;\n    }\n\n    .dataframe tbody tr th {\n        vertical-align: top;\n    }\n\n    .dataframe thead th {\n        text-align: right;\n    }\n</style>\n<table border=\"1\" class=\"dataframe\">\n  <thead>\n    <tr style=\"text-align: right;\">\n      <th></th>\n      <th>Account</th>\n      <th>Default_APY</th>\n      <th>1INCH_APY</th>\n      <th>3CRV_APY</th>\n      <th>AAVE_APY</th>\n      <th>ADA_APY</th>\n      <th>ALCX_APY</th>\n      <th>ALICE_APY</th>\n      <th>ALPHA_APY</th>\n      <th>alUSD_APY</th>\n      <th>...</th>\n      <th>XRP_APY</th>\n      <th>XTZ_APY</th>\n      <th>YFI_APY</th>\n      <th>YFL_APY</th>\n      <th>yveCRV-DAO_APY</th>\n      <th>ZEC_APY</th>\n      <th>ZRX_APY</th>\n      <th>ZUSD_APY</th>\n      <th>check_APY</th>\n      <th>All Coins_APY</th>\n    </tr>\n  </thead>\n  <tbody>\n    <tr>\n      <th>170</th>\n      <td>DD - BANCOR - WBTC</td>\n      <td>0.0</td>\n      <td>NaN</td>\n      <td>NaN</td>\n      <td>NaN</td>\n      <td>NaN</td>\n      <td>NaN</td>\n      <td>NaN</td>\n      <td>NaN</td>\n      <td>NaN</td>\n      <td>...</td>\n      <td>NaN</td>\n      <td>NaN</td>\n      <td>NaN</td>\n      <td>NaN</td>\n      <td>NaN</td>\n      <td>NaN</td>\n      <td>NaN</td>\n      <td>NaN</td>\n      <td>4.0</td>\n      <td>NaN</td>\n    </tr>\n  </tbody>\n</table>\n<p>1 rows × 119 columns</p>\n</div>"
     },
     "execution_count": 258,
     "metadata": {},
     "output_type": "execute_result"
    }
   ],
   "source": [
    "apy5[apy5['Account'] =='DD - BANCOR - WBTC']"
   ],
   "metadata": {
    "collapsed": false,
    "pycharm": {
     "name": "#%%\n"
    }
   }
  },
  {
   "cell_type": "code",
   "execution_count": 259,
   "id": "3b2f6799",
   "metadata": {},
   "outputs": [
    {
     "data": {
      "text/plain": "           Coin  Bank - Balances  Celsius Network Limited (UK)  \\\n0         1INCH              0.0                      0.000000   \n1          3CRV              0.0                      0.000000   \n2          AAVE              0.0                  13913.270390   \n3           ADA              0.0                   1200.761924   \n4          ALCX              0.0                      0.000000   \n..          ...              ...                           ...   \n105  yveCRV-DAO              0.0                      0.000000   \n106         ZEC              0.0                    212.308600   \n107         ZRX              0.0                  16561.643840   \n108        ZUSD              0.0                      0.000000   \n109  SRM_LOCKED              0.0                      0.000000   \n\n     Celsius Network LLC (US)  Celsius Network EU UAB (LT)    Celsius OTC  \\\n0                2.760228e+05                          0.0       0.000000   \n1                0.000000e+00                          0.0       0.000000   \n2                8.112501e+03                          0.0     106.934225   \n3                6.968903e+06                          1.0  106162.066100   \n4                0.000000e+00                          0.0       0.000000   \n..                        ...                          ...            ...   \n105              0.000000e+00                          0.0       0.000000   \n106              4.674436e+04                          0.0       0.000000   \n107              2.302316e+06                          0.0       0.000000   \n108              0.000000e+00                          0.0       0.000000   \n109              0.000000e+00                          0.0       0.000000   \n\n     Celsius Network Finance  CEL Treasury  CEL Users     Loans Out  ...  \\\n0                   0.000000           0.0        0.0  0.000000e+00  ...   \n1                   0.000000           0.0        0.0  0.000000e+00  ...   \n2                   5.937780           0.0        0.0  1.962065e+04  ...   \n3                 268.036039           0.0        0.0  1.033186e+08  ...   \n4                   0.000000           0.0        0.0  0.000000e+00  ...   \n..                       ...           ...        ...           ...  ...   \n105                 0.000000           0.0        0.0  0.000000e+00  ...   \n106                 0.000000           0.0        0.0  7.300000e+04  ...   \n107               272.880000           0.0        0.0  3.500000e+06  ...   \n108                 0.000000           0.0        0.0  0.000000e+00  ...   \n109                 0.000000           0.0        0.0  0.000000e+00  ...   \n\n     FTX - DeFi  FTX - Management  FTX - Kairon  FTX - Kairon2   FTX - Brad  \\\n0      0.000000          0.000000           0.0            0.0      0.00000   \n1      0.000000          0.000000           0.0            0.0      0.00000   \n2    906.741627          0.010000           0.0            0.0      0.00000   \n3      0.000000          0.000000           0.0            0.0      0.00000   \n4      0.411829          0.000000           0.0            0.0      0.00000   \n..          ...               ...           ...            ...          ...   \n105    0.000000          0.000000           0.0            0.0      0.00000   \n106    0.000000          0.000000           0.0            0.0      0.00000   \n107    0.000000          0.000000           0.0            0.0      0.00000   \n108    0.000000          0.000000           0.0            0.0      0.00000   \n109    0.000000       8558.646001           0.0            0.0  19982.00563   \n\n     FTX - Jacob  FTX - cel_staking  FTX - Directional Trading 2    FTX - CEL  \\\n0            0.0             0.0000                          0.0     0.000000   \n1            0.0             0.0000                          0.0     0.000000   \n2            0.0             0.0000                          0.0     0.000000   \n3            0.0             0.0000                          0.0     0.000000   \n4            0.0             0.0000                          0.0     0.000000   \n..           ...                ...                          ...          ...   \n105          0.0             0.0000                          0.0     0.000000   \n106          0.0             0.0000                          0.0     0.000000   \n107          0.0             0.0000                          0.0     0.000000   \n108          0.0             0.0000                          0.0     0.000000   \n109          0.0        909504.2707                          0.0  6735.628024   \n\n     FTX - Borrow  \n0             0.0  \n1             0.0  \n2             0.0  \n3             0.0  \n4             0.0  \n..            ...  \n105           0.0  \n106           0.0  \n107           0.0  \n108           0.0  \n109           0.0  \n\n[110 rows x 168 columns]",
      "text/html": "<div>\n<style scoped>\n    .dataframe tbody tr th:only-of-type {\n        vertical-align: middle;\n    }\n\n    .dataframe tbody tr th {\n        vertical-align: top;\n    }\n\n    .dataframe thead th {\n        text-align: right;\n    }\n</style>\n<table border=\"1\" class=\"dataframe\">\n  <thead>\n    <tr style=\"text-align: right;\">\n      <th></th>\n      <th>Coin</th>\n      <th>Bank - Balances</th>\n      <th>Celsius Network Limited (UK)</th>\n      <th>Celsius Network LLC (US)</th>\n      <th>Celsius Network EU UAB (LT)</th>\n      <th>Celsius OTC</th>\n      <th>Celsius Network Finance</th>\n      <th>CEL Treasury</th>\n      <th>CEL Users</th>\n      <th>Loans Out</th>\n      <th>...</th>\n      <th>FTX - DeFi</th>\n      <th>FTX - Management</th>\n      <th>FTX - Kairon</th>\n      <th>FTX - Kairon2</th>\n      <th>FTX - Brad</th>\n      <th>FTX - Jacob</th>\n      <th>FTX - cel_staking</th>\n      <th>FTX - Directional Trading 2</th>\n      <th>FTX - CEL</th>\n      <th>FTX - Borrow</th>\n    </tr>\n  </thead>\n  <tbody>\n    <tr>\n      <th>0</th>\n      <td>1INCH</td>\n      <td>0.0</td>\n      <td>0.000000</td>\n      <td>2.760228e+05</td>\n      <td>0.0</td>\n      <td>0.000000</td>\n      <td>0.000000</td>\n      <td>0.0</td>\n      <td>0.0</td>\n      <td>0.000000e+00</td>\n      <td>...</td>\n      <td>0.000000</td>\n      <td>0.000000</td>\n      <td>0.0</td>\n      <td>0.0</td>\n      <td>0.00000</td>\n      <td>0.0</td>\n      <td>0.0000</td>\n      <td>0.0</td>\n      <td>0.000000</td>\n      <td>0.0</td>\n    </tr>\n    <tr>\n      <th>1</th>\n      <td>3CRV</td>\n      <td>0.0</td>\n      <td>0.000000</td>\n      <td>0.000000e+00</td>\n      <td>0.0</td>\n      <td>0.000000</td>\n      <td>0.000000</td>\n      <td>0.0</td>\n      <td>0.0</td>\n      <td>0.000000e+00</td>\n      <td>...</td>\n      <td>0.000000</td>\n      <td>0.000000</td>\n      <td>0.0</td>\n      <td>0.0</td>\n      <td>0.00000</td>\n      <td>0.0</td>\n      <td>0.0000</td>\n      <td>0.0</td>\n      <td>0.000000</td>\n      <td>0.0</td>\n    </tr>\n    <tr>\n      <th>2</th>\n      <td>AAVE</td>\n      <td>0.0</td>\n      <td>13913.270390</td>\n      <td>8.112501e+03</td>\n      <td>0.0</td>\n      <td>106.934225</td>\n      <td>5.937780</td>\n      <td>0.0</td>\n      <td>0.0</td>\n      <td>1.962065e+04</td>\n      <td>...</td>\n      <td>906.741627</td>\n      <td>0.010000</td>\n      <td>0.0</td>\n      <td>0.0</td>\n      <td>0.00000</td>\n      <td>0.0</td>\n      <td>0.0000</td>\n      <td>0.0</td>\n      <td>0.000000</td>\n      <td>0.0</td>\n    </tr>\n    <tr>\n      <th>3</th>\n      <td>ADA</td>\n      <td>0.0</td>\n      <td>1200.761924</td>\n      <td>6.968903e+06</td>\n      <td>1.0</td>\n      <td>106162.066100</td>\n      <td>268.036039</td>\n      <td>0.0</td>\n      <td>0.0</td>\n      <td>1.033186e+08</td>\n      <td>...</td>\n      <td>0.000000</td>\n      <td>0.000000</td>\n      <td>0.0</td>\n      <td>0.0</td>\n      <td>0.00000</td>\n      <td>0.0</td>\n      <td>0.0000</td>\n      <td>0.0</td>\n      <td>0.000000</td>\n      <td>0.0</td>\n    </tr>\n    <tr>\n      <th>4</th>\n      <td>ALCX</td>\n      <td>0.0</td>\n      <td>0.000000</td>\n      <td>0.000000e+00</td>\n      <td>0.0</td>\n      <td>0.000000</td>\n      <td>0.000000</td>\n      <td>0.0</td>\n      <td>0.0</td>\n      <td>0.000000e+00</td>\n      <td>...</td>\n      <td>0.411829</td>\n      <td>0.000000</td>\n      <td>0.0</td>\n      <td>0.0</td>\n      <td>0.00000</td>\n      <td>0.0</td>\n      <td>0.0000</td>\n      <td>0.0</td>\n      <td>0.000000</td>\n      <td>0.0</td>\n    </tr>\n    <tr>\n      <th>...</th>\n      <td>...</td>\n      <td>...</td>\n      <td>...</td>\n      <td>...</td>\n      <td>...</td>\n      <td>...</td>\n      <td>...</td>\n      <td>...</td>\n      <td>...</td>\n      <td>...</td>\n      <td>...</td>\n      <td>...</td>\n      <td>...</td>\n      <td>...</td>\n      <td>...</td>\n      <td>...</td>\n      <td>...</td>\n      <td>...</td>\n      <td>...</td>\n      <td>...</td>\n      <td>...</td>\n    </tr>\n    <tr>\n      <th>105</th>\n      <td>yveCRV-DAO</td>\n      <td>0.0</td>\n      <td>0.000000</td>\n      <td>0.000000e+00</td>\n      <td>0.0</td>\n      <td>0.000000</td>\n      <td>0.000000</td>\n      <td>0.0</td>\n      <td>0.0</td>\n      <td>0.000000e+00</td>\n      <td>...</td>\n      <td>0.000000</td>\n      <td>0.000000</td>\n      <td>0.0</td>\n      <td>0.0</td>\n      <td>0.00000</td>\n      <td>0.0</td>\n      <td>0.0000</td>\n      <td>0.0</td>\n      <td>0.000000</td>\n      <td>0.0</td>\n    </tr>\n    <tr>\n      <th>106</th>\n      <td>ZEC</td>\n      <td>0.0</td>\n      <td>212.308600</td>\n      <td>4.674436e+04</td>\n      <td>0.0</td>\n      <td>0.000000</td>\n      <td>0.000000</td>\n      <td>0.0</td>\n      <td>0.0</td>\n      <td>7.300000e+04</td>\n      <td>...</td>\n      <td>0.000000</td>\n      <td>0.000000</td>\n      <td>0.0</td>\n      <td>0.0</td>\n      <td>0.00000</td>\n      <td>0.0</td>\n      <td>0.0000</td>\n      <td>0.0</td>\n      <td>0.000000</td>\n      <td>0.0</td>\n    </tr>\n    <tr>\n      <th>107</th>\n      <td>ZRX</td>\n      <td>0.0</td>\n      <td>16561.643840</td>\n      <td>2.302316e+06</td>\n      <td>0.0</td>\n      <td>0.000000</td>\n      <td>272.880000</td>\n      <td>0.0</td>\n      <td>0.0</td>\n      <td>3.500000e+06</td>\n      <td>...</td>\n      <td>0.000000</td>\n      <td>0.000000</td>\n      <td>0.0</td>\n      <td>0.0</td>\n      <td>0.00000</td>\n      <td>0.0</td>\n      <td>0.0000</td>\n      <td>0.0</td>\n      <td>0.000000</td>\n      <td>0.0</td>\n    </tr>\n    <tr>\n      <th>108</th>\n      <td>ZUSD</td>\n      <td>0.0</td>\n      <td>0.000000</td>\n      <td>0.000000e+00</td>\n      <td>0.0</td>\n      <td>0.000000</td>\n      <td>0.000000</td>\n      <td>0.0</td>\n      <td>0.0</td>\n      <td>0.000000e+00</td>\n      <td>...</td>\n      <td>0.000000</td>\n      <td>0.000000</td>\n      <td>0.0</td>\n      <td>0.0</td>\n      <td>0.00000</td>\n      <td>0.0</td>\n      <td>0.0000</td>\n      <td>0.0</td>\n      <td>0.000000</td>\n      <td>0.0</td>\n    </tr>\n    <tr>\n      <th>109</th>\n      <td>SRM_LOCKED</td>\n      <td>0.0</td>\n      <td>0.000000</td>\n      <td>0.000000e+00</td>\n      <td>0.0</td>\n      <td>0.000000</td>\n      <td>0.000000</td>\n      <td>0.0</td>\n      <td>0.0</td>\n      <td>0.000000e+00</td>\n      <td>...</td>\n      <td>0.000000</td>\n      <td>8558.646001</td>\n      <td>0.0</td>\n      <td>0.0</td>\n      <td>19982.00563</td>\n      <td>0.0</td>\n      <td>909504.2707</td>\n      <td>0.0</td>\n      <td>6735.628024</td>\n      <td>0.0</td>\n    </tr>\n  </tbody>\n</table>\n<p>110 rows × 168 columns</p>\n</div>"
     },
     "execution_count": 259,
     "metadata": {},
     "output_type": "execute_result"
    }
   ],
   "source": [
    "# merge 3 dataframes together, coin stats/Defi assets/FTX summary\n",
    "coin_stats = stats.merge(defi, on = \"Coin\", how = \"outer\")\n",
    "coin_stats = coin_stats.merge(ftx, on = \"Coin\", how = \"outer\")\n",
    "coin_stats.fillna(value = 0, inplace = True)\n",
    "coin_stats_col = []\n",
    "for col in coin_stats.columns:\n",
    "    coin_stats_col.append(col.strip())\n",
    "coin_stats.columns = coin_stats_col\n",
    "len(coin_stats.columns)\n",
    "coin_stats"
   ]
  },
  {
   "cell_type": "code",
   "execution_count": 260,
   "id": "50d83792",
   "metadata": {},
   "outputs": [],
   "source": [
    "# get a list of coins in the above dataframe and add \"Stable Coins\" into that list\n",
    "coin_list = list(coin_stats[\"Coin\"].unique())\n",
    "coin_list.append(\"Stable Coins\")\n",
    "#coin_list"
   ]
  },
  {
   "cell_type": "code",
   "execution_count": 261,
   "id": "8871cf60",
   "metadata": {},
   "outputs": [
    {
     "data": {
      "text/plain": "181"
     },
     "execution_count": 261,
     "metadata": {},
     "output_type": "execute_result"
    }
   ],
   "source": [
    "acc_list = np.asarray(tiers[\"Account\"])\n",
    "len(acc_list)\n"
   ]
  },
  {
   "cell_type": "code",
   "execution_count": 262,
   "id": "154331b1",
   "metadata": {},
   "outputs": [
    {
     "data": {
      "text/plain": "['Coin',\n 'DeFi Borrows - Collateral',\n 'DeFi Borrows - Tokens',\n 'DeFi Assets - Assets',\n 'FTX',\n 'Vault Name',\n 'Deployment - Vesper (OLD DO NOT USE)',\n 'Matic Staking 13',\n 'SGB Staking']"
     },
     "execution_count": 262,
     "metadata": {},
     "output_type": "execute_result"
    }
   ],
   "source": [
    "# this block and the following block are meant to show which accounts from coin recon sheet are not listed \n",
    "# in tier/apy sheet, or which accounts listed in the tier/apy data no longer exists in coin recon sheet\n",
    "not_covered = []\n",
    "for col in coin_stats.columns:\n",
    "    if col not in acc_list:\n",
    "        not_covered.append(col)\n",
    "not_covered    "
   ]
  },
  {
   "cell_type": "code",
   "execution_count": 263,
   "id": "399afa5b",
   "metadata": {},
   "outputs": [
    {
     "data": {
      "text/plain": "['Impermanent_loss_hedge__RonSabo',\n 'Hedge_Options',\n 'FTX - Johannes',\n 'OKEX',\n 'Deployment - Vesper',\n 'YD - Compound - WBTC',\n 'BlockDemon ETH Staking',\n 'Deployment - Stable Coin Swaps',\n 'Deployment Team - COMP supply',\n 'Deployment- 1INCH Staking',\n 'Convex: cvxBUSD3CRV-f',\n 'FTX - LONG1',\n 'YD - Curve - SBTC',\n 'YD - Keeper - renBTC',\n 'MATIC Staking 7',\n 'Deployment - 1INCH Staking (testing)',\n 'YD - Curve - alUSD',\n 'DD - SYNAPSIS - WETH/Arbitrum',\n 'DD - SYNAPSIS - WETH/Optimism',\n 'DD - SYNAPSIS - USD/Avalanche',\n 'DD - SYNAPSIS - USD/Polygon',\n 'DD - Benqi - Avalanche']"
     },
     "execution_count": 263,
     "metadata": {},
     "output_type": "execute_result"
    }
   ],
   "source": [
    "not_covered = []\n",
    "for col in acc_list:\n",
    "    if col not in coin_stats.columns:\n",
    "        not_covered.append(col)\n",
    "not_covered"
   ]
  },
  {
   "cell_type": "code",
   "execution_count": 264,
   "id": "41af1d16",
   "metadata": {},
   "outputs": [],
   "source": [
    "# transpose coin_stats to get it in right shape\n",
    "account_toremove = ['DeFi Borrows - Assets', 'DeFi Assets - Assets', \"FTX\",\n",
    "                   \"DeFi Borrows - Collateral\", \"DeFi Borrows - Tokens\"]\n",
    "coin_stats_t = coin_stats.T\n",
    "new_header = coin_stats_t.iloc[0] #grab the first row for the header\n",
    "coin_stats_t = coin_stats_t[1:] #take the data less the header row\n",
    "coin_stats_t.columns = new_header #set the header row as the df header\n",
    "coin_stats_t.reset_index(inplace = True)\n",
    "coin_stats_t.rename(columns={coin_stats_t.columns[0]: \"Account\" }, inplace = True)\n",
    "coin_stats_t.reset_index(drop=True, inplace = True)\n",
    "#coin_stats_t = coin_stats_t[coin_stats_t[\"Account\"] != \"Defi Assets\"]\n",
    "coin_stats_t = coin_stats_t[~coin_stats_t[\"Account\"].isin(account_toremove)]\n",
    "\n",
    "#coin_stats_t\n"
   ]
  },
  {
   "cell_type": "code",
   "execution_count": 265,
   "id": "11f2673f",
   "metadata": {},
   "outputs": [],
   "source": [
    "# adding Tier info \n",
    "coin_stat_tier = tiers.merge(coin_stats_t, on = \"Account\", how = \"right\")\n",
    "#coin_stat_tier[\"Tier\"].fillna(value = \"unknown\", inplace = True)\n",
    "\n",
    "coin_stat_tier['Stable Coins']= coin_stat_tier[stables].sum(axis=1)\n",
    "coin_stat_tier.to_excel(\"excel_outputs/coin_stats_tier_live.xlsx\", index = False)\n",
    "\n",
    "#print(len(coin_stat_tier[coin_stat_tier[\"Tier\"] == \"unknown\"]))\n",
    "coin_stat_tier[\"Tier\"] = coin_stat_tier[\"Tier\"].astype(\"str\")"
   ]
  },
  {
   "cell_type": "code",
   "execution_count": 266,
   "id": "7fbdf14b",
   "metadata": {},
   "outputs": [
    {
     "data": {
      "text/plain": "['alUSD_yield',\n 'BUSD_yield',\n 'GUSD_yield',\n 'LUSD_yield',\n 'LUSD Curve_yield',\n 'MCDAI_yield',\n 'PAX_yield',\n 'SUSD_yield',\n 'TUSD_yield',\n 'USDC_yield',\n 'USDT ERC20_yield',\n 'ZUSD_yield',\n 'USD_yield']"
     },
     "execution_count": 266,
     "metadata": {},
     "output_type": "execute_result"
    }
   ],
   "source": [
    "# to calculate stable coin apy, we need to calculate for each stable coin yield = # of each stable coin * apy of each stable\n",
    "# and stable coin apy = sum of all stable coin yiled / total # of stable coins\n",
    "# this prepares a list of columns needed to be summed.\n",
    "stable_yield = []\n",
    "for coin in stables:\n",
    "    stable_yield.append(coin+\"_yield\")\n",
    "stable_yield"
   ]
  },
  {
   "cell_type": "code",
   "execution_count": 267,
   "id": "515da3a8-46d7-4ae0-bfb7-a5cb97aad39c",
   "metadata": {},
   "outputs": [],
   "source": [
    "# ADD --------------------------\n",
    "# ------------------------------\n",
    "# I need to add a function that will fill _APY columns with the default values\n",
    "def default_fill(row):\n",
    "    if ~ np.isnan(row['Default_APY']): \n",
    "        row.loc[apy_cols] = row[apy_cols].fillna(row['Default_APY'])\n",
    "    return row"
   ]
  },
  {
   "cell_type": "code",
   "execution_count": 268,
   "outputs": [
    {
     "data": {
      "text/plain": "                          Account Tier      1INCH 3CRV         AAVE  \\\n0                 Bank - Balances    1        0.0  0.0          0.0   \n1    Celsius Network Limited (UK)    1        0.0  0.0  13913.27039   \n2        Celsius Network LLC (US)    1  276022.85  0.0  8112.500981   \n3     Celsius Network EU UAB (LT)    1        0.0  0.0          0.0   \n4                     Celsius OTC    1        0.0  0.0   106.934225   \n..                            ...  ...        ...  ...          ...   \n158                   FTX - Jacob    2        0.0  0.0          0.0   \n159             FTX - cel_staking    6        0.0  0.0          0.0   \n160   FTX - Directional Trading 2    4        0.0  0.0          0.0   \n161                     FTX - CEL    2        0.0  0.0          0.0   \n162                  FTX - Borrow    4        0.0  0.0          0.0   \n\n             ADA ALCX ALICE ALPHA alUSD  ...          XRP          XTZ  \\\n0            0.0  0.0   0.0   0.0   0.0  ...          0.0          0.0   \n1    1200.761924  0.0   0.0   0.0   0.0  ...  240748.1736   1713.32935   \n2    6968903.406  0.0   0.0   0.0   0.0  ...  471823.5053  209033.8168   \n3            1.0  0.0   0.0   0.0   0.0  ...  12066878.71          0.0   \n4    106162.0661  0.0   0.0   0.0   0.0  ...         60.0          0.0   \n..           ...  ...   ...   ...   ...  ...          ...          ...   \n158          0.0  0.0   0.0   0.0   0.0  ...          0.0          0.0   \n159          0.0  0.0   0.0   0.0   0.0  ...          0.0          0.0   \n160          0.0  0.0   0.0   0.0   0.0  ...          0.0          0.0   \n161          0.0  0.0   0.0   0.0   0.0  ...          0.0          0.0   \n162          0.0  0.0   0.0   0.0   0.0  ...         -0.0          0.0   \n\n          YFI  YFL yveCRV-DAO          ZEC          ZRX ZUSD   SRM_LOCKED  \\\n0         0.0  0.0        0.0          0.0          0.0  0.0          0.0   \n1      0.1613  0.0        0.0     212.3086  16561.64384  0.0          0.0   \n2    1.722868  0.0        0.0  46744.36113  2302316.134  0.0          0.0   \n3         0.0  0.0        0.0          0.0          0.0  0.0          0.0   \n4         0.0  0.0        0.0          0.0          0.0  0.0          0.0   \n..        ...  ...        ...          ...          ...  ...          ...   \n158       0.0  0.0        0.0          0.0          0.0  0.0          0.0   \n159       0.0  0.0        0.0          0.0          0.0  0.0  909504.2707   \n160       0.0  0.0        0.0          0.0          0.0  0.0          0.0   \n161       0.0  0.0        0.0          0.0          0.0  0.0  6735.628024   \n162       0.0  0.0        0.0          0.0          0.0  0.0          0.0   \n\n     Stable Coins  \n0    1.329130e+08  \n1    6.727273e+05  \n2    6.117907e+07  \n3    7.089355e+04  \n4    1.948203e+06  \n..            ...  \n158  0.000000e+00  \n159  0.000000e+00  \n160  1.336017e+06  \n161  1.519319e+06  \n162 -1.499423e+07  \n\n[163 rows x 113 columns]",
      "text/html": "<div>\n<style scoped>\n    .dataframe tbody tr th:only-of-type {\n        vertical-align: middle;\n    }\n\n    .dataframe tbody tr th {\n        vertical-align: top;\n    }\n\n    .dataframe thead th {\n        text-align: right;\n    }\n</style>\n<table border=\"1\" class=\"dataframe\">\n  <thead>\n    <tr style=\"text-align: right;\">\n      <th></th>\n      <th>Account</th>\n      <th>Tier</th>\n      <th>1INCH</th>\n      <th>3CRV</th>\n      <th>AAVE</th>\n      <th>ADA</th>\n      <th>ALCX</th>\n      <th>ALICE</th>\n      <th>ALPHA</th>\n      <th>alUSD</th>\n      <th>...</th>\n      <th>XRP</th>\n      <th>XTZ</th>\n      <th>YFI</th>\n      <th>YFL</th>\n      <th>yveCRV-DAO</th>\n      <th>ZEC</th>\n      <th>ZRX</th>\n      <th>ZUSD</th>\n      <th>SRM_LOCKED</th>\n      <th>Stable Coins</th>\n    </tr>\n  </thead>\n  <tbody>\n    <tr>\n      <th>0</th>\n      <td>Bank - Balances</td>\n      <td>1</td>\n      <td>0.0</td>\n      <td>0.0</td>\n      <td>0.0</td>\n      <td>0.0</td>\n      <td>0.0</td>\n      <td>0.0</td>\n      <td>0.0</td>\n      <td>0.0</td>\n      <td>...</td>\n      <td>0.0</td>\n      <td>0.0</td>\n      <td>0.0</td>\n      <td>0.0</td>\n      <td>0.0</td>\n      <td>0.0</td>\n      <td>0.0</td>\n      <td>0.0</td>\n      <td>0.0</td>\n      <td>1.329130e+08</td>\n    </tr>\n    <tr>\n      <th>1</th>\n      <td>Celsius Network Limited (UK)</td>\n      <td>1</td>\n      <td>0.0</td>\n      <td>0.0</td>\n      <td>13913.27039</td>\n      <td>1200.761924</td>\n      <td>0.0</td>\n      <td>0.0</td>\n      <td>0.0</td>\n      <td>0.0</td>\n      <td>...</td>\n      <td>240748.1736</td>\n      <td>1713.32935</td>\n      <td>0.1613</td>\n      <td>0.0</td>\n      <td>0.0</td>\n      <td>212.3086</td>\n      <td>16561.64384</td>\n      <td>0.0</td>\n      <td>0.0</td>\n      <td>6.727273e+05</td>\n    </tr>\n    <tr>\n      <th>2</th>\n      <td>Celsius Network LLC (US)</td>\n      <td>1</td>\n      <td>276022.85</td>\n      <td>0.0</td>\n      <td>8112.500981</td>\n      <td>6968903.406</td>\n      <td>0.0</td>\n      <td>0.0</td>\n      <td>0.0</td>\n      <td>0.0</td>\n      <td>...</td>\n      <td>471823.5053</td>\n      <td>209033.8168</td>\n      <td>1.722868</td>\n      <td>0.0</td>\n      <td>0.0</td>\n      <td>46744.36113</td>\n      <td>2302316.134</td>\n      <td>0.0</td>\n      <td>0.0</td>\n      <td>6.117907e+07</td>\n    </tr>\n    <tr>\n      <th>3</th>\n      <td>Celsius Network EU UAB (LT)</td>\n      <td>1</td>\n      <td>0.0</td>\n      <td>0.0</td>\n      <td>0.0</td>\n      <td>1.0</td>\n      <td>0.0</td>\n      <td>0.0</td>\n      <td>0.0</td>\n      <td>0.0</td>\n      <td>...</td>\n      <td>12066878.71</td>\n      <td>0.0</td>\n      <td>0.0</td>\n      <td>0.0</td>\n      <td>0.0</td>\n      <td>0.0</td>\n      <td>0.0</td>\n      <td>0.0</td>\n      <td>0.0</td>\n      <td>7.089355e+04</td>\n    </tr>\n    <tr>\n      <th>4</th>\n      <td>Celsius OTC</td>\n      <td>1</td>\n      <td>0.0</td>\n      <td>0.0</td>\n      <td>106.934225</td>\n      <td>106162.0661</td>\n      <td>0.0</td>\n      <td>0.0</td>\n      <td>0.0</td>\n      <td>0.0</td>\n      <td>...</td>\n      <td>60.0</td>\n      <td>0.0</td>\n      <td>0.0</td>\n      <td>0.0</td>\n      <td>0.0</td>\n      <td>0.0</td>\n      <td>0.0</td>\n      <td>0.0</td>\n      <td>0.0</td>\n      <td>1.948203e+06</td>\n    </tr>\n    <tr>\n      <th>...</th>\n      <td>...</td>\n      <td>...</td>\n      <td>...</td>\n      <td>...</td>\n      <td>...</td>\n      <td>...</td>\n      <td>...</td>\n      <td>...</td>\n      <td>...</td>\n      <td>...</td>\n      <td>...</td>\n      <td>...</td>\n      <td>...</td>\n      <td>...</td>\n      <td>...</td>\n      <td>...</td>\n      <td>...</td>\n      <td>...</td>\n      <td>...</td>\n      <td>...</td>\n      <td>...</td>\n    </tr>\n    <tr>\n      <th>158</th>\n      <td>FTX - Jacob</td>\n      <td>2</td>\n      <td>0.0</td>\n      <td>0.0</td>\n      <td>0.0</td>\n      <td>0.0</td>\n      <td>0.0</td>\n      <td>0.0</td>\n      <td>0.0</td>\n      <td>0.0</td>\n      <td>...</td>\n      <td>0.0</td>\n      <td>0.0</td>\n      <td>0.0</td>\n      <td>0.0</td>\n      <td>0.0</td>\n      <td>0.0</td>\n      <td>0.0</td>\n      <td>0.0</td>\n      <td>0.0</td>\n      <td>0.000000e+00</td>\n    </tr>\n    <tr>\n      <th>159</th>\n      <td>FTX - cel_staking</td>\n      <td>6</td>\n      <td>0.0</td>\n      <td>0.0</td>\n      <td>0.0</td>\n      <td>0.0</td>\n      <td>0.0</td>\n      <td>0.0</td>\n      <td>0.0</td>\n      <td>0.0</td>\n      <td>...</td>\n      <td>0.0</td>\n      <td>0.0</td>\n      <td>0.0</td>\n      <td>0.0</td>\n      <td>0.0</td>\n      <td>0.0</td>\n      <td>0.0</td>\n      <td>0.0</td>\n      <td>909504.2707</td>\n      <td>0.000000e+00</td>\n    </tr>\n    <tr>\n      <th>160</th>\n      <td>FTX - Directional Trading 2</td>\n      <td>4</td>\n      <td>0.0</td>\n      <td>0.0</td>\n      <td>0.0</td>\n      <td>0.0</td>\n      <td>0.0</td>\n      <td>0.0</td>\n      <td>0.0</td>\n      <td>0.0</td>\n      <td>...</td>\n      <td>0.0</td>\n      <td>0.0</td>\n      <td>0.0</td>\n      <td>0.0</td>\n      <td>0.0</td>\n      <td>0.0</td>\n      <td>0.0</td>\n      <td>0.0</td>\n      <td>0.0</td>\n      <td>1.336017e+06</td>\n    </tr>\n    <tr>\n      <th>161</th>\n      <td>FTX - CEL</td>\n      <td>2</td>\n      <td>0.0</td>\n      <td>0.0</td>\n      <td>0.0</td>\n      <td>0.0</td>\n      <td>0.0</td>\n      <td>0.0</td>\n      <td>0.0</td>\n      <td>0.0</td>\n      <td>...</td>\n      <td>0.0</td>\n      <td>0.0</td>\n      <td>0.0</td>\n      <td>0.0</td>\n      <td>0.0</td>\n      <td>0.0</td>\n      <td>0.0</td>\n      <td>0.0</td>\n      <td>6735.628024</td>\n      <td>1.519319e+06</td>\n    </tr>\n    <tr>\n      <th>162</th>\n      <td>FTX - Borrow</td>\n      <td>4</td>\n      <td>0.0</td>\n      <td>0.0</td>\n      <td>0.0</td>\n      <td>0.0</td>\n      <td>0.0</td>\n      <td>0.0</td>\n      <td>0.0</td>\n      <td>0.0</td>\n      <td>...</td>\n      <td>-0.0</td>\n      <td>0.0</td>\n      <td>0.0</td>\n      <td>0.0</td>\n      <td>0.0</td>\n      <td>0.0</td>\n      <td>0.0</td>\n      <td>0.0</td>\n      <td>0.0</td>\n      <td>-1.499423e+07</td>\n    </tr>\n  </tbody>\n</table>\n<p>163 rows × 113 columns</p>\n</div>"
     },
     "execution_count": 268,
     "metadata": {},
     "output_type": "execute_result"
    }
   ],
   "source": [
    "coin_stat_tier"
   ],
   "metadata": {
    "collapsed": false,
    "pycharm": {
     "name": "#%%\n"
    }
   }
  },
  {
   "cell_type": "code",
   "execution_count": 269,
   "id": "fc5eda05",
   "metadata": {},
   "outputs": [
    {
     "name": "stderr",
     "output_type": "stream",
     "text": [
      "/var/folders/q7/qhj4q23x49vb9f__hlp8t3280000gn/T/ipykernel_26433/53041379.py:16: PerformanceWarning: DataFrame is highly fragmented.  This is usually the result of calling `frame.insert` many times, which has poor performance.  Consider joining all columns at once using pd.concat(axis=1) instead.  To get a de-fragmented frame, use `newframe = frame.copy()`\n",
      "  coin_stat_tier_apy[yield_name] = coin_stat_tier_apy[coin] * coin_stat_tier_apy[coin_apy]\n",
      "/var/folders/q7/qhj4q23x49vb9f__hlp8t3280000gn/T/ipykernel_26433/53041379.py:18: PerformanceWarning: DataFrame is highly fragmented.  This is usually the result of calling `frame.insert` many times, which has poor performance.  Consider joining all columns at once using pd.concat(axis=1) instead.  To get a de-fragmented frame, use `newframe = frame.copy()`\n",
      "  coin_stat_tier_apy[yield_name] = 0\n",
      "/var/folders/q7/qhj4q23x49vb9f__hlp8t3280000gn/T/ipykernel_26433/53041379.py:19: PerformanceWarning: DataFrame is highly fragmented.  This is usually the result of calling `frame.insert` many times, which has poor performance.  Consider joining all columns at once using pd.concat(axis=1) instead.  To get a de-fragmented frame, use `newframe = frame.copy()`\n",
      "  coin_stat_tier_apy[coin_apy] = np.nan\n"
     ]
    }
   ],
   "source": [
    "# calculate the yield = # of coins * apy for each coin\n",
    "coin_stat_tier_apy = coin_stat_tier.merge(apy5, on = \"Account\", how = \"left\")\n",
    "#coin_stat_tier_apy.fillna(value = 0, inplace = True)\n",
    "\n",
    "# --------- ADD GAB - Replace NA APY by the corresponding Default APY values if it exists -------------------\n",
    "apy_cols = ['_APY' in col for col in coin_stat_tier_apy.columns]\n",
    "coin_stat_tier_apy = coin_stat_tier_apy.apply(default_fill, axis=1, result_type='broadcast')\n",
    "coin_stat_tier_apy['Stable Coins'] = coin_stat_tier_apy['Stable Coins'].astype(np.float64)\n",
    "coin_stat_tier_apy = coin_stat_tier_apy.loc[:,~coin_stat_tier_apy.columns.duplicated()]\n",
    "#coin_stat_tier_apy.to_excel(\"C:/celsius/Liquidity/coin_stat_tier_apy.xlsx\", index = False)\n",
    "for coin in coin_list:\n",
    "    #print(coin)\n",
    "    yield_name = coin + \"_yield\"\n",
    "    coin_apy = coin + \"_APY\"\n",
    "    if coin_apy in coin_stat_tier_apy.columns:\n",
    "        coin_stat_tier_apy[yield_name] = coin_stat_tier_apy[coin] * coin_stat_tier_apy[coin_apy]\n",
    "    else:\n",
    "        coin_stat_tier_apy[yield_name] = 0\n",
    "        coin_stat_tier_apy[coin_apy] = np.nan\n",
    "coin_stat_tier_apy['Stable Coins_yield']= coin_stat_tier_apy[stable_yield].sum(axis=1)\n",
    "coin_stat_tier_apy['Stable Coins_APY']= coin_stat_tier_apy['Stable Coins_yield']/ coin_stat_tier_apy['Stable Coins']\n",
    "#coin_stat_tier_apy.to_excel(\"coin_stat_tier_apy.xlsx\", index = False)"
   ]
  },
  {
   "cell_type": "code",
   "execution_count": 270,
   "id": "6736761e-1a44-47a0-ba9a-8fbf51c0e8a0",
   "metadata": {},
   "outputs": [
    {
     "data": {
      "text/plain": "  Default_APY 1INCH_APY 3CRV_APY AAVE_APY ADA_APY ALCX_APY ALICE_APY  \\\n0         0.0       0.0      0.0      0.0     0.0      0.0       0.0   \n1         0.0       0.0      0.0      0.0     0.0      0.0       0.0   \n2         0.0       0.0      0.0      0.0     0.0      0.0       0.0   \n3         0.0       0.0      0.0      0.0     0.0      0.0       0.0   \n4         0.0       0.0      0.0      0.0     0.0      0.0       0.0   \n\n  ALPHA_APY alUSD_APY AMPL_APY  ... ZRX_APY ZUSD_APY check_APY All Coins_APY  \\\n0       0.0       0.0      0.0  ...     0.0      0.0       1.0           0.0   \n1       0.0       0.0      0.0  ...     0.0      0.0       0.0           0.0   \n2       0.0       0.0      0.0  ...     0.0      0.0       0.0           0.0   \n3       0.0       0.0      0.0  ...     0.0      0.0       0.0           0.0   \n4       0.0       0.0      0.0  ...     0.0      0.0       0.0           0.0   \n\n  EURT_APY KIN_APY MSOL_APY QRDO_APY SGB_APY Stable Coins_APY  \n0      NaN     NaN      NaN      NaN     NaN              0.0  \n1      NaN     NaN      NaN      NaN     NaN              0.0  \n2      NaN     NaN      NaN      NaN     NaN              0.0  \n3      NaN     NaN      NaN      NaN     NaN              0.0  \n4      NaN     NaN      NaN      NaN     NaN              0.0  \n\n[5 rows x 124 columns]",
      "text/html": "<div>\n<style scoped>\n    .dataframe tbody tr th:only-of-type {\n        vertical-align: middle;\n    }\n\n    .dataframe tbody tr th {\n        vertical-align: top;\n    }\n\n    .dataframe thead th {\n        text-align: right;\n    }\n</style>\n<table border=\"1\" class=\"dataframe\">\n  <thead>\n    <tr style=\"text-align: right;\">\n      <th></th>\n      <th>Default_APY</th>\n      <th>1INCH_APY</th>\n      <th>3CRV_APY</th>\n      <th>AAVE_APY</th>\n      <th>ADA_APY</th>\n      <th>ALCX_APY</th>\n      <th>ALICE_APY</th>\n      <th>ALPHA_APY</th>\n      <th>alUSD_APY</th>\n      <th>AMPL_APY</th>\n      <th>...</th>\n      <th>ZRX_APY</th>\n      <th>ZUSD_APY</th>\n      <th>check_APY</th>\n      <th>All Coins_APY</th>\n      <th>EURT_APY</th>\n      <th>KIN_APY</th>\n      <th>MSOL_APY</th>\n      <th>QRDO_APY</th>\n      <th>SGB_APY</th>\n      <th>Stable Coins_APY</th>\n    </tr>\n  </thead>\n  <tbody>\n    <tr>\n      <th>0</th>\n      <td>0.0</td>\n      <td>0.0</td>\n      <td>0.0</td>\n      <td>0.0</td>\n      <td>0.0</td>\n      <td>0.0</td>\n      <td>0.0</td>\n      <td>0.0</td>\n      <td>0.0</td>\n      <td>0.0</td>\n      <td>...</td>\n      <td>0.0</td>\n      <td>0.0</td>\n      <td>1.0</td>\n      <td>0.0</td>\n      <td>NaN</td>\n      <td>NaN</td>\n      <td>NaN</td>\n      <td>NaN</td>\n      <td>NaN</td>\n      <td>0.0</td>\n    </tr>\n    <tr>\n      <th>1</th>\n      <td>0.0</td>\n      <td>0.0</td>\n      <td>0.0</td>\n      <td>0.0</td>\n      <td>0.0</td>\n      <td>0.0</td>\n      <td>0.0</td>\n      <td>0.0</td>\n      <td>0.0</td>\n      <td>0.0</td>\n      <td>...</td>\n      <td>0.0</td>\n      <td>0.0</td>\n      <td>0.0</td>\n      <td>0.0</td>\n      <td>NaN</td>\n      <td>NaN</td>\n      <td>NaN</td>\n      <td>NaN</td>\n      <td>NaN</td>\n      <td>0.0</td>\n    </tr>\n    <tr>\n      <th>2</th>\n      <td>0.0</td>\n      <td>0.0</td>\n      <td>0.0</td>\n      <td>0.0</td>\n      <td>0.0</td>\n      <td>0.0</td>\n      <td>0.0</td>\n      <td>0.0</td>\n      <td>0.0</td>\n      <td>0.0</td>\n      <td>...</td>\n      <td>0.0</td>\n      <td>0.0</td>\n      <td>0.0</td>\n      <td>0.0</td>\n      <td>NaN</td>\n      <td>NaN</td>\n      <td>NaN</td>\n      <td>NaN</td>\n      <td>NaN</td>\n      <td>0.0</td>\n    </tr>\n    <tr>\n      <th>3</th>\n      <td>0.0</td>\n      <td>0.0</td>\n      <td>0.0</td>\n      <td>0.0</td>\n      <td>0.0</td>\n      <td>0.0</td>\n      <td>0.0</td>\n      <td>0.0</td>\n      <td>0.0</td>\n      <td>0.0</td>\n      <td>...</td>\n      <td>0.0</td>\n      <td>0.0</td>\n      <td>0.0</td>\n      <td>0.0</td>\n      <td>NaN</td>\n      <td>NaN</td>\n      <td>NaN</td>\n      <td>NaN</td>\n      <td>NaN</td>\n      <td>0.0</td>\n    </tr>\n    <tr>\n      <th>4</th>\n      <td>0.0</td>\n      <td>0.0</td>\n      <td>0.0</td>\n      <td>0.0</td>\n      <td>0.0</td>\n      <td>0.0</td>\n      <td>0.0</td>\n      <td>0.0</td>\n      <td>0.0</td>\n      <td>0.0</td>\n      <td>...</td>\n      <td>0.0</td>\n      <td>0.0</td>\n      <td>0.0</td>\n      <td>0.0</td>\n      <td>NaN</td>\n      <td>NaN</td>\n      <td>NaN</td>\n      <td>NaN</td>\n      <td>NaN</td>\n      <td>0.0</td>\n    </tr>\n  </tbody>\n</table>\n<p>5 rows × 124 columns</p>\n</div>"
     },
     "execution_count": 270,
     "metadata": {},
     "output_type": "execute_result"
    }
   ],
   "source": [
    "apy_cols = ['_APY' in col for col in coin_stat_tier_apy.columns]\n",
    "coin_stat_tier_apy.loc[:,apy_cols].head()"
   ]
  },
  {
   "cell_type": "code",
   "execution_count": 271,
   "id": "610992f9",
   "metadata": {},
   "outputs": [],
   "source": [
    "# for each coin, groupy by tier so we have a dataframe containing coin level tier data\n",
    "# also calculating the apy for each coin on tier level\n",
    "for coin in coin_list:\n",
    "    #print(coin)\n",
    "    coin_yield = coin+\"_yield\"\n",
    "    coin_apy = coin+\"_APY\"\n",
    "    df1 = coin_stat_tier_apy[[coin, coin_yield, \"Tier\"]]\n",
    "    df2 = df1.groupby('Tier', as_index = False).agg({coin: \"sum\",\n",
    "                                                    coin_yield: \"sum\"})\n",
    "    df2[coin_apy] = df2[coin_yield]/ df2[coin]\n",
    "    df2.drop(columns = [coin_yield], inplace = True)\n",
    "    #display(df2)\n",
    "    coin_tiers = coin_tiers.merge(df2, on = \"Tier\", how = \"left\")\n",
    "coin_tiers.fillna(value = 0, inplace = True)\n",
    "#coin_tiers"
   ]
  },
  {
   "cell_type": "code",
   "execution_count": 272,
   "id": "c5f26e67",
   "metadata": {
    "scrolled": true
   },
   "outputs": [],
   "source": [
    "coin_tier_p1_cols = [\"Tier\"]\n",
    "coin_tier_p2_cols = [\"Tier\"]\n",
    "filter2 = coin_tiers[\"Tier\"] != \"unassigned\"\n",
    "for col in coin_tiers.columns:\n",
    "    if col != \"Tier\" and \"_APY\" in col:\n",
    "        coin_tier_p2_cols.append(col)\n",
    "    elif col != \"Tier\":\n",
    "        coin_tier_p1_cols.append(col)\n",
    "    else:\n",
    "        pass\n",
    "#print(len(coin_tier_p1_cols))\n",
    "#len(coin_tier_p2_cols)"
   ]
  },
  {
   "cell_type": "code",
   "execution_count": 273,
   "id": "ac4d3791",
   "metadata": {},
   "outputs": [],
   "source": [
    "coin_tier_p1 = coin_tiers[filter2][coin_tier_p1_cols].T\n",
    "coin_tier_p1.reset_index(inplace = True)\n",
    "coin_tier_p1.columns = coin_tier_p1.iloc[0]\n",
    "coin_tier_p1.drop([0], inplace = True)\n",
    "new_name = [\"Coin\"]\n",
    "for col in coin_tier_p1.columns:\n",
    "    if col != \"Tier\":\n",
    "        new_name.append(\"Coin_Tier_\"+str(col)[0])\n",
    "coin_tier_p1.columns = new_name\n",
    "#coin_tier_p1"
   ]
  },
  {
   "cell_type": "code",
   "execution_count": 274,
   "id": "17c2d1ed",
   "metadata": {},
   "outputs": [],
   "source": [
    "coin_tier_p2 = coin_tiers[filter2][coin_tier_p2_cols]\n",
    "coin_tier_p2.columns = coin_tier_p1_cols\n",
    "coin_tier_p2 = coin_tier_p2.T\n",
    "coin_tier_p2.reset_index(inplace = True)\n",
    "coin_tier_p2.columns = coin_tier_p2.iloc[0]\n",
    "coin_tier_p2.drop([0], inplace = True)\n",
    "new_name = [\"Coin\"]\n",
    "for col in coin_tier_p2.columns:\n",
    "    if col != \"Tier\":\n",
    "        new_name.append(\"APY_Tier_\"+str(col)[0])\n",
    "coin_tier_p2.columns = new_name\n",
    "#coin_tier_p2"
   ]
  },
  {
   "cell_type": "code",
   "execution_count": 275,
   "id": "a542fcb5",
   "metadata": {},
   "outputs": [],
   "source": [
    "coin_tiers = coin_tier_p1.merge(coin_tier_p2, on = \"Coin\", how = \"inner\")\n",
    "filter3 = ~coin_tiers[\"Coin\"].isin(stables)\n",
    "#coin_tiers.columns"
   ]
  },
  {
   "cell_type": "markdown",
   "id": "6776763b",
   "metadata": {},
   "source": [
    "## the below code is to generat the pivot_data tab"
   ]
  },
  {
   "cell_type": "code",
   "execution_count": 276,
   "id": "2249d1b3",
   "metadata": {},
   "outputs": [
    {
     "data": {
      "text/plain": "Empty DataFrame\nColumns: [Coin, Category, Account, Tier, # of Coins, APY]\nIndex: []",
      "text/html": "<div>\n<style scoped>\n    .dataframe tbody tr th:only-of-type {\n        vertical-align: middle;\n    }\n\n    .dataframe tbody tr th {\n        vertical-align: top;\n    }\n\n    .dataframe thead th {\n        text-align: right;\n    }\n</style>\n<table border=\"1\" class=\"dataframe\">\n  <thead>\n    <tr style=\"text-align: right;\">\n      <th></th>\n      <th>Coin</th>\n      <th>Category</th>\n      <th>Account</th>\n      <th>Tier</th>\n      <th># of Coins</th>\n      <th>APY</th>\n    </tr>\n  </thead>\n  <tbody>\n  </tbody>\n</table>\n</div>"
     },
     "execution_count": 276,
     "metadata": {},
     "output_type": "execute_result"
    }
   ],
   "source": [
    "# Create df1 dataframe\n",
    "some_dict = {\"Coin\":[], \"Category\":[], \"Account\": [], \"Tier\": [], \"# of Coins\": [], \"APY\": []}\n",
    "df1 = pd.DataFrame.from_dict(some_dict)\n",
    "col_names = [\"Coin\", \"Category\", \"Account\", \"Tier\", \"# of Coins\",\n",
    "             \"APY\", \"COFA\", \"USD Value\", \"USD Value * COFA\",\n",
    "             \"USD Value * APY\", \"Deployment Status\", \"Manual\", \"CARRY\",\n",
    "             \"USD Value * CARRY\", \"WBTC\"]\n",
    "df1"
   ]
  },
  {
   "cell_type": "code",
   "execution_count": 277,
   "id": "4b9ba65a-50e0-41ba-9330-2dc620962765",
   "metadata": {},
   "outputs": [],
   "source": [
    "# Fill df1 Dataframe coin by coin\n",
    "for coin in coin_list:\n",
    "    if coin not in stables:\n",
    "        used_cols = [\"Account\", \"Tier\", coin, coin+\"_APY\"]\n",
    "        df2 = categories.merge(coin_stat_tier_apy[used_cols], on = \"Account\", how = \"right\")\n",
    "        df2[\"Coin\"] = coin\n",
    "        df2.rename(columns = {coin: \"# of Coins\", coin+\"_APY\": \"APY\"}, inplace = True)\n",
    "        df1 = pd.concat([df1, df2])\n",
    "\n",
    "filter1 = df1[\"# of Coins\"] > 10e-6\n",
    "df1 = df1[filter1]\n",
    "cats = list(df1[\"Category\"].unique())\n",
    "accs = list(df1[\"Account\"].unique())\n",
    "cofa_accts = list(cofa[\"Account\"].unique())\n",
    "cofa_accts.remove(\"Default\")\n",
    "carry_accts = list(carry2[\"Account\"].unique())\n",
    "carry_accts.remove(\"Default\")\n",
    "#cofa_accts"
   ]
  },
  {
   "cell_type": "code",
   "execution_count": 278,
   "outputs": [
    {
     "data": {
      "text/plain": "            Coin                   Account       # of Coins\n2          1INCH  Celsius Network LLC (US)        276022.85\n2           AAVE  Celsius Network LLC (US)      8112.500981\n2            ADA  Celsius Network LLC (US)      6968903.406\n2           AMPL  Celsius Network LLC (US)       202.197954\n2           ANKR  Celsius Network LLC (US)        38055.138\n..           ...                       ...              ...\n2            XTZ  Celsius Network LLC (US)      209033.8168\n2            YFI  Celsius Network LLC (US)         1.722868\n2            ZEC  Celsius Network LLC (US)      46744.36113\n2            ZRX  Celsius Network LLC (US)      2302316.134\n2   Stable Coins  Celsius Network LLC (US)  61179068.970638\n\n[61 rows x 3 columns]",
      "text/html": "<div>\n<style scoped>\n    .dataframe tbody tr th:only-of-type {\n        vertical-align: middle;\n    }\n\n    .dataframe tbody tr th {\n        vertical-align: top;\n    }\n\n    .dataframe thead th {\n        text-align: right;\n    }\n</style>\n<table border=\"1\" class=\"dataframe\">\n  <thead>\n    <tr style=\"text-align: right;\">\n      <th></th>\n      <th>Coin</th>\n      <th>Account</th>\n      <th># of Coins</th>\n    </tr>\n  </thead>\n  <tbody>\n    <tr>\n      <th>2</th>\n      <td>1INCH</td>\n      <td>Celsius Network LLC (US)</td>\n      <td>276022.85</td>\n    </tr>\n    <tr>\n      <th>2</th>\n      <td>AAVE</td>\n      <td>Celsius Network LLC (US)</td>\n      <td>8112.500981</td>\n    </tr>\n    <tr>\n      <th>2</th>\n      <td>ADA</td>\n      <td>Celsius Network LLC (US)</td>\n      <td>6968903.406</td>\n    </tr>\n    <tr>\n      <th>2</th>\n      <td>AMPL</td>\n      <td>Celsius Network LLC (US)</td>\n      <td>202.197954</td>\n    </tr>\n    <tr>\n      <th>2</th>\n      <td>ANKR</td>\n      <td>Celsius Network LLC (US)</td>\n      <td>38055.138</td>\n    </tr>\n    <tr>\n      <th>...</th>\n      <td>...</td>\n      <td>...</td>\n      <td>...</td>\n    </tr>\n    <tr>\n      <th>2</th>\n      <td>XTZ</td>\n      <td>Celsius Network LLC (US)</td>\n      <td>209033.8168</td>\n    </tr>\n    <tr>\n      <th>2</th>\n      <td>YFI</td>\n      <td>Celsius Network LLC (US)</td>\n      <td>1.722868</td>\n    </tr>\n    <tr>\n      <th>2</th>\n      <td>ZEC</td>\n      <td>Celsius Network LLC (US)</td>\n      <td>46744.36113</td>\n    </tr>\n    <tr>\n      <th>2</th>\n      <td>ZRX</td>\n      <td>Celsius Network LLC (US)</td>\n      <td>2302316.134</td>\n    </tr>\n    <tr>\n      <th>2</th>\n      <td>Stable Coins</td>\n      <td>Celsius Network LLC (US)</td>\n      <td>61179068.970638</td>\n    </tr>\n  </tbody>\n</table>\n<p>61 rows × 3 columns</p>\n</div>"
     },
     "execution_count": 278,
     "metadata": {},
     "output_type": "execute_result"
    }
   ],
   "source": [
    "df1[df1['Account'] == \"Celsius Network LLC (US)\"][['Coin','Account',\"# of Coins\"]]"
   ],
   "metadata": {
    "collapsed": false,
    "pycharm": {
     "name": "#%%\n"
    }
   }
  },
  {
   "cell_type": "code",
   "execution_count": 279,
   "id": "863d16f7-f4f5-4fe9-a4cd-7d6be885920a",
   "metadata": {},
   "outputs": [
    {
     "name": "stderr",
     "output_type": "stream",
     "text": [
      "/var/folders/q7/qhj4q23x49vb9f__hlp8t3280000gn/T/ipykernel_26433/3676507738.py:18: SettingWithCopyWarning: \n",
      "A value is trying to be set on a copy of a slice from a DataFrame.\n",
      "Try using .loc[row_indexer,col_indexer] = value instead\n",
      "\n",
      "See the caveats in the documentation: https://pandas.pydata.org/pandas-docs/stable/user_guide/indexing.html#returning-a-view-versus-a-copy\n",
      "  df2_p2[tab] = df2_p2[f\"{tab}-2\"]\n",
      "/Users/gabrielchoukroun/.conda/envs/waterfall_python/lib/python3.10/site-packages/pandas/core/frame.py:4906: SettingWithCopyWarning: \n",
      "A value is trying to be set on a copy of a slice from a DataFrame\n",
      "\n",
      "See the caveats in the documentation: https://pandas.pydata.org/pandas-docs/stable/user_guide/indexing.html#returning-a-view-versus-a-copy\n",
      "  return super().drop(\n"
     ]
    }
   ],
   "source": [
    "# Add cofa\n",
    "def add_cofa_carry(df1, cofa, cofa_accts, tab=\"COFA\"):\n",
    "    default_cofa = cofa[cofa[\"Account\"] == \"Default\"][[\"Coin\", tab]]\n",
    "    df2 = df1.merge(default_cofa, on = \"Coin\", how = \"left\")\n",
    "    for col in cofa_accts:\n",
    "        #print(col)\n",
    "        cofa_2 = cofa[cofa[\"Account\"] == col]\n",
    "        if col in cats:\n",
    "            cofa_2.columns = [\"Coin\", \"Category\", f\"{tab}-2\"]\n",
    "            df2 = df2.merge(cofa_2, on=[\"Coin\", \"Category\"], how='left')\n",
    "        elif col in accs:\n",
    "            cofa_2.columns = [\"Coin\", \"Account\", f\"{tab}-2\"]\n",
    "            df2 = df2.merge(cofa_2, on=[\"Coin\", \"Account\"], how='left')\n",
    "        else:\n",
    "            continue\n",
    "        df2_p1 = df2[df2[f\"{tab}-2\"].isnull()].drop(columns = [f\"{tab}-2\"])\n",
    "        df2_p2 = df2[df2[f\"{tab}-2\"].notnull()]\n",
    "        df2_p2[tab] = df2_p2[f\"{tab}-2\"]\n",
    "        df2_p2.drop(columns = [f\"{tab}-2\"], inplace = True)\n",
    "        df2 = pd.concat([df2_p1, df2_p2])\n",
    "        df2.sort_values(by = [\"Coin\"], inplace = True)\n",
    "    return df2\n",
    "df2 = add_cofa_carry(df1, cofa, cofa_accts)"
   ]
  },
  {
   "cell_type": "code",
   "execution_count": 280,
   "id": "d104ecb3-5110-4037-9798-38d7a52ecce2",
   "metadata": {},
   "outputs": [],
   "source": [
    "# Add Manual Adjustements\n",
    "manual_adjustements['Manual'] = True\n",
    "df2['Manual'] = False\n",
    "df2 = pd.concat([df2,manual_adjustements]).reset_index(drop=True)"
   ]
  },
  {
   "cell_type": "code",
   "execution_count": 281,
   "outputs": [
    {
     "data": {
      "text/plain": "1         Coin Total Undeployed (Coins)\n2          BTC              4698.695515\n3          ETH              155409.8736\n4          SNX              570409.5743\n5        MATIC               13086064.3\n6          DOT              45668.53691\n7          BNT              8736.760869\n8          CEL              611107117.3\n9         LUNA              536955.3877\n10       1INCH               163026.035\n11        AAVE              5474.152876\n12        DASH              60614.28772\n13        COMP              8447.665288\n14         BCH               1513.94421\n15         EOS              320727.8517\n16         XTZ               168105.758\n17       SUSHI              74916.42706\n18         ADA              3700004.398\n19         LTC              62102.50607\n20        WBTC                156.27467\n21         ETC              52307.25291\n22        LINK              177439.9869\n23         XRP              9743972.342\n24         UNI              421039.0318\n25         BSV              3483.224069\n26         ZEC              40700.43688\n27         ZRX              1810713.504\n28         XLM              102795263.7\n29         BAT              48887.68396\n30         UMA              79515.42479\n31         OMG              20508.08696\n32         KNC               123115.788\n33        MANA              59716.88472\n34        TUSD              895710.0798\n35        GUSD              735463.3272\n36         PAX               532315.014\n37        USDC              22850966.52\n38  USDT ERC20              8035953.269\n39        TGBP              2923001.485\n40        TAUD              4279209.309\n41        THKD              8846350.965\n42        TCAD              1953045.695\n43        BUSD              4544115.154\n44       MCDAI              2539024.913\n45        ZUSD             -223012.5362\n46        PAXG              2896.187344\n47        XAUT               170.812088\n48       WDGLD                        1\n49         BNB              3917.170822\n50         FTT                  210.357\n51         SRM                        1\n52        AVAX              1712.945774\n53         SOL                 20.72597\n54         NaN                      NaN\n55       w CEL               2731825215\n56         NaN                      NaN\n57   w/out CEL              878041290.4",
      "text/html": "<div>\n<style scoped>\n    .dataframe tbody tr th:only-of-type {\n        vertical-align: middle;\n    }\n\n    .dataframe tbody tr th {\n        vertical-align: top;\n    }\n\n    .dataframe thead th {\n        text-align: right;\n    }\n</style>\n<table border=\"1\" class=\"dataframe\">\n  <thead>\n    <tr style=\"text-align: right;\">\n      <th>1</th>\n      <th>Coin</th>\n      <th>Total Undeployed (Coins)</th>\n    </tr>\n  </thead>\n  <tbody>\n    <tr>\n      <th>2</th>\n      <td>BTC</td>\n      <td>4698.695515</td>\n    </tr>\n    <tr>\n      <th>3</th>\n      <td>ETH</td>\n      <td>155409.8736</td>\n    </tr>\n    <tr>\n      <th>4</th>\n      <td>SNX</td>\n      <td>570409.5743</td>\n    </tr>\n    <tr>\n      <th>5</th>\n      <td>MATIC</td>\n      <td>13086064.3</td>\n    </tr>\n    <tr>\n      <th>6</th>\n      <td>DOT</td>\n      <td>45668.53691</td>\n    </tr>\n    <tr>\n      <th>7</th>\n      <td>BNT</td>\n      <td>8736.760869</td>\n    </tr>\n    <tr>\n      <th>8</th>\n      <td>CEL</td>\n      <td>611107117.3</td>\n    </tr>\n    <tr>\n      <th>9</th>\n      <td>LUNA</td>\n      <td>536955.3877</td>\n    </tr>\n    <tr>\n      <th>10</th>\n      <td>1INCH</td>\n      <td>163026.035</td>\n    </tr>\n    <tr>\n      <th>11</th>\n      <td>AAVE</td>\n      <td>5474.152876</td>\n    </tr>\n    <tr>\n      <th>12</th>\n      <td>DASH</td>\n      <td>60614.28772</td>\n    </tr>\n    <tr>\n      <th>13</th>\n      <td>COMP</td>\n      <td>8447.665288</td>\n    </tr>\n    <tr>\n      <th>14</th>\n      <td>BCH</td>\n      <td>1513.94421</td>\n    </tr>\n    <tr>\n      <th>15</th>\n      <td>EOS</td>\n      <td>320727.8517</td>\n    </tr>\n    <tr>\n      <th>16</th>\n      <td>XTZ</td>\n      <td>168105.758</td>\n    </tr>\n    <tr>\n      <th>17</th>\n      <td>SUSHI</td>\n      <td>74916.42706</td>\n    </tr>\n    <tr>\n      <th>18</th>\n      <td>ADA</td>\n      <td>3700004.398</td>\n    </tr>\n    <tr>\n      <th>19</th>\n      <td>LTC</td>\n      <td>62102.50607</td>\n    </tr>\n    <tr>\n      <th>20</th>\n      <td>WBTC</td>\n      <td>156.27467</td>\n    </tr>\n    <tr>\n      <th>21</th>\n      <td>ETC</td>\n      <td>52307.25291</td>\n    </tr>\n    <tr>\n      <th>22</th>\n      <td>LINK</td>\n      <td>177439.9869</td>\n    </tr>\n    <tr>\n      <th>23</th>\n      <td>XRP</td>\n      <td>9743972.342</td>\n    </tr>\n    <tr>\n      <th>24</th>\n      <td>UNI</td>\n      <td>421039.0318</td>\n    </tr>\n    <tr>\n      <th>25</th>\n      <td>BSV</td>\n      <td>3483.224069</td>\n    </tr>\n    <tr>\n      <th>26</th>\n      <td>ZEC</td>\n      <td>40700.43688</td>\n    </tr>\n    <tr>\n      <th>27</th>\n      <td>ZRX</td>\n      <td>1810713.504</td>\n    </tr>\n    <tr>\n      <th>28</th>\n      <td>XLM</td>\n      <td>102795263.7</td>\n    </tr>\n    <tr>\n      <th>29</th>\n      <td>BAT</td>\n      <td>48887.68396</td>\n    </tr>\n    <tr>\n      <th>30</th>\n      <td>UMA</td>\n      <td>79515.42479</td>\n    </tr>\n    <tr>\n      <th>31</th>\n      <td>OMG</td>\n      <td>20508.08696</td>\n    </tr>\n    <tr>\n      <th>32</th>\n      <td>KNC</td>\n      <td>123115.788</td>\n    </tr>\n    <tr>\n      <th>33</th>\n      <td>MANA</td>\n      <td>59716.88472</td>\n    </tr>\n    <tr>\n      <th>34</th>\n      <td>TUSD</td>\n      <td>895710.0798</td>\n    </tr>\n    <tr>\n      <th>35</th>\n      <td>GUSD</td>\n      <td>735463.3272</td>\n    </tr>\n    <tr>\n      <th>36</th>\n      <td>PAX</td>\n      <td>532315.014</td>\n    </tr>\n    <tr>\n      <th>37</th>\n      <td>USDC</td>\n      <td>22850966.52</td>\n    </tr>\n    <tr>\n      <th>38</th>\n      <td>USDT ERC20</td>\n      <td>8035953.269</td>\n    </tr>\n    <tr>\n      <th>39</th>\n      <td>TGBP</td>\n      <td>2923001.485</td>\n    </tr>\n    <tr>\n      <th>40</th>\n      <td>TAUD</td>\n      <td>4279209.309</td>\n    </tr>\n    <tr>\n      <th>41</th>\n      <td>THKD</td>\n      <td>8846350.965</td>\n    </tr>\n    <tr>\n      <th>42</th>\n      <td>TCAD</td>\n      <td>1953045.695</td>\n    </tr>\n    <tr>\n      <th>43</th>\n      <td>BUSD</td>\n      <td>4544115.154</td>\n    </tr>\n    <tr>\n      <th>44</th>\n      <td>MCDAI</td>\n      <td>2539024.913</td>\n    </tr>\n    <tr>\n      <th>45</th>\n      <td>ZUSD</td>\n      <td>-223012.5362</td>\n    </tr>\n    <tr>\n      <th>46</th>\n      <td>PAXG</td>\n      <td>2896.187344</td>\n    </tr>\n    <tr>\n      <th>47</th>\n      <td>XAUT</td>\n      <td>170.812088</td>\n    </tr>\n    <tr>\n      <th>48</th>\n      <td>WDGLD</td>\n      <td>1</td>\n    </tr>\n    <tr>\n      <th>49</th>\n      <td>BNB</td>\n      <td>3917.170822</td>\n    </tr>\n    <tr>\n      <th>50</th>\n      <td>FTT</td>\n      <td>210.357</td>\n    </tr>\n    <tr>\n      <th>51</th>\n      <td>SRM</td>\n      <td>1</td>\n    </tr>\n    <tr>\n      <th>52</th>\n      <td>AVAX</td>\n      <td>1712.945774</td>\n    </tr>\n    <tr>\n      <th>53</th>\n      <td>SOL</td>\n      <td>20.72597</td>\n    </tr>\n    <tr>\n      <th>54</th>\n      <td>NaN</td>\n      <td>NaN</td>\n    </tr>\n    <tr>\n      <th>55</th>\n      <td>w CEL</td>\n      <td>2731825215</td>\n    </tr>\n    <tr>\n      <th>56</th>\n      <td>NaN</td>\n      <td>NaN</td>\n    </tr>\n    <tr>\n      <th>57</th>\n      <td>w/out CEL</td>\n      <td>878041290.4</td>\n    </tr>\n  </tbody>\n</table>\n</div>"
     },
     "execution_count": 281,
     "metadata": {},
     "output_type": "execute_result"
    }
   ],
   "source": [
    "deployable_0"
   ],
   "metadata": {
    "collapsed": false,
    "pycharm": {
     "name": "#%%\n"
    }
   }
  },
  {
   "cell_type": "code",
   "execution_count": 282,
   "outputs": [
    {
     "data": {
      "text/plain": "    Coin    Category                       Account Tier   # of Coins  APY  \\\n140  BTC  undeployed  Celsius Network Limited (UK)    1  6990.678559  0.0   \n141  BTC  undeployed      Celsius Network LLC (US)    1  3216.569517  0.0   \n\n         COFA  Manual  \n140  0.025058   False  \n141  0.025058   False  ",
      "text/html": "<div>\n<style scoped>\n    .dataframe tbody tr th:only-of-type {\n        vertical-align: middle;\n    }\n\n    .dataframe tbody tr th {\n        vertical-align: top;\n    }\n\n    .dataframe thead th {\n        text-align: right;\n    }\n</style>\n<table border=\"1\" class=\"dataframe\">\n  <thead>\n    <tr style=\"text-align: right;\">\n      <th></th>\n      <th>Coin</th>\n      <th>Category</th>\n      <th>Account</th>\n      <th>Tier</th>\n      <th># of Coins</th>\n      <th>APY</th>\n      <th>COFA</th>\n      <th>Manual</th>\n    </tr>\n  </thead>\n  <tbody>\n    <tr>\n      <th>140</th>\n      <td>BTC</td>\n      <td>undeployed</td>\n      <td>Celsius Network Limited (UK)</td>\n      <td>1</td>\n      <td>6990.678559</td>\n      <td>0.0</td>\n      <td>0.025058</td>\n      <td>False</td>\n    </tr>\n    <tr>\n      <th>141</th>\n      <td>BTC</td>\n      <td>undeployed</td>\n      <td>Celsius Network LLC (US)</td>\n      <td>1</td>\n      <td>3216.569517</td>\n      <td>0.0</td>\n      <td>0.025058</td>\n      <td>False</td>\n    </tr>\n  </tbody>\n</table>\n</div>"
     },
     "execution_count": 282,
     "metadata": {},
     "output_type": "execute_result"
    }
   ],
   "source": [
    "first_accounts = ['Celsius Network Limited (UK)', 'Celsius Network LLC (US)' ]\n",
    "df2[(df2['Account'].isin(first_accounts)) & (df2['Coin']=='BTC')]"
   ],
   "metadata": {
    "collapsed": false,
    "pycharm": {
     "name": "#%%\n"
    }
   }
  },
  {
   "cell_type": "code",
   "execution_count": 283,
   "outputs": [
    {
     "name": "stderr",
     "output_type": "stream",
     "text": [
      "/var/folders/q7/qhj4q23x49vb9f__hlp8t3280000gn/T/ipykernel_26433/128963383.py:30: SettingWithCopyWarning: \n",
      "A value is trying to be set on a copy of a slice from a DataFrame.\n",
      "Try using .loc[row_indexer,col_indexer] = value instead\n",
      "\n",
      "See the caveats in the documentation: https://pandas.pydata.org/pandas-docs/stable/user_guide/indexing.html#returning-a-view-versus-a-copy\n",
      "  new_row['# of Coins'] = deployable_0.loc[cond2, 'Total Undeployed'].values\n",
      "/var/folders/q7/qhj4q23x49vb9f__hlp8t3280000gn/T/ipykernel_26433/128963383.py:31: SettingWithCopyWarning: \n",
      "A value is trying to be set on a copy of a slice from a DataFrame.\n",
      "Try using .loc[row_indexer,col_indexer] = value instead\n",
      "\n",
      "See the caveats in the documentation: https://pandas.pydata.org/pandas-docs/stable/user_guide/indexing.html#returning-a-view-versus-a-copy\n",
      "  new_row['Deployment Status'] = 'Deployable'\n"
     ]
    }
   ],
   "source": [
    "# Add Deployement Status\n",
    "deployable_0.columns = ['Coin','Total Undeployed']\n",
    "total_stable = deployable_0[deployable_0['Coin'].isin(stables)]['Total Undeployed'].sum()\n",
    "deployable_0 = deployable_0.append({'Coin':'Stable Coins',\n",
    "                     'Total Undeployed':total_stable}, ignore_index=True)\n",
    "df2['Deployment Status'] = 'Deployed'\n",
    "undeployed_accounts = df2[df2['Category'].isin(['undeployed','Undeployed'])]['Account'].unique().tolist()\n",
    "# UK First than US\n",
    "first_accounts = ['Celsius Network Limited (UK)', 'Celsius Network LLC (US)' ]\n",
    "undeployed_accounts = [x for x in undeployed_accounts if x not in (first_accounts)]\n",
    "undeployed_accounts = first_accounts + undeployed_accounts\n",
    "\n",
    "#undeployed_accounts = np.unique(first_accounts + undeployed_accounts)\n",
    "cond = df2['Account'] == 'Celsius Network LLC (US)'\n",
    "df2['# of Coins'].fillna(0, inplace=True)\n",
    "for account in undeployed_accounts:\n",
    "    for coin in deployable_0['Coin']:\n",
    "        cond1 = (df2['Account'] == account) & (df2['Coin'] == coin)\n",
    "        cond2 = deployable_0['Coin'] == coin\n",
    "        if sum(cond1)+sum(cond2)<2: continue\n",
    "\n",
    "        if df2[cond1]['# of Coins'].values < deployable_0[cond2]['Total Undeployed'].values:\n",
    "            deployable_0.loc[cond2, 'Total Undeployed'] -= df2.loc[cond1, '# of Coins'].values\n",
    "            df2.loc[cond1, 'Deployment Status'] = 'Deployable'\n",
    "        else:\n",
    "            df2.loc[cond1, '# of Coins'] -= deployable_0.loc[cond2, 'Total Undeployed'].values\n",
    "            df2.loc[cond1, 'Deployment Status'] = 'Liquidity Reserve'\n",
    "            new_row = df2.loc[cond1]\n",
    "            if  deployable_0.loc[cond2, 'Total Undeployed'].values>0:\n",
    "                new_row['# of Coins'] = deployable_0.loc[cond2, 'Total Undeployed'].values\n",
    "                new_row['Deployment Status'] = 'Deployable'\n",
    "                df2 = df2.append(new_row, ignore_index=True)\n",
    "                deployable_0.loc[cond2, 'Total Undeployed'] = 0\n",
    "\n",
    "df2.loc[df2['Category'] == 'Underdeployed', 'Deployment Status'] = 'Deployable'"
   ],
   "metadata": {
    "collapsed": false,
    "pycharm": {
     "name": "#%%\n"
    }
   }
  },
  {
   "cell_type": "code",
   "execution_count": 284,
   "id": "48b60a61",
   "metadata": {
    "scrolled": true
   },
   "outputs": [
    {
     "data": {
      "text/plain": "             Coin             Category                       Account Tier  \\\n148           BTC    Posted Collateral             Posted Collateral    5   \n375           ETH    Posted Collateral       Celsius Borrows Account    5   \n138           BTC  Institutional Loans                     Loans Out    4   \n652  Stable Coins  Institutional Loans                     Loans Out    4   \n636  Stable Coins         Retail Loans                         Loans    6   \n..            ...                  ...                           ...  ...   \n577           SOL           undeployed  Celsius Network Limited (UK)    1   \n432          EURT                 defi                DeFi-Earmarked    1   \n433          EURT                 defi            DD-CONVEX-3EURpool    2   \n434          EURT                 defi                DD-CONVEX-EURT    2   \n585           SRM           undeployed  Celsius Network Limited (UK)    1   \n\n       # of Coins       APY      COFA  Manual  Deployment Status        Price  \\\n148      50580.53       0.0  0.000000   False           Deployed  43584.10994   \n375   497819.5719     0.003  0.000000   False           Deployed  3093.297795   \n138      32017.35  0.026359  0.025058   False           Deployed  43584.10994   \n652  1100972932.0   0.08975  0.101009   False           Deployed            1   \n636  890363357.53     0.034  0.101009   False           Deployed            1   \n..            ...       ...       ...     ...                ...          ...   \n577           0.0       0.0       NaN   False  Liquidity Reserve   112.275725   \n432      250000.0       NaN       NaN   False           Deployed            0   \n433   15227357.45       NaN       NaN   False           Deployed            0   \n434   5038643.976       NaN       NaN   False           Deployed            0   \n585           0.0       0.0       NaN   False  Liquidity Reserve     2.515968   \n\n             USD Value  USD Value * APY  USD Value * COFA  \n148  2204507380.343468              0.0               0.0  \n375  1539904184.066114   4619712.552198               0.0  \n138  1395447702.387459  36782025.760076   34967326.317182  \n652       1100972932.0  98812217.713877  111207933.114732  \n636       890363357.53   30272354.15602   89934516.856954  \n..                 ...              ...               ...  \n577                0.0              0.0               NaN  \n432                0.0              NaN               NaN  \n433                0.0              NaN               NaN  \n434                0.0              NaN               NaN  \n585                0.0              0.0               NaN  \n\n[818 rows x 13 columns]",
      "text/html": "<div>\n<style scoped>\n    .dataframe tbody tr th:only-of-type {\n        vertical-align: middle;\n    }\n\n    .dataframe tbody tr th {\n        vertical-align: top;\n    }\n\n    .dataframe thead th {\n        text-align: right;\n    }\n</style>\n<table border=\"1\" class=\"dataframe\">\n  <thead>\n    <tr style=\"text-align: right;\">\n      <th></th>\n      <th>Coin</th>\n      <th>Category</th>\n      <th>Account</th>\n      <th>Tier</th>\n      <th># of Coins</th>\n      <th>APY</th>\n      <th>COFA</th>\n      <th>Manual</th>\n      <th>Deployment Status</th>\n      <th>Price</th>\n      <th>USD Value</th>\n      <th>USD Value * APY</th>\n      <th>USD Value * COFA</th>\n    </tr>\n  </thead>\n  <tbody>\n    <tr>\n      <th>148</th>\n      <td>BTC</td>\n      <td>Posted Collateral</td>\n      <td>Posted Collateral</td>\n      <td>5</td>\n      <td>50580.53</td>\n      <td>0.0</td>\n      <td>0.000000</td>\n      <td>False</td>\n      <td>Deployed</td>\n      <td>43584.10994</td>\n      <td>2204507380.343468</td>\n      <td>0.0</td>\n      <td>0.0</td>\n    </tr>\n    <tr>\n      <th>375</th>\n      <td>ETH</td>\n      <td>Posted Collateral</td>\n      <td>Celsius Borrows Account</td>\n      <td>5</td>\n      <td>497819.5719</td>\n      <td>0.003</td>\n      <td>0.000000</td>\n      <td>False</td>\n      <td>Deployed</td>\n      <td>3093.297795</td>\n      <td>1539904184.066114</td>\n      <td>4619712.552198</td>\n      <td>0.0</td>\n    </tr>\n    <tr>\n      <th>138</th>\n      <td>BTC</td>\n      <td>Institutional Loans</td>\n      <td>Loans Out</td>\n      <td>4</td>\n      <td>32017.35</td>\n      <td>0.026359</td>\n      <td>0.025058</td>\n      <td>False</td>\n      <td>Deployed</td>\n      <td>43584.10994</td>\n      <td>1395447702.387459</td>\n      <td>36782025.760076</td>\n      <td>34967326.317182</td>\n    </tr>\n    <tr>\n      <th>652</th>\n      <td>Stable Coins</td>\n      <td>Institutional Loans</td>\n      <td>Loans Out</td>\n      <td>4</td>\n      <td>1100972932.0</td>\n      <td>0.08975</td>\n      <td>0.101009</td>\n      <td>False</td>\n      <td>Deployed</td>\n      <td>1</td>\n      <td>1100972932.0</td>\n      <td>98812217.713877</td>\n      <td>111207933.114732</td>\n    </tr>\n    <tr>\n      <th>636</th>\n      <td>Stable Coins</td>\n      <td>Retail Loans</td>\n      <td>Loans</td>\n      <td>6</td>\n      <td>890363357.53</td>\n      <td>0.034</td>\n      <td>0.101009</td>\n      <td>False</td>\n      <td>Deployed</td>\n      <td>1</td>\n      <td>890363357.53</td>\n      <td>30272354.15602</td>\n      <td>89934516.856954</td>\n    </tr>\n    <tr>\n      <th>...</th>\n      <td>...</td>\n      <td>...</td>\n      <td>...</td>\n      <td>...</td>\n      <td>...</td>\n      <td>...</td>\n      <td>...</td>\n      <td>...</td>\n      <td>...</td>\n      <td>...</td>\n      <td>...</td>\n      <td>...</td>\n      <td>...</td>\n    </tr>\n    <tr>\n      <th>577</th>\n      <td>SOL</td>\n      <td>undeployed</td>\n      <td>Celsius Network Limited (UK)</td>\n      <td>1</td>\n      <td>0.0</td>\n      <td>0.0</td>\n      <td>NaN</td>\n      <td>False</td>\n      <td>Liquidity Reserve</td>\n      <td>112.275725</td>\n      <td>0.0</td>\n      <td>0.0</td>\n      <td>NaN</td>\n    </tr>\n    <tr>\n      <th>432</th>\n      <td>EURT</td>\n      <td>defi</td>\n      <td>DeFi-Earmarked</td>\n      <td>1</td>\n      <td>250000.0</td>\n      <td>NaN</td>\n      <td>NaN</td>\n      <td>False</td>\n      <td>Deployed</td>\n      <td>0</td>\n      <td>0.0</td>\n      <td>NaN</td>\n      <td>NaN</td>\n    </tr>\n    <tr>\n      <th>433</th>\n      <td>EURT</td>\n      <td>defi</td>\n      <td>DD-CONVEX-3EURpool</td>\n      <td>2</td>\n      <td>15227357.45</td>\n      <td>NaN</td>\n      <td>NaN</td>\n      <td>False</td>\n      <td>Deployed</td>\n      <td>0</td>\n      <td>0.0</td>\n      <td>NaN</td>\n      <td>NaN</td>\n    </tr>\n    <tr>\n      <th>434</th>\n      <td>EURT</td>\n      <td>defi</td>\n      <td>DD-CONVEX-EURT</td>\n      <td>2</td>\n      <td>5038643.976</td>\n      <td>NaN</td>\n      <td>NaN</td>\n      <td>False</td>\n      <td>Deployed</td>\n      <td>0</td>\n      <td>0.0</td>\n      <td>NaN</td>\n      <td>NaN</td>\n    </tr>\n    <tr>\n      <th>585</th>\n      <td>SRM</td>\n      <td>undeployed</td>\n      <td>Celsius Network Limited (UK)</td>\n      <td>1</td>\n      <td>0.0</td>\n      <td>0.0</td>\n      <td>NaN</td>\n      <td>False</td>\n      <td>Liquidity Reserve</td>\n      <td>2.515968</td>\n      <td>0.0</td>\n      <td>0.0</td>\n      <td>NaN</td>\n    </tr>\n  </tbody>\n</table>\n<p>818 rows × 13 columns</p>\n</div>"
     },
     "execution_count": 284,
     "metadata": {},
     "output_type": "execute_result"
    }
   ],
   "source": [
    "#df2.to_excel(\"excel_outputs/cofa_2.xlsx\", index = False)\n",
    "# Add Price\n",
    "df2 = df2.merge(coin_price, on = \"Coin\", how = \"left\")\n",
    "df2[\"USD Value\"] = df2[\"# of Coins\"] * df2[\"Price\"]\n",
    "df2[\"USD Value * APY\"] = df2[\"USD Value\"] * df2[\"APY\"]\n",
    "df2[\"Tier\"] = df2[\"Tier\"].astype(str).apply(lambda x:x.split(\".\")[0])\n",
    "\n",
    "df2[\"USD Value * COFA\"] = df2[\"USD Value\"] * df2[\"COFA\"]\n",
    "df2.sort_values(by = \"USD Value\", ascending = False, inplace = True)\n",
    "df2['Category'] = df2['Category'].str.strip()\n",
    "df2"
   ]
  },
  {
   "cell_type": "code",
   "execution_count": 285,
   "id": "aa64526e-6416-472c-9669-94ade4cfa636",
   "metadata": {},
   "outputs": [
    {
     "name": "stderr",
     "output_type": "stream",
     "text": [
      "/var/folders/q7/qhj4q23x49vb9f__hlp8t3280000gn/T/ipykernel_26433/3676507738.py:18: SettingWithCopyWarning: \n",
      "A value is trying to be set on a copy of a slice from a DataFrame.\n",
      "Try using .loc[row_indexer,col_indexer] = value instead\n",
      "\n",
      "See the caveats in the documentation: https://pandas.pydata.org/pandas-docs/stable/user_guide/indexing.html#returning-a-view-versus-a-copy\n",
      "  df2_p2[tab] = df2_p2[f\"{tab}-2\"]\n",
      "/Users/gabrielchoukroun/.conda/envs/waterfall_python/lib/python3.10/site-packages/pandas/core/frame.py:4906: SettingWithCopyWarning: \n",
      "A value is trying to be set on a copy of a slice from a DataFrame\n",
      "\n",
      "See the caveats in the documentation: https://pandas.pydata.org/pandas-docs/stable/user_guide/indexing.html#returning-a-view-versus-a-copy\n",
      "  return super().drop(\n"
     ]
    }
   ],
   "source": [
    "#ADD CARRY\n",
    "df2 = add_cofa_carry(df2, carry2, carry_accts, tab='CARRY')\n",
    "df2[\"USD Value * CARRY\"] = df2[\"USD Value\"] * df2[\"CARRY\"]\n",
    "df2.sort_values(by = \"USD Value\", ascending = False, inplace = True)"
   ]
  },
  {
   "cell_type": "code",
   "execution_count": 286,
   "outputs": [
    {
     "data": {
      "text/plain": "    Coin           Category                  Account Tier   # of Coins    APY  \\\n162  BTC  Posted Collateral        Posted Collateral    5     50580.53    0.0   \n441  ETH  Posted Collateral  Celsius Borrows Account    5  497819.5719  0.003   \n\n     COFA  Manual Deployment Status        Price          USD Value  \\\n162   0.0   False          Deployed  43584.10994  2204507380.343468   \n441   0.0   False          Deployed  3093.297795  1539904184.066114   \n\n    USD Value * APY USD Value * COFA  CARRY USD Value * CARRY  \n162             0.0              0.0    0.0               0.0  \n441  4619712.552198              0.0    0.0               0.0  ",
      "text/html": "<div>\n<style scoped>\n    .dataframe tbody tr th:only-of-type {\n        vertical-align: middle;\n    }\n\n    .dataframe tbody tr th {\n        vertical-align: top;\n    }\n\n    .dataframe thead th {\n        text-align: right;\n    }\n</style>\n<table border=\"1\" class=\"dataframe\">\n  <thead>\n    <tr style=\"text-align: right;\">\n      <th></th>\n      <th>Coin</th>\n      <th>Category</th>\n      <th>Account</th>\n      <th>Tier</th>\n      <th># of Coins</th>\n      <th>APY</th>\n      <th>COFA</th>\n      <th>Manual</th>\n      <th>Deployment Status</th>\n      <th>Price</th>\n      <th>USD Value</th>\n      <th>USD Value * APY</th>\n      <th>USD Value * COFA</th>\n      <th>CARRY</th>\n      <th>USD Value * CARRY</th>\n    </tr>\n  </thead>\n  <tbody>\n    <tr>\n      <th>162</th>\n      <td>BTC</td>\n      <td>Posted Collateral</td>\n      <td>Posted Collateral</td>\n      <td>5</td>\n      <td>50580.53</td>\n      <td>0.0</td>\n      <td>0.0</td>\n      <td>False</td>\n      <td>Deployed</td>\n      <td>43584.10994</td>\n      <td>2204507380.343468</td>\n      <td>0.0</td>\n      <td>0.0</td>\n      <td>0.0</td>\n      <td>0.0</td>\n    </tr>\n    <tr>\n      <th>441</th>\n      <td>ETH</td>\n      <td>Posted Collateral</td>\n      <td>Celsius Borrows Account</td>\n      <td>5</td>\n      <td>497819.5719</td>\n      <td>0.003</td>\n      <td>0.0</td>\n      <td>False</td>\n      <td>Deployed</td>\n      <td>3093.297795</td>\n      <td>1539904184.066114</td>\n      <td>4619712.552198</td>\n      <td>0.0</td>\n      <td>0.0</td>\n      <td>0.0</td>\n    </tr>\n  </tbody>\n</table>\n</div>"
     },
     "execution_count": 286,
     "metadata": {},
     "output_type": "execute_result"
    }
   ],
   "source": [
    "df2.head(2)"
   ],
   "metadata": {
    "collapsed": false,
    "pycharm": {
     "name": "#%%\n"
    }
   }
  },
  {
   "cell_type": "code",
   "execution_count": 287,
   "outputs": [],
   "source": [
    "# EDIT FTX JACOB Account\n",
    "cond = (df2['Account'] == 'FTX - Jacob') & (df2['APY']>df2['CARRY'])\n",
    "df2.loc[cond, \"Category\"] = \"Exchange\""
   ],
   "metadata": {
    "collapsed": false,
    "pycharm": {
     "name": "#%%\n"
    }
   }
  },
  {
   "cell_type": "code",
   "execution_count": 288,
   "outputs": [],
   "source": [
    "# Merge WBTC and BTC\n",
    "df2['WBTC'] = 'N'\n",
    "df2.loc[df2['Coin'] == 'WBTC', 'WBTC'] = 'Y'\n",
    "df2['Coin'] = df2['Coin'].replace('WBTC', 'BTC')"
   ],
   "metadata": {
    "collapsed": false,
    "pycharm": {
     "name": "#%%\n"
    }
   }
  },
  {
   "cell_type": "code",
   "execution_count": 289,
   "outputs": [
    {
     "data": {
      "text/plain": "    Coin    Category                       Account Tier   # of Coins  APY  \\\n151  BTC  undeployed  Celsius Network Limited (UK)    1  4698.695515  0.0   \n153  BTC  undeployed      Celsius Network LLC (US)    1  3216.569517  0.0   \n166  BTC  undeployed  Celsius Network Limited (UK)    1  2291.983044  0.0   \n732  BTC  undeployed      Celsius Network LLC (US)    1    53.568073  0.0   \n\n         COFA  Manual  Deployment Status        Price         USD Value  \\\n151  0.025058   False         Deployable  43584.10994  204788461.900345   \n153  0.025058   False  Liquidity Reserve  43584.10994  140191319.458581   \n166  0.025058   False  Liquidity Reserve  43584.10994   99894040.970312   \n732       NaN   False         Deployable  43673.24302    2339491.452336   \n\n    USD Value * APY USD Value * COFA     CARRY USD Value * CARRY WBTC  \n151             0.0   5131618.305015  0.020501    4198461.903087    N  \n153             0.0   3512933.953711  0.020501    2874126.346907    N  \n166             0.0   2503159.037615  0.020501    2047973.413479    N  \n732             0.0              NaN  0.005688      13307.231356    Y  ",
      "text/html": "<div>\n<style scoped>\n    .dataframe tbody tr th:only-of-type {\n        vertical-align: middle;\n    }\n\n    .dataframe tbody tr th {\n        vertical-align: top;\n    }\n\n    .dataframe thead th {\n        text-align: right;\n    }\n</style>\n<table border=\"1\" class=\"dataframe\">\n  <thead>\n    <tr style=\"text-align: right;\">\n      <th></th>\n      <th>Coin</th>\n      <th>Category</th>\n      <th>Account</th>\n      <th>Tier</th>\n      <th># of Coins</th>\n      <th>APY</th>\n      <th>COFA</th>\n      <th>Manual</th>\n      <th>Deployment Status</th>\n      <th>Price</th>\n      <th>USD Value</th>\n      <th>USD Value * APY</th>\n      <th>USD Value * COFA</th>\n      <th>CARRY</th>\n      <th>USD Value * CARRY</th>\n      <th>WBTC</th>\n    </tr>\n  </thead>\n  <tbody>\n    <tr>\n      <th>151</th>\n      <td>BTC</td>\n      <td>undeployed</td>\n      <td>Celsius Network Limited (UK)</td>\n      <td>1</td>\n      <td>4698.695515</td>\n      <td>0.0</td>\n      <td>0.025058</td>\n      <td>False</td>\n      <td>Deployable</td>\n      <td>43584.10994</td>\n      <td>204788461.900345</td>\n      <td>0.0</td>\n      <td>5131618.305015</td>\n      <td>0.020501</td>\n      <td>4198461.903087</td>\n      <td>N</td>\n    </tr>\n    <tr>\n      <th>153</th>\n      <td>BTC</td>\n      <td>undeployed</td>\n      <td>Celsius Network LLC (US)</td>\n      <td>1</td>\n      <td>3216.569517</td>\n      <td>0.0</td>\n      <td>0.025058</td>\n      <td>False</td>\n      <td>Liquidity Reserve</td>\n      <td>43584.10994</td>\n      <td>140191319.458581</td>\n      <td>0.0</td>\n      <td>3512933.953711</td>\n      <td>0.020501</td>\n      <td>2874126.346907</td>\n      <td>N</td>\n    </tr>\n    <tr>\n      <th>166</th>\n      <td>BTC</td>\n      <td>undeployed</td>\n      <td>Celsius Network Limited (UK)</td>\n      <td>1</td>\n      <td>2291.983044</td>\n      <td>0.0</td>\n      <td>0.025058</td>\n      <td>False</td>\n      <td>Liquidity Reserve</td>\n      <td>43584.10994</td>\n      <td>99894040.970312</td>\n      <td>0.0</td>\n      <td>2503159.037615</td>\n      <td>0.020501</td>\n      <td>2047973.413479</td>\n      <td>N</td>\n    </tr>\n    <tr>\n      <th>732</th>\n      <td>BTC</td>\n      <td>undeployed</td>\n      <td>Celsius Network LLC (US)</td>\n      <td>1</td>\n      <td>53.568073</td>\n      <td>0.0</td>\n      <td>NaN</td>\n      <td>False</td>\n      <td>Deployable</td>\n      <td>43673.24302</td>\n      <td>2339491.452336</td>\n      <td>0.0</td>\n      <td>NaN</td>\n      <td>0.005688</td>\n      <td>13307.231356</td>\n      <td>Y</td>\n    </tr>\n  </tbody>\n</table>\n</div>"
     },
     "execution_count": 289,
     "metadata": {},
     "output_type": "execute_result"
    }
   ],
   "source": [
    "df2[(df2['Account'].isin(first_accounts)) & (df2['Coin']=='BTC')]"
   ],
   "metadata": {
    "collapsed": false,
    "pycharm": {
     "name": "#%%\n"
    }
   }
  },
  {
   "cell_type": "code",
   "execution_count": 290,
   "id": "6b5b9bde",
   "metadata": {},
   "outputs": [],
   "source": [
    "# process the collateral table and insert it into the liquidity tier summary\n",
    "# for COFA value of collateral, use default first, there is a \"Collateral\" column in COFA which will override the default\n",
    "cofa_collateral_p1 = cofa_original[cofa_original[\"Collateral\"].notnull()]\n",
    "cofa_collateral_p2 = cofa_original[cofa_original[\"Collateral\"].isnull()]\n",
    "cofa_collateral_p1[\"Default\"] = cofa_collateral_p1[\"Collateral\"]\n",
    "cofa_collateral = pd.concat([cofa_collateral_p1, cofa_collateral_p2])[[\"Coin\", \"Default\"]]\n",
    "cofa_collateral.columns = [\"Coin\", \"COFA\"]\n",
    "# Carry process\n",
    "carry_collateral_p1 = carry[carry[\"Collateral\"].notnull()]\n",
    "carry_collateral_p2 = carry[carry[\"Collateral\"].isnull()]\n",
    "carry_collateral_p1[\"Default\"] = carry_collateral_p1[\"Collateral\"]\n",
    "carry_collateral = pd.concat([carry_collateral_p1, carry_collateral_p2])[[\"Coin\", \"Default\"]]\n",
    "carry_collateral.columns = [\"Coin\", \"CARRY\"]\n",
    "\n",
    "# collateral tab\n",
    "collateral = collateral.merge(cofa_collateral, on = \"Coin\", how = \"left\")\n",
    "collateral = collateral.merge(carry_collateral, on = \"Coin\", how = \"left\")\n",
    "collateral = collateral.merge(coin_price, on = \"Coin\", how = \"left\")\n",
    "collateral[\"User Collateral USD Value\"] = collateral[\"User Collateral\"] * collateral[\"Price\"]\n",
    "collateral[\"Inst Collateral USD Value\"] = collateral[\"Inst Collateral\"] * collateral[\"Price\"]\n"
   ]
  },
  {
   "cell_type": "code",
   "execution_count": 291,
   "id": "3f958930",
   "metadata": {},
   "outputs": [],
   "source": [
    "# get the whole apy-template table and insert it into the liquidity tier summary\n",
    "apy_template = template.drop([0])\n",
    "apy_template.fillna(value = \"N/A\", inplace = True)\n",
    "apy_template.replace([\" \", \"\", \"  \"], \"N/A\", inplace = True)\n",
    "apy_template.columns = apy_template.columns.fillna('')"
   ]
  },
  {
   "cell_type": "code",
   "execution_count": 292,
   "id": "30e2b994-80db-42cf-b5c5-f6aecd57e445",
   "metadata": {},
   "outputs": [
    {
     "data": {
      "text/plain": "    Coin     Coin_Tier_1   Coin_Tier_2 Coin_Tier_3   Coin_Tier_4  \\\n0  1INCH       276022.85           0.0         0.0           0.0   \n1   3CRV     7864563.786  80389161.786         0.0   9393661.427   \n2   AAVE    22370.096863    906.745383         0.0  19621.436719   \n3    ADA  7076535.270063           0.0         0.0   103318611.0   \n4   ALCX             0.0      0.411829         0.0           0.0   \n\n     Coin_Tier_5 APY_Tier_1 APY_Tier_2 APY_Tier_3 APY_Tier_4 APY_Tier_5  \n0   6767082.1822        0.0        0.0        0.0        0.0        0.0  \n1    5218.091403     0.0721    0.12261        0.0     0.2234        0.0  \n2  164488.820109        0.0        0.0        0.0     0.0659   0.064297  \n3            0.0        0.0        0.0        0.0   0.064922        0.0  \n4            0.0        0.0        0.0        0.0        0.0        0.0  ",
      "text/html": "<div>\n<style scoped>\n    .dataframe tbody tr th:only-of-type {\n        vertical-align: middle;\n    }\n\n    .dataframe tbody tr th {\n        vertical-align: top;\n    }\n\n    .dataframe thead th {\n        text-align: right;\n    }\n</style>\n<table border=\"1\" class=\"dataframe\">\n  <thead>\n    <tr style=\"text-align: right;\">\n      <th></th>\n      <th>Coin</th>\n      <th>Coin_Tier_1</th>\n      <th>Coin_Tier_2</th>\n      <th>Coin_Tier_3</th>\n      <th>Coin_Tier_4</th>\n      <th>Coin_Tier_5</th>\n      <th>APY_Tier_1</th>\n      <th>APY_Tier_2</th>\n      <th>APY_Tier_3</th>\n      <th>APY_Tier_4</th>\n      <th>APY_Tier_5</th>\n    </tr>\n  </thead>\n  <tbody>\n    <tr>\n      <th>0</th>\n      <td>1INCH</td>\n      <td>276022.85</td>\n      <td>0.0</td>\n      <td>0.0</td>\n      <td>0.0</td>\n      <td>6767082.1822</td>\n      <td>0.0</td>\n      <td>0.0</td>\n      <td>0.0</td>\n      <td>0.0</td>\n      <td>0.0</td>\n    </tr>\n    <tr>\n      <th>1</th>\n      <td>3CRV</td>\n      <td>7864563.786</td>\n      <td>80389161.786</td>\n      <td>0.0</td>\n      <td>9393661.427</td>\n      <td>5218.091403</td>\n      <td>0.0721</td>\n      <td>0.12261</td>\n      <td>0.0</td>\n      <td>0.2234</td>\n      <td>0.0</td>\n    </tr>\n    <tr>\n      <th>2</th>\n      <td>AAVE</td>\n      <td>22370.096863</td>\n      <td>906.745383</td>\n      <td>0.0</td>\n      <td>19621.436719</td>\n      <td>164488.820109</td>\n      <td>0.0</td>\n      <td>0.0</td>\n      <td>0.0</td>\n      <td>0.0659</td>\n      <td>0.064297</td>\n    </tr>\n    <tr>\n      <th>3</th>\n      <td>ADA</td>\n      <td>7076535.270063</td>\n      <td>0.0</td>\n      <td>0.0</td>\n      <td>103318611.0</td>\n      <td>0.0</td>\n      <td>0.0</td>\n      <td>0.0</td>\n      <td>0.0</td>\n      <td>0.064922</td>\n      <td>0.0</td>\n    </tr>\n    <tr>\n      <th>4</th>\n      <td>ALCX</td>\n      <td>0.0</td>\n      <td>0.411829</td>\n      <td>0.0</td>\n      <td>0.0</td>\n      <td>0.0</td>\n      <td>0.0</td>\n      <td>0.0</td>\n      <td>0.0</td>\n      <td>0.0</td>\n      <td>0.0</td>\n    </tr>\n  </tbody>\n</table>\n</div>"
     },
     "execution_count": 292,
     "metadata": {},
     "output_type": "execute_result"
    }
   ],
   "source": [
    "coin_tiers[filter3].head()"
   ]
  },
  {
   "cell_type": "markdown",
   "id": "dac0b7b0",
   "metadata": {
    "pycharm": {
     "name": "#%% md\n"
    }
   },
   "source": [
    "path = \"excel_outputs/Liquidity_Tier_Summary Live.xlsx\"\n",
    "lp = openpyxl.load_workbook(path)\n",
    "lp.remove(lp['Data'])\n",
    "lp.remove(lp['Price'])\n",
    "lp.remove(lp['Pivot_Data'])\n",
    "lp.remove(lp['APY'])\n",
    "lp.remove(lp['COFA'])\n",
    "lp.remove(lp['Collateral'])\n",
    "writer = pd.ExcelWriter(path, engine = 'openpyxl')\n",
    "writer.book = lp\n",
    "coin_tiers[filter3].to_excel(writer, sheet_name = 'Data', index = False)\n",
    "coin_price.to_excel(writer, sheet_name = 'Price', index = False)\n",
    "df2[col_names].to_excel(writer, sheet_name = 'Pivot_Data', index = False)\n",
    "apy_template.to_excel(writer, sheet_name = 'APY', index = False)\n",
    "cofa_original.to_excel(writer, sheet_name = 'COFA', index = False)\n",
    "collateral.to_excel(writer, sheet_name = 'Collateral', index = False)\n",
    "writer.close()\n",
    "lp.close()"
   ]
  },
  {
   "cell_type": "code",
   "execution_count": 293,
   "outputs": [
    {
     "data": {
      "text/plain": "    Coin  Category      Account Tier   # of Coins       APY      COFA  \\\n479  KNC  Exchange  FTX - Jacob    2  410305.9616   0.00876  0.004699   \n122  BNT  Exchange  FTX - Jacob    2  70201.52233  0.138222  0.054378   \n\n         USD Value USD Value * COFA USD Value * APY Deployment Status  Manual  \\\n479  799159.511743      3755.084301     7000.637323        Deployable   False   \n122  193421.119164     10517.806048     26735.02492        Deployable   False   \n\n        CARRY USD Value * CARRY WBTC  \n479  0.004578       3658.561078    N  \n122  0.056951      11015.478673    N  ",
      "text/html": "<div>\n<style scoped>\n    .dataframe tbody tr th:only-of-type {\n        vertical-align: middle;\n    }\n\n    .dataframe tbody tr th {\n        vertical-align: top;\n    }\n\n    .dataframe thead th {\n        text-align: right;\n    }\n</style>\n<table border=\"1\" class=\"dataframe\">\n  <thead>\n    <tr style=\"text-align: right;\">\n      <th></th>\n      <th>Coin</th>\n      <th>Category</th>\n      <th>Account</th>\n      <th>Tier</th>\n      <th># of Coins</th>\n      <th>APY</th>\n      <th>COFA</th>\n      <th>USD Value</th>\n      <th>USD Value * COFA</th>\n      <th>USD Value * APY</th>\n      <th>Deployment Status</th>\n      <th>Manual</th>\n      <th>CARRY</th>\n      <th>USD Value * CARRY</th>\n      <th>WBTC</th>\n    </tr>\n  </thead>\n  <tbody>\n    <tr>\n      <th>479</th>\n      <td>KNC</td>\n      <td>Exchange</td>\n      <td>FTX - Jacob</td>\n      <td>2</td>\n      <td>410305.9616</td>\n      <td>0.00876</td>\n      <td>0.004699</td>\n      <td>799159.511743</td>\n      <td>3755.084301</td>\n      <td>7000.637323</td>\n      <td>Deployable</td>\n      <td>False</td>\n      <td>0.004578</td>\n      <td>3658.561078</td>\n      <td>N</td>\n    </tr>\n    <tr>\n      <th>122</th>\n      <td>BNT</td>\n      <td>Exchange</td>\n      <td>FTX - Jacob</td>\n      <td>2</td>\n      <td>70201.52233</td>\n      <td>0.138222</td>\n      <td>0.054378</td>\n      <td>193421.119164</td>\n      <td>10517.806048</td>\n      <td>26735.02492</td>\n      <td>Deployable</td>\n      <td>False</td>\n      <td>0.056951</td>\n      <td>11015.478673</td>\n      <td>N</td>\n    </tr>\n  </tbody>\n</table>\n</div>"
     },
     "execution_count": 293,
     "metadata": {},
     "output_type": "execute_result"
    }
   ],
   "source": [
    "cond = (df2['Account'] == 'FTX - Jacob') & (df2['APY']>df2['CARRY'])\n",
    "test = df2[col_names][cond]\n",
    "test"
   ],
   "metadata": {
    "collapsed": false,
    "pycharm": {
     "name": "#%%\n"
    }
   }
  },
  {
   "cell_type": "markdown",
   "id": "b28e306e",
   "metadata": {},
   "source": [
    "## following code will push the data to the shared google sheet "
   ]
  },
  {
   "cell_type": "code",
   "execution_count": 294,
   "id": "9605267e",
   "metadata": {},
   "outputs": [],
   "source": [
    "import os.path\n",
    "from googleapiclient.discovery import build\n",
    "from google_auth_oauthlib.flow import InstalledAppFlow\n",
    "from google.auth.transport.requests import Request\n",
    "from google.oauth2.credentials import Credentials\n",
    "import datetime as dt"
   ]
  },
  {
   "cell_type": "code",
   "execution_count": 295,
   "id": "0024925a",
   "metadata": {},
   "outputs": [],
   "source": [
    "scope = [\n",
    "'https://www.googleapis.com/auth/spreadsheets',\n",
    "'https://www.googleapis.com/auth/drive',\n",
    "]\n",
    "last_updated = \"Updated at - \" + dt.datetime.utcnow().strftime(\"%m/%d/%Y, %H:%M:%S\") +'UTC'\n",
    "# this is ID for testing\n",
    "#SPREADSHEET_ID = '1IptNC0hEhwvuyfI4m2kP9-rR-3jDAOhgQaPNkW2I_QQ'\n",
    "# this is ID for waterfall sheet\n",
    "SPREADSHEET_ID = \"1ZkSLZH2QwHnfdSpQUWAv2qum6xzhemngjWQBJBn_KeM\" #Real Last\n",
    "#SPREADSHEET_ID = \"1lw17fQ-oRTXPBVSDkiMGfWemtXGwzruCgsHjYBxlYoU\" # LAST Test\n",
    "# The file token.json stores the user's access and refresh tokens, and is\n",
    "# created automatically when the authorization flow completes for the first\n",
    "# time.\n",
    "if os.path.exists('write_token.json'):\n",
    "        creds = Credentials.from_authorized_user_file('write_token.json', scope)\n",
    "'''flow = InstalledAppFlow.from_client_secrets_file('client_secret_992941975507-pvjneopi7dhmj2mqq6arpghs6r7q31jj.json', scope)\n",
    "creds = flow.run_local_server(port=0)\n",
    "with open('write_token.json', 'w') as token:\n",
    "    token.write(creds.to_json())'''\n",
    "service = build('sheets', 'v4', credentials=creds)"
   ]
  },
  {
   "cell_type": "code",
   "execution_count": 296,
   "id": "447954ca-2099-4bdf-a803-90d495b9ab45",
   "metadata": {},
   "outputs": [],
   "source": [
    "response = service.spreadsheets().values().update(\n",
    "    spreadsheetId=SPREADSHEET_ID,\n",
    "    valueInputOption='RAW',\n",
    "    range=\"Categories!A1\",\n",
    "    body=dict(\n",
    "        majorDimension='ROWS',\n",
    "        values=[[last_updated]]\n",
    ")\n",
    ").execute()"
   ]
  },
  {
   "cell_type": "code",
   "execution_count": 297,
   "outputs": [
    {
     "data": {
      "text/plain": "    Coin     Coin_Tier_1   Coin_Tier_2 Coin_Tier_3   Coin_Tier_4  \\\n0  1INCH       276022.85           0.0         0.0           0.0   \n1   3CRV     7864563.786  80389161.786         0.0   9393661.427   \n2   AAVE    22370.096863    906.745383         0.0  19621.436719   \n3    ADA  7076535.270063           0.0         0.0   103318611.0   \n4   ALCX             0.0      0.411829         0.0           0.0   \n\n     Coin_Tier_5 APY_Tier_1 APY_Tier_2 APY_Tier_3 APY_Tier_4 APY_Tier_5  \n0   6767082.1822        0.0        0.0        0.0        0.0        0.0  \n1    5218.091403     0.0721    0.12261        0.0     0.2234        0.0  \n2  164488.820109        0.0        0.0        0.0     0.0659   0.064297  \n3            0.0        0.0        0.0        0.0   0.064922        0.0  \n4            0.0        0.0        0.0        0.0        0.0        0.0  ",
      "text/html": "<div>\n<style scoped>\n    .dataframe tbody tr th:only-of-type {\n        vertical-align: middle;\n    }\n\n    .dataframe tbody tr th {\n        vertical-align: top;\n    }\n\n    .dataframe thead th {\n        text-align: right;\n    }\n</style>\n<table border=\"1\" class=\"dataframe\">\n  <thead>\n    <tr style=\"text-align: right;\">\n      <th></th>\n      <th>Coin</th>\n      <th>Coin_Tier_1</th>\n      <th>Coin_Tier_2</th>\n      <th>Coin_Tier_3</th>\n      <th>Coin_Tier_4</th>\n      <th>Coin_Tier_5</th>\n      <th>APY_Tier_1</th>\n      <th>APY_Tier_2</th>\n      <th>APY_Tier_3</th>\n      <th>APY_Tier_4</th>\n      <th>APY_Tier_5</th>\n    </tr>\n  </thead>\n  <tbody>\n    <tr>\n      <th>0</th>\n      <td>1INCH</td>\n      <td>276022.85</td>\n      <td>0.0</td>\n      <td>0.0</td>\n      <td>0.0</td>\n      <td>6767082.1822</td>\n      <td>0.0</td>\n      <td>0.0</td>\n      <td>0.0</td>\n      <td>0.0</td>\n      <td>0.0</td>\n    </tr>\n    <tr>\n      <th>1</th>\n      <td>3CRV</td>\n      <td>7864563.786</td>\n      <td>80389161.786</td>\n      <td>0.0</td>\n      <td>9393661.427</td>\n      <td>5218.091403</td>\n      <td>0.0721</td>\n      <td>0.12261</td>\n      <td>0.0</td>\n      <td>0.2234</td>\n      <td>0.0</td>\n    </tr>\n    <tr>\n      <th>2</th>\n      <td>AAVE</td>\n      <td>22370.096863</td>\n      <td>906.745383</td>\n      <td>0.0</td>\n      <td>19621.436719</td>\n      <td>164488.820109</td>\n      <td>0.0</td>\n      <td>0.0</td>\n      <td>0.0</td>\n      <td>0.0659</td>\n      <td>0.064297</td>\n    </tr>\n    <tr>\n      <th>3</th>\n      <td>ADA</td>\n      <td>7076535.270063</td>\n      <td>0.0</td>\n      <td>0.0</td>\n      <td>103318611.0</td>\n      <td>0.0</td>\n      <td>0.0</td>\n      <td>0.0</td>\n      <td>0.0</td>\n      <td>0.064922</td>\n      <td>0.0</td>\n    </tr>\n    <tr>\n      <th>4</th>\n      <td>ALCX</td>\n      <td>0.0</td>\n      <td>0.411829</td>\n      <td>0.0</td>\n      <td>0.0</td>\n      <td>0.0</td>\n      <td>0.0</td>\n      <td>0.0</td>\n      <td>0.0</td>\n      <td>0.0</td>\n      <td>0.0</td>\n    </tr>\n  </tbody>\n</table>\n</div>"
     },
     "execution_count": 297,
     "metadata": {},
     "output_type": "execute_result"
    }
   ],
   "source": [
    "coin_tiers[filter3].head()"
   ],
   "metadata": {
    "collapsed": false,
    "pycharm": {
     "name": "#%%\n"
    }
   }
  },
  {
   "cell_type": "code",
   "execution_count": 298,
   "id": "a4569bd1",
   "metadata": {},
   "outputs": [],
   "source": [
    "response = service.spreadsheets().values().clear(\n",
    "    spreadsheetId=SPREADSHEET_ID,\n",
    "    range=\"Data\",\n",
    "    ).execute()\n",
    "\n",
    "response = service.spreadsheets().values().update(\n",
    "    spreadsheetId=SPREADSHEET_ID,\n",
    "    valueInputOption='RAW',\n",
    "    range=\"Data!A1\",\n",
    "    body=dict(\n",
    "        majorDimension='ROWS',\n",
    "        values=coin_tiers[filter3].fillna(value = \"N/A\").T.reset_index().T.values.tolist())\n",
    ").execute()"
   ]
  },
  {
   "cell_type": "code",
   "execution_count": 299,
   "id": "21b8488f",
   "metadata": {},
   "outputs": [],
   "source": [
    "response = service.spreadsheets().values().clear(\n",
    "    spreadsheetId=SPREADSHEET_ID,\n",
    "    range=\"Price\",\n",
    "    ).execute()\n",
    "\n",
    "response = service.spreadsheets().values().update(\n",
    "    spreadsheetId=SPREADSHEET_ID,\n",
    "    valueInputOption='RAW',\n",
    "    range=\"Price!A1\",\n",
    "    body=dict(\n",
    "        majorDimension='ROWS',\n",
    "        values=coin_price.fillna(value = 0).T.reset_index().T.values.tolist())\n",
    ").execute()"
   ]
  },
  {
   "cell_type": "code",
   "execution_count": 300,
   "id": "5115989c",
   "metadata": {
    "scrolled": true
   },
   "outputs": [],
   "source": [
    "response = service.spreadsheets().values().clear(\n",
    "    spreadsheetId=SPREADSHEET_ID,\n",
    "    range=\"APY\",\n",
    "    ).execute()\n",
    "\n",
    "response = service.spreadsheets().values().update(\n",
    "    spreadsheetId=SPREADSHEET_ID,\n",
    "    valueInputOption='RAW',\n",
    "    range=\"APY!A1\",\n",
    "    body=dict(\n",
    "        majorDimension='ROWS',\n",
    "        values=apy_template.fillna(value = 0).T.reset_index().T.values.tolist())\n",
    ").execute()"
   ]
  },
  {
   "cell_type": "code",
   "execution_count": 301,
   "id": "59d15a84",
   "metadata": {},
   "outputs": [],
   "source": [
    "response = service.spreadsheets().values().clear(\n",
    "    spreadsheetId=SPREADSHEET_ID,\n",
    "    range=\"COFA\",\n",
    "    ).execute()\n",
    "\n",
    "response = service.spreadsheets().values().update(\n",
    "    spreadsheetId=SPREADSHEET_ID,\n",
    "    valueInputOption='RAW',\n",
    "    range=\"COFA!A1\",\n",
    "    body=dict(\n",
    "        majorDimension='ROWS',\n",
    "        values=cofa_original.fillna(value = \"N/A\").T.reset_index().T.values.tolist())\n",
    ").execute()"
   ]
  },
  {
   "cell_type": "code",
   "execution_count": 302,
   "outputs": [],
   "source": [
    "response = service.spreadsheets().values().clear(\n",
    "    spreadsheetId=SPREADSHEET_ID,\n",
    "    range=\"CARRY\",\n",
    "    ).execute()\n",
    "\n",
    "response = service.spreadsheets().values().update(\n",
    "    spreadsheetId=SPREADSHEET_ID,\n",
    "    valueInputOption='RAW',\n",
    "    range=\"CARRY!A1\",\n",
    "    body=dict(\n",
    "        majorDimension='ROWS',\n",
    "        values=carry.fillna(value = \"N/A\").T.reset_index().T.values.tolist())\n",
    ").execute()"
   ],
   "metadata": {
    "collapsed": false,
    "pycharm": {
     "name": "#%%\n"
    }
   }
  },
  {
   "cell_type": "code",
   "execution_count": 303,
   "id": "79887900",
   "metadata": {},
   "outputs": [],
   "source": [
    "response = service.spreadsheets().values().clear(\n",
    "    spreadsheetId=SPREADSHEET_ID,\n",
    "    range=\"Collateral\",\n",
    "    ).execute()\n",
    "\n",
    "response = service.spreadsheets().values().update(\n",
    "    spreadsheetId=SPREADSHEET_ID,\n",
    "    valueInputOption='RAW',\n",
    "    range=\"Collateral!A1\",\n",
    "    body=dict(\n",
    "        majorDimension='ROWS',\n",
    "        values=collateral.fillna(value = \"N/A\").T.reset_index().T.values.tolist())\n",
    ").execute()"
   ]
  },
  {
   "cell_type": "code",
   "execution_count": 304,
   "id": "d31088a7",
   "metadata": {},
   "outputs": [],
   "source": [
    "response = service.spreadsheets().values().clear(\n",
    "    spreadsheetId=SPREADSHEET_ID,\n",
    "    range=\"Coin_Total_Asset_Liability\",\n",
    "    ).execute()\n",
    "\n",
    "response = service.spreadsheets().values().update(\n",
    "    spreadsheetId=SPREADSHEET_ID,\n",
    "    valueInputOption='RAW',\n",
    "    range=\"Coin_Total_Asset_Liability!A1\",\n",
    "    body=dict(\n",
    "        majorDimension='ROWS',\n",
    "        values=coin_asset_liability.fillna(value = 0).T.reset_index().T.values.tolist())\n",
    ").execute()"
   ]
  },
  {
   "cell_type": "code",
   "execution_count": 305,
   "id": "3b66f7a7",
   "metadata": {},
   "outputs": [],
   "source": [
    "response = service.spreadsheets().values().clear(\n",
    "    spreadsheetId=SPREADSHEET_ID,\n",
    "    range=\"Pivot_Data\",\n",
    "    ).execute()\n",
    "\n",
    "response = service.spreadsheets().values().update(\n",
    "    spreadsheetId=SPREADSHEET_ID,\n",
    "    valueInputOption='RAW',\n",
    "    range=\"Pivot_Data!A1\",\n",
    "    body=dict(\n",
    "        majorDimension='ROWS',\n",
    "        values=df2[col_names].fillna(value = \"N/A\").T.reset_index().T.values.tolist())\n",
    ").execute()"
   ]
  },
  {
   "cell_type": "markdown",
   "id": "135b1d61",
   "metadata": {},
   "source": [
    "## below code is for storing historical data with a date label "
   ]
  },
  {
   "cell_type": "markdown",
   "id": "106aa03f-49fd-4d1f-a9be-82eb9bd5cb08",
   "metadata": {
    "pycharm": {
     "name": "#%% md\n"
    }
   },
   "source": [
    "# get update date and time\n",
    "now = datetime.now()\n",
    "dt_string = now.strftime(\"%Y-%m-%d %H:%M:%S\")\n",
    "print(\"Updated at:\", dt_string)\n",
    "date_string = dt_string[0:10]\n",
    "date_string"
   ]
  },
  {
   "cell_type": "markdown",
   "id": "07f917d4-5b26-4b47-8828-4f7e7ec01b08",
   "metadata": {
    "pycharm": {
     "name": "#%% md\n"
    }
   },
   "source": [
    "coin_tiers[\"Date\"] = date_string\n",
    "df2[\"Date\"] = date_string\n",
    "df2_col_names = [\"Date\", \"Coin\", \"Category\", \"Account\", \"Tier\", \"# of Coins\", \n",
    "             \"APY\", \"COFA\", \"Price\", \"USD Value\", \"USD Value * COFA\",\n",
    "             \"USD Value * APY\"]\n",
    "coin_tiers_col_names = ['Date', 'Coin', 'Coin_Tier_1', 'Coin_Tier_2', 'Coin_Tier_3', 'Coin_Tier_4',\n",
    "       'Coin_Tier_5', 'APY_Tier_1', 'APY_Tier_2', 'APY_Tier_3', 'APY_Tier_4',\n",
    "       'APY_Tier_5']"
   ]
  },
  {
   "cell_type": "markdown",
   "id": "76335811-6f93-49d8-9868-1166e22f8800",
   "metadata": {
    "pycharm": {
     "name": "#%% md\n"
    }
   },
   "source": [
    "# Read the liquidity data excel file and apppend new data to it\n",
    "#path = \"/home/fan7893/Documents/Celsius/Liquidity/Liquidity_Tier_Data.xlsx\"\n",
    "#path = \"excel_input/Liquidity_Tier_Summary Live.xlsx\"\n",
    "data = coin_tiers[filter3].fillna(value = \"N/A\")\n",
    "pivot_data = df2[col_names].fillna(value = \"N/A\")\n",
    "\n",
    "# there may be some null values due to excel operation, need to filter them out\n",
    "data = data[data[\"Date\"].notnull()]\n",
    "#pivot_data = pivot_data[pivot_data[\"Date\"].notnull()]\n",
    "\n",
    "# if running for multiple times for the same date, we need to replace the previous run data from same date\n",
    "data = data[data[\"Date\"] != date_string]\n",
    "#pivot_data = pivot_data[pivot_data[\"Date\"] != date_string]\n",
    "\n",
    "data = pd.concat([data, coin_tiers[filter3][coin_tiers_col_names]])\n",
    "pivot_data = pd.concat([pivot_data, df2[df2_col_names]])"
   ]
  },
  {
   "cell_type": "markdown",
   "id": "b51d75cc-98fb-4f99-972f-deed1966fa31",
   "metadata": {
    "pycharm": {
     "name": "#%% md\n"
    }
   },
   "source": [
    "# reinsert the updated data into the template\n",
    "writer = pd.ExcelWriter(path)\n",
    "\n",
    "# add format info\n",
    "workbook = writer.book\n",
    "format1 = workbook.add_format({'num_format': '$#,##0', \"align\": \"left\"})\n",
    "format2 = workbook.add_format({'num_format': '#,##0.00%', \"align\": \"left\"})\n",
    "format3 = workbook.add_format({'num_format': '#,##0.00', \"align\": \"left\"})\n",
    "format4 = workbook.add_format({'num_format': '$#,##0.00', \"align\": \"left\"})\n",
    "data.to_excel(writer, sheet_name = 'Data', index = False)\n",
    "pivot_data.to_excel(writer, sheet_name = 'Pivot_Data', index = False)\n",
    "\n",
    "# set format\n",
    "worksheet = writer.sheets[\"Data\"]\n",
    "worksheet.set_column('A:B', 16)\n",
    "worksheet.set_column('C:G', 18, format3)\n",
    "worksheet.set_column('H:L', 18, format2)\n",
    "worksheet = writer.sheets[\"Pivot_Data\"]\n",
    "worksheet.set_column('A:C', 18)\n",
    "worksheet.set_column('D:D', 32)\n",
    "worksheet.set_column('E:E', 16)\n",
    "worksheet.set_column('F:F', 18, format3)\n",
    "worksheet.set_column('G:H', 16, format2)\n",
    "worksheet.set_column('I:I', 18, format4)\n",
    "worksheet.set_column('J:L', 18, format1)\n",
    "writer.close()"
   ]
  },
  {
   "cell_type": "markdown",
   "id": "9fa13a39-738c-48b8-920b-3578be3f5232",
   "metadata": {
    "pycharm": {
     "name": "#%% md\n"
    }
   },
   "source": [
    "historical_data_id = \"1pzlQEQE4FI4OnGrhKMfu1Skwrvs-FubYuEn-Ez5HpsM\"\n",
    "\n",
    "response = service.spreadsheets().values().clear(\n",
    "    spreadsheetId=historical_data_id,\n",
    "    range=\"Data\",\n",
    "    ).execute()\n",
    "\n",
    "response = service.spreadsheets().values().update(\n",
    "    spreadsheetId=historical_data_id,\n",
    "    valueInputOption='RAW',\n",
    "    range=\"Data!A1\",\n",
    "    body=dict(\n",
    "        majorDimension='ROWS',\n",
    "        values=data.fillna(value = 0).T.reset_index().T.values.tolist())\n",
    ").execute()"
   ]
  },
  {
   "cell_type": "markdown",
   "id": "ff5c2ddb-11ed-479f-a5e7-75ad8aabba9b",
   "metadata": {
    "pycharm": {
     "name": "#%% md\n"
    }
   },
   "source": [
    "response = service.spreadsheets().values().clear(\n",
    "    spreadsheetId=historical_data_id,\n",
    "    range=\"Pivot_Data\",\n",
    "    ).execute()\n",
    "\n",
    "response = service.spreadsheets().values().update(\n",
    "    spreadsheetId=historical_data_id,\n",
    "    valueInputOption='RAW',\n",
    "    range=\"Pivot_Data!A1\",\n",
    "    body=dict(\n",
    "        majorDimension='ROWS',\n",
    "        values=pivot_data.fillna(value = \"N/A\").T.reset_index().T.values.tolist())\n",
    ").execute()"
   ]
  },
  {
   "cell_type": "markdown",
   "source": [
    "## below code is to copy this freeze waterfall into the archive"
   ],
   "metadata": {
    "collapsed": false
   }
  },
  {
   "cell_type": "code",
   "source": [
    "if isFreeze:\n",
    "    scope = [\n",
    "    'https://www.googleapis.com/auth/spreadsheets',\n",
    "    'https://www.googleapis.com/auth/drive',\n",
    "    'https://www.googleapis.com/auth/drive.file'\n",
    "    ]\n",
    "\n",
    "    # this is ID for waterfall live, but we just updated it using freeze data\n",
    "    SPREADSHEET_ID = \"1ZkSLZH2QwHnfdSpQUWAv2qum6xzhemngjWQBJBn_KeM\"\n",
    "    #SPREADSHEET_ID = \"1ULOqqkYP7DDhVkZBoEA3i-Ka4x_YBPtAPuIzb84Ekrg\" # GAB LAST TEST\n",
    "    # The file token.json stores the user's access and refresh tokens, and is\n",
    "    # created automatically when the authorization flow completes for the first\n",
    "    # time.\n",
    "    if os.path.exists('drive_file_token.json'):\n",
    "            creds = Credentials.from_authorized_user_file('drive_file_token.json', scope)\n",
    "    '''flow = InstalledAppFlow.from_client_secrets_file('client_secret_510599516312-aj6d72c90n3fmrbf3ou6gromil06pr8c.apps.googleusercontent.com.json', scope)\n",
    "    creds = flow.run_local_server(port=0)\n",
    "    with open('drive_file_token.json', 'w') as token:\n",
    "        token.write(creds.to_json())'''\n",
    "    service = build('drive', 'v3', credentials=creds)\n",
    "\n",
    "    # extract the most recent freeze id from the url provided and get the file name using that id\n",
    "    freeze = pd.read_excel(\"excel_input/freeze_address.xlsx\")\n",
    "    freeze.columns = freeze.iloc[0]\n",
    "    freeze.drop([0], inplace = True)\n",
    "    freeze_address = str(freeze.iloc[-1][\"Freeze URL\"])\n",
    "    #print(freeze_address)\n",
    "    freeze_id = freeze_address.split(\"/\")[5]\n",
    "\n",
    "    #get the file name of most recent freeze sheet, which include the date of the freeze\n",
    "    response = service.files().get(fileId=freeze_id).execute()\n",
    "    freeze_name  =\"Portfolio Waterfall TEST - \" + response[\"name\"]\n",
    "\n",
    "    # after updating the portfolio waterall live, copied it to the archive folder\n",
    "    archive_folder_id = \"13f2xspl16wzdHBRwhgnEkKj80zLL9Rzu\"\n",
    "    newfile = {'name': freeze_name,  'parents' : [archive_folder_id]}\n",
    "    response = service.files().copy(fileId=SPREADSHEET_ID, body=newfile).execute()\n",
    "\n",
    "    # get link\n",
    "    link_base = \"https://docs.google.com/spreadsheets/d/\"\n",
    "    link = link_base + response['id']\n",
    "    date = freeze_last_date"
   ],
   "metadata": {
    "collapsed": false,
    "pycharm": {
     "name": "#%%\n"
    }
   },
   "execution_count": 306,
   "outputs": []
  },
  {
   "cell_type": "code",
   "execution_count": 307,
   "outputs": [
    {
     "ename": "NameError",
     "evalue": "name 'link' is not defined",
     "output_type": "error",
     "traceback": [
      "\u001B[0;31m---------------------------------------------------------------------------\u001B[0m",
      "\u001B[0;31mNameError\u001B[0m                                 Traceback (most recent call last)",
      "\u001B[0;32m/var/folders/q7/qhj4q23x49vb9f__hlp8t3280000gn/T/ipykernel_26433/3546176988.py\u001B[0m in \u001B[0;36m<module>\u001B[0;34m\u001B[0m\n\u001B[1;32m     14\u001B[0m     body = {\n\u001B[1;32m     15\u001B[0m         \u001B[0;34m\"majorDimension\"\u001B[0m\u001B[0;34m:\u001B[0m \u001B[0;34m\"ROWS\"\u001B[0m\u001B[0;34m,\u001B[0m\u001B[0;34m\u001B[0m\u001B[0;34m\u001B[0m\u001B[0m\n\u001B[0;32m---> 16\u001B[0;31m         \u001B[0;34m\"values\"\u001B[0m\u001B[0;34m:\u001B[0m \u001B[0;34m[\u001B[0m\u001B[0;34m[\u001B[0m\u001B[0mfreeze_name_date\u001B[0m\u001B[0;34m,\u001B[0m\u001B[0mlink\u001B[0m\u001B[0;34m]\u001B[0m\u001B[0;34m]\u001B[0m\u001B[0;34m\u001B[0m\u001B[0;34m\u001B[0m\u001B[0m\n\u001B[0m\u001B[1;32m     17\u001B[0m     },\n\u001B[1;32m     18\u001B[0m     \u001B[0mvalueInputOption\u001B[0m \u001B[0;34m=\u001B[0m \u001B[0;34m'RAW'\u001B[0m\u001B[0;34m\u001B[0m\u001B[0;34m\u001B[0m\u001B[0m\n",
      "\u001B[0;31mNameError\u001B[0m: name 'link' is not defined"
     ]
    }
   ],
   "source": [
    "scope = [\n",
    "'https://www.googleapis.com/auth/spreadsheets',\n",
    "'https://www.googleapis.com/auth/drive',\n",
    "]\n",
    "# this is ID for testing\n",
    "SPREADSHEET_ID = \"1dBf2U0nfHzDqtkrfxdm8P2hfwM_Ndb9nx4OW8HCwmcg\"\n",
    "if os.path.exists('write_token.json'):\n",
    "        creds = Credentials.from_authorized_user_file('write_token.json', scope)\n",
    "service = build('sheets', 'v4', credentials=creds)\n",
    "\n",
    "response = service.spreadsheets().values().append(\n",
    "    spreadsheetId = SPREADSHEET_ID,\n",
    "    range = \"Past Waterfall Freezes!A2:B4\",\n",
    "    body = {\n",
    "        \"majorDimension\": \"ROWS\",\n",
    "        \"values\": [[freeze_name_date,link]]\n",
    "    },\n",
    "    valueInputOption = 'RAW'\n",
    ").execute()\n",
    "\n",
    "\n",
    "\"\"\"\n",
    "response = service.spreadsheets().values().batchUpdate(\n",
    "    spreadsheetId=SPREADSHEET_ID,\n",
    "    body={\n",
    "        \"valueInputOption\":'RAW',\n",
    "        'data':{\n",
    "            'range':\n",
    "            [[1,2]],\n",
    "        'ValueRanges': [[date,link]]\n",
    "}}).execute()\"\"\""
   ],
   "metadata": {
    "collapsed": false,
    "pycharm": {
     "name": "#%%\n"
    }
   }
  },
  {
   "cell_type": "markdown",
   "source": [
    "freeze_name"
   ],
   "metadata": {
    "collapsed": false,
    "pycharm": {
     "name": "#%% md\n"
    }
   }
  }
 ],
 "metadata": {
  "kernelspec": {
   "display_name": "Python 3 (ipykernel)",
   "language": "python",
   "name": "python3"
  },
  "language_info": {
   "codemirror_mode": {
    "name": "ipython",
    "version": 3
   },
   "file_extension": ".py",
   "mimetype": "text/x-python",
   "name": "python",
   "nbconvert_exporter": "python",
   "pygments_lexer": "ipython3",
   "version": "3.9.7"
  }
 },
 "nbformat": 4,
 "nbformat_minor": 5
}