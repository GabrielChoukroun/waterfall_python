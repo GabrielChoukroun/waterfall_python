{
 "cells": [
  {
   "cell_type": "code",
   "execution_count": 1,
   "id": "e69b4082",
   "metadata": {},
   "outputs": [
    {
     "name": "stdout",
     "output_type": "stream",
     "text": [
      "NEW ---------\n"
     ]
    }
   ],
   "source": [
    "import pandas as pd\n",
    "import numpy as np\n",
    "from IPython.display import display\n",
    "import openpyxl\n",
    "from datetime import datetime\n",
    "from helper_functions.db_connections import inst\n",
    "from email.mime.multipart import MIMEMultipart\n",
    "import os.path\n",
    "import pandas as pd\n",
    "from googleapiclient.discovery import build\n",
    "from google_auth_oauthlib.flow import InstalledAppFlow\n",
    "from google.auth.transport.requests import Request\n",
    "from google.oauth2.credentials import Credentials\n",
    "import datetime as dt\n",
    "from email.mime.text import MIMEText\n",
    "import base64\n",
    "import requests"
   ]
  },
  {
   "cell_type": "code",
   "execution_count": 2,
   "id": "bdb11193",
   "metadata": {},
   "outputs": [],
   "source": [
    "# You need coin recon sheet plus the APY/COFA sheet for live waterfall\n",
    "# I download the sheets and save them as excel files so I have a copy of the raw data (for debugging and archiving)"
   ]
  },
  {
   "cell_type": "code",
   "execution_count": 3,
   "outputs": [],
   "source": [
    "# Instilend Active Loan book query\n",
    "query = '''\n",
    "select\n",
    "l.loan_number,\n",
    "b.legal_name as borrower_name,\n",
    "al.symbol as loan_asset_short,\n",
    "le.quantity as loan_amount,\n",
    "le.interest_rate,\n",
    "lc.collateral_asset_short,\n",
    "lc.collateral_amount\n",
    "from\n",
    "instilend.loans l left join instilend.loanelements le on le.loanid_fk = l.id\n",
    "left join instilend.assets al on le.assetid_fk = al.id\n",
    "left join instilend.borrowers b on l.borrowerid_fk = b.id\n",
    "left join instilend.borrower_categories bc on b.categoryid_fk = bc.id\n",
    "left join instilend.loan_statustypes ls on l.statusid_fk = ls.id\n",
    "left join (select lc.loanid_fk,\n",
    "       al.symbol as collateral_asset_short,\n",
    "       lc.quantity as collateral_amount\n",
    "FROM instilend.collaterals lc\n",
    "LEFT JOIN instilend.assets al on lc.assetid_fk = al.id) lc on lc.loanid_fk = l.id\n",
    "where\n",
    "ls.description in ('Active')\n",
    "and l.open_tag=False;\n",
    "'''\n",
    "loan_book = inst.create_pandas_table(query)"
   ],
   "metadata": {
    "collapsed": false,
    "pycharm": {
     "name": "#%%\n"
    }
   }
  },
  {
   "cell_type": "code",
   "execution_count": 4,
   "outputs": [],
   "source": [
    "# Get Borrower Risk info\n",
    "# Connect to Drive API\n",
    "spreadsheet_id = '1W1w6hA9hrX3s3DaXlLhFE5tPZd1St8vsMninNgNYtXU'\n",
    "\n",
    "SCOPES = ['https://www.googleapis.com/auth/drive.readonly']\n",
    "creds = None\n",
    "creds = Credentials.from_authorized_user_file('token.json', SCOPES)\n",
    "service = build('sheets', 'v4', credentials=creds)\n",
    "\n",
    "# Call the Drive v3 API\n",
    "SAMPLE_RANGE_NAME = 'Risk Profiles!A1:J92'\n",
    "request = service.spreadsheets().values().batchGet(\n",
    "    spreadsheetId=spreadsheet_id,\n",
    "    ranges=SAMPLE_RANGE_NAME,\n",
    "    valueRenderOption='FORMATTED_VALUE')\n",
    "response = request.execute()\n",
    "df = pd.DataFrame(response['valueRanges'][0]['values']).dropna().reset_index(drop=True)\n",
    "df.columns = df.loc[0]\n",
    "df = df.loc[1:]\n",
    "loan_book_risk = loan_book.merge(df, left_on='borrower_name', right_on='Company Name', how='left')"
   ],
   "metadata": {
    "collapsed": false,
    "pycharm": {
     "name": "#%%\n"
    }
   }
  },
  {
   "cell_type": "code",
   "execution_count": 5,
   "outputs": [],
   "source": [
    "# Get Funding Rate CnC info\n",
    "spreadsheet_id = \"1K-n3cfBKj0YWxPd_hImkBjZgkL2egrQqKOs1qUcM7rw\"\n",
    "range_ = \"FTX Funding Rates!A2:I\"\n",
    "request = service.spreadsheets().values().batchGet(\n",
    "    spreadsheetId=spreadsheet_id,\n",
    "    ranges=range_,\n",
    "    valueRenderOption='UNFORMATTED_VALUE')\n",
    "response = request.execute()\n",
    "cnc_apy = pd.DataFrame(response['valueRanges'][0]['values']).dropna().reset_index(drop=True)\n",
    "cnc_apy.columns = cnc_apy.loc[0]\n",
    "cnc_apy = cnc_apy.loc[1:, ['Market','24hr']]\n",
    "cnc_apy.columns = ['Coin','24hr_rate']"
   ],
   "metadata": {
    "collapsed": false,
    "pycharm": {
     "name": "#%%\n"
    }
   }
  },
  {
   "cell_type": "code",
   "execution_count": 6,
   "outputs": [
    {
     "name": "stderr",
     "output_type": "stream",
     "text": [
      "/var/folders/q7/qhj4q23x49vb9f__hlp8t3280000gn/T/ipykernel_42064/2019773264.py:4: SettingWithCopyWarning: \n",
      "A value is trying to be set on a copy of a slice from a DataFrame.\n",
      "Try using .loc[row_indexer,col_indexer] = value instead\n",
      "\n",
      "See the caveats in the documentation: https://pandas.pydata.org/pandas-docs/stable/user_guide/indexing.html#returning-a-view-versus-a-copy\n",
      "  loan_book2['loan_amount_%'] = loan_book2['loan_amount']/loan_book2['loan_amount'].sum()\n",
      "/var/folders/q7/qhj4q23x49vb9f__hlp8t3280000gn/T/ipykernel_42064/2019773264.py:5: SettingWithCopyWarning: \n",
      "A value is trying to be set on a copy of a slice from a DataFrame.\n",
      "Try using .loc[row_indexer,col_indexer] = value instead\n",
      "\n",
      "See the caveats in the documentation: https://pandas.pydata.org/pandas-docs/stable/user_guide/indexing.html#returning-a-view-versus-a-copy\n",
      "  loan_book2['interest_rate_weighted'] = loan_book2['interest_rate'] * loan_book2['loan_amount_%']\n"
     ]
    }
   ],
   "source": [
    "interest_rate = pd.DataFrame()\n",
    "for coin in loan_book['loan_asset_short'].unique().tolist():\n",
    "    loan_book2 = loan_book[loan_book['loan_asset_short']==coin]\n",
    "    loan_book2['loan_amount_%'] = loan_book2['loan_amount']/loan_book2['loan_amount'].sum()\n",
    "    loan_book2['interest_rate_weighted'] = loan_book2['interest_rate'] * loan_book2['loan_amount_%']\n",
    "    temp = loan_book2.groupby('loan_asset_short')['interest_rate_weighted'].sum().reset_index()\n",
    "    interest_rate = pd.concat([temp, interest_rate])"
   ],
   "metadata": {
    "collapsed": false,
    "pycharm": {
     "name": "#%%\n"
    }
   }
  },
  {
   "cell_type": "code",
   "execution_count": 7,
   "id": "a63816f8",
   "metadata": {},
   "outputs": [],
   "source": [
    "def melt(df, col_vals, key, value):\n",
    "    # melt pandas dataframe\n",
    "    # col_vars: list of the columns that will be melted\n",
    "    # key: name of column needs to be generated\n",
    "    # value: name of the column that contains the value of interest\n",
    "    keep_vars = df.columns.difference(col_vals)\n",
    "    melted = []\n",
    "    for c in col_vals:\n",
    "        melted_c = df[keep_vars].copy()\n",
    "        melted_c[key] = c\n",
    "        melted_c[value] = df[c]\n",
    "        melted.append(melted_c)\n",
    "    return pd.concat(melted)"
   ]
  },
  {
   "cell_type": "code",
   "execution_count": 8,
   "outputs": [],
   "source": [
    "# CHECK IF THE FREEZE IS UPDATED\n",
    "waterfall_freeze = pd.read_excel(\"excel_input/freeze_address.xlsx\", sheet_name='Past Waterfall Freezes')\n",
    "waterfall_freeze.columns = waterfall_freeze.iloc[0]\n",
    "waterfall_freeze.drop([0], inplace = True)\n",
    "wfreeze_last_date = str(waterfall_freeze.iloc[-1][\"Date\"])\n",
    "\n",
    "freeze = pd.read_excel(\"excel_input/freeze_address.xlsx\")\n",
    "freeze.columns = freeze.iloc[0]\n",
    "freeze.drop([0], inplace = True)\n",
    "freeze_last_date = str(freeze.iloc[-1][\"Date\"])\n",
    "freeze_name_date = freeze.iloc[-1][\"Date\"].strftime('%b %d, %Y')\n",
    "freeze_date = freeze_last_date.split()[0]\n",
    "isFreeze = wfreeze_last_date != freeze_last_date"
   ],
   "metadata": {
    "collapsed": false,
    "pycharm": {
     "name": "#%%\n"
    }
   }
  },
  {
   "cell_type": "code",
   "execution_count": 9,
   "id": "eaddfe03",
   "metadata": {},
   "outputs": [
    {
     "data": {
      "text/plain": "0             Coin  Bank - Balances  Celsius Network Limited (UK)  \\\n0             Coin  Bank - Balances  Celsius Network Limited (UK)   \n1         Category       undeployed                    undeployed   \n2             Tier              1.0                           1.0   \n3     Risk Premium              NaN                           NaN   \n4          Default              0.0                           0.0   \n..             ...              ...                           ...   \n145            ZRX              NaN                           NaN   \n146           ZUSD              NaN                           NaN   \n148          check                1                           0.0   \n149  check_account                1                             1   \n151      All Coins              NaN                           NaN   \n\n0    Celsius Network LLC (US)  Celsius Network EU UAB (LT)  \\\n0    Celsius Network LLC (US)  Celsius Network EU UAB (LT)   \n1                  undeployed                   undeployed   \n2                         1.0                          1.0   \n3                         NaN                          NaN   \n4                         0.0                          0.0   \n..                        ...                          ...   \n145                       NaN                          NaN   \n146                       NaN                          NaN   \n148                       0.0                          NaN   \n149                         1                          1.0   \n151                       NaN                          NaN   \n\n0    Celsius Network Finance  Celsius OTC  CEL Treasury  CEL Users  \\\n0    Celsius Network Finance  Celsius OTC  CEL Treasury  CEL Users   \n1                 undeployed   undeployed  CEL Treasury  CEL Users   \n2                        1.0          1.0           1.0        1.0   \n3                        NaN          NaN           NaN        NaN   \n4                        0.0          0.0           0.0        0.0   \n..                       ...          ...           ...        ...   \n145                      NaN          NaN           NaN        NaN   \n146                      NaN          NaN           NaN        NaN   \n148                      0.0          0.0           0.0        0.0   \n149                        1            1             1          1   \n151                      NaN          NaN           NaN        NaN   \n\n0              Loans Out  ...  DD - Balancer - wstETH.2  DD - Anchor - UST  \\\n0              Loans Out  ...  DD - Balancer - wstETH.2  DD - Anchor - UST   \n1    Institutional Loans  ...                      defi               defi   \n2                    2.0  ...                       2.0                2.0   \n3                    NaN  ...                       NaN                NaN   \n4                    NaN  ...                       0.0                0.0   \n..                   ...  ...                       ...                ...   \n145               0.0215  ...                       NaN                NaN   \n146                       ...                       NaN                NaN   \n148                   42  ...                         1                  7   \n149                    1  ...                         1                  1   \n151                  NaN  ...                       NaN                NaN   \n\n0    CEL TBD  castody  Test - Terra  Test - Terra 2  RD - MARS - TerraUST  \\\n0    CEL TBD  castody  Test - Terra  Test - Terra 2  RD - MARS - TerraUST   \n1        NaN      NaN          defi            defi                  defi   \n2        1.0  unknown           2.0             2.0                   2.0   \n3        NaN      NaN           NaN             NaN                   NaN   \n4        0.0      NaN           0.0             0.0                   0.0   \n..       ...      ...           ...             ...                   ...   \n145      NaN      NaN           NaN             NaN                   NaN   \n146      NaN      NaN           NaN             NaN                   NaN   \n148      0.0        0           0.0             0.0                   2.0   \n149        1        1             1               1                     1   \n151      NaN      NaN           NaN             NaN                   NaN   \n\n0    DD - Astroport - stLuna  DD - Astroport - stLuna  \\\n0    DD - Astroport - stLuna  DD - Astroport - stLuna   \n1                       defi                     defi   \n2                        2.0                      2.0   \n3                        NaN                      NaN   \n4                        0.0                      0.0   \n..                       ...                      ...   \n145                      NaN                      NaN   \n146                      NaN                      NaN   \n148                        1                        1   \n149                        1                        1   \n151                      NaN                      NaN   \n\n0    DD - Curve Polygon - EURTUSD  \n0    DD - Curve Polygon - EURTUSD  \n1                            defi  \n2                             2.0  \n3                             NaN  \n4                             0.0  \n..                            ...  \n145                           NaN  \n146                           NaN  \n148                             6  \n149                             1  \n151                           NaN  \n\n[149 rows x 256 columns]",
      "text/html": "<div>\n<style scoped>\n    .dataframe tbody tr th:only-of-type {\n        vertical-align: middle;\n    }\n\n    .dataframe tbody tr th {\n        vertical-align: top;\n    }\n\n    .dataframe thead th {\n        text-align: right;\n    }\n</style>\n<table border=\"1\" class=\"dataframe\">\n  <thead>\n    <tr style=\"text-align: right;\">\n      <th></th>\n      <th>Coin</th>\n      <th>Bank - Balances</th>\n      <th>Celsius Network Limited (UK)</th>\n      <th>Celsius Network LLC (US)</th>\n      <th>Celsius Network EU UAB (LT)</th>\n      <th>Celsius Network Finance</th>\n      <th>Celsius OTC</th>\n      <th>CEL Treasury</th>\n      <th>CEL Users</th>\n      <th>Loans Out</th>\n      <th>...</th>\n      <th>DD - Balancer - wstETH.2</th>\n      <th>DD - Anchor - UST</th>\n      <th>CEL TBD</th>\n      <th>castody</th>\n      <th>Test - Terra</th>\n      <th>Test - Terra 2</th>\n      <th>RD - MARS - TerraUST</th>\n      <th>DD - Astroport - stLuna</th>\n      <th>DD - Astroport - stLuna</th>\n      <th>DD - Curve Polygon - EURTUSD</th>\n    </tr>\n  </thead>\n  <tbody>\n    <tr>\n      <th>0</th>\n      <td>Coin</td>\n      <td>Bank - Balances</td>\n      <td>Celsius Network Limited (UK)</td>\n      <td>Celsius Network LLC (US)</td>\n      <td>Celsius Network EU UAB (LT)</td>\n      <td>Celsius Network Finance</td>\n      <td>Celsius OTC</td>\n      <td>CEL Treasury</td>\n      <td>CEL Users</td>\n      <td>Loans Out</td>\n      <td>...</td>\n      <td>DD - Balancer - wstETH.2</td>\n      <td>DD - Anchor - UST</td>\n      <td>CEL TBD</td>\n      <td>castody</td>\n      <td>Test - Terra</td>\n      <td>Test - Terra 2</td>\n      <td>RD - MARS - TerraUST</td>\n      <td>DD - Astroport - stLuna</td>\n      <td>DD - Astroport - stLuna</td>\n      <td>DD - Curve Polygon - EURTUSD</td>\n    </tr>\n    <tr>\n      <th>1</th>\n      <td>Category</td>\n      <td>undeployed</td>\n      <td>undeployed</td>\n      <td>undeployed</td>\n      <td>undeployed</td>\n      <td>undeployed</td>\n      <td>undeployed</td>\n      <td>CEL Treasury</td>\n      <td>CEL Users</td>\n      <td>Institutional Loans</td>\n      <td>...</td>\n      <td>defi</td>\n      <td>defi</td>\n      <td>NaN</td>\n      <td>NaN</td>\n      <td>defi</td>\n      <td>defi</td>\n      <td>defi</td>\n      <td>defi</td>\n      <td>defi</td>\n      <td>defi</td>\n    </tr>\n    <tr>\n      <th>2</th>\n      <td>Tier</td>\n      <td>1.0</td>\n      <td>1.0</td>\n      <td>1.0</td>\n      <td>1.0</td>\n      <td>1.0</td>\n      <td>1.0</td>\n      <td>1.0</td>\n      <td>1.0</td>\n      <td>2.0</td>\n      <td>...</td>\n      <td>2.0</td>\n      <td>2.0</td>\n      <td>1.0</td>\n      <td>unknown</td>\n      <td>2.0</td>\n      <td>2.0</td>\n      <td>2.0</td>\n      <td>2.0</td>\n      <td>2.0</td>\n      <td>2.0</td>\n    </tr>\n    <tr>\n      <th>3</th>\n      <td>Risk Premium</td>\n      <td>NaN</td>\n      <td>NaN</td>\n      <td>NaN</td>\n      <td>NaN</td>\n      <td>NaN</td>\n      <td>NaN</td>\n      <td>NaN</td>\n      <td>NaN</td>\n      <td>NaN</td>\n      <td>...</td>\n      <td>NaN</td>\n      <td>NaN</td>\n      <td>NaN</td>\n      <td>NaN</td>\n      <td>NaN</td>\n      <td>NaN</td>\n      <td>NaN</td>\n      <td>NaN</td>\n      <td>NaN</td>\n      <td>NaN</td>\n    </tr>\n    <tr>\n      <th>4</th>\n      <td>Default</td>\n      <td>0.0</td>\n      <td>0.0</td>\n      <td>0.0</td>\n      <td>0.0</td>\n      <td>0.0</td>\n      <td>0.0</td>\n      <td>0.0</td>\n      <td>0.0</td>\n      <td>NaN</td>\n      <td>...</td>\n      <td>0.0</td>\n      <td>0.0</td>\n      <td>0.0</td>\n      <td>NaN</td>\n      <td>0.0</td>\n      <td>0.0</td>\n      <td>0.0</td>\n      <td>0.0</td>\n      <td>0.0</td>\n      <td>0.0</td>\n    </tr>\n    <tr>\n      <th>...</th>\n      <td>...</td>\n      <td>...</td>\n      <td>...</td>\n      <td>...</td>\n      <td>...</td>\n      <td>...</td>\n      <td>...</td>\n      <td>...</td>\n      <td>...</td>\n      <td>...</td>\n      <td>...</td>\n      <td>...</td>\n      <td>...</td>\n      <td>...</td>\n      <td>...</td>\n      <td>...</td>\n      <td>...</td>\n      <td>...</td>\n      <td>...</td>\n      <td>...</td>\n      <td>...</td>\n    </tr>\n    <tr>\n      <th>145</th>\n      <td>ZRX</td>\n      <td>NaN</td>\n      <td>NaN</td>\n      <td>NaN</td>\n      <td>NaN</td>\n      <td>NaN</td>\n      <td>NaN</td>\n      <td>NaN</td>\n      <td>NaN</td>\n      <td>0.0215</td>\n      <td>...</td>\n      <td>NaN</td>\n      <td>NaN</td>\n      <td>NaN</td>\n      <td>NaN</td>\n      <td>NaN</td>\n      <td>NaN</td>\n      <td>NaN</td>\n      <td>NaN</td>\n      <td>NaN</td>\n      <td>NaN</td>\n    </tr>\n    <tr>\n      <th>146</th>\n      <td>ZUSD</td>\n      <td>NaN</td>\n      <td>NaN</td>\n      <td>NaN</td>\n      <td>NaN</td>\n      <td>NaN</td>\n      <td>NaN</td>\n      <td>NaN</td>\n      <td>NaN</td>\n      <td></td>\n      <td>...</td>\n      <td>NaN</td>\n      <td>NaN</td>\n      <td>NaN</td>\n      <td>NaN</td>\n      <td>NaN</td>\n      <td>NaN</td>\n      <td>NaN</td>\n      <td>NaN</td>\n      <td>NaN</td>\n      <td>NaN</td>\n    </tr>\n    <tr>\n      <th>148</th>\n      <td>check</td>\n      <td>1</td>\n      <td>0.0</td>\n      <td>0.0</td>\n      <td>NaN</td>\n      <td>0.0</td>\n      <td>0.0</td>\n      <td>0.0</td>\n      <td>0.0</td>\n      <td>42</td>\n      <td>...</td>\n      <td>1</td>\n      <td>7</td>\n      <td>0.0</td>\n      <td>0</td>\n      <td>0.0</td>\n      <td>0.0</td>\n      <td>2.0</td>\n      <td>1</td>\n      <td>1</td>\n      <td>6</td>\n    </tr>\n    <tr>\n      <th>149</th>\n      <td>check_account</td>\n      <td>1</td>\n      <td>1</td>\n      <td>1</td>\n      <td>1.0</td>\n      <td>1</td>\n      <td>1</td>\n      <td>1</td>\n      <td>1</td>\n      <td>1</td>\n      <td>...</td>\n      <td>1</td>\n      <td>1</td>\n      <td>1</td>\n      <td>1</td>\n      <td>1</td>\n      <td>1</td>\n      <td>1</td>\n      <td>1</td>\n      <td>1</td>\n      <td>1</td>\n    </tr>\n    <tr>\n      <th>151</th>\n      <td>All Coins</td>\n      <td>NaN</td>\n      <td>NaN</td>\n      <td>NaN</td>\n      <td>NaN</td>\n      <td>NaN</td>\n      <td>NaN</td>\n      <td>NaN</td>\n      <td>NaN</td>\n      <td>NaN</td>\n      <td>...</td>\n      <td>NaN</td>\n      <td>NaN</td>\n      <td>NaN</td>\n      <td>NaN</td>\n      <td>NaN</td>\n      <td>NaN</td>\n      <td>NaN</td>\n      <td>NaN</td>\n      <td>NaN</td>\n      <td>NaN</td>\n    </tr>\n  </tbody>\n</table>\n<p>149 rows × 256 columns</p>\n</div>"
     },
     "execution_count": 9,
     "metadata": {},
     "output_type": "execute_result"
    }
   ],
   "source": [
    "# read the raw spreadsheet, downloanded from shared drive\n",
    "if isFreeze:\n",
    "    c_recon = pd.ExcelFile(\"excel_input/freeze.xlsx\")\n",
    "else:\n",
    "    c_recon = pd.ExcelFile(\"excel_input/Celsius_Reconciliation_Master.xlsx\")\n",
    "c_recon = pd.ExcelFile(\"excel_input/Celsius_Reconciliation_Master.xlsx\")\n",
    "#c_recon = pd.ExcelFile(\"excel_input/freeze.xlsx\")\n",
    "stats = pd.read_excel(c_recon, \"Coin Stats\", header = None)\n",
    "defi = pd.read_excel(c_recon, \"DeFi Assets\")\n",
    "ftx = pd.read_excel(c_recon, \"FTX Summary\")\n",
    "ftx_cnc = pd.read_excel(c_recon, \"FTX Hedge Summary\")\n",
    "defi_main = pd.read_excel(c_recon, \"DeFi Main\")\n",
    "template = pd.read_excel(\"excel_input/coin_apy_template.xlsx\", \n",
    "                         sheet_name = \"APY\",\n",
    "                         header = None)\n",
    "tier_override = pd.read_excel(\"excel_input/coin_apy_template.xlsx\",\n",
    "                         sheet_name = \"Override_tier_mapping\",\n",
    "                         header = None)\n",
    "carry = pd.read_excel(\"excel_input/coin_apy_template.xlsx\", sheet_name='Carry')\n",
    "manual_adjustements = pd.read_excel(\"excel_input/coin_apy_template.xlsx\", \n",
    "                         sheet_name = \"Manual_Adjustments\")\n",
    "\n",
    "deployable = pd.read_excel(\"excel_input/deployable_metric.xlsx\",\n",
    "                           sheet_name=\"Undeployed & Underdeployed\")\n",
    "template.columns = template.iloc[0]\n",
    "template = template[template[\"Coin\"].notnull()]\n",
    "template"
   ]
  },
  {
   "cell_type": "markdown",
   "source": [],
   "metadata": {
    "collapsed": false
   }
  },
  {
   "cell_type": "code",
   "execution_count": 10,
   "outputs": [
    {
     "data": {
      "text/plain": "     Unnamed: 0   Unnamed: 1     Unnamed: 2            Unnamed: 3  \\\n0          Coin  sum Balance  Original Coin  sum Original Balance   \n1         1INCH  100415.5222          1INCH           100415.5222   \n2          3CRV  6422339.205         av3CRV           6291610.063   \n3          3CRV  8656504.179         av3CRV           8480293.875   \n4          3CRV  965310.9296         av3CRV           945661.0023   \n..          ...          ...            ...                   ...   \n864     stkAAVE            0        stkAAVE                     0   \n865      tfTUSD     7.615529         tfTUSD              7.615529   \n866      tfTUSD   264.831565         tfTUSD            264.831565   \n867  yveCRV-DAO        10000     yveCRV-DAO                 10000   \n868  yveCRV-DAO  10007.23888     yveCRV-DAO           10007.23888   \n\n           Unnamed: 4 Unnamed: 5                    Unnamed: 6  \n0    sum Balance $USD   Protocol                    Vault Name  \n1         115906.3894      1inch                   Reward Desk  \n2         6422339.205      Curve  DD - Curve - aTricrypto.e II  \n3         8656504.179      Curve         DD-CURVE-aTricrypto.e  \n4         965310.9296    Defrost            DD-DEFROST-H2O3CRV  \n..                ...        ...                           ...  \n864                 0    Aave V2           TEST-Enzyme Mainnet  \n865          7.615529     Tokens           Deployment - TrueFi  \n866        264.831565     Tokens                      OmniMan1  \n867        16022.3197   Yearn V3                      OmniMan1  \n868       16033.91807   Yearn V3                YieldDesk_Main  \n\n[869 rows x 7 columns]",
      "text/html": "<div>\n<style scoped>\n    .dataframe tbody tr th:only-of-type {\n        vertical-align: middle;\n    }\n\n    .dataframe tbody tr th {\n        vertical-align: top;\n    }\n\n    .dataframe thead th {\n        text-align: right;\n    }\n</style>\n<table border=\"1\" class=\"dataframe\">\n  <thead>\n    <tr style=\"text-align: right;\">\n      <th></th>\n      <th>Unnamed: 0</th>\n      <th>Unnamed: 1</th>\n      <th>Unnamed: 2</th>\n      <th>Unnamed: 3</th>\n      <th>Unnamed: 4</th>\n      <th>Unnamed: 5</th>\n      <th>Unnamed: 6</th>\n    </tr>\n  </thead>\n  <tbody>\n    <tr>\n      <th>0</th>\n      <td>Coin</td>\n      <td>sum Balance</td>\n      <td>Original Coin</td>\n      <td>sum Original Balance</td>\n      <td>sum Balance $USD</td>\n      <td>Protocol</td>\n      <td>Vault Name</td>\n    </tr>\n    <tr>\n      <th>1</th>\n      <td>1INCH</td>\n      <td>100415.5222</td>\n      <td>1INCH</td>\n      <td>100415.5222</td>\n      <td>115906.3894</td>\n      <td>1inch</td>\n      <td>Reward Desk</td>\n    </tr>\n    <tr>\n      <th>2</th>\n      <td>3CRV</td>\n      <td>6422339.205</td>\n      <td>av3CRV</td>\n      <td>6291610.063</td>\n      <td>6422339.205</td>\n      <td>Curve</td>\n      <td>DD - Curve - aTricrypto.e II</td>\n    </tr>\n    <tr>\n      <th>3</th>\n      <td>3CRV</td>\n      <td>8656504.179</td>\n      <td>av3CRV</td>\n      <td>8480293.875</td>\n      <td>8656504.179</td>\n      <td>Curve</td>\n      <td>DD-CURVE-aTricrypto.e</td>\n    </tr>\n    <tr>\n      <th>4</th>\n      <td>3CRV</td>\n      <td>965310.9296</td>\n      <td>av3CRV</td>\n      <td>945661.0023</td>\n      <td>965310.9296</td>\n      <td>Defrost</td>\n      <td>DD-DEFROST-H2O3CRV</td>\n    </tr>\n    <tr>\n      <th>...</th>\n      <td>...</td>\n      <td>...</td>\n      <td>...</td>\n      <td>...</td>\n      <td>...</td>\n      <td>...</td>\n      <td>...</td>\n    </tr>\n    <tr>\n      <th>864</th>\n      <td>stkAAVE</td>\n      <td>0</td>\n      <td>stkAAVE</td>\n      <td>0</td>\n      <td>0</td>\n      <td>Aave V2</td>\n      <td>TEST-Enzyme Mainnet</td>\n    </tr>\n    <tr>\n      <th>865</th>\n      <td>tfTUSD</td>\n      <td>7.615529</td>\n      <td>tfTUSD</td>\n      <td>7.615529</td>\n      <td>7.615529</td>\n      <td>Tokens</td>\n      <td>Deployment - TrueFi</td>\n    </tr>\n    <tr>\n      <th>866</th>\n      <td>tfTUSD</td>\n      <td>264.831565</td>\n      <td>tfTUSD</td>\n      <td>264.831565</td>\n      <td>264.831565</td>\n      <td>Tokens</td>\n      <td>OmniMan1</td>\n    </tr>\n    <tr>\n      <th>867</th>\n      <td>yveCRV-DAO</td>\n      <td>10000</td>\n      <td>yveCRV-DAO</td>\n      <td>10000</td>\n      <td>16022.3197</td>\n      <td>Yearn V3</td>\n      <td>OmniMan1</td>\n    </tr>\n    <tr>\n      <th>868</th>\n      <td>yveCRV-DAO</td>\n      <td>10007.23888</td>\n      <td>yveCRV-DAO</td>\n      <td>10007.23888</td>\n      <td>16033.91807</td>\n      <td>Yearn V3</td>\n      <td>YieldDesk_Main</td>\n    </tr>\n  </tbody>\n</table>\n<p>869 rows × 7 columns</p>\n</div>"
     },
     "execution_count": 10,
     "metadata": {},
     "output_type": "execute_result"
    }
   ],
   "source": [
    "defi_main"
   ],
   "metadata": {
    "collapsed": false,
    "pycharm": {
     "name": "#%%\n"
    }
   }
  },
  {
   "cell_type": "code",
   "execution_count": 11,
   "id": "55c30ac8-fbe3-4334-b275-8e967daf0e46",
   "metadata": {},
   "outputs": [],
   "source": [
    "'''This is computing the ETHER collateral ratio for Aave and Compounds Celsius Borrows Account'''\n",
    "defi_main.columns = defi_main.loc[0]\n",
    "defi_main = defi_main.loc[1:]\n",
    "borrow_account = defi_main[defi_main['Vault Name'] == 'Celsius Borrows Account']\n",
    "col_ratio = {}\n",
    "col_threshold = 2.0\n",
    "protocols = ['Compound', 'Aave V2']\n",
    "\n",
    "grouped = borrow_account[borrow_account['Coin']=='ETH'].groupby('Protocol')['sum Original Balance'].sum()\n",
    "grouped = grouped/grouped.sum()\n",
    "\n",
    "for protocol in protocols:\n",
    "    temp = borrow_account[borrow_account['Protocol'] == protocol]\n",
    "    borrow = sum([bal for bal in temp['sum Balance $USD'] if bal<0])\n",
    "    try :\n",
    "        ether = temp[temp['Coin']=='ETH']['sum Balance $USD'].values[0]\n",
    "    except IndexError:\n",
    "        ether = 0\n",
    "    col_ratio[protocol] = max(abs(ether/borrow) - col_threshold,0)\n",
    "    if ether!=0: col_ratio[protocol] /= abs(ether/borrow)\n",
    "    try :\n",
    "        col_ratio[protocol + '_part'] = grouped[protocol]\n",
    "    except KeyError:\n",
    "        col_ratio[protocol + '_part'] = 0\n"
   ]
  },
  {
   "cell_type": "code",
   "execution_count": 12,
   "outputs": [],
   "source": [
    "# We format the deployable tab\n",
    "deployable_0 = deployable.copy()\n",
    "deployable_0 = deployable.iloc[1:,[1,8]]\n",
    "deployable_0.columns = deployable_0.iloc[0]\n",
    "deployable_0 = deployable_0.iloc[1:]"
   ],
   "metadata": {
    "collapsed": false,
    "pycharm": {
     "name": "#%%\n"
    }
   }
  },
  {
   "cell_type": "code",
   "execution_count": 13,
   "id": "294a88c9",
   "metadata": {},
   "outputs": [],
   "source": [
    "# this is generating a assets/liabilities dataframe for waterfall sheet\n",
    "coin_asset_liability = stats[[0,2,3]].copy()\n",
    "coin_asset_liability.columns = coin_asset_liability.iloc[0]\n",
    "coin_asset_liability.drop([0], inplace = True)\n",
    "coin_asset_liability.dropna(axis = 0 , how = \"all\", inplace = True)\n",
    "coin_asset_liability.reset_index(drop = True, inplace = True)\n",
    "coin_asset_liability.at[0, \"Coin/Asset\"] = \"Total\"\n",
    "coin_asset_liability = coin_asset_liability[coin_asset_liability[\"Coin/Asset\"].notnull()]\n",
    "coin_asset_liability.columns = ['Coin', 'Net Assets Total', 'Net Liabilities Total']\n",
    "coin_asset_liability[\"Net Assets Total\"] = coin_asset_liability[\"Net Assets Total\"].astype(\"float\")\n",
    "coin_asset_liability[\"Net Liabilities Total\"] = coin_asset_liability[\"Net Liabilities Total\"].astype(\"float\")\n",
    "#coin_asset_liability.columns"
   ]
  },
  {
   "cell_type": "code",
   "execution_count": 14,
   "id": "27226995",
   "metadata": {},
   "outputs": [
    {
     "name": "stderr",
     "output_type": "stream",
     "text": [
      "/Users/gabrielchoukroun/.conda/envs/waterfall_python/lib/python3.10/site-packages/pandas/core/frame.py:4906: SettingWithCopyWarning: \n",
      "A value is trying to be set on a copy of a slice from a DataFrame\n",
      "\n",
      "See the caveats in the documentation: https://pandas.pydata.org/pandas-docs/stable/user_guide/indexing.html#returning-a-view-versus-a-copy\n",
      "  return super().drop(\n",
      "/Users/gabrielchoukroun/.conda/envs/waterfall_python/lib/python3.10/site-packages/pandas/util/_decorators.py:311: SettingWithCopyWarning: \n",
      "A value is trying to be set on a copy of a slice from a DataFrame\n",
      "\n",
      "See the caveats in the documentation: https://pandas.pydata.org/pandas-docs/stable/user_guide/indexing.html#returning-a-view-versus-a-copy\n",
      "  return func(*args, **kwargs)\n"
     ]
    },
    {
     "name": "stdout",
     "output_type": "stream",
     "text": [
      "['SLRS', 'BVOL']\n"
     ]
    },
    {
     "data": {
      "text/plain": "   Coin     Price\n0  SLRS    0.1183\n1  BVOL  397.7500",
      "text/html": "<div>\n<style scoped>\n    .dataframe tbody tr th:only-of-type {\n        vertical-align: middle;\n    }\n\n    .dataframe tbody tr th {\n        vertical-align: top;\n    }\n\n    .dataframe thead th {\n        text-align: right;\n    }\n</style>\n<table border=\"1\" class=\"dataframe\">\n  <thead>\n    <tr style=\"text-align: right;\">\n      <th></th>\n      <th>Coin</th>\n      <th>Price</th>\n    </tr>\n  </thead>\n  <tbody>\n    <tr>\n      <th>0</th>\n      <td>SLRS</td>\n      <td>0.1183</td>\n    </tr>\n    <tr>\n      <th>1</th>\n      <td>BVOL</td>\n      <td>397.7500</td>\n    </tr>\n  </tbody>\n</table>\n</div>"
     },
     "execution_count": 14,
     "metadata": {},
     "output_type": "execute_result"
    }
   ],
   "source": [
    "# get the coin price from coin recon sheet, there are some coins in FTX which are not listed in the \"coin stats\" tab\n",
    "# and have no price. I use FTX api to get their most recent price.\n",
    "coin_price = stats[[0,1]]\n",
    "coin_price.columns = [\"Coin\", \"Price\"]\n",
    "coin_price.drop([0], inplace = True)\n",
    "coin_price.dropna(axis = 0 , how = \"all\", inplace = True)\n",
    "coin_price = coin_price[coin_price[\"Coin\"].notnull()]\n",
    "coin_price.reset_index(drop = True, inplace = True)\n",
    "coin_price.loc[len(coin_price.index)] = ['Stable Coins', 1] \n",
    "srm_price = float(coin_price.loc[coin_price[\"Coin\"] == \"SRM\", \"Price\"])\n",
    "coin_price.loc[len(coin_price.index)] = ['SRM_LOCKED', srm_price] \n",
    "#coin_price\n",
    "\n",
    "\n",
    "existing_coins = coin_price[\"Coin\"].unique()\n",
    "coins_need_price = [\"ATLAS\", \"SOL\",\"POLIS\", \"RAY\", \"SLRS\", \"BVOL\", \"YFL\", \"QI\", \"CREAM\",\n",
    "                   \"FTT\", \"DASH\", \"THKD\", \"ALPHA\", \"WDGLD\", \"VSP\", \"ORBS\", \"WBTC\", \n",
    "                   \"3CRV\", \"KIN\", \"LRC\",\"MSOL\"]\n",
    "needed = []\n",
    "for coin in coins_need_price:\n",
    "    if coin not in existing_coins:\n",
    "        needed.append(coin)\n",
    "print(needed)\n",
    "price_dict ={\"Coin\": [], \"Price\": []}\n",
    "for coin in needed:\n",
    "    url1 = (f\"https://ftx.com/api/markets/{coin}/USD\")\n",
    "    data = requests.get(url1).json()\n",
    "    price_dict[\"Coin\"].append(coin)\n",
    "    price_dict[\"Price\"].append(data['result'][\"price\"])\n",
    "needed_price = pd.DataFrame.from_dict(price_dict)\n",
    "coin_price = pd.concat([coin_price, needed_price])\n",
    "needed_price"
   ]
  },
  {
   "cell_type": "code",
   "execution_count": 15,
   "outputs": [
    {
     "data": {
      "text/plain": "                          Account Risk Premium\n1                 Bank - Balances          NaN\n2    Celsius Network Limited (UK)          NaN\n3        Celsius Network LLC (US)          NaN\n4     Celsius Network EU UAB (LT)          NaN\n5         Celsius Network Finance          NaN\n..                            ...          ...\n250                  Test - Terra          NaN\n251                Test - Terra 2          NaN\n252          RD - MARS - TerraUST          NaN\n253       DD - Astroport - stLuna          NaN\n255  DD - Curve Polygon - EURTUSD          NaN\n\n[253 rows x 2 columns]",
      "text/html": "<div>\n<style scoped>\n    .dataframe tbody tr th:only-of-type {\n        vertical-align: middle;\n    }\n\n    .dataframe tbody tr th {\n        vertical-align: top;\n    }\n\n    .dataframe thead th {\n        text-align: right;\n    }\n</style>\n<table border=\"1\" class=\"dataframe\">\n  <thead>\n    <tr style=\"text-align: right;\">\n      <th></th>\n      <th>Account</th>\n      <th>Risk Premium</th>\n    </tr>\n  </thead>\n  <tbody>\n    <tr>\n      <th>1</th>\n      <td>Bank - Balances</td>\n      <td>NaN</td>\n    </tr>\n    <tr>\n      <th>2</th>\n      <td>Celsius Network Limited (UK)</td>\n      <td>NaN</td>\n    </tr>\n    <tr>\n      <th>3</th>\n      <td>Celsius Network LLC (US)</td>\n      <td>NaN</td>\n    </tr>\n    <tr>\n      <th>4</th>\n      <td>Celsius Network EU UAB (LT)</td>\n      <td>NaN</td>\n    </tr>\n    <tr>\n      <th>5</th>\n      <td>Celsius Network Finance</td>\n      <td>NaN</td>\n    </tr>\n    <tr>\n      <th>...</th>\n      <td>...</td>\n      <td>...</td>\n    </tr>\n    <tr>\n      <th>250</th>\n      <td>Test - Terra</td>\n      <td>NaN</td>\n    </tr>\n    <tr>\n      <th>251</th>\n      <td>Test - Terra 2</td>\n      <td>NaN</td>\n    </tr>\n    <tr>\n      <th>252</th>\n      <td>RD - MARS - TerraUST</td>\n      <td>NaN</td>\n    </tr>\n    <tr>\n      <th>253</th>\n      <td>DD - Astroport - stLuna</td>\n      <td>NaN</td>\n    </tr>\n    <tr>\n      <th>255</th>\n      <td>DD - Curve Polygon - EURTUSD</td>\n      <td>NaN</td>\n    </tr>\n  </tbody>\n</table>\n<p>253 rows × 2 columns</p>\n</div>"
     },
     "execution_count": 15,
     "metadata": {},
     "output_type": "execute_result"
    }
   ],
   "source": [
    "# Get Risk Premium Info\n",
    "risk_premium = template[template[\"Coin\"]==\"Risk Premium\"].T\n",
    "risk_premium.reset_index(inplace = True)\n",
    "risk_premium.columns = [\"Account\", \"Risk Premium\"]\n",
    "risk_premium.drop([0], inplace = True)\n",
    "# there may be duplicate records in risk premium info\n",
    "risk_premium.drop_duplicates(inplace = True)\n",
    "# there are some rare occasions that the same account is assinged to two or more different risk premiums, use the first encountered\n",
    "# the others are likely for some testing purposes, which are usually added to the end\n",
    "risk_premium = risk_premium[~risk_premium.Account.duplicated()]\n",
    "risk_premium"
   ],
   "metadata": {
    "collapsed": false,
    "pycharm": {
     "name": "#%%\n"
    }
   }
  },
  {
   "cell_type": "code",
   "execution_count": 16,
   "id": "fe5d88ed",
   "metadata": {},
   "outputs": [],
   "source": [
    "# get coin tier info \n",
    "tiers = template[template[\"Coin\"]==\"Tier\"].T\n",
    "tiers.reset_index(inplace = True)\n",
    "tiers.columns = [\"Account\", \"Tier\"]\n",
    "tiers.drop([0], inplace = True)\n",
    "# there may be duplicate records in tier info\n",
    "tiers.drop_duplicates(inplace = True)\n",
    "# there are some rare occasions that the same account is assinged to two or more different tiers, use the first encountered\n",
    "# the others are likely for some testing purposes, which are usually added to the end \n",
    "tiers = tiers[~tiers.Account.duplicated()]\n",
    "filter4 = tiers['Tier'].isnull()\n",
    "tiers.at[filter4, \"Tier\"] = \"unassigned\"\n",
    "tiers[\"Tier\"] = tiers[\"Tier\"].astype(\"string\")\n",
    "#print(len(tiers))\n",
    "#print(len(tiers[tiers[\"Tier\"] == \"unassigned\"]))\n",
    "#print(tiers.Account.nunique())\n",
    "tiers[\"Tier\"] = tiers[\"Tier\"].apply(lambda x:x.split(\".\")[0])\n",
    "#tiers[\"Tier\"].unique()\n",
    "#tiers"
   ]
  },
  {
   "cell_type": "code",
   "execution_count": 17,
   "id": "9f7d83e7",
   "metadata": {
    "scrolled": true
   },
   "outputs": [],
   "source": [
    "# mapping each accout to a category\n",
    "categories = template[template[\"Coin\"].isin([\"Coin\", \"Category\"])].T\n",
    "categories.reset_index(drop = True, inplace = True)\n",
    "categories.columns = [\"Account\", \"Category\"]\n",
    "categories.drop([0], inplace = True)\n",
    "categories.Category.fillna(value = \"unassigned\", inplace = True)\n",
    "#print(len(categories))\n",
    "#print(len(categories[categories[\"Category\"] == \"unassigned\"]))\n",
    "#print(categories.Account.nunique())\n",
    "#categories"
   ]
  },
  {
   "cell_type": "code",
   "execution_count": 18,
   "id": "d8245bab",
   "metadata": {},
   "outputs": [],
   "source": [
    "# read the cofa data\n",
    "cofa_original = pd.read_excel(\"excel_input/coin_apy_template.xlsx\", sheet_name = \"COFA\")\n",
    "cofa_original.dropna(axis=0, how='all', inplace=True)\n",
    "cofa_original.reset_index(drop = True, inplace = True)\n",
    "#display(cofa_original)\n",
    "cofa_original.at[cofa_original[\"Coin\"] == \"stable (USD)\", \"Coin\"] = \"Stable Coins\"\n",
    "cofa_melt_cols = list(cofa_original.columns)\n",
    "cofa_melt_cols.remove(\"Coin\")\n",
    "#print(cofa_melt_cols)\n",
    "cofa = melt(cofa_original, cofa_melt_cols, \"Account\", \"COFA\")\n",
    "cofa = cofa[cofa[\"COFA\"].notnull()]\n",
    "cofa.reset_index(drop = True, inplace = True)\n",
    "#cofa"
   ]
  },
  {
   "cell_type": "code",
   "execution_count": 19,
   "outputs": [],
   "source": [
    "# process the carry tab (like the cofa)\n",
    "carry.dropna(axis=0, how='all', inplace=True)\n",
    "carry.reset_index(drop = True, inplace = True)\n",
    "#display(cofa_original)\n",
    "carry.at[carry[\"Coin\"] == \"stable (USD)\", \"Coin\"] = \"Stable Coins\"\n",
    "carry_melt_cols = list(carry.columns)\n",
    "carry_melt_cols.remove(\"Coin\")\n",
    "#print(cofa_melt_cols)\n",
    "carry2 = melt(carry, carry_melt_cols, \"Account\", \"CARRY\")\n",
    "carry2 = carry2[carry2[\"CARRY\"].notnull()]\n",
    "carry2.reset_index(drop = True, inplace = True)"
   ],
   "metadata": {
    "collapsed": false,
    "pycharm": {
     "name": "#%%\n"
    }
   }
  },
  {
   "cell_type": "code",
   "execution_count": 20,
   "id": "3c58826e",
   "metadata": {
    "scrolled": true
   },
   "outputs": [
    {
     "name": "stderr",
     "output_type": "stream",
     "text": [
      "/Users/gabrielchoukroun/.conda/envs/waterfall_python/lib/python3.10/site-packages/pandas/core/frame.py:5238: SettingWithCopyWarning: \n",
      "A value is trying to be set on a copy of a slice from a DataFrame\n",
      "\n",
      "See the caveats in the documentation: https://pandas.pydata.org/pandas-docs/stable/user_guide/indexing.html#returning-a-view-versus-a-copy\n",
      "  return super().replace(\n"
     ]
    }
   ],
   "source": [
    "# process apy data\n",
    "apy = template[~template[\"Coin\"].isin([\"Coin\", \"Category\", \"Tier\", \"Risk Premium\"])]\n",
    "#apy.fillna(value = 0, inplace = True)\n",
    "\n",
    "# people leave spaces in the excel file sometimes, need to get rid of them\n",
    "apy.replace([\" \", \"\", \"  \"], np.nan, inplace = True)\n",
    "apy =apy[apy[\"Coin\"] != \"wBTC (Y/N)\"]\n",
    "#apy"
   ]
  },
  {
   "cell_type": "code",
   "execution_count": 21,
   "outputs": [],
   "source": [
    "temp = apy[apy['Coin']=='check_account'].iloc[:,1:]\n",
    "cond = temp>1\n",
    "duplicated = temp.T[temp.T>1].dropna()"
   ],
   "metadata": {
    "collapsed": false,
    "pycharm": {
     "name": "#%%\n"
    }
   }
  },
  {
   "cell_type": "code",
   "execution_count": 22,
   "id": "3cb13048",
   "metadata": {},
   "outputs": [],
   "source": [
    "apy2 = apy.copy()\n",
    "apy2[\"Coin\"] = apy2[\"Coin\"] + \"_APY\"\n",
    "apy5 = apy2.T\n",
    "apy5.reset_index(inplace = True)\n",
    "apy5.columns = apy5.iloc[0]\n",
    "apy5.rename(columns = {\"Coin\": \"Account\"}, inplace = True)\n",
    "apy5.drop([0], inplace = True)\n",
    "#apy5"
   ]
  },
  {
   "cell_type": "code",
   "execution_count": 23,
   "id": "0ae71c00",
   "metadata": {},
   "outputs": [],
   "source": [
    "# convert dyptes to float\n",
    "for col in apy5.columns:\n",
    "    if col != \"Account\":\n",
    "        apy5.loc[apy5[col].isin(template[\"Coin\"].unique()), col] = np.nan\n",
    "        apy5[col] = apy5[col].map(lambda x:np.nan if type(x)==str else x)\\\n",
    "            .astype(float)"
   ]
  },
  {
   "cell_type": "code",
   "execution_count": 24,
   "id": "b65a35a8",
   "metadata": {},
   "outputs": [
    {
     "data": {
      "text/plain": "Coin                object\nUser Collateral    float64\nInst Collateral    float64\ndtype: object"
     },
     "execution_count": 24,
     "metadata": {},
     "output_type": "execute_result"
    }
   ],
   "source": [
    "# get the user collateral and institutional collateral data in a dataframe\n",
    "# to be uploaded to waterfall sheet \n",
    "collateral = stats.copy()\n",
    "collateral_p1 = collateral.iloc[:, 0].to_frame()\n",
    "collateral_p1.columns = [\"Coin\"]\n",
    "collateral_p2 = collateral.iloc[:, 4:]\n",
    "collateral_p2.columns = collateral_p2.iloc[2]\n",
    "collateral = pd.concat([collateral_p1, collateral_p2[[\"User Collateral\", \"Inst Collateral\"]]], axis = 1)\n",
    "collateral.drop([0,1,2,3], inplace = True)\n",
    "collateral = collateral[collateral[\"Coin\"].notnull()]\n",
    "collateral[\"User Collateral\"] = -1 * collateral[\"User Collateral\"]\n",
    "collateral[\"Inst Collateral\"] = -1 * collateral[\"Inst Collateral\"]\n",
    "collateral.fillna(value = 0, inplace = True)\n",
    "collateral.dtypes"
   ]
  },
  {
   "cell_type": "code",
   "execution_count": 25,
   "id": "59083e70",
   "metadata": {
    "scrolled": true
   },
   "outputs": [
    {
     "name": "stderr",
     "output_type": "stream",
     "text": [
      "/Users/gabrielchoukroun/.conda/envs/waterfall_python/lib/python3.10/site-packages/pandas/core/frame.py:4906: SettingWithCopyWarning: \n",
      "A value is trying to be set on a copy of a slice from a DataFrame\n",
      "\n",
      "See the caveats in the documentation: https://pandas.pydata.org/pandas-docs/stable/user_guide/indexing.html#returning-a-view-versus-a-copy\n",
      "  return super().drop(\n",
      "/Users/gabrielchoukroun/.conda/envs/waterfall_python/lib/python3.10/site-packages/pandas/core/frame.py:5039: SettingWithCopyWarning: \n",
      "A value is trying to be set on a copy of a slice from a DataFrame\n",
      "\n",
      "See the caveats in the documentation: https://pandas.pydata.org/pandas-docs/stable/user_guide/indexing.html#returning-a-view-versus-a-copy\n",
      "  return super().rename(\n"
     ]
    },
    {
     "data": {
      "text/plain": "           Coin Bank - Balances Celsius Network Limited (UK)  \\\n3         1INCH               0                            0   \n4          3CRV               0                            0   \n5          AAVE               0                  3521.570175   \n6           ACA               0                            0   \n7           ADA               0                  13010549.41   \n..          ...             ...                          ...   \n118         YFL               0                            0   \n119  yveCRV-DAO               0                            0   \n120         ZEC               0                   60542.7374   \n121         ZRX               0                  11457.95371   \n122        ZUSD               0                            0   \n\n    Celsius Network LLC (US) Celsius Network EU UAB (LT)  Celsius OTC  \\\n3                229878.1805                           0            0   \n4                          0                           0            0   \n5                4522.092378                           0            0   \n6                          0                           0            0   \n7                22885891.39                           1  42054.43468   \n..                       ...                         ...          ...   \n118                        0                           0            0   \n119                        0                           0            0   \n120              37325.47933                           0            0   \n121               831750.792                           0            0   \n122              774544.9598                           0            0   \n\n    Celsius Network Finance CEL Treasury CEL Users  Loans Out  ...  \\\n3                         0            0         0          0  ...   \n4                         0            0         0          0  ...   \n5                   5.93778            0         0   19620.65  ...   \n6                         0            0         0          0  ...   \n7                268.036039            0         0  112968611  ...   \n..                      ...          ...       ...        ...  ...   \n118                       0            0         0          0  ...   \n119                       0            0         0          0  ...   \n120                       0            0         0      13000  ...   \n121                  272.88            0         0    9200000  ...   \n122                       0            0         0          0  ...   \n\n    EAM - Balances Others - Asset     BITFINEX COINBASEPRO DERIBIT LIQUID  \\\n3                0     6666666.66            0           0       0      0   \n4                0              0            0           0       0      0   \n5                0              0            0           0       0      0   \n6                0              0            0           0       0      0   \n7                0    26866719.01     0.460399           0       0      0   \n..             ...            ...          ...         ...     ...    ...   \n118              0              0            0           0       0      0   \n119              0              0            0           0       0      0   \n120              0              0  4630.993209           0       0      0   \n121              0              0  577764.9926  8735.95141       0      0   \n122              0              0            0           0       0      0   \n\n    CEL TBD Investments FTX Hedge   castody  \n3         0           0  -1000000      4459  \n4         0           0         0         0  \n5         0           0      9120       686  \n6         0           0         0         0  \n7         0           0         0   1830546  \n..      ...         ...       ...       ...  \n118       0           0         0         0  \n119       0           0         0         0  \n120       0           0         0  471.9999  \n121       0           0         0     58919  \n122       0           0         0         1  \n\n[120 rows x 34 columns]",
      "text/html": "<div>\n<style scoped>\n    .dataframe tbody tr th:only-of-type {\n        vertical-align: middle;\n    }\n\n    .dataframe tbody tr th {\n        vertical-align: top;\n    }\n\n    .dataframe thead th {\n        text-align: right;\n    }\n</style>\n<table border=\"1\" class=\"dataframe\">\n  <thead>\n    <tr style=\"text-align: right;\">\n      <th></th>\n      <th>Coin</th>\n      <th>Bank - Balances</th>\n      <th>Celsius Network Limited (UK)</th>\n      <th>Celsius Network LLC (US)</th>\n      <th>Celsius Network EU UAB (LT)</th>\n      <th>Celsius OTC</th>\n      <th>Celsius Network Finance</th>\n      <th>CEL Treasury</th>\n      <th>CEL Users</th>\n      <th>Loans Out</th>\n      <th>...</th>\n      <th>EAM - Balances</th>\n      <th>Others - Asset</th>\n      <th>BITFINEX</th>\n      <th>COINBASEPRO</th>\n      <th>DERIBIT</th>\n      <th>LIQUID</th>\n      <th>CEL TBD</th>\n      <th>Investments</th>\n      <th>FTX Hedge</th>\n      <th>castody</th>\n    </tr>\n  </thead>\n  <tbody>\n    <tr>\n      <th>3</th>\n      <td>1INCH</td>\n      <td>0</td>\n      <td>0</td>\n      <td>229878.1805</td>\n      <td>0</td>\n      <td>0</td>\n      <td>0</td>\n      <td>0</td>\n      <td>0</td>\n      <td>0</td>\n      <td>...</td>\n      <td>0</td>\n      <td>6666666.66</td>\n      <td>0</td>\n      <td>0</td>\n      <td>0</td>\n      <td>0</td>\n      <td>0</td>\n      <td>0</td>\n      <td>-1000000</td>\n      <td>4459</td>\n    </tr>\n    <tr>\n      <th>4</th>\n      <td>3CRV</td>\n      <td>0</td>\n      <td>0</td>\n      <td>0</td>\n      <td>0</td>\n      <td>0</td>\n      <td>0</td>\n      <td>0</td>\n      <td>0</td>\n      <td>0</td>\n      <td>...</td>\n      <td>0</td>\n      <td>0</td>\n      <td>0</td>\n      <td>0</td>\n      <td>0</td>\n      <td>0</td>\n      <td>0</td>\n      <td>0</td>\n      <td>0</td>\n      <td>0</td>\n    </tr>\n    <tr>\n      <th>5</th>\n      <td>AAVE</td>\n      <td>0</td>\n      <td>3521.570175</td>\n      <td>4522.092378</td>\n      <td>0</td>\n      <td>0</td>\n      <td>5.93778</td>\n      <td>0</td>\n      <td>0</td>\n      <td>19620.65</td>\n      <td>...</td>\n      <td>0</td>\n      <td>0</td>\n      <td>0</td>\n      <td>0</td>\n      <td>0</td>\n      <td>0</td>\n      <td>0</td>\n      <td>0</td>\n      <td>9120</td>\n      <td>686</td>\n    </tr>\n    <tr>\n      <th>6</th>\n      <td>ACA</td>\n      <td>0</td>\n      <td>0</td>\n      <td>0</td>\n      <td>0</td>\n      <td>0</td>\n      <td>0</td>\n      <td>0</td>\n      <td>0</td>\n      <td>0</td>\n      <td>...</td>\n      <td>0</td>\n      <td>0</td>\n      <td>0</td>\n      <td>0</td>\n      <td>0</td>\n      <td>0</td>\n      <td>0</td>\n      <td>0</td>\n      <td>0</td>\n      <td>0</td>\n    </tr>\n    <tr>\n      <th>7</th>\n      <td>ADA</td>\n      <td>0</td>\n      <td>13010549.41</td>\n      <td>22885891.39</td>\n      <td>1</td>\n      <td>42054.43468</td>\n      <td>268.036039</td>\n      <td>0</td>\n      <td>0</td>\n      <td>112968611</td>\n      <td>...</td>\n      <td>0</td>\n      <td>26866719.01</td>\n      <td>0.460399</td>\n      <td>0</td>\n      <td>0</td>\n      <td>0</td>\n      <td>0</td>\n      <td>0</td>\n      <td>0</td>\n      <td>1830546</td>\n    </tr>\n    <tr>\n      <th>...</th>\n      <td>...</td>\n      <td>...</td>\n      <td>...</td>\n      <td>...</td>\n      <td>...</td>\n      <td>...</td>\n      <td>...</td>\n      <td>...</td>\n      <td>...</td>\n      <td>...</td>\n      <td>...</td>\n      <td>...</td>\n      <td>...</td>\n      <td>...</td>\n      <td>...</td>\n      <td>...</td>\n      <td>...</td>\n      <td>...</td>\n      <td>...</td>\n      <td>...</td>\n      <td>...</td>\n    </tr>\n    <tr>\n      <th>118</th>\n      <td>YFL</td>\n      <td>0</td>\n      <td>0</td>\n      <td>0</td>\n      <td>0</td>\n      <td>0</td>\n      <td>0</td>\n      <td>0</td>\n      <td>0</td>\n      <td>0</td>\n      <td>...</td>\n      <td>0</td>\n      <td>0</td>\n      <td>0</td>\n      <td>0</td>\n      <td>0</td>\n      <td>0</td>\n      <td>0</td>\n      <td>0</td>\n      <td>0</td>\n      <td>0</td>\n    </tr>\n    <tr>\n      <th>119</th>\n      <td>yveCRV-DAO</td>\n      <td>0</td>\n      <td>0</td>\n      <td>0</td>\n      <td>0</td>\n      <td>0</td>\n      <td>0</td>\n      <td>0</td>\n      <td>0</td>\n      <td>0</td>\n      <td>...</td>\n      <td>0</td>\n      <td>0</td>\n      <td>0</td>\n      <td>0</td>\n      <td>0</td>\n      <td>0</td>\n      <td>0</td>\n      <td>0</td>\n      <td>0</td>\n      <td>0</td>\n    </tr>\n    <tr>\n      <th>120</th>\n      <td>ZEC</td>\n      <td>0</td>\n      <td>60542.7374</td>\n      <td>37325.47933</td>\n      <td>0</td>\n      <td>0</td>\n      <td>0</td>\n      <td>0</td>\n      <td>0</td>\n      <td>13000</td>\n      <td>...</td>\n      <td>0</td>\n      <td>0</td>\n      <td>4630.993209</td>\n      <td>0</td>\n      <td>0</td>\n      <td>0</td>\n      <td>0</td>\n      <td>0</td>\n      <td>0</td>\n      <td>471.9999</td>\n    </tr>\n    <tr>\n      <th>121</th>\n      <td>ZRX</td>\n      <td>0</td>\n      <td>11457.95371</td>\n      <td>831750.792</td>\n      <td>0</td>\n      <td>0</td>\n      <td>272.88</td>\n      <td>0</td>\n      <td>0</td>\n      <td>9200000</td>\n      <td>...</td>\n      <td>0</td>\n      <td>0</td>\n      <td>577764.9926</td>\n      <td>8735.95141</td>\n      <td>0</td>\n      <td>0</td>\n      <td>0</td>\n      <td>0</td>\n      <td>0</td>\n      <td>58919</td>\n    </tr>\n    <tr>\n      <th>122</th>\n      <td>ZUSD</td>\n      <td>0</td>\n      <td>0</td>\n      <td>774544.9598</td>\n      <td>0</td>\n      <td>0</td>\n      <td>0</td>\n      <td>0</td>\n      <td>0</td>\n      <td>0</td>\n      <td>...</td>\n      <td>0</td>\n      <td>0</td>\n      <td>0</td>\n      <td>0</td>\n      <td>0</td>\n      <td>0</td>\n      <td>0</td>\n      <td>0</td>\n      <td>0</td>\n      <td>1</td>\n    </tr>\n  </tbody>\n</table>\n<p>120 rows × 34 columns</p>\n</div>"
     },
     "execution_count": 25,
     "metadata": {},
     "output_type": "execute_result"
    }
   ],
   "source": [
    "# process stats table\n",
    "\n",
    "# first fill the \"asset\" or \"liability\" into row 0\n",
    "stats.iloc[0] = stats.iloc[0].ffill()\n",
    "# drop the secondary description of asset or liability (no use)\n",
    "stats.drop([1], inplace = True)\n",
    "\n",
    "#split stats into two parts, p1 is coin name and summary, p2 is assets/liabilities\n",
    "stats_p1 = stats.iloc[:, 0:3]\n",
    "stats_p1.columns = stats_p1.iloc[0]\n",
    "stats_p1.reset_index(drop = True, inplace = True)\n",
    "stats_p1.drop([0, 1, 2], inplace = True)\n",
    "stats_p1.rename(columns = {\"Coin/Asset\": \"Coin\"}, inplace = True)\n",
    "\n",
    "\n",
    "stats_p2 = stats.iloc[:, 4:]\n",
    "\n",
    "# filter according to \"assets\" and the detailed account name cannot be null\n",
    "stats_p3 = stats_p2.loc[:, stats_p2.loc[2].notnull()]\n",
    "stats_p4 = stats_p3.loc[:, stats_p3.loc[0] == \"Assets\"]\n",
    "stats_p4.reset_index(drop = True, inplace = True)\n",
    "stats_p4.columns = stats_p4.iloc[1]\n",
    "stats_p4.reset_index(drop = True, inplace = True)\n",
    "stats_p4.drop([0, 1, 2], inplace = True)\n",
    "stats = pd.concat([stats_p1[\"Coin\"], stats_p4], axis = 1)\n",
    "stats = stats[stats[\"Coin\"].notnull()]\n",
    "stats"
   ]
  },
  {
   "cell_type": "code",
   "execution_count": 26,
   "id": "6c73a994",
   "metadata": {},
   "outputs": [],
   "source": [
    "# process DeFi assets data\n",
    "defi_p1 = defi.iloc[:, 0:3]\n",
    "defi_p1.drop([0, 1, 2], inplace = True)\n",
    "defi_p1.rename(columns = {\"Coin/Asset\": \"Coin\"}, inplace = True)\n",
    "defi_p1\n",
    "defi_p2 = defi.iloc[:, 3:]\n",
    "\n",
    "# filter according the detailed account name cannot be null\n",
    "defi_p3 = defi_p2.loc[:, defi_p2.iloc[1].notnull()]\n",
    "defi_p3.reset_index(drop = True, inplace = True)\n",
    "defi_p3.columns = defi_p3.iloc[1]\n",
    "defi_p3.reset_index(drop = True, inplace = True)\n",
    "defi_p3.drop([0, 1, 2], inplace = True)\n",
    "defi_p3\n",
    "defi = pd.concat([defi_p1[\"Coin\"], defi_p3], axis = 1)\n",
    "defi = defi[defi[\"Coin\"].notnull()]\n",
    "#defi"
   ]
  },
  {
   "cell_type": "code",
   "execution_count": 27,
   "id": "82b364cf-2883-4c86-9518-92c7063de1a6",
   "metadata": {},
   "outputs": [],
   "source": [
    "# ADD GAB - SPLIT ON OVERCOLLATERIZED ETH IN CELSIUS BORROWS ACCOUNT\n",
    "borrow_eth = defi[defi['Coin']=='ETH']['Celsius Borrows Account'].iloc[0]\n",
    "idx_eth = defi[defi['Coin']=='ETH'].index[0]\n",
    "for col in ['Aave V2', 'Compound']:\n",
    "    new_col = f'Overcollaterized - {col}'\n",
    "    defi[new_col] = 0\n",
    "    defi.at[idx_eth,new_col] = borrow_eth * col_ratio[col+'_part']* col_ratio[col]\n",
    "    defi.at[idx_eth,'Celsius Borrows Account'] -= defi.at[idx_eth,new_col]"
   ]
  },
  {
   "cell_type": "code",
   "execution_count": 28,
   "id": "6b85b58b",
   "metadata": {},
   "outputs": [],
   "source": [
    "# process ftx and ftx_cnc summary data\n",
    "ftx.dropna(axis = 0 , how = \"all\", inplace = True)\n",
    "ftx.dropna(axis = 1 , how = \"all\", inplace = True)\n",
    "filter_ftx = ((ftx[\"Total Asset\"] == 0) & (ftx[\"Total Borrows\"] == 0))\n",
    "ftx = ftx[(ftx[ftx.columns[0]].notnull()) & ~filter_ftx]\n",
    "ftx.drop(columns = [\"Total Asset\", \"Total Borrows\"], inplace = True)\n",
    "ftx_cols = []\n",
    "for col in ftx.columns:\n",
    "    ftx_cols.append(\"FTX - \" + col)\n",
    "ftx.columns = ftx_cols\n",
    "ftx.rename(columns = {ftx.columns[0]: \"Coin\"}, inplace = True)\n",
    "\n",
    "# below lines of code will merge BTC and WBTC together\n",
    "ftx_btc = ftx[ftx[\"Coin\"].isin([\"BTC\", \"WBTC\"])]\n",
    "ftx_btc = ftx_btc.append(ftx_btc.sum(numeric_only=True), ignore_index=True)\n",
    "ftx_btc = ftx_btc[~ftx_btc[\"Coin\"].isin([\"BTC\", \"WBTC\"])]\n",
    "ftx_btc.reset_index(drop = True, inplace = True)\n",
    "ftx_btc.loc[0, \"Coin\"] = \"BTC\"\n",
    "ftx = pd.concat([ftx_btc, ftx[~ftx[\"Coin\"].isin([\"BTC\", \"WBTC\"])]])\n",
    "\n",
    "#ftx_cnc\n",
    "ftx_cnc.dropna(axis = 0 , how = \"all\", inplace = True)\n",
    "ftx_cnc.dropna(axis = 1 , how = \"all\", inplace = True)\n",
    "filter_ftx = (ftx_cnc[\"NET Size\"] == 0)\n",
    "ftx_cnc = ftx_cnc[(ftx_cnc[ftx_cnc.columns[0]].notnull()) & ~filter_ftx]\n",
    "ftx_cols = []\n",
    "for col in ftx_cnc.columns:\n",
    "    ftx_cols.append(\"FTX - \" + col)\n",
    "ftx_cnc.columns = ftx_cols\n",
    "ftx_cnc.rename(columns = {ftx_cnc.columns[0]: \"Coin\", ftx_cnc.columns[1]:'Future'}, inplace = True)"
   ]
  },
  {
   "cell_type": "code",
   "execution_count": 29,
   "id": "35174754",
   "metadata": {},
   "outputs": [],
   "source": [
    "# get update date and time\n",
    "now = datetime.now()\n",
    "dt_string = now.strftime(\"%Y-%m-%d %H:%M:%S\")\n",
    "#print(\"Updated at:\", dt_string)"
   ]
  },
  {
   "cell_type": "code",
   "execution_count": 30,
   "id": "73eb1dd0",
   "metadata": {},
   "outputs": [],
   "source": [
    "# define the stable coins, these coins are listed together under \"stable coins\" in waterfall sheet\n",
    "stables = ['alUSD','BUSD', 'GUSD', 'LUSD', 'LUSD Curve','MCDAI', 'PAX', 'SUSD', 'TUSD', \n",
    "           'USDC', 'USDT ERC20', 'ZUSD', \"USD\"]"
   ]
  },
  {
   "cell_type": "code",
   "execution_count": 31,
   "id": "2e05b438",
   "metadata": {},
   "outputs": [
    {
     "data": {
      "text/plain": "         Tier\n0           1\n1           2\n2           3\n3           4\n4           5\n5  unassigned",
      "text/html": "<div>\n<style scoped>\n    .dataframe tbody tr th:only-of-type {\n        vertical-align: middle;\n    }\n\n    .dataframe tbody tr th {\n        vertical-align: top;\n    }\n\n    .dataframe thead th {\n        text-align: right;\n    }\n</style>\n<table border=\"1\" class=\"dataframe\">\n  <thead>\n    <tr style=\"text-align: right;\">\n      <th></th>\n      <th>Tier</th>\n    </tr>\n  </thead>\n  <tbody>\n    <tr>\n      <th>0</th>\n      <td>1</td>\n    </tr>\n    <tr>\n      <th>1</th>\n      <td>2</td>\n    </tr>\n    <tr>\n      <th>2</th>\n      <td>3</td>\n    </tr>\n    <tr>\n      <th>3</th>\n      <td>4</td>\n    </tr>\n    <tr>\n      <th>4</th>\n      <td>5</td>\n    </tr>\n    <tr>\n      <th>5</th>\n      <td>unassigned</td>\n    </tr>\n  </tbody>\n</table>\n</div>"
     },
     "execution_count": 31,
     "metadata": {},
     "output_type": "execute_result"
    }
   ],
   "source": [
    "# create a Tier dataframe for merging purpose\n",
    "tier_dict = {\"Tier\":[\"1\", \"2\", \"3\", \"4\", \"5\", \"unassigned\"]}\n",
    "coin_tiers = pd.DataFrame.from_dict(tier_dict)\n",
    "coin_tiers"
   ]
  },
  {
   "cell_type": "code",
   "execution_count": 32,
   "id": "3b2f6799",
   "metadata": {},
   "outputs": [
    {
     "data": {
      "text/plain": "           Coin  Bank - Balances  Celsius Network Limited (UK)  \\\n0         1INCH              0.0                  0.000000e+00   \n1          3CRV              0.0                  0.000000e+00   \n2          AAVE              0.0                  3.521570e+03   \n3           ACA              0.0                  0.000000e+00   \n4           ADA              0.0                  1.301055e+07   \n..          ...              ...                           ...   \n116  yveCRV-DAO              0.0                  0.000000e+00   \n117         ZEC              0.0                  6.054274e+04   \n118         ZRX              0.0                  1.145795e+04   \n119        ZUSD              0.0                  0.000000e+00   \n120  SRM_LOCKED              0.0                  0.000000e+00   \n\n     Celsius Network LLC (US)  Celsius Network EU UAB (LT)  Celsius OTC  \\\n0                2.298782e+05                          0.0      0.00000   \n1                0.000000e+00                          0.0      0.00000   \n2                4.522092e+03                          0.0      0.00000   \n3                0.000000e+00                          0.0      0.00000   \n4                2.288589e+07                          1.0  42054.43468   \n..                        ...                          ...          ...   \n116              0.000000e+00                          0.0      0.00000   \n117              3.732548e+04                          0.0      0.00000   \n118              8.317508e+05                          0.0      0.00000   \n119              7.745450e+05                          0.0      0.00000   \n120              0.000000e+00                          0.0      0.00000   \n\n     Celsius Network Finance  CEL Treasury  CEL Users     Loans Out  ...  \\\n0                   0.000000           0.0        0.0  0.000000e+00  ...   \n1                   0.000000           0.0        0.0  0.000000e+00  ...   \n2                   5.937780           0.0        0.0  1.962065e+04  ...   \n3                   0.000000           0.0        0.0  0.000000e+00  ...   \n4                 268.036039           0.0        0.0  1.129686e+08  ...   \n..                       ...           ...        ...           ...  ...   \n116                 0.000000           0.0        0.0  0.000000e+00  ...   \n117                 0.000000           0.0        0.0  1.300000e+04  ...   \n118               272.880000           0.0        0.0  9.200000e+06  ...   \n119                 0.000000           0.0        0.0  0.000000e+00  ...   \n120                 0.000000           0.0        0.0  0.000000e+00  ...   \n\n     FTX - CEFI_WALLETBALANCES_TREASURY  FTX - CEFI_YIELD_CNC1_FTX  \\\n0                                   0.0                    0.00000   \n1                                   0.0                    0.00000   \n2                                   0.0                  -32.15902   \n3                                   0.0                    0.00000   \n4                                   0.0                    0.00000   \n..                                  ...                        ...   \n116                                 0.0                    0.00000   \n117                                 0.0                    0.00000   \n118                                 0.0                    0.00000   \n119                                 0.0                    0.00000   \n120                                 0.0                    0.00000   \n\n     FTX - CS_HEDGING_HDG1_FTX  FTX - CS_HEDGING_HDG2_FTX  \\\n0                     115000.0                        0.0   \n1                          0.0                        0.0   \n2                          0.0                        0.0   \n3                          0.0                        0.0   \n4                          0.0                        0.0   \n..                         ...                        ...   \n116                        0.0                        0.0   \n117                        0.0                        0.0   \n118                        0.0                        0.0   \n119                        0.0                        0.0   \n120                        0.0                        0.0   \n\n     FTX - CS_HEDGING_HDG4_FTX  FTX - CS_HEDGING_HDG5_FTX  \\\n0                          0.0                        0.0   \n1                          0.0                        0.0   \n2                          0.0                        0.0   \n3                          0.0                        0.0   \n4                          0.0                        0.0   \n..                         ...                        ...   \n116                        0.0                        0.0   \n117                        0.0                        0.0   \n118                        0.0                        0.0   \n119                        0.0                        0.0   \n120                        0.0                        0.0   \n\n     FTX - DeFI_EVENT_FTX  FTX - DEFI_REWARDFOCUS_FTX  FTX - DEFI-Margin  \\\n0                     0.0                         0.0                0.0   \n1                     0.0                         0.0                0.0   \n2                     0.0                         0.0                0.0   \n3                     0.0                         0.0                0.0   \n4                     0.0                         0.0                0.0   \n..                    ...                         ...                ...   \n116                   0.0                         0.0                0.0   \n117                   0.0                         0.0                0.0   \n118                   0.0                         0.0                0.0   \n119                   0.0                         0.0                0.0   \n120                   0.0                         0.0                0.0   \n\n     FTX - TREASURY_OTHER_LOANLIQUIDATIONS_FTX  \n0                                          0.0  \n1                                          0.0  \n2                                          0.0  \n3                                          0.0  \n4                                          0.0  \n..                                         ...  \n116                                        0.0  \n117                                        0.0  \n118                                        0.0  \n119                                        0.0  \n120                                        0.0  \n\n[121 rows x 234 columns]",
      "text/html": "<div>\n<style scoped>\n    .dataframe tbody tr th:only-of-type {\n        vertical-align: middle;\n    }\n\n    .dataframe tbody tr th {\n        vertical-align: top;\n    }\n\n    .dataframe thead th {\n        text-align: right;\n    }\n</style>\n<table border=\"1\" class=\"dataframe\">\n  <thead>\n    <tr style=\"text-align: right;\">\n      <th></th>\n      <th>Coin</th>\n      <th>Bank - Balances</th>\n      <th>Celsius Network Limited (UK)</th>\n      <th>Celsius Network LLC (US)</th>\n      <th>Celsius Network EU UAB (LT)</th>\n      <th>Celsius OTC</th>\n      <th>Celsius Network Finance</th>\n      <th>CEL Treasury</th>\n      <th>CEL Users</th>\n      <th>Loans Out</th>\n      <th>...</th>\n      <th>FTX - CEFI_WALLETBALANCES_TREASURY</th>\n      <th>FTX - CEFI_YIELD_CNC1_FTX</th>\n      <th>FTX - CS_HEDGING_HDG1_FTX</th>\n      <th>FTX - CS_HEDGING_HDG2_FTX</th>\n      <th>FTX - CS_HEDGING_HDG4_FTX</th>\n      <th>FTX - CS_HEDGING_HDG5_FTX</th>\n      <th>FTX - DeFI_EVENT_FTX</th>\n      <th>FTX - DEFI_REWARDFOCUS_FTX</th>\n      <th>FTX - DEFI-Margin</th>\n      <th>FTX - TREASURY_OTHER_LOANLIQUIDATIONS_FTX</th>\n    </tr>\n  </thead>\n  <tbody>\n    <tr>\n      <th>0</th>\n      <td>1INCH</td>\n      <td>0.0</td>\n      <td>0.000000e+00</td>\n      <td>2.298782e+05</td>\n      <td>0.0</td>\n      <td>0.00000</td>\n      <td>0.000000</td>\n      <td>0.0</td>\n      <td>0.0</td>\n      <td>0.000000e+00</td>\n      <td>...</td>\n      <td>0.0</td>\n      <td>0.00000</td>\n      <td>115000.0</td>\n      <td>0.0</td>\n      <td>0.0</td>\n      <td>0.0</td>\n      <td>0.0</td>\n      <td>0.0</td>\n      <td>0.0</td>\n      <td>0.0</td>\n    </tr>\n    <tr>\n      <th>1</th>\n      <td>3CRV</td>\n      <td>0.0</td>\n      <td>0.000000e+00</td>\n      <td>0.000000e+00</td>\n      <td>0.0</td>\n      <td>0.00000</td>\n      <td>0.000000</td>\n      <td>0.0</td>\n      <td>0.0</td>\n      <td>0.000000e+00</td>\n      <td>...</td>\n      <td>0.0</td>\n      <td>0.00000</td>\n      <td>0.0</td>\n      <td>0.0</td>\n      <td>0.0</td>\n      <td>0.0</td>\n      <td>0.0</td>\n      <td>0.0</td>\n      <td>0.0</td>\n      <td>0.0</td>\n    </tr>\n    <tr>\n      <th>2</th>\n      <td>AAVE</td>\n      <td>0.0</td>\n      <td>3.521570e+03</td>\n      <td>4.522092e+03</td>\n      <td>0.0</td>\n      <td>0.00000</td>\n      <td>5.937780</td>\n      <td>0.0</td>\n      <td>0.0</td>\n      <td>1.962065e+04</td>\n      <td>...</td>\n      <td>0.0</td>\n      <td>-32.15902</td>\n      <td>0.0</td>\n      <td>0.0</td>\n      <td>0.0</td>\n      <td>0.0</td>\n      <td>0.0</td>\n      <td>0.0</td>\n      <td>0.0</td>\n      <td>0.0</td>\n    </tr>\n    <tr>\n      <th>3</th>\n      <td>ACA</td>\n      <td>0.0</td>\n      <td>0.000000e+00</td>\n      <td>0.000000e+00</td>\n      <td>0.0</td>\n      <td>0.00000</td>\n      <td>0.000000</td>\n      <td>0.0</td>\n      <td>0.0</td>\n      <td>0.000000e+00</td>\n      <td>...</td>\n      <td>0.0</td>\n      <td>0.00000</td>\n      <td>0.0</td>\n      <td>0.0</td>\n      <td>0.0</td>\n      <td>0.0</td>\n      <td>0.0</td>\n      <td>0.0</td>\n      <td>0.0</td>\n      <td>0.0</td>\n    </tr>\n    <tr>\n      <th>4</th>\n      <td>ADA</td>\n      <td>0.0</td>\n      <td>1.301055e+07</td>\n      <td>2.288589e+07</td>\n      <td>1.0</td>\n      <td>42054.43468</td>\n      <td>268.036039</td>\n      <td>0.0</td>\n      <td>0.0</td>\n      <td>1.129686e+08</td>\n      <td>...</td>\n      <td>0.0</td>\n      <td>0.00000</td>\n      <td>0.0</td>\n      <td>0.0</td>\n      <td>0.0</td>\n      <td>0.0</td>\n      <td>0.0</td>\n      <td>0.0</td>\n      <td>0.0</td>\n      <td>0.0</td>\n    </tr>\n    <tr>\n      <th>...</th>\n      <td>...</td>\n      <td>...</td>\n      <td>...</td>\n      <td>...</td>\n      <td>...</td>\n      <td>...</td>\n      <td>...</td>\n      <td>...</td>\n      <td>...</td>\n      <td>...</td>\n      <td>...</td>\n      <td>...</td>\n      <td>...</td>\n      <td>...</td>\n      <td>...</td>\n      <td>...</td>\n      <td>...</td>\n      <td>...</td>\n      <td>...</td>\n      <td>...</td>\n      <td>...</td>\n    </tr>\n    <tr>\n      <th>116</th>\n      <td>yveCRV-DAO</td>\n      <td>0.0</td>\n      <td>0.000000e+00</td>\n      <td>0.000000e+00</td>\n      <td>0.0</td>\n      <td>0.00000</td>\n      <td>0.000000</td>\n      <td>0.0</td>\n      <td>0.0</td>\n      <td>0.000000e+00</td>\n      <td>...</td>\n      <td>0.0</td>\n      <td>0.00000</td>\n      <td>0.0</td>\n      <td>0.0</td>\n      <td>0.0</td>\n      <td>0.0</td>\n      <td>0.0</td>\n      <td>0.0</td>\n      <td>0.0</td>\n      <td>0.0</td>\n    </tr>\n    <tr>\n      <th>117</th>\n      <td>ZEC</td>\n      <td>0.0</td>\n      <td>6.054274e+04</td>\n      <td>3.732548e+04</td>\n      <td>0.0</td>\n      <td>0.00000</td>\n      <td>0.000000</td>\n      <td>0.0</td>\n      <td>0.0</td>\n      <td>1.300000e+04</td>\n      <td>...</td>\n      <td>0.0</td>\n      <td>0.00000</td>\n      <td>0.0</td>\n      <td>0.0</td>\n      <td>0.0</td>\n      <td>0.0</td>\n      <td>0.0</td>\n      <td>0.0</td>\n      <td>0.0</td>\n      <td>0.0</td>\n    </tr>\n    <tr>\n      <th>118</th>\n      <td>ZRX</td>\n      <td>0.0</td>\n      <td>1.145795e+04</td>\n      <td>8.317508e+05</td>\n      <td>0.0</td>\n      <td>0.00000</td>\n      <td>272.880000</td>\n      <td>0.0</td>\n      <td>0.0</td>\n      <td>9.200000e+06</td>\n      <td>...</td>\n      <td>0.0</td>\n      <td>0.00000</td>\n      <td>0.0</td>\n      <td>0.0</td>\n      <td>0.0</td>\n      <td>0.0</td>\n      <td>0.0</td>\n      <td>0.0</td>\n      <td>0.0</td>\n      <td>0.0</td>\n    </tr>\n    <tr>\n      <th>119</th>\n      <td>ZUSD</td>\n      <td>0.0</td>\n      <td>0.000000e+00</td>\n      <td>7.745450e+05</td>\n      <td>0.0</td>\n      <td>0.00000</td>\n      <td>0.000000</td>\n      <td>0.0</td>\n      <td>0.0</td>\n      <td>0.000000e+00</td>\n      <td>...</td>\n      <td>0.0</td>\n      <td>0.00000</td>\n      <td>0.0</td>\n      <td>0.0</td>\n      <td>0.0</td>\n      <td>0.0</td>\n      <td>0.0</td>\n      <td>0.0</td>\n      <td>0.0</td>\n      <td>0.0</td>\n    </tr>\n    <tr>\n      <th>120</th>\n      <td>SRM_LOCKED</td>\n      <td>0.0</td>\n      <td>0.000000e+00</td>\n      <td>0.000000e+00</td>\n      <td>0.0</td>\n      <td>0.00000</td>\n      <td>0.000000</td>\n      <td>0.0</td>\n      <td>0.0</td>\n      <td>0.000000e+00</td>\n      <td>...</td>\n      <td>0.0</td>\n      <td>0.00000</td>\n      <td>0.0</td>\n      <td>0.0</td>\n      <td>0.0</td>\n      <td>0.0</td>\n      <td>0.0</td>\n      <td>0.0</td>\n      <td>0.0</td>\n      <td>0.0</td>\n    </tr>\n  </tbody>\n</table>\n<p>121 rows × 234 columns</p>\n</div>"
     },
     "execution_count": 32,
     "metadata": {},
     "output_type": "execute_result"
    }
   ],
   "source": [
    "# merge 3 dataframes together, coin stats/Defi assets/FTX summary\n",
    "coin_stats = stats.merge(defi, on = \"Coin\", how = \"outer\")\n",
    "coin_stats = coin_stats.merge(ftx, on = \"Coin\", how = \"outer\")\n",
    "#coin_stats = coin_stats.merge(ftx_cnc, on='Coin', how='outer')\n",
    "coin_stats.fillna(value = 0, inplace = True)\n",
    "coin_stats_col = []\n",
    "for col in coin_stats.columns:\n",
    "    coin_stats_col.append(col.strip())\n",
    "coin_stats.columns = coin_stats_col\n",
    "len(coin_stats.columns)\n",
    "coin_stats"
   ]
  },
  {
   "cell_type": "code",
   "execution_count": 33,
   "id": "50d83792",
   "metadata": {},
   "outputs": [],
   "source": [
    "# get a list of coins in the above dataframe and add \"Stable Coins\" into that list\n",
    "coin_list = list(coin_stats[\"Coin\"].unique())\n",
    "coin_list.append(\"Stable Coins\")\n",
    "#coin_list"
   ]
  },
  {
   "cell_type": "code",
   "execution_count": 34,
   "id": "8871cf60",
   "metadata": {},
   "outputs": [
    {
     "data": {
      "text/plain": "253"
     },
     "execution_count": 34,
     "metadata": {},
     "output_type": "execute_result"
    }
   ],
   "source": [
    "acc_list = np.asarray(tiers[\"Account\"])\n",
    "len(acc_list)"
   ]
  },
  {
   "cell_type": "code",
   "execution_count": 35,
   "id": "154331b1",
   "metadata": {},
   "outputs": [
    {
     "data": {
      "text/plain": "['Coin',\n 'DeFi Borrows - Collateral',\n 'DeFi Borrows - Tokens',\n 'DeFi Assets - Assets',\n 'FTX',\n 'FTX Hedge',\n 'DD - Vesper - AVAX',\n 'CEL Buying activity',\n 'Deployment - Vesper (OLD DO NOT USE)',\n 'SGB Staking',\n 'FTX - DeFi Perpswap',\n 'FTX - DEFI_REWARDFOCUS_FTX',\n 'FTX - DEFI-Margin',\n 'FTX - TREASURY_OTHER_LOANLIQUIDATIONS_FTX']"
     },
     "execution_count": 35,
     "metadata": {},
     "output_type": "execute_result"
    }
   ],
   "source": [
    "# this block and the following block are meant to show which accounts from coin recon sheet are not listed \n",
    "# in tier/apy sheet, or which accounts listed in the tier/apy data no longer exists in coin recon sheet\n",
    "not_covered = []\n",
    "for col in coin_stats.columns:\n",
    "    if col not in acc_list:\n",
    "        not_covered.append(col)\n",
    "not_covered    "
   ]
  },
  {
   "cell_type": "code",
   "execution_count": 36,
   "id": "399afa5b",
   "metadata": {},
   "outputs": [
    {
     "data": {
      "text/plain": "['Impermanent_loss_hedge__RonSabo',\n 'Hedge_Options',\n 'FTX - Johannes',\n 'OKEX',\n 'Deployment - Vesper',\n 'YD - Compound - WBTC',\n 'BlockDemon ETH Staking',\n 'DD - Vesper - AVAX\\n',\n 'Deployment - Stable Coin Swaps',\n 'Deployment Team - COMP supply',\n 'Deployment- 1INCH Staking',\n 'Convex: cvxBUSD3CRV-f',\n 'FTX - LONG1',\n 'YD - Curve - SBTC',\n 'YD - Keeper - renBTC',\n 'MATIC Staking 7',\n 'Deployment - 1INCH Staking (testing)',\n 'YD - Curve - alUSD',\n 'DD - SYNAPSIS - WETH/Arbitrum',\n 'DD - SYNAPSIS - WETH/Optimism',\n 'DD - SYNAPSIS - USD/Avalanche',\n 'DD - SYNAPSIS - USD/Polygon',\n 'DD - Benqi - Avalanche',\n 'SGB',\n 'DD-Anchor-Terra',\n 'SGB Staking 2',\n 'FTX - CS_HEDGING_HDG3_FTX',\n 'FTX - CEFI_YIELD_FF1_FTX',\n 'FTX - CEFI_TACTICAL_STRAT2_FTX',\n 'FTX - CEFI_TACTICAL_ACT1_FTX',\n 'FTX - TREASURY_EXCHANGELEND_SPOTLEND_FTX',\n 'RD - MARS - TerraUST',\n 'DD - Astroport - stLuna']"
     },
     "execution_count": 36,
     "metadata": {},
     "output_type": "execute_result"
    }
   ],
   "source": [
    "not_covered = []\n",
    "for col in acc_list:\n",
    "    if col not in coin_stats.columns:\n",
    "        not_covered.append(col)\n",
    "not_covered"
   ]
  },
  {
   "cell_type": "code",
   "execution_count": 37,
   "id": "41af1d16",
   "metadata": {},
   "outputs": [],
   "source": [
    "# transpose coin_stats to get it in right shape\n",
    "account_toremove = ['DeFi Borrows - Assets', 'DeFi Assets - Assets', \"FTX\",\n",
    "                   \"DeFi Borrows - Collateral\", \"DeFi Borrows - Tokens\"]\n",
    "coin_stats_t = coin_stats.T\n",
    "new_header = coin_stats_t.iloc[0] #grab the first row for the header\n",
    "coin_stats_t = coin_stats_t[1:] #take the data less the header row\n",
    "coin_stats_t.columns = new_header #set the header row as the df header\n",
    "coin_stats_t.reset_index(inplace = True)\n",
    "coin_stats_t.rename(columns={coin_stats_t.columns[0]: \"Account\" }, inplace = True)\n",
    "coin_stats_t.reset_index(drop=True, inplace = True)\n",
    "#coin_stats_t = coin_stats_t[coin_stats_t[\"Account\"] != \"Defi Assets\"]\n",
    "coin_stats_t = coin_stats_t[~coin_stats_t[\"Account\"].isin(account_toremove)]\n"
   ]
  },
  {
   "cell_type": "code",
   "execution_count": 38,
   "outputs": [
    {
     "data": {
      "text/plain": "Coin                                    Account        1INCH 3CRV  \\\n0                               Bank - Balances          0.0  0.0   \n1                  Celsius Network Limited (UK)          0.0  0.0   \n2                      Celsius Network LLC (US)  229878.1805  0.0   \n3                   Celsius Network EU UAB (LT)          0.0  0.0   \n4                                   Celsius OTC          0.0  0.0   \n..                                          ...          ...  ...   \n228                   FTX - CS_HEDGING_HDG5_FTX          0.0  0.0   \n229                        FTX - DeFI_EVENT_FTX          0.0  0.0   \n230                  FTX - DEFI_REWARDFOCUS_FTX          0.0  0.0   \n231                           FTX - DEFI-Margin          0.0  0.0   \n232   FTX - TREASURY_OTHER_LOANLIQUIDATIONS_FTX          0.0  0.0   \n\nCoin         AAVE  ACA          ADA agEUR ALCX ALICE ALPHA  ...          XLM  \\\n0             0.0  0.0          0.0   0.0  0.0   0.0   0.0  ...          0.0   \n1     3521.570175  0.0  13010549.41   0.0  0.0   0.0   0.0  ...  25247699.21   \n2     4522.092378  0.0  22885891.39   0.0  0.0   0.0   0.0  ...  8948629.922   \n3             0.0  0.0          1.0   0.0  0.0   0.0   0.0  ...          0.0   \n4             0.0  0.0  42054.43468   0.0  0.0   0.0   0.0  ...  55117.47819   \n..            ...  ...          ...   ...  ...   ...   ...  ...          ...   \n228           0.0  0.0          0.0   0.0  0.0   0.0   0.0  ...          0.0   \n229           0.0  0.0          0.0   0.0  0.0   0.0   0.0  ...          0.0   \n230           0.0  0.0          0.0   0.0  0.0   0.0   0.0  ...          0.0   \n231           0.0  0.0          0.0   0.0  0.0   0.0   0.0  ...          0.0   \n232           0.0  0.0          0.0   0.0  0.0   0.0   0.0  ...          0.0   \n\nCoin          XRP          XTZ       YFI  YFL yveCRV-DAO          ZEC  \\\n0             0.0          0.0       0.0  0.0        0.0          0.0   \n1     11622274.78    3801.0974    0.2277  0.0        0.0   60542.7374   \n2     274153.7329  167392.6587  1.720441  0.0        0.0  37325.47933   \n3     7203632.175          0.0       0.0  0.0        0.0          0.0   \n4     61107.73346   10020.4335       0.0  0.0        0.0          0.0   \n..            ...          ...       ...  ...        ...          ...   \n228           0.0          0.0       0.0  0.0        0.0          0.0   \n229           0.0          0.0       0.0  0.0        0.0          0.0   \n230           0.0          0.0       0.0  0.0        0.0          0.0   \n231           0.0          0.0       0.0  0.0        0.0          0.0   \n232           0.0          0.0       0.0  0.0        0.0          0.0   \n\nCoin          ZRX         ZUSD SRM_LOCKED  \n0             0.0          0.0        0.0  \n1     11457.95371          0.0        0.0  \n2      831750.792  774544.9598        0.0  \n3             0.0          0.0        0.0  \n4             0.0          0.0        0.0  \n..            ...          ...        ...  \n228           0.0          0.0        0.0  \n229           0.0          0.0        0.0  \n230           0.0          0.0        0.0  \n231           0.0          0.0        0.0  \n232           0.0          0.0        0.0  \n\n[229 rows x 122 columns]",
      "text/html": "<div>\n<style scoped>\n    .dataframe tbody tr th:only-of-type {\n        vertical-align: middle;\n    }\n\n    .dataframe tbody tr th {\n        vertical-align: top;\n    }\n\n    .dataframe thead th {\n        text-align: right;\n    }\n</style>\n<table border=\"1\" class=\"dataframe\">\n  <thead>\n    <tr style=\"text-align: right;\">\n      <th>Coin</th>\n      <th>Account</th>\n      <th>1INCH</th>\n      <th>3CRV</th>\n      <th>AAVE</th>\n      <th>ACA</th>\n      <th>ADA</th>\n      <th>agEUR</th>\n      <th>ALCX</th>\n      <th>ALICE</th>\n      <th>ALPHA</th>\n      <th>...</th>\n      <th>XLM</th>\n      <th>XRP</th>\n      <th>XTZ</th>\n      <th>YFI</th>\n      <th>YFL</th>\n      <th>yveCRV-DAO</th>\n      <th>ZEC</th>\n      <th>ZRX</th>\n      <th>ZUSD</th>\n      <th>SRM_LOCKED</th>\n    </tr>\n  </thead>\n  <tbody>\n    <tr>\n      <th>0</th>\n      <td>Bank - Balances</td>\n      <td>0.0</td>\n      <td>0.0</td>\n      <td>0.0</td>\n      <td>0.0</td>\n      <td>0.0</td>\n      <td>0.0</td>\n      <td>0.0</td>\n      <td>0.0</td>\n      <td>0.0</td>\n      <td>...</td>\n      <td>0.0</td>\n      <td>0.0</td>\n      <td>0.0</td>\n      <td>0.0</td>\n      <td>0.0</td>\n      <td>0.0</td>\n      <td>0.0</td>\n      <td>0.0</td>\n      <td>0.0</td>\n      <td>0.0</td>\n    </tr>\n    <tr>\n      <th>1</th>\n      <td>Celsius Network Limited (UK)</td>\n      <td>0.0</td>\n      <td>0.0</td>\n      <td>3521.570175</td>\n      <td>0.0</td>\n      <td>13010549.41</td>\n      <td>0.0</td>\n      <td>0.0</td>\n      <td>0.0</td>\n      <td>0.0</td>\n      <td>...</td>\n      <td>25247699.21</td>\n      <td>11622274.78</td>\n      <td>3801.0974</td>\n      <td>0.2277</td>\n      <td>0.0</td>\n      <td>0.0</td>\n      <td>60542.7374</td>\n      <td>11457.95371</td>\n      <td>0.0</td>\n      <td>0.0</td>\n    </tr>\n    <tr>\n      <th>2</th>\n      <td>Celsius Network LLC (US)</td>\n      <td>229878.1805</td>\n      <td>0.0</td>\n      <td>4522.092378</td>\n      <td>0.0</td>\n      <td>22885891.39</td>\n      <td>0.0</td>\n      <td>0.0</td>\n      <td>0.0</td>\n      <td>0.0</td>\n      <td>...</td>\n      <td>8948629.922</td>\n      <td>274153.7329</td>\n      <td>167392.6587</td>\n      <td>1.720441</td>\n      <td>0.0</td>\n      <td>0.0</td>\n      <td>37325.47933</td>\n      <td>831750.792</td>\n      <td>774544.9598</td>\n      <td>0.0</td>\n    </tr>\n    <tr>\n      <th>3</th>\n      <td>Celsius Network EU UAB (LT)</td>\n      <td>0.0</td>\n      <td>0.0</td>\n      <td>0.0</td>\n      <td>0.0</td>\n      <td>1.0</td>\n      <td>0.0</td>\n      <td>0.0</td>\n      <td>0.0</td>\n      <td>0.0</td>\n      <td>...</td>\n      <td>0.0</td>\n      <td>7203632.175</td>\n      <td>0.0</td>\n      <td>0.0</td>\n      <td>0.0</td>\n      <td>0.0</td>\n      <td>0.0</td>\n      <td>0.0</td>\n      <td>0.0</td>\n      <td>0.0</td>\n    </tr>\n    <tr>\n      <th>4</th>\n      <td>Celsius OTC</td>\n      <td>0.0</td>\n      <td>0.0</td>\n      <td>0.0</td>\n      <td>0.0</td>\n      <td>42054.43468</td>\n      <td>0.0</td>\n      <td>0.0</td>\n      <td>0.0</td>\n      <td>0.0</td>\n      <td>...</td>\n      <td>55117.47819</td>\n      <td>61107.73346</td>\n      <td>10020.4335</td>\n      <td>0.0</td>\n      <td>0.0</td>\n      <td>0.0</td>\n      <td>0.0</td>\n      <td>0.0</td>\n      <td>0.0</td>\n      <td>0.0</td>\n    </tr>\n    <tr>\n      <th>...</th>\n      <td>...</td>\n      <td>...</td>\n      <td>...</td>\n      <td>...</td>\n      <td>...</td>\n      <td>...</td>\n      <td>...</td>\n      <td>...</td>\n      <td>...</td>\n      <td>...</td>\n      <td>...</td>\n      <td>...</td>\n      <td>...</td>\n      <td>...</td>\n      <td>...</td>\n      <td>...</td>\n      <td>...</td>\n      <td>...</td>\n      <td>...</td>\n      <td>...</td>\n      <td>...</td>\n    </tr>\n    <tr>\n      <th>228</th>\n      <td>FTX - CS_HEDGING_HDG5_FTX</td>\n      <td>0.0</td>\n      <td>0.0</td>\n      <td>0.0</td>\n      <td>0.0</td>\n      <td>0.0</td>\n      <td>0.0</td>\n      <td>0.0</td>\n      <td>0.0</td>\n      <td>0.0</td>\n      <td>...</td>\n      <td>0.0</td>\n      <td>0.0</td>\n      <td>0.0</td>\n      <td>0.0</td>\n      <td>0.0</td>\n      <td>0.0</td>\n      <td>0.0</td>\n      <td>0.0</td>\n      <td>0.0</td>\n      <td>0.0</td>\n    </tr>\n    <tr>\n      <th>229</th>\n      <td>FTX - DeFI_EVENT_FTX</td>\n      <td>0.0</td>\n      <td>0.0</td>\n      <td>0.0</td>\n      <td>0.0</td>\n      <td>0.0</td>\n      <td>0.0</td>\n      <td>0.0</td>\n      <td>0.0</td>\n      <td>0.0</td>\n      <td>...</td>\n      <td>0.0</td>\n      <td>0.0</td>\n      <td>0.0</td>\n      <td>0.0</td>\n      <td>0.0</td>\n      <td>0.0</td>\n      <td>0.0</td>\n      <td>0.0</td>\n      <td>0.0</td>\n      <td>0.0</td>\n    </tr>\n    <tr>\n      <th>230</th>\n      <td>FTX - DEFI_REWARDFOCUS_FTX</td>\n      <td>0.0</td>\n      <td>0.0</td>\n      <td>0.0</td>\n      <td>0.0</td>\n      <td>0.0</td>\n      <td>0.0</td>\n      <td>0.0</td>\n      <td>0.0</td>\n      <td>0.0</td>\n      <td>...</td>\n      <td>0.0</td>\n      <td>0.0</td>\n      <td>0.0</td>\n      <td>0.0</td>\n      <td>0.0</td>\n      <td>0.0</td>\n      <td>0.0</td>\n      <td>0.0</td>\n      <td>0.0</td>\n      <td>0.0</td>\n    </tr>\n    <tr>\n      <th>231</th>\n      <td>FTX - DEFI-Margin</td>\n      <td>0.0</td>\n      <td>0.0</td>\n      <td>0.0</td>\n      <td>0.0</td>\n      <td>0.0</td>\n      <td>0.0</td>\n      <td>0.0</td>\n      <td>0.0</td>\n      <td>0.0</td>\n      <td>...</td>\n      <td>0.0</td>\n      <td>0.0</td>\n      <td>0.0</td>\n      <td>0.0</td>\n      <td>0.0</td>\n      <td>0.0</td>\n      <td>0.0</td>\n      <td>0.0</td>\n      <td>0.0</td>\n      <td>0.0</td>\n    </tr>\n    <tr>\n      <th>232</th>\n      <td>FTX - TREASURY_OTHER_LOANLIQUIDATIONS_FTX</td>\n      <td>0.0</td>\n      <td>0.0</td>\n      <td>0.0</td>\n      <td>0.0</td>\n      <td>0.0</td>\n      <td>0.0</td>\n      <td>0.0</td>\n      <td>0.0</td>\n      <td>0.0</td>\n      <td>...</td>\n      <td>0.0</td>\n      <td>0.0</td>\n      <td>0.0</td>\n      <td>0.0</td>\n      <td>0.0</td>\n      <td>0.0</td>\n      <td>0.0</td>\n      <td>0.0</td>\n      <td>0.0</td>\n      <td>0.0</td>\n    </tr>\n  </tbody>\n</table>\n<p>229 rows × 122 columns</p>\n</div>"
     },
     "execution_count": 38,
     "metadata": {},
     "output_type": "execute_result"
    }
   ],
   "source": [
    "coin_stats_t"
   ],
   "metadata": {
    "collapsed": false,
    "pycharm": {
     "name": "#%%\n"
    }
   }
  },
  {
   "cell_type": "code",
   "execution_count": 39,
   "id": "11f2673f",
   "metadata": {},
   "outputs": [],
   "source": [
    "# adding Tier info\n",
    "coin_stat_tier = tiers.merge(coin_stats_t, on = \"Account\", how = \"right\")\n",
    "#coin_stat_tier[\"Tier\"].fillna(value = \"unknown\", inplace = True)\n",
    "\n",
    "coin_stat_tier['Stable Coins']= coin_stat_tier[stables].sum(axis=1)\n",
    "#coin_stat_tier.to_excel(\"excel_outputs/coin_stats_tier_live.xlsx\", index = False)\n",
    "\n",
    "#print(len(coin_stat_tier[coin_stat_tier[\"Tier\"] == \"unknown\"]))\n",
    "coin_stat_tier[\"Tier\"] = coin_stat_tier[\"Tier\"].astype(\"str\")"
   ]
  },
  {
   "cell_type": "code",
   "execution_count": 40,
   "id": "7fbdf14b",
   "metadata": {},
   "outputs": [
    {
     "data": {
      "text/plain": "['alUSD_yield',\n 'BUSD_yield',\n 'GUSD_yield',\n 'LUSD_yield',\n 'LUSD Curve_yield',\n 'MCDAI_yield',\n 'PAX_yield',\n 'SUSD_yield',\n 'TUSD_yield',\n 'USDC_yield',\n 'USDT ERC20_yield',\n 'ZUSD_yield',\n 'USD_yield']"
     },
     "execution_count": 40,
     "metadata": {},
     "output_type": "execute_result"
    }
   ],
   "source": [
    "# to calculate stable coin apy, we need to calculate for each stable coin yield = # of each stable coin * apy of each stable\n",
    "# and stable coin apy = sum of all stable coin yiled / total # of stable coins\n",
    "# this prepares a list of columns needed to be summed.\n",
    "stable_yield = []\n",
    "for coin in stables:\n",
    "    stable_yield.append(coin+\"_yield\")\n",
    "stable_yield"
   ]
  },
  {
   "cell_type": "code",
   "execution_count": 41,
   "id": "515da3a8-46d7-4ae0-bfb7-a5cb97aad39c",
   "metadata": {},
   "outputs": [],
   "source": [
    "# ADD --------------------------\n",
    "# ------------------------------\n",
    "# I need to add a function that will fill _APY columns with the default values\n",
    "def default_fill(row):\n",
    "    if ~ np.isnan(row['Default_APY']): \n",
    "        row.loc[apy_cols] = row[apy_cols].fillna(row['Default_APY'])\n",
    "    return row"
   ]
  },
  {
   "cell_type": "code",
   "execution_count": 42,
   "id": "fc5eda05",
   "metadata": {},
   "outputs": [
    {
     "name": "stderr",
     "output_type": "stream",
     "text": [
      "/var/folders/q7/qhj4q23x49vb9f__hlp8t3280000gn/T/ipykernel_42064/2925171909.py:16: PerformanceWarning: DataFrame is highly fragmented.  This is usually the result of calling `frame.insert` many times, which has poor performance.  Consider joining all columns at once using pd.concat(axis=1) instead.  To get a de-fragmented frame, use `newframe = frame.copy()`\n",
      "  coin_stat_tier_apy[yield_name] = coin_stat_tier_apy[coin] * coin_stat_tier_apy[coin_apy]\n",
      "/var/folders/q7/qhj4q23x49vb9f__hlp8t3280000gn/T/ipykernel_42064/2925171909.py:18: PerformanceWarning: DataFrame is highly fragmented.  This is usually the result of calling `frame.insert` many times, which has poor performance.  Consider joining all columns at once using pd.concat(axis=1) instead.  To get a de-fragmented frame, use `newframe = frame.copy()`\n",
      "  coin_stat_tier_apy[yield_name] = 0\n",
      "/var/folders/q7/qhj4q23x49vb9f__hlp8t3280000gn/T/ipykernel_42064/2925171909.py:19: PerformanceWarning: DataFrame is highly fragmented.  This is usually the result of calling `frame.insert` many times, which has poor performance.  Consider joining all columns at once using pd.concat(axis=1) instead.  To get a de-fragmented frame, use `newframe = frame.copy()`\n",
      "  coin_stat_tier_apy[coin_apy] = np.nan\n"
     ]
    }
   ],
   "source": [
    "# calculate the yield = # of coins * apy for each coin\n",
    "coin_stat_tier_apy = coin_stat_tier.merge(apy5, on=\"Account\", how=\"left\")\n",
    "# coin_stat_tier_apy.fillna(value = 0, inplace = True)\n",
    "\n",
    "# --------- ADD GAB - Replace NA APY by the corresponding Default APY values if it exists -------------------\n",
    "apy_cols = ['_APY' in col for col in coin_stat_tier_apy.columns]\n",
    "coin_stat_tier_apy = coin_stat_tier_apy.apply(default_fill, axis=1, result_type='broadcast')\n",
    "coin_stat_tier_apy['Stable Coins'] = coin_stat_tier_apy['Stable Coins'].astype(np.float64)\n",
    "coin_stat_tier_apy = coin_stat_tier_apy.loc[:, ~coin_stat_tier_apy.columns.duplicated()]\n",
    "# coin_stat_tier_apy.to_excel(\"C:/celsius/Liquidity/coin_stat_tier_apy.xlsx\", index = False)\n",
    "for coin in coin_list:\n",
    "    # print(coin)\n",
    "    yield_name = coin + \"_yield\"\n",
    "    coin_apy = coin + \"_APY\"\n",
    "    if coin_apy in coin_stat_tier_apy.columns:\n",
    "        coin_stat_tier_apy[yield_name] = coin_stat_tier_apy[coin] * coin_stat_tier_apy[coin_apy]\n",
    "    else:\n",
    "        coin_stat_tier_apy[yield_name] = 0\n",
    "        coin_stat_tier_apy[coin_apy] = np.nan\n",
    "coin_stat_tier_apy['Stable Coins_yield'] = coin_stat_tier_apy[stable_yield].sum(axis=1)\n",
    "coin_stat_tier_apy['Stable Coins_APY'] = coin_stat_tier_apy['Stable Coins_yield'] / coin_stat_tier_apy[\n",
    "    'Stable Coins']"
   ]
  },
  {
   "cell_type": "code",
   "execution_count": 43,
   "id": "6736761e-1a44-47a0-ba9a-8fbf51c0e8a0",
   "metadata": {},
   "outputs": [
    {
     "data": {
      "text/plain": "  Default_APY 1INCH_APY am3CRV_APY 3CRV_APY AAVE_APY ADA_APY agEUR_APY  \\\n0         0.0       0.0        0.0      0.0      0.0     0.0       0.0   \n1         0.0       0.0        0.0      0.0      0.0     0.0       0.0   \n2         0.0       0.0        0.0      0.0      0.0     0.0       0.0   \n3         0.0       0.0        0.0      0.0      0.0     0.0       0.0   \n4         0.0       0.0        0.0      0.0      0.0     0.0       0.0   \n\n  ALCX_APY ALICE_APY ALPHA_APY  ... check_account_APY All Coins_APY ACA_APY  \\\n0      0.0       0.0       0.0  ...               1.0           0.0     NaN   \n1      0.0       0.0       0.0  ...               1.0           0.0     NaN   \n2      0.0       0.0       0.0  ...               1.0           0.0     NaN   \n3      0.0       0.0       0.0  ...               1.0           0.0     NaN   \n4      0.0       0.0       0.0  ...               1.0           0.0     NaN   \n\n  BETH_APY cxBTC_APY DOGE_APY KIN_APY MSOL_APY QRDO_APY Stable Coins_APY  \n0      NaN       NaN      NaN     NaN      NaN      NaN              0.0  \n1      NaN       NaN      NaN     NaN      NaN      NaN              0.0  \n2      NaN       NaN      NaN     NaN      NaN      NaN              0.0  \n3      NaN       NaN      NaN     NaN      NaN      NaN              0.0  \n4      NaN       NaN      NaN     NaN      NaN      NaN              0.0  \n\n[5 rows x 152 columns]",
      "text/html": "<div>\n<style scoped>\n    .dataframe tbody tr th:only-of-type {\n        vertical-align: middle;\n    }\n\n    .dataframe tbody tr th {\n        vertical-align: top;\n    }\n\n    .dataframe thead th {\n        text-align: right;\n    }\n</style>\n<table border=\"1\" class=\"dataframe\">\n  <thead>\n    <tr style=\"text-align: right;\">\n      <th></th>\n      <th>Default_APY</th>\n      <th>1INCH_APY</th>\n      <th>am3CRV_APY</th>\n      <th>3CRV_APY</th>\n      <th>AAVE_APY</th>\n      <th>ADA_APY</th>\n      <th>agEUR_APY</th>\n      <th>ALCX_APY</th>\n      <th>ALICE_APY</th>\n      <th>ALPHA_APY</th>\n      <th>...</th>\n      <th>check_account_APY</th>\n      <th>All Coins_APY</th>\n      <th>ACA_APY</th>\n      <th>BETH_APY</th>\n      <th>cxBTC_APY</th>\n      <th>DOGE_APY</th>\n      <th>KIN_APY</th>\n      <th>MSOL_APY</th>\n      <th>QRDO_APY</th>\n      <th>Stable Coins_APY</th>\n    </tr>\n  </thead>\n  <tbody>\n    <tr>\n      <th>0</th>\n      <td>0.0</td>\n      <td>0.0</td>\n      <td>0.0</td>\n      <td>0.0</td>\n      <td>0.0</td>\n      <td>0.0</td>\n      <td>0.0</td>\n      <td>0.0</td>\n      <td>0.0</td>\n      <td>0.0</td>\n      <td>...</td>\n      <td>1.0</td>\n      <td>0.0</td>\n      <td>NaN</td>\n      <td>NaN</td>\n      <td>NaN</td>\n      <td>NaN</td>\n      <td>NaN</td>\n      <td>NaN</td>\n      <td>NaN</td>\n      <td>0.0</td>\n    </tr>\n    <tr>\n      <th>1</th>\n      <td>0.0</td>\n      <td>0.0</td>\n      <td>0.0</td>\n      <td>0.0</td>\n      <td>0.0</td>\n      <td>0.0</td>\n      <td>0.0</td>\n      <td>0.0</td>\n      <td>0.0</td>\n      <td>0.0</td>\n      <td>...</td>\n      <td>1.0</td>\n      <td>0.0</td>\n      <td>NaN</td>\n      <td>NaN</td>\n      <td>NaN</td>\n      <td>NaN</td>\n      <td>NaN</td>\n      <td>NaN</td>\n      <td>NaN</td>\n      <td>0.0</td>\n    </tr>\n    <tr>\n      <th>2</th>\n      <td>0.0</td>\n      <td>0.0</td>\n      <td>0.0</td>\n      <td>0.0</td>\n      <td>0.0</td>\n      <td>0.0</td>\n      <td>0.0</td>\n      <td>0.0</td>\n      <td>0.0</td>\n      <td>0.0</td>\n      <td>...</td>\n      <td>1.0</td>\n      <td>0.0</td>\n      <td>NaN</td>\n      <td>NaN</td>\n      <td>NaN</td>\n      <td>NaN</td>\n      <td>NaN</td>\n      <td>NaN</td>\n      <td>NaN</td>\n      <td>0.0</td>\n    </tr>\n    <tr>\n      <th>3</th>\n      <td>0.0</td>\n      <td>0.0</td>\n      <td>0.0</td>\n      <td>0.0</td>\n      <td>0.0</td>\n      <td>0.0</td>\n      <td>0.0</td>\n      <td>0.0</td>\n      <td>0.0</td>\n      <td>0.0</td>\n      <td>...</td>\n      <td>1.0</td>\n      <td>0.0</td>\n      <td>NaN</td>\n      <td>NaN</td>\n      <td>NaN</td>\n      <td>NaN</td>\n      <td>NaN</td>\n      <td>NaN</td>\n      <td>NaN</td>\n      <td>0.0</td>\n    </tr>\n    <tr>\n      <th>4</th>\n      <td>0.0</td>\n      <td>0.0</td>\n      <td>0.0</td>\n      <td>0.0</td>\n      <td>0.0</td>\n      <td>0.0</td>\n      <td>0.0</td>\n      <td>0.0</td>\n      <td>0.0</td>\n      <td>0.0</td>\n      <td>...</td>\n      <td>1.0</td>\n      <td>0.0</td>\n      <td>NaN</td>\n      <td>NaN</td>\n      <td>NaN</td>\n      <td>NaN</td>\n      <td>NaN</td>\n      <td>NaN</td>\n      <td>NaN</td>\n      <td>0.0</td>\n    </tr>\n  </tbody>\n</table>\n<p>5 rows × 152 columns</p>\n</div>"
     },
     "execution_count": 43,
     "metadata": {},
     "output_type": "execute_result"
    }
   ],
   "source": [
    "apy_cols = ['_APY' in col for col in coin_stat_tier_apy.columns]\n",
    "coin_stat_tier_apy.loc[:,apy_cols].head()"
   ]
  },
  {
   "cell_type": "code",
   "execution_count": 44,
   "id": "610992f9",
   "metadata": {},
   "outputs": [],
   "source": [
    "# for each coin, groupy by tier so we have a dataframe containing coin level tier data\n",
    "# also calculating the apy for each coin on tier level\n",
    "for coin in coin_list:\n",
    "    #print(coin)\n",
    "    coin_yield = coin+\"_yield\"\n",
    "    coin_apy = coin+\"_APY\"\n",
    "    df1 = coin_stat_tier_apy[[coin, coin_yield, \"Tier\"]]\n",
    "    df2 = df1.groupby('Tier', as_index = False).agg({coin: \"sum\",\n",
    "                                                    coin_yield: \"sum\"})\n",
    "    df2[coin_apy] = df2[coin_yield]/ df2[coin]\n",
    "    df2.drop(columns = [coin_yield], inplace = True)\n",
    "    #display(df2)\n",
    "    coin_tiers = coin_tiers.merge(df2, on = \"Tier\", how = \"left\")\n",
    "coin_tiers.fillna(value = 0, inplace = True)\n",
    "#coin_tiers"
   ]
  },
  {
   "cell_type": "code",
   "execution_count": 45,
   "id": "c5f26e67",
   "metadata": {
    "scrolled": true
   },
   "outputs": [],
   "source": [
    "coin_tier_p1_cols = [\"Tier\"]\n",
    "coin_tier_p2_cols = [\"Tier\"]\n",
    "filter2 = coin_tiers[\"Tier\"] != \"unassigned\"\n",
    "for col in coin_tiers.columns:\n",
    "    if col != \"Tier\" and \"_APY\" in col:\n",
    "        coin_tier_p2_cols.append(col)\n",
    "    elif col != \"Tier\":\n",
    "        coin_tier_p1_cols.append(col)\n",
    "    else:\n",
    "        pass\n",
    "#print(len(coin_tier_p1_cols))\n",
    "#len(coin_tier_p2_cols)"
   ]
  },
  {
   "cell_type": "code",
   "execution_count": 46,
   "id": "ac4d3791",
   "metadata": {},
   "outputs": [],
   "source": [
    "coin_tier_p1 = coin_tiers[filter2][coin_tier_p1_cols].T\n",
    "coin_tier_p1.reset_index(inplace = True)\n",
    "coin_tier_p1.columns = coin_tier_p1.iloc[0]\n",
    "coin_tier_p1.drop([0], inplace = True)\n",
    "new_name = [\"Coin\"]\n",
    "for col in coin_tier_p1.columns:\n",
    "    if col != \"Tier\":\n",
    "        new_name.append(\"Coin_Tier_\"+str(col)[0])\n",
    "coin_tier_p1.columns = new_name\n",
    "#coin_tier_p1"
   ]
  },
  {
   "cell_type": "code",
   "execution_count": 47,
   "id": "17c2d1ed",
   "metadata": {},
   "outputs": [],
   "source": [
    "coin_tier_p2 = coin_tiers[filter2][coin_tier_p2_cols]\n",
    "coin_tier_p2.columns = coin_tier_p1_cols\n",
    "coin_tier_p2 = coin_tier_p2.T\n",
    "coin_tier_p2.reset_index(inplace = True)\n",
    "coin_tier_p2.columns = coin_tier_p2.iloc[0]\n",
    "coin_tier_p2.drop([0], inplace = True)\n",
    "new_name = [\"Coin\"]\n",
    "for col in coin_tier_p2.columns:\n",
    "    if col != \"Tier\":\n",
    "        new_name.append(\"APY_Tier_\"+str(col)[0])\n",
    "coin_tier_p2.columns = new_name\n",
    "#coin_tier_p2"
   ]
  },
  {
   "cell_type": "code",
   "execution_count": 48,
   "id": "a542fcb5",
   "metadata": {},
   "outputs": [],
   "source": [
    "coin_tiers = coin_tier_p1.merge(coin_tier_p2, on = \"Coin\", how = \"inner\")\n",
    "filter3 = ~coin_tiers[\"Coin\"].isin(stables)\n",
    "#coin_tiers.columns"
   ]
  },
  {
   "cell_type": "code",
   "execution_count": 49,
   "outputs": [
    {
     "data": {
      "text/plain": "Empty DataFrame\nColumns: [Account, Tier, 1INCH, 3CRV, AAVE, ACA, ADA, agEUR, ALCX, ALICE, ALPHA, alUSD, AMPL, ANKR, ATLAS, aUST, AVAX, BADGER, BAL, BAT, BCH, BETH, BNB, BNT, BOBA, BOND, BOR, BSV, BTC, BTG, BUSD, CEL, COMP, CREAM, CRV, CVX, cxADA, cxBTC, cxDOGE, cxETH, DASH, DIGG, DOGE, DOT, EOS, ETC, ETH, EURS, EURT, FARM, FEI, FIS, FRAX, FTM, FTT, GUSD, H2O, KIN, KNC, LDO, LINK, LPT, LQTY, LRC, LTC, LUNA, LUSD, LUSD Curve, MANA, MATIC, MCDAI, MKR, MSOL, OMG, ONX, ORBS, OUSD, PAX, PAXG, PNT, POLIS, QI, QRDO, RAY, REN, ROOK, sAVAX, SGA, SGB, SGR, SNX, SOL, SPARK, SRM, SUSD, SUSHI, TAUD, TCAD, TGBP, THKD, ...]\nIndex: []\n\n[0 rows x 398 columns]",
      "text/html": "<div>\n<style scoped>\n    .dataframe tbody tr th:only-of-type {\n        vertical-align: middle;\n    }\n\n    .dataframe tbody tr th {\n        vertical-align: top;\n    }\n\n    .dataframe thead th {\n        text-align: right;\n    }\n</style>\n<table border=\"1\" class=\"dataframe\">\n  <thead>\n    <tr style=\"text-align: right;\">\n      <th></th>\n      <th>Account</th>\n      <th>Tier</th>\n      <th>1INCH</th>\n      <th>3CRV</th>\n      <th>AAVE</th>\n      <th>ACA</th>\n      <th>ADA</th>\n      <th>agEUR</th>\n      <th>ALCX</th>\n      <th>ALICE</th>\n      <th>...</th>\n      <th>XTZ_yield</th>\n      <th>YFI_yield</th>\n      <th>YFL_yield</th>\n      <th>yveCRV-DAO_yield</th>\n      <th>ZEC_yield</th>\n      <th>ZRX_yield</th>\n      <th>ZUSD_yield</th>\n      <th>SRM_LOCKED_yield</th>\n      <th>Stable Coins_yield</th>\n      <th>Stable Coins_APY</th>\n    </tr>\n  </thead>\n  <tbody>\n  </tbody>\n</table>\n<p>0 rows × 398 columns</p>\n</div>"
     },
     "execution_count": 49,
     "metadata": {},
     "output_type": "execute_result"
    }
   ],
   "source": [
    "coin_stat_tier_apy[coin_stat_tier_apy['Account'] == 'DD - Badger - tBTC']"
   ],
   "metadata": {
    "collapsed": false,
    "pycharm": {
     "name": "#%%\n"
    }
   }
  },
  {
   "cell_type": "markdown",
   "id": "6776763b",
   "metadata": {},
   "source": [
    "## the below code is to generat the pivot_data tab"
   ]
  },
  {
   "cell_type": "code",
   "execution_count": 50,
   "outputs": [
    {
     "data": {
      "text/plain": "0       Coin                         Account  Tier 1  Tier 2  Tier 3  Tier 4  \\\n1      MATIC                  Direct Staking     0.0     0.0     1.0     0.0   \n2        ADA                  Direct Staking     0.0     1.0     0.0     0.0   \n3       WBTC          DD - Benqi - Avalanche     0.5     0.0     0.0     0.0   \n4       USDC           YD - AlphaHv2- USDC.e     0.0     1.0     0.0     0.0   \n5       USDT           YD - AlphaHv2- USDC.e     0.0     1.0     0.0     0.0   \n..       ...                             ...     ...     ...     ...     ...   \n271  miMATIC  dd - cx - Quickswap - Mai/USDC     1.0     0.0     0.0     0.0   \n272      USD  dd - cx - Quickswap - Mai/USDC     1.0     0.0     0.0     0.0   \n273     USDC  dd - cx - Quickswap - Mai/USDC     1.0     0.0     0.0     0.0   \n274      USD               DD - Anchor - UST     0.0     0.0     1.0     0.0   \n275      UST               DD - Anchor - UST     0.0     0.0     1.0     0.0   \n\n0    Tier 5  Tier 6  Check  \n1       0.0     0.0   True  \n2       0.0     0.0   True  \n3       0.0     0.5   True  \n4       0.0     0.0   True  \n5       0.0     0.0   True  \n..      ...     ...    ...  \n271     0.0     0.0   True  \n272     0.0     0.0   True  \n273     0.0     0.0   True  \n274     0.0     0.0   True  \n275     0.0     0.0   True  \n\n[275 rows x 9 columns]",
      "text/html": "<div>\n<style scoped>\n    .dataframe tbody tr th:only-of-type {\n        vertical-align: middle;\n    }\n\n    .dataframe tbody tr th {\n        vertical-align: top;\n    }\n\n    .dataframe thead th {\n        text-align: right;\n    }\n</style>\n<table border=\"1\" class=\"dataframe\">\n  <thead>\n    <tr style=\"text-align: right;\">\n      <th></th>\n      <th>Coin</th>\n      <th>Account</th>\n      <th>Tier 1</th>\n      <th>Tier 2</th>\n      <th>Tier 3</th>\n      <th>Tier 4</th>\n      <th>Tier 5</th>\n      <th>Tier 6</th>\n      <th>Check</th>\n    </tr>\n  </thead>\n  <tbody>\n    <tr>\n      <th>1</th>\n      <td>MATIC</td>\n      <td>Direct Staking</td>\n      <td>0.0</td>\n      <td>0.0</td>\n      <td>1.0</td>\n      <td>0.0</td>\n      <td>0.0</td>\n      <td>0.0</td>\n      <td>True</td>\n    </tr>\n    <tr>\n      <th>2</th>\n      <td>ADA</td>\n      <td>Direct Staking</td>\n      <td>0.0</td>\n      <td>1.0</td>\n      <td>0.0</td>\n      <td>0.0</td>\n      <td>0.0</td>\n      <td>0.0</td>\n      <td>True</td>\n    </tr>\n    <tr>\n      <th>3</th>\n      <td>WBTC</td>\n      <td>DD - Benqi - Avalanche</td>\n      <td>0.5</td>\n      <td>0.0</td>\n      <td>0.0</td>\n      <td>0.0</td>\n      <td>0.0</td>\n      <td>0.5</td>\n      <td>True</td>\n    </tr>\n    <tr>\n      <th>4</th>\n      <td>USDC</td>\n      <td>YD - AlphaHv2- USDC.e</td>\n      <td>0.0</td>\n      <td>1.0</td>\n      <td>0.0</td>\n      <td>0.0</td>\n      <td>0.0</td>\n      <td>0.0</td>\n      <td>True</td>\n    </tr>\n    <tr>\n      <th>5</th>\n      <td>USDT</td>\n      <td>YD - AlphaHv2- USDC.e</td>\n      <td>0.0</td>\n      <td>1.0</td>\n      <td>0.0</td>\n      <td>0.0</td>\n      <td>0.0</td>\n      <td>0.0</td>\n      <td>True</td>\n    </tr>\n    <tr>\n      <th>...</th>\n      <td>...</td>\n      <td>...</td>\n      <td>...</td>\n      <td>...</td>\n      <td>...</td>\n      <td>...</td>\n      <td>...</td>\n      <td>...</td>\n      <td>...</td>\n    </tr>\n    <tr>\n      <th>271</th>\n      <td>miMATIC</td>\n      <td>dd - cx - Quickswap - Mai/USDC</td>\n      <td>1.0</td>\n      <td>0.0</td>\n      <td>0.0</td>\n      <td>0.0</td>\n      <td>0.0</td>\n      <td>0.0</td>\n      <td>True</td>\n    </tr>\n    <tr>\n      <th>272</th>\n      <td>USD</td>\n      <td>dd - cx - Quickswap - Mai/USDC</td>\n      <td>1.0</td>\n      <td>0.0</td>\n      <td>0.0</td>\n      <td>0.0</td>\n      <td>0.0</td>\n      <td>0.0</td>\n      <td>True</td>\n    </tr>\n    <tr>\n      <th>273</th>\n      <td>USDC</td>\n      <td>dd - cx - Quickswap - Mai/USDC</td>\n      <td>1.0</td>\n      <td>0.0</td>\n      <td>0.0</td>\n      <td>0.0</td>\n      <td>0.0</td>\n      <td>0.0</td>\n      <td>True</td>\n    </tr>\n    <tr>\n      <th>274</th>\n      <td>USD</td>\n      <td>DD - Anchor - UST</td>\n      <td>0.0</td>\n      <td>0.0</td>\n      <td>1.0</td>\n      <td>0.0</td>\n      <td>0.0</td>\n      <td>0.0</td>\n      <td>True</td>\n    </tr>\n    <tr>\n      <th>275</th>\n      <td>UST</td>\n      <td>DD - Anchor - UST</td>\n      <td>0.0</td>\n      <td>0.0</td>\n      <td>1.0</td>\n      <td>0.0</td>\n      <td>0.0</td>\n      <td>0.0</td>\n      <td>True</td>\n    </tr>\n  </tbody>\n</table>\n<p>275 rows × 9 columns</p>\n</div>"
     },
     "execution_count": 50,
     "metadata": {},
     "output_type": "execute_result"
    }
   ],
   "source": [
    "tier_override.columns = tier_override.loc[0]\n",
    "tier_override = tier_override.loc[1:]\n",
    "tier_override.dropna(subset=['Coin'], inplace=True)\n",
    "tier_override.fillna(0, inplace=True)\n",
    "tier_override = tier_override[tier_override['Check']==True]\n",
    "tier_override"
   ],
   "metadata": {
    "collapsed": false,
    "pycharm": {
     "name": "#%%\n"
    }
   }
  },
  {
   "cell_type": "code",
   "execution_count": 51,
   "id": "2249d1b3",
   "metadata": {},
   "outputs": [
    {
     "data": {
      "text/plain": "Empty DataFrame\nColumns: [Coin, Category, Account, Tier, # of Coins, APY]\nIndex: []",
      "text/html": "<div>\n<style scoped>\n    .dataframe tbody tr th:only-of-type {\n        vertical-align: middle;\n    }\n\n    .dataframe tbody tr th {\n        vertical-align: top;\n    }\n\n    .dataframe thead th {\n        text-align: right;\n    }\n</style>\n<table border=\"1\" class=\"dataframe\">\n  <thead>\n    <tr style=\"text-align: right;\">\n      <th></th>\n      <th>Coin</th>\n      <th>Category</th>\n      <th>Account</th>\n      <th>Tier</th>\n      <th># of Coins</th>\n      <th>APY</th>\n    </tr>\n  </thead>\n  <tbody>\n  </tbody>\n</table>\n</div>"
     },
     "execution_count": 51,
     "metadata": {},
     "output_type": "execute_result"
    }
   ],
   "source": [
    "# Create df1 dataframe\n",
    "df2 = pd.DataFrame()\n",
    "some_dict = {\"Coin\":[], \"Category\":[], \"Account\": [], \"Tier\": [],\n",
    "             \"# of Coins\": [], \"APY\": []}\n",
    "df1 = pd.DataFrame.from_dict(some_dict)\n",
    "col_names = [\"Coin\", \"Category\", \"Account\", \"Tier\", \"# of Coins\",\n",
    "             \"APY\", \"COFA\", \"USD Value\", \"USD Value * COFA\",\n",
    "             \"USD Value * APY\", \"Deployment Status\", \"Manual\", \"CARRY\",\n",
    "             \"USD Value * CARRY\", \"Original Coin\", \"Risk Premium\", \"USD Value * Risk Premium\",\n",
    "             \"Credited Carry\", \"Amount Received $ * Credited Carry\"]\n",
    "df1"
   ]
  },
  {
   "cell_type": "code",
   "execution_count": 52,
   "id": "4b9ba65a-50e0-41ba-9330-2dc620962765",
   "metadata": {},
   "outputs": [],
   "source": [
    "# Fill df1 Dataframe coin by coin\n",
    "for coin in coin_list:\n",
    "    #if coin not in stables:\n",
    "    used_cols = [\"Account\", \"Tier\", coin, coin+\"_APY\"]\n",
    "    df2 = categories.merge(coin_stat_tier_apy[used_cols], on = \"Account\", how = \"right\")\n",
    "    df2[\"Coin\"] = coin\n",
    "    df2.rename(columns = {coin: \"# of Coins\", coin+\"_APY\": \"APY\"}, inplace = True)\n",
    "    df1 = pd.concat([df1, df2])\n",
    "\n",
    "filter1 = df1[\"# of Coins\"] > 10e-6\n",
    "df1 = df1[filter1]\n",
    "cats = list(df1[\"Category\"].unique())\n",
    "accs = list(df1[\"Account\"].unique())\n",
    "cofa_accts = list(cofa[\"Account\"].unique())\n",
    "cofa_accts.remove(\"Default\")\n",
    "carry_accts = list(carry2[\"Account\"].unique())\n",
    "#carry_accts.remove(\"Default\")\n",
    "#cofa_accts"
   ]
  },
  {
   "cell_type": "code",
   "execution_count": 53,
   "outputs": [],
   "source": [
    "# Add CnC\n",
    "# Positions\n",
    "pivot_data_cnc = pd.DataFrame()\n",
    "cnc_accounts = ['CEFI_YIELD_CNC1_FTX', 'CEFI_TACTICAL_STRAT1_FTX']\n",
    "cnc_accounts = ['FTX - ' + account for account in cnc_accounts]\n",
    "for account in cnc_accounts:\n",
    "    pivot_cnc = ftx_cnc[['Coin','Future'] + [account]]\n",
    "    filter = pivot_cnc[account] !=0\n",
    "    pivot_cnc = pivot_cnc[filter]\n",
    "    pivot_cnc_apy = pivot_cnc.merge(cnc_apy, on='Coin', how='left')\n",
    "    pivot_cnc_apy.columns = ['Coin','Original Coin', '# of Coins', 'APY']\n",
    "    pivot_cnc_apy['Account'] = account\n",
    "    # Handle Short vs Long positions\n",
    "    short_filter = pivot_cnc_apy['# of Coins']>0\n",
    "    pivot_cnc_apy.loc[short_filter, 'APY'] = -pivot_cnc_apy.loc[short_filter, 'APY']\n",
    "\n",
    "    long_filter = pivot_cnc_apy['# of Coins']<0\n",
    "    pivot_cnc_apy.loc[long_filter, 'Original Coin'] = pivot_cnc_apy.loc[long_filter, 'Coin']\n",
    "    pivot_cnc_apy.loc[long_filter, 'Coin'] = 'USD'\n",
    "    #Add tier\n",
    "    pivot_cnc_apy_tier = pivot_cnc_apy.merge(tiers, on='Account', how='left')\n",
    "    pivot_cnc_apy['# of Coins'] = pivot_cnc_apy['# of Coins']\n",
    "    pivot_data_cnc = pd.concat([pivot_data_cnc,pivot_cnc_apy_tier])\n",
    "pivot_data_cnc['Category'] = 'Exchange'"
   ],
   "metadata": {
    "collapsed": false,
    "pycharm": {
     "name": "#%%\n"
    }
   }
  },
  {
   "cell_type": "code",
   "execution_count": 54,
   "id": "863d16f7-f4f5-4fe9-a4cd-7d6be885920a",
   "metadata": {},
   "outputs": [
    {
     "name": "stderr",
     "output_type": "stream",
     "text": [
      "/var/folders/q7/qhj4q23x49vb9f__hlp8t3280000gn/T/ipykernel_42064/1071538988.py:18: SettingWithCopyWarning: \n",
      "A value is trying to be set on a copy of a slice from a DataFrame.\n",
      "Try using .loc[row_indexer,col_indexer] = value instead\n",
      "\n",
      "See the caveats in the documentation: https://pandas.pydata.org/pandas-docs/stable/user_guide/indexing.html#returning-a-view-versus-a-copy\n",
      "  df2_p2[tab] = df2_p2[f\"{tab}-2\"]\n",
      "/Users/gabrielchoukroun/.conda/envs/waterfall_python/lib/python3.10/site-packages/pandas/core/frame.py:4906: SettingWithCopyWarning: \n",
      "A value is trying to be set on a copy of a slice from a DataFrame\n",
      "\n",
      "See the caveats in the documentation: https://pandas.pydata.org/pandas-docs/stable/user_guide/indexing.html#returning-a-view-versus-a-copy\n",
      "  return super().drop(\n"
     ]
    }
   ],
   "source": [
    "# Add cofa\n",
    "def add_cofa_carry(df1, cofa, cofa_accts, tab=\"COFA\"):\n",
    "    default_cofa = cofa[cofa[\"Account\"] == \"Default\"][[\"Coin\", tab]]\n",
    "    df2 = df1.merge(default_cofa, on = \"Coin\", how = \"left\")\n",
    "    for col in cofa_accts:\n",
    "        #print(col)\n",
    "        cofa_2 = cofa[cofa[\"Account\"] == col]\n",
    "        if col in cats:\n",
    "            cofa_2.columns = [\"Coin\", \"Category\", f\"{tab}-2\"]\n",
    "            df2 = df2.merge(cofa_2, on=[\"Coin\", \"Category\"], how='left')\n",
    "        elif col in accs:\n",
    "            cofa_2.columns = [\"Coin\", \"Account\", f\"{tab}-2\"]\n",
    "            df2 = df2.merge(cofa_2, on=[\"Coin\", \"Account\"], how='left')\n",
    "        else:\n",
    "            continue\n",
    "        df2_p1 = df2[df2[f\"{tab}-2\"].isnull()].drop(columns = [f\"{tab}-2\"])\n",
    "        df2_p2 = df2[df2[f\"{tab}-2\"].notnull()]\n",
    "        df2_p2[tab] = df2_p2[f\"{tab}-2\"]\n",
    "        df2_p2.drop(columns = [f\"{tab}-2\"], inplace = True)\n",
    "        df2 = pd.concat([df2_p1, df2_p2])\n",
    "        df2.sort_values(by = [\"Coin\"], inplace = True)\n",
    "    return df2\n",
    "df2 = add_cofa_carry(df1, cofa, cofa_accts)\n",
    "pivot_data_cnc2 = add_cofa_carry(pivot_data_cnc, cofa, cofa_accts)\n",
    "# STABLE COFA\n",
    "cond = (df2['Coin'].isin(stables)) & (df2['Account'].isin(cofa_accts))\n",
    "df2.loc[cond, 'COFA'] = df2.loc[cond, 'COFA'].fillna(0)\n",
    "cond = (cofa['Coin'].isin(['Stable Coins'])) & (cofa['Account'].isin(['Default']))\n",
    "stable_cofa = cofa.loc[cond,'COFA'].values[0]\n",
    "df2.loc[df2['Coin'].isin(stables), 'COFA'] = df2.loc[df2['Coin'].isin(stables), 'COFA'].fillna(stable_cofa)\n",
    "\n",
    "# CONCAT cnc2 to df2\n",
    "df2['Original Coin'] = df2['Coin']\n",
    "df2 = pd.concat([df2,pivot_data_cnc2])"
   ]
  },
  {
   "cell_type": "code",
   "execution_count": 55,
   "outputs": [],
   "source": [
    "# Add Manual Adjustements\n",
    "manual_adjustements['Manual'] = True\n",
    "df2['Manual'] = False\n",
    "df2 = pd.concat([df2,manual_adjustements]).reset_index(drop=True)"
   ],
   "metadata": {
    "collapsed": false,
    "pycharm": {
     "name": "#%%\n"
    }
   }
  },
  {
   "cell_type": "code",
   "execution_count": 56,
   "outputs": [
    {
     "data": {
      "text/plain": "     Coin    Category                       Account Tier   # of Coins  APY  \\\n1043  XTZ  undeployed      Celsius Network LLC (US)    1  167392.6587  0.0   \n1044  XTZ  undeployed                   Celsius OTC    1   10020.4335  0.0   \n1045  XTZ  undeployed  Celsius Network Limited (UK)    1    3801.0974  0.0   \n\n      COFA Original Coin  Manual  \n1043   NaN           XTZ   False  \n1044   NaN           XTZ   False  \n1045   NaN           XTZ   False  ",
      "text/html": "<div>\n<style scoped>\n    .dataframe tbody tr th:only-of-type {\n        vertical-align: middle;\n    }\n\n    .dataframe tbody tr th {\n        vertical-align: top;\n    }\n\n    .dataframe thead th {\n        text-align: right;\n    }\n</style>\n<table border=\"1\" class=\"dataframe\">\n  <thead>\n    <tr style=\"text-align: right;\">\n      <th></th>\n      <th>Coin</th>\n      <th>Category</th>\n      <th>Account</th>\n      <th>Tier</th>\n      <th># of Coins</th>\n      <th>APY</th>\n      <th>COFA</th>\n      <th>Original Coin</th>\n      <th>Manual</th>\n    </tr>\n  </thead>\n  <tbody>\n    <tr>\n      <th>1043</th>\n      <td>XTZ</td>\n      <td>undeployed</td>\n      <td>Celsius Network LLC (US)</td>\n      <td>1</td>\n      <td>167392.6587</td>\n      <td>0.0</td>\n      <td>NaN</td>\n      <td>XTZ</td>\n      <td>False</td>\n    </tr>\n    <tr>\n      <th>1044</th>\n      <td>XTZ</td>\n      <td>undeployed</td>\n      <td>Celsius OTC</td>\n      <td>1</td>\n      <td>10020.4335</td>\n      <td>0.0</td>\n      <td>NaN</td>\n      <td>XTZ</td>\n      <td>False</td>\n    </tr>\n    <tr>\n      <th>1045</th>\n      <td>XTZ</td>\n      <td>undeployed</td>\n      <td>Celsius Network Limited (UK)</td>\n      <td>1</td>\n      <td>3801.0974</td>\n      <td>0.0</td>\n      <td>NaN</td>\n      <td>XTZ</td>\n      <td>False</td>\n    </tr>\n  </tbody>\n</table>\n</div>"
     },
     "execution_count": 56,
     "metadata": {},
     "output_type": "execute_result"
    }
   ],
   "source": [
    "first_accounts = ['Celsius Network Limited (UK)', 'Celsius Network LLC (US)' ]\n",
    "df2[(df2['Account'].isin(first_accounts + ['Celsius OTC'])) & (df2['Coin']=='XTZ')]"
   ],
   "metadata": {
    "collapsed": false,
    "pycharm": {
     "name": "#%%\n"
    }
   }
  },
  {
   "cell_type": "code",
   "execution_count": 57,
   "outputs": [
    {
     "name": "stderr",
     "output_type": "stream",
     "text": [
      "/var/folders/q7/qhj4q23x49vb9f__hlp8t3280000gn/T/ipykernel_42064/2487049138.py:36: SettingWithCopyWarning: \n",
      "A value is trying to be set on a copy of a slice from a DataFrame.\n",
      "Try using .loc[row_indexer,col_indexer] = value instead\n",
      "\n",
      "See the caveats in the documentation: https://pandas.pydata.org/pandas-docs/stable/user_guide/indexing.html#returning-a-view-versus-a-copy\n",
      "  new_row['# of Coins'] = deployable_0.loc[cond2, 'Total Undeployed'].values\n",
      "/var/folders/q7/qhj4q23x49vb9f__hlp8t3280000gn/T/ipykernel_42064/2487049138.py:37: SettingWithCopyWarning: \n",
      "A value is trying to be set on a copy of a slice from a DataFrame.\n",
      "Try using .loc[row_indexer,col_indexer] = value instead\n",
      "\n",
      "See the caveats in the documentation: https://pandas.pydata.org/pandas-docs/stable/user_guide/indexing.html#returning-a-view-versus-a-copy\n",
      "  new_row['Deployment Status'] = 'Deployable'\n"
     ]
    }
   ],
   "source": [
    " # Add Deployment Status\n",
    "df2 = df2.drop_duplicates()\n",
    "\n",
    "deployable_0.columns = ['Coin', 'Total Undeployed']\n",
    "deployable_0['Total Undeployed'] = deployable_0['Total Undeployed'].map(lambda x: 0 if x=='#REF!' else x)\n",
    "\n",
    "first_accounts = ['Celsius Network Limited (UK)', 'Celsius Network LLC (US)']\n",
    "\n",
    "total_stable = deployable_0[deployable_0['Coin'].isin(stables)]['Total Undeployed'].sum()\n",
    "deployable_0 = deployable_0.append({'Coin': 'Stable Coins',\n",
    "                                    'Total Undeployed': total_stable}, ignore_index=True)\n",
    "df2['Deployment Status'] = 'Deployed'\n",
    "df2.loc[df2['Category'].isin(['undeployed', 'Undeployed']),'Deployment Status'] = 'Liquidity Reserve'\n",
    "undeployed_accounts = df2[df2['Category'].isin(['undeployed', 'Undeployed'])]['Account'].unique().tolist()\n",
    "# UK First than US\n",
    "first_accounts = ['Celsius Network Limited (UK)', 'Celsius Network LLC (US)']\n",
    "undeployed_accounts = [x for x in undeployed_accounts if x not in (first_accounts)]\n",
    "undeployed_accounts = first_accounts + undeployed_accounts\n",
    "\n",
    "# undeployed_accounts = np.unique(first_accounts + undeployed_accounts)\n",
    "df2['# of Coins'].fillna(0, inplace=True)\n",
    "for account in undeployed_accounts:\n",
    "    for coin in deployable_0['Coin']:\n",
    "        cond1 = (df2['Account'] == account) & (df2['Coin'] == coin)\n",
    "        cond2 = deployable_0['Coin'] == coin\n",
    "        if sum(cond1) + sum(cond2) < 2: continue\n",
    "\n",
    "        if df2[cond1]['# of Coins'].values < deployable_0[cond2]['Total Undeployed'].values:\n",
    "            deployable_0.loc[cond2, 'Total Undeployed'] -= df2.loc[cond1, '# of Coins'].values\n",
    "            df2.loc[cond1, 'Deployment Status'] = 'Deployable'\n",
    "        else:\n",
    "            df2.loc[cond1, '# of Coins'] -= deployable_0.loc[cond2, 'Total Undeployed'].values\n",
    "            df2.loc[cond1, 'Deployment Status'] = 'Liquidity Reserve'\n",
    "            new_row = df2.loc[cond1]\n",
    "            if deployable_0.loc[cond2, 'Total Undeployed'].values > 0:\n",
    "                new_row['# of Coins'] = deployable_0.loc[cond2, 'Total Undeployed'].values\n",
    "                new_row['Deployment Status'] = 'Deployable'\n",
    "                df2 = df2.append(new_row, ignore_index=True)\n",
    "                deployable_0.loc[cond2, 'Total Undeployed'] = 0\n",
    "\n",
    "df2.loc[df2['Category'].isin(['underdeployed','Underdeployed']), 'Deployment Status'] = 'Deployable'\n",
    "df2['Category'] = df2['Category'].str.strip()\n",
    "df2.loc[df2['Category'].isin(['Other', 'Mining']), 'Deployment Status'] = 'Investments'"
   ],
   "metadata": {
    "collapsed": false,
    "pycharm": {
     "name": "#%%\n"
    }
   }
  },
  {
   "cell_type": "code",
   "execution_count": 58,
   "outputs": [
    {
     "name": "stderr",
     "output_type": "stream",
     "text": [
      "/var/folders/q7/qhj4q23x49vb9f__hlp8t3280000gn/T/ipykernel_42064/2054916303.py:26: UserWarning: Boolean Series key will be reindexed to match DataFrame index.\n",
      "  assert df2_override[cond1]['# of Coins'].sum(axis=0) == pivot_row['# of Coins'].values[0]\n"
     ]
    }
   ],
   "source": [
    "# Tier Override\n",
    "df2_override = df2.copy()\n",
    "\n",
    "for row in tier_override.iterrows():\n",
    "    tiers_col = [f\"Tier {i}\" for i in range(1,7)]\n",
    "    coin = row[1]['Coin']\n",
    "    account = row[1]['Account']\n",
    "    cond1 = (df2_override['Coin'].isin([coin])) & (df2_override['Account'].isin([account]))\n",
    "    if sum(cond1)>0:\n",
    "        pivot_row = df2_override[cond1]\n",
    "        old_tier = pivot_row['Tier'].values[0]\n",
    "        for i,col in enumerate(tiers_col):\n",
    "            i+=1\n",
    "            new_row = pivot_row.copy()\n",
    "            tier_ratio = row[1][col]\n",
    "            if (tier_ratio>0):\n",
    "                new_row['Tier'] = i\n",
    "                new_row['# of Coins'] = new_row['# of Coins'].values[0]*tier_ratio\n",
    "                df2_override = pd.concat([df2_override,new_row]).reset_index(drop=True)\n",
    "\n",
    "        cond1 = (df2_override['Coin'].isin([coin])) & (df2_override['Account'].isin([account]))\n",
    "        cond2 = cond1 & (df2_override['Tier']==old_tier)\n",
    "        if sum(cond2)==1:\n",
    "            df2_override.drop(df2_override[cond2].index, inplace=True)\n",
    "        df2_override.drop_duplicates(inplace=True)\n",
    "        assert df2_override[cond1]['# of Coins'].sum(axis=0) == pivot_row['# of Coins'].values[0]\n",
    "\n",
    "df2 = df2_override"
   ],
   "metadata": {
    "collapsed": false,
    "pycharm": {
     "name": "#%%\n"
    }
   }
  },
  {
   "cell_type": "code",
   "execution_count": 59,
   "id": "48b60a61",
   "metadata": {
    "scrolled": true
   },
   "outputs": [
    {
     "data": {
      "text/plain": "             Coin             Category                       Account Tier  \\\n715  Stable Coins  Institutional Loans                     Loans Out    2   \n159           BTC  Institutional Loans                     Loans Out    2   \n150           BTC    Posted Collateral             Posted Collateral    5   \n877          WBTC    Posted Collateral       Celsius Borrows Account    5   \n176           BTC    Posted Collateral                  FTX - Borrow    5   \n..            ...                  ...                           ...  ...   \n647           REN           undeployed  Celsius Network Limited (UK)    1   \n483           FTT           undeployed  Celsius Network Limited (UK)    1   \n214           CRV           undeployed  Celsius Network Limited (UK)    1   \n457          EURT           undeployed  Celsius Network Limited (UK)    1   \n267           CVX           undeployed  Celsius Network Limited (UK)    1   \n\n       # of Coins       APY      COFA Original Coin  Manual  \\\n715  1.184134e+09  0.061786  0.076272  Stable Coins   False   \n159  2.927372e+04    0.0232  0.016632           BTC   False   \n150  2.888663e+04       0.0  0.000000           BTC   False   \n877  2.779802e+04    0.0096  0.000000          WBTC   False   \n176  2.753514e+04       0.0  0.000000           BTC   False   \n..            ...       ...       ...           ...     ...   \n647  0.000000e+00       0.0       NaN           REN   False   \n483  0.000000e+00       0.0       NaN           FTT   False   \n214  0.000000e+00       0.0       NaN           CRV   False   \n457  0.000000e+00       0.0       NaN          EURT   False   \n267  0.000000e+00       0.0       NaN           CVX   False   \n\n     Deployment Status        Price          USD Value  USD Value * APY  \\\n715           Deployed            1       1184134443.6   73162715.97992   \n159           Deployed  39012.39397  1142037897.607468  26495279.224493   \n150           Deployed  39012.39397  1126936590.025621              0.0   \n877           Deployed        39047   1085429409.15711  10420122.327908   \n176           Deployed  39012.39397  1074211786.267077              0.0   \n..                 ...          ...                ...              ...   \n647  Liquidity Reserve     0.277382                0.0              0.0   \n483  Liquidity Reserve    39.484481                0.0              0.0   \n214  Liquidity Reserve     2.099957                0.0              0.0   \n457  Liquidity Reserve     1.053619                0.0              0.0   \n267  Liquidity Reserve         22.9                0.0              0.0   \n\n    USD Value * COFA  \n715   90316709.37584  \n159  18994191.210071  \n150              0.0  \n877              0.0  \n176              0.0  \n..               ...  \n647              NaN  \n483              NaN  \n214              NaN  \n457              NaN  \n267              NaN  \n\n[1171 rows x 14 columns]",
      "text/html": "<div>\n<style scoped>\n    .dataframe tbody tr th:only-of-type {\n        vertical-align: middle;\n    }\n\n    .dataframe tbody tr th {\n        vertical-align: top;\n    }\n\n    .dataframe thead th {\n        text-align: right;\n    }\n</style>\n<table border=\"1\" class=\"dataframe\">\n  <thead>\n    <tr style=\"text-align: right;\">\n      <th></th>\n      <th>Coin</th>\n      <th>Category</th>\n      <th>Account</th>\n      <th>Tier</th>\n      <th># of Coins</th>\n      <th>APY</th>\n      <th>COFA</th>\n      <th>Original Coin</th>\n      <th>Manual</th>\n      <th>Deployment Status</th>\n      <th>Price</th>\n      <th>USD Value</th>\n      <th>USD Value * APY</th>\n      <th>USD Value * COFA</th>\n    </tr>\n  </thead>\n  <tbody>\n    <tr>\n      <th>715</th>\n      <td>Stable Coins</td>\n      <td>Institutional Loans</td>\n      <td>Loans Out</td>\n      <td>2</td>\n      <td>1.184134e+09</td>\n      <td>0.061786</td>\n      <td>0.076272</td>\n      <td>Stable Coins</td>\n      <td>False</td>\n      <td>Deployed</td>\n      <td>1</td>\n      <td>1184134443.6</td>\n      <td>73162715.97992</td>\n      <td>90316709.37584</td>\n    </tr>\n    <tr>\n      <th>159</th>\n      <td>BTC</td>\n      <td>Institutional Loans</td>\n      <td>Loans Out</td>\n      <td>2</td>\n      <td>2.927372e+04</td>\n      <td>0.0232</td>\n      <td>0.016632</td>\n      <td>BTC</td>\n      <td>False</td>\n      <td>Deployed</td>\n      <td>39012.39397</td>\n      <td>1142037897.607468</td>\n      <td>26495279.224493</td>\n      <td>18994191.210071</td>\n    </tr>\n    <tr>\n      <th>150</th>\n      <td>BTC</td>\n      <td>Posted Collateral</td>\n      <td>Posted Collateral</td>\n      <td>5</td>\n      <td>2.888663e+04</td>\n      <td>0.0</td>\n      <td>0.000000</td>\n      <td>BTC</td>\n      <td>False</td>\n      <td>Deployed</td>\n      <td>39012.39397</td>\n      <td>1126936590.025621</td>\n      <td>0.0</td>\n      <td>0.0</td>\n    </tr>\n    <tr>\n      <th>877</th>\n      <td>WBTC</td>\n      <td>Posted Collateral</td>\n      <td>Celsius Borrows Account</td>\n      <td>5</td>\n      <td>2.779802e+04</td>\n      <td>0.0096</td>\n      <td>0.000000</td>\n      <td>WBTC</td>\n      <td>False</td>\n      <td>Deployed</td>\n      <td>39047</td>\n      <td>1085429409.15711</td>\n      <td>10420122.327908</td>\n      <td>0.0</td>\n    </tr>\n    <tr>\n      <th>176</th>\n      <td>BTC</td>\n      <td>Posted Collateral</td>\n      <td>FTX - Borrow</td>\n      <td>5</td>\n      <td>2.753514e+04</td>\n      <td>0.0</td>\n      <td>0.000000</td>\n      <td>BTC</td>\n      <td>False</td>\n      <td>Deployed</td>\n      <td>39012.39397</td>\n      <td>1074211786.267077</td>\n      <td>0.0</td>\n      <td>0.0</td>\n    </tr>\n    <tr>\n      <th>...</th>\n      <td>...</td>\n      <td>...</td>\n      <td>...</td>\n      <td>...</td>\n      <td>...</td>\n      <td>...</td>\n      <td>...</td>\n      <td>...</td>\n      <td>...</td>\n      <td>...</td>\n      <td>...</td>\n      <td>...</td>\n      <td>...</td>\n      <td>...</td>\n    </tr>\n    <tr>\n      <th>647</th>\n      <td>REN</td>\n      <td>undeployed</td>\n      <td>Celsius Network Limited (UK)</td>\n      <td>1</td>\n      <td>0.000000e+00</td>\n      <td>0.0</td>\n      <td>NaN</td>\n      <td>REN</td>\n      <td>False</td>\n      <td>Liquidity Reserve</td>\n      <td>0.277382</td>\n      <td>0.0</td>\n      <td>0.0</td>\n      <td>NaN</td>\n    </tr>\n    <tr>\n      <th>483</th>\n      <td>FTT</td>\n      <td>undeployed</td>\n      <td>Celsius Network Limited (UK)</td>\n      <td>1</td>\n      <td>0.000000e+00</td>\n      <td>0.0</td>\n      <td>NaN</td>\n      <td>FTT</td>\n      <td>False</td>\n      <td>Liquidity Reserve</td>\n      <td>39.484481</td>\n      <td>0.0</td>\n      <td>0.0</td>\n      <td>NaN</td>\n    </tr>\n    <tr>\n      <th>214</th>\n      <td>CRV</td>\n      <td>undeployed</td>\n      <td>Celsius Network Limited (UK)</td>\n      <td>1</td>\n      <td>0.000000e+00</td>\n      <td>0.0</td>\n      <td>NaN</td>\n      <td>CRV</td>\n      <td>False</td>\n      <td>Liquidity Reserve</td>\n      <td>2.099957</td>\n      <td>0.0</td>\n      <td>0.0</td>\n      <td>NaN</td>\n    </tr>\n    <tr>\n      <th>457</th>\n      <td>EURT</td>\n      <td>undeployed</td>\n      <td>Celsius Network Limited (UK)</td>\n      <td>1</td>\n      <td>0.000000e+00</td>\n      <td>0.0</td>\n      <td>NaN</td>\n      <td>EURT</td>\n      <td>False</td>\n      <td>Liquidity Reserve</td>\n      <td>1.053619</td>\n      <td>0.0</td>\n      <td>0.0</td>\n      <td>NaN</td>\n    </tr>\n    <tr>\n      <th>267</th>\n      <td>CVX</td>\n      <td>undeployed</td>\n      <td>Celsius Network Limited (UK)</td>\n      <td>1</td>\n      <td>0.000000e+00</td>\n      <td>0.0</td>\n      <td>NaN</td>\n      <td>CVX</td>\n      <td>False</td>\n      <td>Liquidity Reserve</td>\n      <td>22.9</td>\n      <td>0.0</td>\n      <td>0.0</td>\n      <td>NaN</td>\n    </tr>\n  </tbody>\n</table>\n<p>1171 rows × 14 columns</p>\n</div>"
     },
     "execution_count": 59,
     "metadata": {},
     "output_type": "execute_result"
    }
   ],
   "source": [
    "#df2.to_excel(\"excel_outputs/cofa_2.xlsx\", index = False)\n",
    "# Add Price\n",
    "df2 = df2.merge(coin_price, on = \"Coin\", how = \"left\")\n",
    "df2[\"USD Value\"] = df2[\"# of Coins\"] * df2[\"Price\"]\n",
    "df2[\"USD Value * APY\"] = df2[\"USD Value\"] * df2[\"APY\"]\n",
    "df2[\"Tier\"] = df2[\"Tier\"].astype(str).apply(lambda x:x.split(\".\")[0])\n",
    "\n",
    "df2[\"USD Value * COFA\"] = df2[\"USD Value\"] * df2[\"COFA\"]\n",
    "df2.sort_values(by = \"USD Value\", ascending = False, inplace = True)\n",
    "df2['Category'] = df2['Category'].str.strip()\n",
    "df2"
   ]
  },
  {
   "cell_type": "code",
   "execution_count": 60,
   "outputs": [
    {
     "ename": "AssertionError",
     "evalue": "",
     "output_type": "error",
     "traceback": [
      "\u001B[0;31m---------------------------------------------------------------------------\u001B[0m",
      "\u001B[0;31mAssertionError\u001B[0m                            Traceback (most recent call last)",
      "\u001B[0;32m/var/folders/q7/qhj4q23x49vb9f__hlp8t3280000gn/T/ipykernel_42064/4143992430.py\u001B[0m in \u001B[0;36m<module>\u001B[0;34m\u001B[0m\n\u001B[1;32m     27\u001B[0m \u001B[0;34m\u001B[0m\u001B[0m\n\u001B[1;32m     28\u001B[0m \u001B[0mloan_book4\u001B[0m \u001B[0;34m=\u001B[0m \u001B[0mloan_book3\u001B[0m\u001B[0;34m.\u001B[0m\u001B[0mmerge\u001B[0m\u001B[0;34m(\u001B[0m\u001B[0mcarry3\u001B[0m\u001B[0;34m[\u001B[0m\u001B[0mcarry3\u001B[0m\u001B[0;34m[\u001B[0m\u001B[0;34m'Account'\u001B[0m\u001B[0;34m]\u001B[0m\u001B[0;34m==\u001B[0m\u001B[0;34m'Loans Out'\u001B[0m\u001B[0;34m]\u001B[0m\u001B[0;34m,\u001B[0m \u001B[0mleft_on\u001B[0m\u001B[0;34m=\u001B[0m\u001B[0;34m'loan_asset_short'\u001B[0m\u001B[0;34m,\u001B[0m \u001B[0mright_on\u001B[0m\u001B[0;34m=\u001B[0m\u001B[0;34m'Coin'\u001B[0m\u001B[0;34m,\u001B[0m\u001B[0mhow\u001B[0m\u001B[0;34m=\u001B[0m\u001B[0;34m'left'\u001B[0m\u001B[0;34m)\u001B[0m\u001B[0;34m\u001B[0m\u001B[0;34m\u001B[0m\u001B[0m\n\u001B[0;32m---> 29\u001B[0;31m \u001B[0;32massert\u001B[0m \u001B[0;32mFalse\u001B[0m\u001B[0;34m\u001B[0m\u001B[0;34m\u001B[0m\u001B[0m\n\u001B[0m\u001B[1;32m     30\u001B[0m \u001B[0mloan_book4\u001B[0m\u001B[0;34m.\u001B[0m\u001B[0mdrop\u001B[0m\u001B[0;34m(\u001B[0m\u001B[0;34m[\u001B[0m\u001B[0;34m'Account'\u001B[0m\u001B[0;34m,\u001B[0m\u001B[0;34m'Coin'\u001B[0m\u001B[0;34m,\u001B[0m \u001B[0;34m'Company Name'\u001B[0m\u001B[0;34m]\u001B[0m\u001B[0;34m,\u001B[0m\u001B[0maxis\u001B[0m\u001B[0;34m=\u001B[0m\u001B[0;36m1\u001B[0m\u001B[0;34m,\u001B[0m\u001B[0minplace\u001B[0m\u001B[0;34m=\u001B[0m\u001B[0;32mTrue\u001B[0m\u001B[0;34m)\u001B[0m\u001B[0;34m\u001B[0m\u001B[0;34m\u001B[0m\u001B[0m\n\u001B[1;32m     31\u001B[0m \u001B[0mloan_book4\u001B[0m\u001B[0;34m.\u001B[0m\u001B[0mcolumns\u001B[0m \u001B[0;34m=\u001B[0m \u001B[0mloan_book4\u001B[0m\u001B[0;34m.\u001B[0m\u001B[0mcolumns\u001B[0m\u001B[0;34m.\u001B[0m\u001B[0mtolist\u001B[0m\u001B[0;34m(\u001B[0m\u001B[0;34m)\u001B[0m\u001B[0;34m[\u001B[0m\u001B[0;34m:\u001B[0m\u001B[0;34m-\u001B[0m\u001B[0;36m1\u001B[0m\u001B[0;34m]\u001B[0m \u001B[0;34m+\u001B[0m \u001B[0;34m[\u001B[0m\u001B[0;34m'Carry_loan_asset'\u001B[0m\u001B[0;34m]\u001B[0m\u001B[0;34m\u001B[0m\u001B[0;34m\u001B[0m\u001B[0m\n",
      "\u001B[0;31mAssertionError\u001B[0m: "
     ]
    }
   ],
   "source": [
    "# EDIT LOAN BOOK TO COMPUTE CARRY PER ASSET\n",
    "loan_book_risk['collateral_asset_short'] = loan_book_risk['collateral_asset_short'].str.replace('mSOL','MSOL')\n",
    "loan_book2 = loan_book_risk.merge(coin_price,left_on='loan_asset_short', right_on='Coin', how='left')\n",
    "loan_book2.drop('Coin', axis=1,inplace=True)\n",
    "loan_book2.columns = loan_book2.columns[:-1] .tolist() + ['price_asset']\n",
    "loan_book3 = loan_book2.merge(coin_price,left_on='collateral_asset_short', right_on='Coin', how='left')\n",
    "loan_book3.drop('Coin', axis=1,inplace=True)\n",
    "loan_book3.columns = loan_book3.columns[:-1].tolist() + ['price_collateral']\n",
    "loan_book3.loc[loan_book3['loan_asset_short']=='WETH', 'price_asset'] =  coin_price.loc[coin_price['Coin']=='ETH','Price'].values[0]\n",
    "\n",
    "loan_book3['loan_amount $'] = loan_book3['loan_amount'] * loan_book3['price_asset']\n",
    "loan_book3['collateral_amount $'] = loan_book3['collateral_amount'] * loan_book3['price_collateral']\n",
    "total_collateral = loan_book3.groupby('loan_asset_short')['collateral_amount $'].sum().reset_index()\n",
    "loan_carry = loan_book3.merge(carry2[carry2['Account']=='Default'], left_on='collateral_asset_short', right_on='Coin')\n",
    "loan_carry['collateral_amount $ x Carry'] = loan_carry['collateral_amount $'] * loan_carry['CARRY']\n",
    "\n",
    "\n",
    "grouped = loan_carry.groupby('loan_asset_short')[['collateral_amount $ x Carry','loan_amount $']].sum()\n",
    "grouped['CARRY'] = grouped['collateral_amount $ x Carry']/grouped['loan_amount $']\n",
    "grouped.drop(['collateral_amount $ x Carry','loan_amount $'], axis=1, inplace=True)\n",
    "grouped['Account'] = 'Loans Out'\n",
    "grouped.reset_index(inplace=True)\n",
    "cols = ['Coin', 'CARRY', 'Account']\n",
    "grouped.columns = cols\n",
    "grouped = grouped[carry2.columns]\n",
    "carry3 = pd.concat([carry2,grouped])\n",
    "\n",
    "loan_book4 = loan_book3.merge(carry3[carry3['Account']=='Loans Out'], left_on='loan_asset_short', right_on='Coin',how='left')\n",
    "loan_book4.drop(['Account','Coin', 'Company Name'],axis=1,inplace=True)\n",
    "loan_book4.columns = loan_book4.columns.tolist()[:-1] + ['Carry_loan_asset']"
   ],
   "metadata": {
    "collapsed": false,
    "pycharm": {
     "name": "#%%\n"
    }
   }
  },
  {
   "cell_type": "code",
   "execution_count": 61,
   "outputs": [],
   "source": [
    "loan_id = [1459,\n",
    "2169,\n",
    "2227,\n",
    "2549,\n",
    "2502,\n",
    "1772,\n",
    "1798,\n",
    "2366,\n",
    "2308,\n",
    "1361,\n",
    "2526,\n",
    "2160,\n",
    "2267,\n",
    "2421,\n",
    "1723,\n",
    "1793,\n",
    "2094,\n",
    "1985,\n",
    "2069,\n",
    "2214,\n",
    "2046,\n",
    "2093,\n",
    "1999,\n",
    "2289,\n",
    "2557,\n",
    "2182,\n",
    "2264,\n",
    "2469,\n",
    "2265,\n",
    "2368,\n",
    "2386,\n",
    "2486,\n",
    "2485,\n",
    "2409,\n",
    "2466,\n",
    "2340,\n",
    "2393,\n",
    "2357,\n",
    "2529,\n",
    "2430,\n",
    "2296,\n",
    "2554,\n",
    "2490,\n",
    "2556,\n",
    "2555,\n",
    "2505,\n",
    "2494,\n",
    "2398,\n",
    "2495,\n",
    "2510,\n",
    "1977,\n",
    "2515,\n",
    "2536,\n",
    "2281,\n",
    "2306,\n",
    "2234,\n",
    "2432,\n",
    "2546,\n",
    "2384,\n",
    "2479,\n",
    "2548,\n",
    "2550,\n",
    "1072,\n",
    "2008,\n",
    "1827,\n",
    "2137,\n",
    "1916,\n",
    "2382,\n",
    "2488,\n",
    "2129,\n",
    "1861,\n",
    "2553,\n",
    "2489,\n",
    "2158,\n",
    "2056,\n",
    "2203,\n",
    "2501,\n",
    "1381,\n",
    "1504,\n",
    "1825,\n",
    "2215,\n",
    "1729,\n",
    "2464,\n",
    "2513,\n",
    "2166,\n",
    "2266,\n",
    "2470,\n",
    "1668,\n",
    "2179,\n",
    "1544,\n",
    "1915,\n",
    "2535,\n",
    "2222,\n",
    "1240,\n",
    "1258,\n",
    "1236,\n",
    "1254,\n",
    "1064,\n",
    "1136,\n",
    "2496,\n",
    "2475,\n",
    "2547,\n",
    "2563,\n",
    "2396,\n",
    "1782,\n",
    "1701,\n",
    "2307,\n",
    "2527,\n",
    "2372,\n",
    "2365,\n",
    "1805,\n",
    "2503,\n",
    "1982,\n",
    "2498,\n",
    "2561,\n",
    "2493,\n",
    "2531,\n",
    "2407,\n",
    "2478,\n",
    "2440,\n",
    "2441,\n",
    "2439,\n",
    "2558,\n",
    "2388,\n",
    "2448,\n",
    "2022,\n",
    "2559,\n",
    "2560,\n",
    "2504,\n",
    "2507,\n",
    "2538,\n",
    "2453,\n",
    "2235,\n",
    "2385,\n",
    "1256,\n",
    "1824,\n",
    "2204,\n",
    "1220,\n",
    "2292,\n",
    "2128,\n",
    "2519,\n",
    "2521,\n",
    "2190,\n",
    "2319,\n",
    "2224,\n",
    "2148,\n",
    "2429,\n",
    "2326,\n",
    "1234,\n",
    "2286,\n",
    "2258,\n",
    "2310,\n",
    "2443,\n",
    "2102,\n",
    "2454,\n",
    "2491,\n",
    "2205,\n",
    "1854,\n",
    "2564,\n",
    "2344,\n",
    "2213,\n",
    "2294,\n",
    "2467,\n",
    "2413,\n",
    "2534,\n",
    "2194,\n",
    "2223,\n",
    "2358,\n",
    "1257,\n",
    "2423,\n",
    "2425,\n",
    "1856,\n",
    "1865,\n",
    "1261,\n",
    "2103,\n",
    "1445,\n",
    "1978,\n",
    "2038,\n",
    "1783,\n",
    "2261,\n",
    "2060,\n",
    "1834,\n",
    "1844,\n",
    "2039,\n",
    "2255,\n",
    "2123,\n",
    "2350,\n",
    "2082,\n",
    "2525,\n",
    "2533,\n",
    "1897,\n",
    "2364,\n",
    "1446,\n",
    "1187,\n",
    "1273,\n",
    "1252,\n",
    "1806,\n",
    "2545,\n",
    "1742,\n",
    "2146,\n",
    "2444,\n",
    "2449,\n",
    "2394,\n",
    "2063,\n",
    "2456,\n",
    "2347,\n",
    "2299,\n",
    "2512,\n",
    "2216,\n",
    "2303,\n",
    "2115,\n",
    "2537,\n",
    "1860,\n",
    "2318,\n",
    "2324,\n",
    "1351,\n",
    "1848,\n",
    "2477,\n",
    "1485,\n",
    "2541,\n",
    "2199,\n",
    "1741,\n",
    "1846,\n",
    "2484,\n",
    "2374,\n",
    "2514,\n",
    "2523,\n",
    "2530,\n",
    "1409,\n",
    "2197,\n",
    "2419,\n",
    "1815,\n",
    "1323,\n",
    "1714,\n",
    "1892,\n",
    "2250,\n",
    "2315,\n",
    "1365,\n",
    "2387,\n",
    "2500,\n",
    "1941,\n",
    "2300,\n",
    "2359,\n",
    "1447,\n",
    "1884,\n",
    "1364,\n",
    "2395,\n",
    "2460,\n",
    "2459,\n",
    "2116,\n",
    "1073,\n",
    "2119,\n",
    "2073,\n",
    "2086,\n",
    "2528,\n",
    "2228,\n",
    "1953,\n",
    "2231,\n",
    "1797,\n",
    "1838,\n",
    "2088,\n",
    "2325,\n",
    "2339,\n",
    "1994,\n",
    "1501,\n",
    "2154,\n",
    "2271,\n",
    "2329,\n",
    "2003,\n",
    "2149,\n",
    "1993,\n",
    "2043,\n",
    "2341,\n",
    "2248,\n",
    "2518,\n",
    "2311,\n",
    "1976,\n",
    "2051,\n",
    "1849,\n",
    "2506,\n",
    "2272,\n",
    "2268,\n",
    "2415,\n",
    "2562,\n",
    "2492,\n",
    "2463,\n",
    "2457,\n",
    "2565,\n",
    "2511,\n",
    "2524,\n",
    "2422,\n",
    "2458,\n",
    "2566,\n",
    "2044,\n",
    "2007,\n",
    "2305,\n",
    "2417,\n",
    "2532,\n",
    "1747,\n",
    "1823,\n",
    "1726,\n",
    "1731]"
   ],
   "metadata": {
    "collapsed": false,
    "pycharm": {
     "name": "#%%\n"
    }
   }
  },
  {
   "cell_type": "code",
   "execution_count": 62,
   "outputs": [],
   "source": [
    "not_in = list()\n",
    "for number in loan_id:\n",
    "    if number not in loan_book4['loan_number'].values:not_in.append(number)"
   ],
   "metadata": {
    "collapsed": false,
    "pycharm": {
     "name": "#%%\n"
    }
   }
  },
  {
   "cell_type": "code",
   "execution_count": 63,
   "outputs": [
    {
     "data": {
      "text/plain": "[]"
     },
     "execution_count": 63,
     "metadata": {},
     "output_type": "execute_result"
    }
   ],
   "source": [
    "not_in"
   ],
   "metadata": {
    "collapsed": false,
    "pycharm": {
     "name": "#%%\n"
    }
   }
  },
  {
   "cell_type": "code",
   "execution_count": null,
   "outputs": [],
   "source": [
    "loan_book4.groupby('loan_asset_short')['loan_amount'].sum().sort_values(ascending=False)"
   ],
   "metadata": {
    "collapsed": false,
    "pycharm": {
     "name": "#%%\n"
    }
   }
  },
  {
   "cell_type": "code",
   "execution_count": null,
   "outputs": [],
   "source": [
    "df2[df2['Category']=='Institutional Loans']"
   ],
   "metadata": {
    "collapsed": false,
    "pycharm": {
     "name": "#%%\n"
    }
   }
  },
  {
   "cell_type": "code",
   "execution_count": null,
   "id": "aa64526e-6416-472c-9669-94ade4cfa636",
   "metadata": {},
   "outputs": [],
   "source": [
    "#ADD CARRY\n",
    "carry_accts += ['Loans Out']\n",
    "df2 = add_cofa_carry(df2, carry2, carry_accts, tab='CARRY')\n",
    "try:\n",
    "    default = carry2.loc[carry2['Coin'].isin(['Stable Coins']) & (carry2['Account'].isin(['Default'])),'CARRY'].values[0]\n",
    "except IndexError:\n",
    "    default = np.nan\n",
    "# STABLE CARRY\n",
    "for account in carry_accts:\n",
    "    cond = (carry2['Coin'].isin(['Stable Coins'])) & (carry2['Account'].isin([account]))\n",
    "    if account in carry2.loc[carry2['Coin'].isin(['Stable Coins'])]['Account'].unique():\n",
    "        stable_carry = carry2.loc[cond,'CARRY'].values[0]\n",
    "    else:\n",
    "        stable_carry = default\n",
    "\n",
    "    cond = (df2['Coin'].isin(['Stable Coins'])) & (df2['Account'].isin([account]))\n",
    "    if sum(cond)>1:\n",
    "        df2.loc[cond, 'CARRY'] = stable_carry\n",
    "\n",
    "# USD VALUE * CARRY\n",
    "df2.loc[(df2['Coin'].isin(['Stable Coins'])), 'CARRY'] = df2.loc[(df2['Coin'].isin(['Stable Coins'])), 'CARRY'].fillna(default)\n",
    "df2[\"USD Value * CARRY\"] = df2[\"USD Value\"] * df2[\"CARRY\"]\n",
    "df2.sort_values(by = \"USD Value\", ascending = False, inplace = True)\n",
    "\n",
    "# Credited Carry for Institutional Loans\n",
    "df2['Credited Carry'] = np.nan\n",
    "df2['Amount Received $ * Credited Carry']= np.nan\n",
    "credited_carry = loan_book4[['loan_asset_short','Carry_loan_asset']].drop_duplicates()\n",
    "for coin in credited_carry['loan_asset_short']:\n",
    "    credited = credited_carry[credited_carry['loan_asset_short']==coin]['Carry_loan_asset'].values[0]\n",
    "    df2.loc[(df2['Coin']==coin)&(df2['Category']=='Institutional Loans'), 'Credited Carry'] = credited\n",
    "    df2.loc[(df2['Coin']==coin)&(df2['Category']=='Institutional Loans'), 'Amount Received $ * Credited Carry'] = total_collateral[total_collateral['loan_asset_short']==coin]['collateral_amount $'].values[0] * credited\n",
    "\n",
    "# Credited Carry for CnC accounts\n",
    "for account in cnc_accounts:\n",
    "    col_ratio = 1\n",
    "    cond = (df2['Original Coin'].map(lambda x: 'PERP' in x)) & (df2['Account']==account)\n",
    "    df2.loc[cond, 'Credited Carry'] = df2.loc[cond, 'CARRY']\n",
    "    df2.loc[cond,'Amount Received $ * Credited Carry'] = abs(col_ratio * df2.loc[cond, 'USD Value'] * df2.loc[cond,'Credited Carry'])\n",
    "    # If Shorted Collateral - USD\n",
    "    df2.loc[cond & (df2['# of Coins']>0), 'Original Coin'] = df2.loc[cond & (df2['# of Coins']>0), 'Coin']\n",
    "    df2.loc[cond & (df2['# of Coins']>0), 'Coin'] = 'USD'"
   ]
  },
  {
   "cell_type": "code",
   "execution_count": null,
   "outputs": [],
   "source": [
    "# EDIT FTX JACOB Account\n",
    "cond = (df2['Account'] == 'FTX - Jacob') & (df2['APY']>df2['CARRY'])\n",
    "df2.loc[cond, \"Category\"] = \"Exchange\""
   ],
   "metadata": {
    "collapsed": false,
    "pycharm": {
     "name": "#%%\n"
    }
   }
  },
  {
   "cell_type": "code",
   "execution_count": null,
   "outputs": [],
   "source": [
    "# EDIT Original Coin\n",
    "cond = df2['Coin'] == 'Stable Coins'\n",
    "df2.drop(df2[cond].index, axis=0, inplace=True)\n",
    "df2['Coin'] = df2['Coin'].replace('WBTC', 'BTC')\n",
    "for coin in stables:\n",
    "    df2['Coin'] = df2['Coin'].replace(coin,'Stable Coins')"
   ],
   "metadata": {
    "collapsed": false,
    "pycharm": {
     "name": "#%%\n"
    }
   }
  },
  {
   "cell_type": "code",
   "execution_count": null,
   "outputs": [],
   "source": [
    "# EDIT FTX_CEFI_TACTICAL_STRAT1\n",
    "cond = df2['Account'].isin([\"FTX - CEFI_TACTICAL_STRAT1_FTX\"])\n",
    "df2.loc[cond, \"APY\"] = 0"
   ],
   "metadata": {
    "collapsed": false,
    "pycharm": {
     "name": "#%%\n"
    }
   }
  },
  {
   "cell_type": "code",
   "execution_count": null,
   "outputs": [],
   "source": [
    "# Add risk premium\n",
    "df2 = df2.merge(risk_premium, on='Account', how='left')\n",
    "df2['USD Value * Risk Premium'] = df2['Risk Premium'] * df2['USD Value']\n",
    "df2"
   ],
   "metadata": {
    "collapsed": false,
    "pycharm": {
     "name": "#%%\n"
    }
   }
  },
  {
   "cell_type": "code",
   "execution_count": null,
   "outputs": [],
   "source": [
    "df2[df2['Account']=='FTX Hedge']"
   ],
   "metadata": {
    "collapsed": false,
    "pycharm": {
     "name": "#%%\n"
    }
   }
  },
  {
   "cell_type": "code",
   "execution_count": null,
   "id": "6b5b9bde",
   "metadata": {},
   "outputs": [],
   "source": [
    "# process the collateral table and insert it into the liquidity tier summary\n",
    "# for COFA value of collateral, use default first, there is a \"Collateral\" column in COFA which will override the default\n",
    "cofa_collateral_p1 = cofa_original[cofa_original[\"Collateral\"].notnull()]\n",
    "cofa_collateral_p2 = cofa_original[cofa_original[\"Collateral\"].isnull()]\n",
    "cofa_collateral_p1[\"Default\"] = cofa_collateral_p1[\"Collateral\"]\n",
    "cofa_collateral = pd.concat([cofa_collateral_p1, cofa_collateral_p2])[[\"Coin\", \"Default\"]]\n",
    "cofa_collateral.columns = [\"Coin\", \"COFA\"]\n",
    "# Carry process\n",
    "carry_collateral_p1 = carry[carry[\"Collateral\"].notnull()]\n",
    "carry_collateral_p2 = carry[carry[\"Collateral\"].isnull()]\n",
    "carry_collateral_p1[\"Default\"] = carry_collateral_p1[\"Collateral\"]\n",
    "carry_collateral = pd.concat([carry_collateral_p1, carry_collateral_p2])[[\"Coin\", \"Default\"]]\n",
    "carry_collateral.columns = [\"Coin\", \"CARRY\"]\n",
    "\n",
    "# collateral tab\n",
    "collateral = collateral.merge(cofa_collateral, on = \"Coin\", how = \"left\")\n",
    "collateral = collateral.merge(carry_collateral, on = \"Coin\", how = \"left\")\n",
    "collateral = collateral.merge(coin_price, on = \"Coin\", how = \"left\")\n",
    "collateral[\"User Collateral USD Value\"] = collateral[\"User Collateral\"] * collateral[\"Price\"]\n",
    "collateral[\"Inst Collateral USD Value\"] = collateral[\"Inst Collateral\"] * collateral[\"Price\"]\n"
   ]
  },
  {
   "cell_type": "code",
   "execution_count": null,
   "outputs": [],
   "source": [
    "cond = (df2['USD Value']>10000000) & ((df2['APY'].isna())|(df2['APY']==0)) & (~df2['Category'].isin(['CEL Treasury','Posted Collateral','Mining','CEL Users','Investments','undeployed','underdeployed','Underdeployed', 'operational']))\n",
    "df2[cond][['Coin','Category','Account','APY']]"
   ],
   "metadata": {
    "collapsed": false,
    "pycharm": {
     "name": "#%%\n"
    }
   }
  },
  {
   "cell_type": "code",
   "execution_count": null,
   "id": "3f958930",
   "metadata": {},
   "outputs": [],
   "source": [
    "# get the whole apy-template table and insert it into the liquidity tier summary\n",
    "apy_template = template.drop([0])\n",
    "apy_template.fillna(value = \"N/A\", inplace = True)\n",
    "apy_template.replace([\" \", \"\", \"  \"], \"N/A\", inplace = True)\n",
    "apy_template.columns = apy_template.columns.fillna('')"
   ]
  },
  {
   "cell_type": "markdown",
   "source": [
    "path = \"excel_outputs/Liquidity_Tier_Summary Live.xlsx\"\n",
    "lp = openpyxl.load_workbook(path)\n",
    "lp.remove(lp['Data'])\n",
    "lp.remove(lp['Price'])\n",
    "lp.remove(lp['Pivot_Data'])\n",
    "lp.remove(lp['APY'])\n",
    "lp.remove(lp['COFA'])\n",
    "lp.remove(lp['Collateral'])\n",
    "writer = pd.ExcelWriter(path, engine = 'openpyxl')\n",
    "writer.book = lp\n",
    "coin_tiers[filter3].to_excel(writer, sheet_name = 'Data', index = False)\n",
    "coin_price.to_excel(writer, sheet_name = 'Price', index = False)\n",
    "df2[col_names].to_excel(writer, sheet_name = 'Pivot_Data', index = False)\n",
    "apy_template.to_excel(writer, sheet_name = 'APY', index = False)\n",
    "cofa_original.to_excel(writer, sheet_name = 'COFA', index = False)\n",
    "collateral.to_excel(writer, sheet_name = 'Collateral', index = False)\n",
    "writer.close()\n",
    "lp.close()"
   ],
   "metadata": {
    "collapsed": false
   }
  },
  {
   "cell_type": "markdown",
   "id": "b28e306e",
   "metadata": {},
   "source": [
    "## following code will push the data to the shared google sheet"
   ]
  },
  {
   "cell_type": "code",
   "execution_count": null,
   "outputs": [],
   "source": [
    "assert False"
   ],
   "metadata": {
    "collapsed": false,
    "pycharm": {
     "name": "#%%\n"
    }
   }
  },
  {
   "cell_type": "code",
   "execution_count": null,
   "id": "9605267e",
   "metadata": {},
   "outputs": [],
   "source": [
    "import os.path\n",
    "from googleapiclient.discovery import build\n",
    "from google_auth_oauthlib.flow import InstalledAppFlow\n",
    "from google.auth.transport.requests import Request\n",
    "from google.oauth2.credentials import Credentials\n",
    "import datetime as dt"
   ]
  },
  {
   "cell_type": "code",
   "execution_count": null,
   "id": "0024925a",
   "metadata": {},
   "outputs": [],
   "source": [
    "scope = [\n",
    "'https://www.googleapis.com/auth/spreadsheets',\n",
    "'https://www.googleapis.com/auth/drive',\n",
    "]\n",
    "last_updated = \"Updated at - \" + dt.datetime.utcnow().strftime(\"%m/%d/%Y, %H:%M:%S\") +'UTC'\n",
    "# this is ID for testing\n",
    "#SPREADSHEET_ID = '1IptNC0hEhwvuyfI4m2kP9-rR-3jDAOhgQaPNkW2I_QQ'\n",
    "# this is ID for waterfall sheet\n",
    "SPREADSHEET_ID = \"1ZkSLZH2QwHnfdSpQUWAv2qum6xzhemngjWQBJBn_KeM\" #Real Last\n",
    "#SPREADSHEET_ID = \"1lw17fQ-oRTXPBVSDkiMGfWemtXGwzruCgsHjYBxlYoU\" # LAST Test\n",
    "# The file token.json stores the user's access and refresh tokens, and is\n",
    "# created automatically when the authorization flow completes for the first\n",
    "# time.\n",
    "if os.path.exists('write_token.json'):\n",
    "        creds = Credentials.from_authorized_user_file('write_token.json', scope)\n",
    "'''flow = InstalledAppFlow.from_client_secrets_file('client_secret_992941975507-pvjneopi7dhmj2mqq6arpghs6r7q31jj.json', scope)\n",
    "creds = flow.run_local_server(port=0)\n",
    "with open('write_token.json', 'w') as token:\n",
    "    token.write(creds.to_json())'''\n",
    "service = build('sheets', 'v4', credentials=creds)"
   ]
  },
  {
   "cell_type": "code",
   "execution_count": null,
   "id": "447954ca-2099-4bdf-a803-90d495b9ab45",
   "metadata": {},
   "outputs": [],
   "source": [
    "response = service.spreadsheets().values().update(\n",
    "    spreadsheetId=SPREADSHEET_ID,\n",
    "    valueInputOption='RAW',\n",
    "    range=\"Categories!A1\",\n",
    "    body=dict(\n",
    "        majorDimension='ROWS',\n",
    "        values=[[last_updated]]\n",
    ")\n",
    ").execute()"
   ]
  },
  {
   "cell_type": "code",
   "execution_count": null,
   "outputs": [],
   "source": [
    "coin_tiers[filter3].head()"
   ],
   "metadata": {
    "collapsed": false,
    "pycharm": {
     "name": "#%%\n"
    }
   }
  },
  {
   "cell_type": "code",
   "execution_count": null,
   "id": "a4569bd1",
   "metadata": {},
   "outputs": [],
   "source": [
    "response = service.spreadsheets().values().clear(\n",
    "    spreadsheetId=SPREADSHEET_ID,\n",
    "    range=\"Data\",\n",
    "    ).execute()\n",
    "\n",
    "response = service.spreadsheets().values().update(\n",
    "    spreadsheetId=SPREADSHEET_ID,\n",
    "    valueInputOption='RAW',\n",
    "    range=\"Data!A1\",\n",
    "    body=dict(\n",
    "        majorDimension='ROWS',\n",
    "        values=coin_tiers[filter3].fillna(value = \"N/A\").T.reset_index().T.values.tolist())\n",
    ").execute()"
   ]
  },
  {
   "cell_type": "code",
   "execution_count": null,
   "id": "21b8488f",
   "metadata": {},
   "outputs": [],
   "source": [
    "response = service.spreadsheets().values().clear(\n",
    "    spreadsheetId=SPREADSHEET_ID,\n",
    "    range=\"Price\",\n",
    "    ).execute()\n",
    "\n",
    "response = service.spreadsheets().values().update(\n",
    "    spreadsheetId=SPREADSHEET_ID,\n",
    "    valueInputOption='RAW',\n",
    "    range=\"Price!A1\",\n",
    "    body=dict(\n",
    "        majorDimension='ROWS',\n",
    "        values=coin_price.fillna(value = 0).T.reset_index().T.values.tolist())\n",
    ").execute()"
   ]
  },
  {
   "cell_type": "code",
   "execution_count": null,
   "id": "5115989c",
   "metadata": {
    "scrolled": true
   },
   "outputs": [],
   "source": [
    "response = service.spreadsheets().values().clear(\n",
    "    spreadsheetId=SPREADSHEET_ID,\n",
    "    range=\"APY\",\n",
    "    ).execute()\n",
    "\n",
    "response = service.spreadsheets().values().update(\n",
    "    spreadsheetId=SPREADSHEET_ID,\n",
    "    valueInputOption='RAW',\n",
    "    range=\"APY!A1\",\n",
    "    body=dict(\n",
    "        majorDimension='ROWS',\n",
    "        values=apy_template.fillna(value = 0).T.reset_index().T.values.tolist())\n",
    ").execute()"
   ]
  },
  {
   "cell_type": "code",
   "execution_count": null,
   "id": "59d15a84",
   "metadata": {},
   "outputs": [],
   "source": [
    "response = service.spreadsheets().values().clear(\n",
    "    spreadsheetId=SPREADSHEET_ID,\n",
    "    range=\"COFA\",\n",
    "    ).execute()\n",
    "\n",
    "response = service.spreadsheets().values().update(\n",
    "    spreadsheetId=SPREADSHEET_ID,\n",
    "    valueInputOption='RAW',\n",
    "    range=\"COFA!A1\",\n",
    "    body=dict(\n",
    "        majorDimension='ROWS',\n",
    "        values=cofa_original.fillna(value = \"N/A\").T.reset_index().T.values.tolist())\n",
    ").execute()"
   ]
  },
  {
   "cell_type": "code",
   "execution_count": null,
   "outputs": [],
   "source": [
    "response = service.spreadsheets().values().clear(\n",
    "    spreadsheetId=SPREADSHEET_ID,\n",
    "    range=\"CARRY\",\n",
    "    ).execute()\n",
    "\n",
    "response = service.spreadsheets().values().update(\n",
    "    spreadsheetId=SPREADSHEET_ID,\n",
    "    valueInputOption='RAW',\n",
    "    range=\"CARRY!A1\",\n",
    "    body=dict(\n",
    "        majorDimension='ROWS',\n",
    "        values=carry.fillna(value = \"N/A\").T.reset_index().T.values.tolist())\n",
    ").execute()"
   ],
   "metadata": {
    "collapsed": false,
    "pycharm": {
     "name": "#%%\n"
    }
   }
  },
  {
   "cell_type": "code",
   "execution_count": null,
   "id": "79887900",
   "metadata": {},
   "outputs": [],
   "source": [
    "response = service.spreadsheets().values().clear(\n",
    "    spreadsheetId=SPREADSHEET_ID,\n",
    "    range=\"Collateral\",\n",
    "    ).execute()\n",
    "\n",
    "response = service.spreadsheets().values().update(\n",
    "    spreadsheetId=SPREADSHEET_ID,\n",
    "    valueInputOption='RAW',\n",
    "    range=\"Collateral!A1\",\n",
    "    body=dict(\n",
    "        majorDimension='ROWS',\n",
    "        values=collateral.fillna(value = \"N/A\").T.reset_index().T.values.tolist())\n",
    ").execute()"
   ]
  },
  {
   "cell_type": "code",
   "execution_count": null,
   "id": "d31088a7",
   "metadata": {},
   "outputs": [],
   "source": [
    "response = service.spreadsheets().values().clear(\n",
    "    spreadsheetId=SPREADSHEET_ID,\n",
    "    range=\"Coin_Total_Asset_Liability\",\n",
    "    ).execute()\n",
    "\n",
    "response = service.spreadsheets().values().update(\n",
    "    spreadsheetId=SPREADSHEET_ID,\n",
    "    valueInputOption='RAW',\n",
    "    range=\"Coin_Total_Asset_Liability!A1\",\n",
    "    body=dict(\n",
    "        majorDimension='ROWS',\n",
    "        values=coin_asset_liability.fillna(value = 0).T.reset_index().T.values.tolist())\n",
    ").execute()"
   ]
  },
  {
   "cell_type": "code",
   "execution_count": null,
   "outputs": [],
   "source": [
    "df2"
   ],
   "metadata": {
    "collapsed": false,
    "pycharm": {
     "name": "#%%\n"
    }
   }
  },
  {
   "cell_type": "code",
   "execution_count": null,
   "id": "3b66f7a7",
   "metadata": {},
   "outputs": [],
   "source": [
    "response = service.spreadsheets().values().clear(\n",
    "    spreadsheetId=SPREADSHEET_ID,\n",
    "    range=\"Pivot_Data\",\n",
    "    ).execute()\n",
    "\n",
    "response = service.spreadsheets().values().update(\n",
    "    spreadsheetId=SPREADSHEET_ID,\n",
    "    valueInputOption='RAW',\n",
    "    range=\"Pivot_Data!A1\",\n",
    "    body=dict(\n",
    "        majorDimension='ROWS',\n",
    "        values=df2[col_names].fillna(value = \"N/A\").T.reset_index().T.values.tolist())\n",
    ").execute()"
   ]
  },
  {
   "cell_type": "code",
   "execution_count": null,
   "outputs": [],
   "source": [
    "response = service.spreadsheets().values().clear(\n",
    "    spreadsheetId=SPREADSHEET_ID,\n",
    "    range=\"Instilend_Active_Loans_Given\",\n",
    "    ).execute()\n",
    "\n",
    "response = service.spreadsheets().values().update(\n",
    "    spreadsheetId=SPREADSHEET_ID,\n",
    "    valueInputOption='RAW',\n",
    "    range=\"Instilend_Active_Loans_Given!A1\",\n",
    "    body=dict(\n",
    "        majorDimension='ROWS',\n",
    "        values=loan_book4.fillna(value = \"N/A\").T.reset_index().T.values.tolist())\n",
    ").execute()"
   ],
   "metadata": {
    "collapsed": false,
    "pycharm": {
     "name": "#%%\n"
    }
   }
  },
  {
   "cell_type": "markdown",
   "id": "135b1d61",
   "metadata": {},
   "source": [
    "## below code is for storing historical data with a date label "
   ]
  },
  {
   "cell_type": "markdown",
   "id": "106aa03f-49fd-4d1f-a9be-82eb9bd5cb08",
   "metadata": {
    "pycharm": {
     "name": "#%% md\n"
    }
   },
   "source": [
    "# get update date and time\n",
    "now = datetime.now()\n",
    "dt_string = now.strftime(\"%Y-%m-%d %H:%M:%S\")\n",
    "print(\"Updated at:\", dt_string)\n",
    "date_string = dt_string[0:10]\n",
    "date_string"
   ]
  },
  {
   "cell_type": "markdown",
   "id": "07f917d4-5b26-4b47-8828-4f7e7ec01b08",
   "metadata": {
    "pycharm": {
     "name": "#%% md\n"
    }
   },
   "source": [
    "coin_tiers[\"Date\"] = date_string\n",
    "df2[\"Date\"] = date_string\n",
    "df2_col_names = [\"Date\", \"Coin\", \"Category\", \"Account\", \"Tier\", \"# of Coins\", \n",
    "             \"APY\", \"COFA\", \"Price\", \"USD Value\", \"USD Value * COFA\",\n",
    "             \"USD Value * APY\"]\n",
    "coin_tiers_col_names = ['Date', 'Coin', 'Coin_Tier_1', 'Coin_Tier_2', 'Coin_Tier_3', 'Coin_Tier_4',\n",
    "       'Coin_Tier_5', 'APY_Tier_1', 'APY_Tier_2', 'APY_Tier_3', 'APY_Tier_4',\n",
    "       'APY_Tier_5']"
   ]
  },
  {
   "cell_type": "markdown",
   "id": "76335811-6f93-49d8-9868-1166e22f8800",
   "metadata": {
    "pycharm": {
     "name": "#%% md\n"
    }
   },
   "source": [
    "# Read the liquidity data excel file and apppend new data to it\n",
    "#path = \"/home/fan7893/Documents/Celsius/Liquidity/Liquidity_Tier_Data.xlsx\"\n",
    "#path = \"excel_input/Liquidity_Tier_Summary Live.xlsx\"\n",
    "data = coin_tiers[filter3].fillna(value = \"N/A\")\n",
    "pivot_data = df2[col_names].fillna(value = \"N/A\")\n",
    "\n",
    "# there may be some null values due to excel operation, need to filter them out\n",
    "data = data[data[\"Date\"].notnull()]\n",
    "#pivot_data = pivot_data[pivot_data[\"Date\"].notnull()]\n",
    "\n",
    "# if running for multiple times for the same date, we need to replace the previous run data from same date\n",
    "data = data[data[\"Date\"] != date_string]\n",
    "#pivot_data = pivot_data[pivot_data[\"Date\"] != date_string]\n",
    "\n",
    "data = pd.concat([data, coin_tiers[filter3][coin_tiers_col_names]])\n",
    "pivot_data = pd.concat([pivot_data, df2[df2_col_names]])"
   ]
  },
  {
   "cell_type": "markdown",
   "id": "b51d75cc-98fb-4f99-972f-deed1966fa31",
   "metadata": {
    "pycharm": {
     "name": "#%% md\n"
    }
   },
   "source": [
    "# reinsert the updated data into the template\n",
    "writer = pd.ExcelWriter(path)\n",
    "\n",
    "# add format info\n",
    "workbook = writer.book\n",
    "format1 = workbook.add_format({'num_format': '$#,##0', \"align\": \"left\"})\n",
    "format2 = workbook.add_format({'num_format': '#,##0.00%', \"align\": \"left\"})\n",
    "format3 = workbook.add_format({'num_format': '#,##0.00', \"align\": \"left\"})\n",
    "format4 = workbook.add_format({'num_format': '$#,##0.00', \"align\": \"left\"})\n",
    "data.to_excel(writer, sheet_name = 'Data', index = False)\n",
    "pivot_data.to_excel(writer, sheet_name = 'Pivot_Data', index = False)\n",
    "\n",
    "# set format\n",
    "worksheet = writer.sheets[\"Data\"]\n",
    "worksheet.set_column('A:B', 16)\n",
    "worksheet.set_column('C:G', 18, format3)\n",
    "worksheet.set_column('H:L', 18, format2)\n",
    "worksheet = writer.sheets[\"Pivot_Data\"]\n",
    "worksheet.set_column('A:C', 18)\n",
    "worksheet.set_column('D:D', 32)\n",
    "worksheet.set_column('E:E', 16)\n",
    "worksheet.set_column('F:F', 18, format3)\n",
    "worksheet.set_column('G:H', 16, format2)\n",
    "worksheet.set_column('I:I', 18, format4)\n",
    "worksheet.set_column('J:L', 18, format1)\n",
    "writer.close()"
   ]
  },
  {
   "cell_type": "markdown",
   "id": "9fa13a39-738c-48b8-920b-3578be3f5232",
   "metadata": {
    "pycharm": {
     "name": "#%% md\n"
    }
   },
   "source": [
    "historical_data_id = \"1pzlQEQE4FI4OnGrhKMfu1Skwrvs-FubYuEn-Ez5HpsM\"\n",
    "\n",
    "response = service.spreadsheets().values().clear(\n",
    "    spreadsheetId=historical_data_id,\n",
    "    range=\"Data\",\n",
    "    ).execute()\n",
    "\n",
    "response = service.spreadsheets().values().update(\n",
    "    spreadsheetId=historical_data_id,\n",
    "    valueInputOption='RAW',\n",
    "    range=\"Data!A1\",\n",
    "    body=dict(\n",
    "        majorDimension='ROWS',\n",
    "        values=data.fillna(value = 0).T.reset_index().T.values.tolist())\n",
    ").execute()"
   ]
  },
  {
   "cell_type": "markdown",
   "id": "ff5c2ddb-11ed-479f-a5e7-75ad8aabba9b",
   "metadata": {
    "pycharm": {
     "name": "#%% md\n"
    }
   },
   "source": [
    "response = service.spreadsheets().values().clear(\n",
    "    spreadsheetId=historical_data_id,\n",
    "    range=\"Pivot_Data\",\n",
    "    ).execute()\n",
    "\n",
    "response = service.spreadsheets().values().update(\n",
    "    spreadsheetId=historical_data_id,\n",
    "    valueInputOption='RAW',\n",
    "    range=\"Pivot_Data!A1\",\n",
    "    body=dict(\n",
    "        majorDimension='ROWS',\n",
    "        values=pivot_data.fillna(value = \"N/A\").T.reset_index().T.values.tolist())\n",
    ").execute()"
   ]
  },
  {
   "cell_type": "markdown",
   "source": [
    "## below code is to copy this freeze waterfall into the archive"
   ],
   "metadata": {
    "collapsed": false
   }
  },
  {
   "cell_type": "code",
   "source": [
    "if isFreeze:\n",
    "    scope = [\n",
    "    'https://www.googleapis.com/auth/spreadsheets',\n",
    "    'https://www.googleapis.com/auth/drive',\n",
    "    'https://www.googleapis.com/auth/drive.file'\n",
    "    ]\n",
    "\n",
    "    # this is ID for waterfall live, but we just updated it using freeze data\n",
    "    SPREADSHEET_ID = \"1ZkSLZH2QwHnfdSpQUWAv2qum6xzhemngjWQBJBn_KeM\"\n",
    "    #SPREADSHEET_ID = \"1ULOqqkYP7DDhVkZBoEA3i-Ka4x_YBPtAPuIzb84Ekrg\" # GAB LAST TEST\n",
    "    # The file token.json stores the user's access and refresh tokens, and is\n",
    "    # created automatically when the authorization flow completes for the first\n",
    "    # time.\n",
    "    if os.path.exists('drive_file_token.json'):\n",
    "            creds = Credentials.from_authorized_user_file('drive_file_token.json', scope)\n",
    "    '''flow = InstalledAppFlow.from_client_secrets_file('client_secret_510599516312-aj6d72c90n3fmrbf3ou6gromil06pr8c.apps.googleusercontent.com.json', scope)\n",
    "    creds = flow.run_local_server(port=0)\n",
    "    with open('drive_file_token.json', 'w') as token:\n",
    "        token.write(creds.to_json())'''\n",
    "    service = build('drive', 'v3', credentials=creds)\n",
    "\n",
    "    # extract the most recent freeze id from the url provided and get the file name using that id\n",
    "    freeze = pd.read_excel(\"excel_input/freeze_address.xlsx\")\n",
    "    freeze.columns = freeze.iloc[0]\n",
    "    freeze.drop([0], inplace = True)\n",
    "    freeze_address = str(freeze.iloc[-1][\"Freeze URL\"])\n",
    "    #print(freeze_address)\n",
    "    freeze_id = freeze_address.split(\"/\")[5]\n",
    "\n",
    "    #get the file name of most recent freeze sheet, which include the date of the freeze\n",
    "    response = service.files().get(fileId=freeze_id).execute()\n",
    "    freeze_name  =\"Portfolio Waterfall TEST - \" + response[\"name\"]\n",
    "\n",
    "    # after updating the portfolio waterall live, copied it to the archive folder\n",
    "    archive_folder_id = \"13f2xspl16wzdHBRwhgnEkKj80zLL9Rzu\"\n",
    "    newfile = {'name': freeze_name,  'parents' : [archive_folder_id]}\n",
    "    response = service.files().copy(fileId=SPREADSHEET_ID, body=newfile).execute()\n",
    "\n",
    "    # get link\n",
    "    link_base = \"https://docs.google.com/spreadsheets/d/\"\n",
    "    link = link_base + response['id']\n",
    "    date = freeze_last_date"
   ],
   "metadata": {
    "collapsed": false,
    "pycharm": {
     "name": "#%%\n"
    }
   },
   "execution_count": null,
   "outputs": []
  },
  {
   "cell_type": "code",
   "execution_count": null,
   "outputs": [],
   "source": [
    "scope = [\n",
    "'https://www.googleapis.com/auth/spreadsheets',\n",
    "'https://www.googleapis.com/auth/drive',\n",
    "]\n",
    "# this is ID for testing\n",
    "SPREADSHEET_ID = \"1dBf2U0nfHzDqtkrfxdm8P2hfwM_Ndb9nx4OW8HCwmcg\"\n",
    "if os.path.exists('write_token.json'):\n",
    "        creds = Credentials.from_authorized_user_file('write_token.json', scope)\n",
    "service = build('sheets', 'v4', credentials=creds)\n",
    "\n",
    "response = service.spreadsheets().values().append(\n",
    "    spreadsheetId = SPREADSHEET_ID,\n",
    "    range = \"Past Waterfall Freezes!A2:B4\",\n",
    "    body = {\n",
    "        \"majorDimension\": \"ROWS\",\n",
    "        \"values\": [[freeze_name_date,link]]\n",
    "    },\n",
    "    valueInputOption = 'RAW'\n",
    ").execute()\n",
    "\n",
    "\n",
    "\"\"\"\n",
    "response = service.spreadsheets().values().batchUpdate(\n",
    "    spreadsheetId=SPREADSHEET_ID,\n",
    "    body={\n",
    "        \"valueInputOption\":'RAW',\n",
    "        'data':{\n",
    "            'range':\n",
    "            [[1,2]],\n",
    "        'ValueRanges': [[date,link]]\n",
    "}}).execute()\"\"\""
   ],
   "metadata": {
    "collapsed": false,
    "pycharm": {
     "name": "#%%\n"
    }
   }
  },
  {
   "cell_type": "markdown",
   "source": [
    "# Save in history"
   ],
   "metadata": {
    "collapsed": false,
    "pycharm": {
     "name": "#%% md\n"
    }
   }
  },
  {
   "cell_type": "markdown",
   "source": [
    "# Connect to Drive API\n",
    "spreadsheet_id = '1pzlQEQE4FI4OnGrhKMfu1Skwrvs-FubYuEn-Ez5HpsM'\n",
    "SCOPES = ['https://www.googleapis.com/auth/drive.readonly']\n",
    "creds = None\n",
    "creds = Credentials.from_authorized_user_file('token.json', SCOPES)\n",
    "service = build('sheets', 'v4', credentials=creds)\n",
    "\n",
    "# Call the Drive v3 API\n",
    "SAMPLE_RANGE_NAME = 'Pivot_Data!A3:T'\n",
    "request = service.spreadsheets().values().batchGet(\n",
    "    spreadsheetId=spreadsheet_id,\n",
    "    ranges=SAMPLE_RANGE_NAME,\n",
    "    valueRenderOption='FORMATTED_VALUE')\n",
    "response = request.execute()\n",
    "\n",
    "timestamp = datetime.now().strftime(\"%m/%d/%Y %H:%M:%S\")\n",
    "today = datetime.now().strftime(\"%m/%d/%Y\")"
   ],
   "metadata": {
    "collapsed": false,
    "pycharm": {
     "name": "#%% md\n"
    }
   }
  },
  {
   "cell_type": "markdown",
   "source": [
    "history = pd.DataFrame(response['valueRanges'][0]['values'])\n",
    "history.columns = col_names + ['Timestamp']\n",
    "history['Timestamp'] = pd.to_datetime(history['Timestamp'])\n",
    "cond = history['Timestamp'].dt.strftime(\"%m/%d/%Y\") == today\n",
    "idx_todrop= history[cond].index\n",
    "history.drop(idx_todrop, inplace=True)"
   ],
   "metadata": {
    "collapsed": false,
    "pycharm": {
     "name": "#%% md\n"
    }
   }
  },
  {
   "cell_type": "markdown",
   "source": [
    "history"
   ],
   "metadata": {
    "collapsed": false,
    "pycharm": {
     "name": "#%% md\n"
    }
   }
  },
  {
   "cell_type": "markdown",
   "source": [
    "pivot_data = df2[col_names].fillna(value = \"N/A\")\n",
    "pivot_data['Timestamp'] = timestamp\n",
    "pivot_data = pd.concat([history, pivot_data])\n",
    "id = '1pzlQEQE4FI4OnGrhKMfu1Skwrvs-FubYuEn-Ez5HpsM'\n",
    "\n",
    "pivot_data"
   ],
   "metadata": {
    "collapsed": false,
    "pycharm": {
     "name": "#%% md\n"
    }
   }
  },
  {
   "cell_type": "markdown",
   "source": [
    "scope = [\n",
    "'https://www.googleapis.com/auth/spreadsheets',\n",
    "'https://www.googleapis.com/auth/drive',\n",
    "]\n",
    "# this is ID for testing\n",
    "#SPREADSHEET_ID = '1IptNC0hEhwvuyfI4m2kP9-rR-3jDAOhgQaPNkW2I_QQ'\n",
    "# this is ID for waterfall sheet\n",
    "SPREADSHEET_ID = '1pzlQEQE4FI4OnGrhKMfu1Skwrvs-FubYuEn-Ez5HpsM' #Historical Data\n",
    "range = 'Pivot_Data!A:T2'\n",
    "if os.path.exists('write_token.json'):\n",
    "        creds = Credentials.from_authorized_user_file('write_token.json', scope)\n",
    "service = build('sheets', 'v4', credentials=creds)\n",
    "\n",
    "data = pivot_data.values.tolist()"
   ],
   "metadata": {
    "collapsed": false,
    "pycharm": {
     "name": "#%% md\n"
    }
   }
  },
  {
   "cell_type": "markdown",
   "source": [
    "response = service.spreadsheets().values().append(\n",
    "    spreadsheetId = SPREADSHEET_ID,\n",
    "    range = range,\n",
    "    body = {\n",
    "        \"majorDimension\": \"ROWS\",\n",
    "        \"values\": data\n",
    "    },\n",
    "    valueInputOption = 'RAW'\n",
    ").execute()"
   ],
   "metadata": {
    "collapsed": false,
    "pycharm": {
     "name": "#%% md\n"
    }
   }
  },
  {
   "cell_type": "markdown",
   "source": [
    "freeze_name"
   ],
   "metadata": {
    "collapsed": false,
    "pycharm": {
     "name": "#%% md\n"
    }
   }
  }
 ],
 "metadata": {
  "kernelspec": {
   "display_name": "Python 3 (ipykernel)",
   "language": "python",
   "name": "python3"
  },
  "language_info": {
   "codemirror_mode": {
    "name": "ipython",
    "version": 3
   },
   "file_extension": ".py",
   "mimetype": "text/x-python",
   "name": "python",
   "nbconvert_exporter": "python",
   "pygments_lexer": "ipython3",
   "version": "3.9.7"
  }
 },
 "nbformat": 4,
 "nbformat_minor": 5
}