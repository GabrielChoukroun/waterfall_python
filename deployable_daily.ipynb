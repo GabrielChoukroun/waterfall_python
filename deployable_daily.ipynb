{
 "cells": [
  {
   "cell_type": "code",
   "execution_count": 1,
   "metadata": {
    "collapsed": true
   },
   "outputs": [],
   "source": [
    "from email.mime.multipart import MIMEMultipart\n",
    "import os.path\n",
    "import pandas as pd\n",
    "from googleapiclient.discovery import build\n",
    "from google_auth_oauthlib.flow import InstalledAppFlow\n",
    "from google.auth.transport.requests import Request\n",
    "from google.oauth2.credentials import Credentials\n",
    "import datetime as dt\n",
    "from email.mime.text import MIMEText\n",
    "import base64"
   ]
  },
  {
   "cell_type": "code",
   "execution_count": 5,
   "outputs": [],
   "source": [
    "# Connect to Drive API\n",
    "spreadsheet_id = '1-2FvSx-rVma1RCZ0Hu4p7J8DJjN6TpZwz6CgNSwa7CY'\n",
    "url = 'https://docs.google.com/spreadsheets/d/1-2FvSx-rVma1RCZ0Hu4p7J8DJjN6TpZwz6CgNSwa7CY'\n",
    "emails = ['treasury@celsius.network',\n",
    "'weekly.portfolio@celsius.network']\n",
    "\n",
    "SCOPES = ['https://www.googleapis.com/auth/drive.readonly']\n",
    "creds = None\n",
    "creds = Credentials.from_authorized_user_file('token.json', SCOPES)\n",
    "service = build('sheets', 'v4', credentials=creds)\n",
    "\n",
    "# Call the Drive v3 API\n",
    "SAMPLE_RANGE_NAME = 'Summary Distribution!B2:E210'\n",
    "request = service.spreadsheets().values().batchGet(\n",
    "    spreadsheetId=spreadsheet_id,\n",
    "    ranges=SAMPLE_RANGE_NAME,\n",
    "    valueRenderOption='FORMATTED_VALUE')\n",
    "response = request.execute()"
   ],
   "metadata": {
    "collapsed": false,
    "pycharm": {
     "name": "#%%\n"
    }
   }
  },
  {
   "cell_type": "code",
   "execution_count": 5,
   "outputs": [
    {
     "data": {
      "text/plain": "\"SCOPES = ['https://www.googleapis.com/auth/gmail.send']\\nflow = InstalledAppFlow.from_client_secrets_file(\\n    'client_gmail.json', SCOPES)\\ncreds = flow.run_local_server(port=0)\\n# Save the credentials for the next run\\nwith open('token_gmail_send.json', 'w') as token:\\n    token.write(creds.to_json())\""
     },
     "execution_count": 5,
     "metadata": {},
     "output_type": "execute_result"
    }
   ],
   "source": [
    "'''SCOPES = ['https://www.googleapis.com/auth/gmail.send']\n",
    "flow = InstalledAppFlow.from_client_secrets_file(\n",
    "    'client_gmail.json', SCOPES)\n",
    "creds = flow.run_local_server(port=0)\n",
    "# Save the credentials for the next run\n",
    "with open('token_gmail_send.json', 'w') as token:\n",
    "    token.write(creds.to_json())'''"
   ],
   "metadata": {
    "collapsed": false,
    "pycharm": {
     "name": "#%%\n"
    }
   }
  },
  {
   "cell_type": "code",
   "execution_count": 68,
   "outputs": [],
   "source": [
    "df = pd.DataFrame(response['valueRanges'][0]['values']).dropna().reset_index(drop=True)\n",
    "df.set_index(df[0], inplace=True)\n",
    "df.columns = df.iloc[0]\n",
    "\n",
    "summary_idx = [\n",
    "        'Deployable Coin Metric',\n",
    "        'Deployable Liquidity Reserve (Tiers 1-4)',\n",
    "        'Non-Stablecoins',\n",
    "        'BTC',\n",
    "        'ETH',\n",
    "        'Non-Stablecoins (All Other)',\n",
    "        'Stablecoins¹',\n",
    "        'Gold Tokens',\n",
    "        'Deployable Liquidity Excess (Tier 5+)',\n",
    "        'Total Undeployed',\n",
    "        'Total Under Deployed']\n",
    "\n",
    "df_tiers1_4 = df.loc[summary_idx[0]:summary_idx[8]]\n",
    "df_tiers1_4.index = df_tiers1_4.index.str.strip()\n",
    "df_tiers1_4 = df_tiers1_4.loc[summary_idx[0:8]]\n",
    "df_tier5  = df.loc[summary_idx[8:]]\n",
    "df_all = pd.concat([df_tiers1_4,df_tier5])\n",
    "df_all.drop([''],axis=1, inplace=True)\n",
    "\n",
    "#Format for mail\n",
    "df_all_t = df_all.copy()\n",
    "sub_col1 = ['',''] + summary_idx[2:8] + ['','','']\n",
    "#['','Deployable Liquidity Reserve (Tiers 1-4)'] + ['' for i in range(6)] +summary_idx[-3:]\n",
    "df_all_t.loc[summary_idx[2:8], 'Deployable Coin Metric'] = ''\n",
    "df_all_t.insert(1,'-', sub_col1)\n",
    "df_all_t = df_all_t.iloc[1:]\n",
    "df_all_t.rename(columns={'Deployable Coin Metric':'--'}, inplace=True)"
   ],
   "metadata": {
    "collapsed": false,
    "pycharm": {
     "name": "#%%\n"
    }
   }
  },
  {
   "cell_type": "code",
   "execution_count": 69,
   "outputs": [],
   "source": [
    "# Connect to GMAIL API\n",
    "client_id = \"me\"\n",
    "SCOPES = ['https://www.googleapis.com/auth/gmail.send']\n",
    "creds = None\n",
    "creds = Credentials.from_authorized_user_file('token_gmail_send.json', SCOPES)\n",
    "\n",
    "service_gmail = build('gmail', 'v1', credentials=creds)\n",
    "#results = service_gmail.users().labels().list(userId=client_id).execute()\n",
    "#labels = results.get('labels', [])"
   ],
   "metadata": {
    "collapsed": false,
    "pycharm": {
     "name": "#%%\n"
    }
   }
  },
  {
   "cell_type": "code",
   "execution_count": 71,
   "outputs": [
    {
     "name": "stdout",
     "output_type": "stream",
     "text": [
      "Message Id: 17e4e5f685e1f8af\n"
     ]
    }
   ],
   "source": [
    "html = \"\"\"\n",
    "<html><body><p>Hi all,</p>\n",
    "<p>here is a snapshot of the Deployable Coin Metric:</p>\n",
    "{table}\n",
    "\n",
    "<p> And the link to the google sheet:</p>\n",
    "<a href=\"{url}\">Deployable Metric</a>\n",
    "\n",
    "<p>Regards,</p>\n",
    "<p>CNS BOT</p>\n",
    "</body></html>\n",
    "\"\"\"\n",
    "\n",
    "user_id = 'me'\n",
    "subject = 'Daily Deployable Coin Metric'\n",
    "to = 'gabriel.choukroun@celsius.network'\n",
    "sender = 'gabriel.choukroun@celsius.network'\n",
    "\n",
    "html = html.format(table=df_all_t.to_html(index=False, header=True), url=url)\n",
    "\n",
    "message = MIMEText(html, 'html')\n",
    "message['to'] = to\n",
    "message['from'] = sender\n",
    "message['subject'] = subject\n",
    "raw_message = {\n",
    "    'raw':base64.urlsafe_b64encode(message.as_string().encode(\"utf-8\")).decode(\"utf-8\")}\n",
    " #   'payload': {'mimeType': 'text/html'}}\n",
    "\n",
    "message = service_gmail.users().messages().send(userId=user_id, body=raw_message).execute()\n",
    "print('Message Id: %s' % message['id'])"
   ],
   "metadata": {
    "collapsed": false,
    "pycharm": {
     "name": "#%%\n"
    }
   }
  },
  {
   "cell_type": "code",
   "execution_count": null,
   "outputs": [],
   "source": [],
   "metadata": {
    "collapsed": false,
    "pycharm": {
     "name": "#%%\n"
    }
   }
  }
 ],
 "metadata": {
  "kernelspec": {
   "display_name": "Python 3",
   "language": "python",
   "name": "python3"
  },
  "language_info": {
   "codemirror_mode": {
    "name": "ipython",
    "version": 2
   },
   "file_extension": ".py",
   "mimetype": "text/x-python",
   "name": "python",
   "nbconvert_exporter": "python",
   "pygments_lexer": "ipython2",
   "version": "2.7.6"
  }
 },
 "nbformat": 4,
 "nbformat_minor": 0
}