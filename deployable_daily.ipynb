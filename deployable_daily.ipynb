{
 "cells": [
  {
   "cell_type": "code",
   "execution_count": 1,
   "metadata": {
    "collapsed": true
   },
   "outputs": [],
   "source": [
    "from email.mime.multipart import MIMEMultipart\n",
    "import os.path\n",
    "import pandas as pd\n",
    "from googleapiclient.discovery import build\n",
    "from google_auth_oauthlib.flow import InstalledAppFlow\n",
    "from google.auth.transport.requests import Request\n",
    "from google.oauth2.credentials import Credentials\n",
    "import datetime as dt\n",
    "from email.mime.text import MIMEText\n",
    "import base64"
   ]
  },
  {
   "cell_type": "markdown",
   "source": [
    "Also, can we please add a separate table on the daily email for carry rates? We can create the table from 3 columns in the ‘Carry Rates’ tab in the spreadsheet: Coin, Carry, Carry Tier 5. In the email, can we rename the ‘Carry’ column to ‘Carry (Tiers 1-2)’ and the ‘Carry Tier 5’ column to ‘Carry (Tiers 3+)’?\n",
    "\n",
    "We changed thee summary view to split out deployable amounts for Tiers 3 & 4. Can you please update the daily email to reflect an extra line called ‘Deployable Liquidity Reserve (Tiers 3-4)’ before ‘Deployable Liquidity Excess (Tier 5+)’?"
   ],
   "metadata": {
    "collapsed": false,
    "pycharm": {
     "name": "#%% md\n"
    }
   }
  },
  {
   "cell_type": "code",
   "execution_count": 10,
   "outputs": [],
   "source": [
    "# Connect to Drive API\n",
    "spreadsheet_id = '1-2FvSx-rVma1RCZ0Hu4p7J8DJjN6TpZwz6CgNSwa7CY'\n",
    "url = 'https://docs.google.com/spreadsheets/d/1-2FvSx-rVma1RCZ0Hu4p7J8DJjN6TpZwz6CgNSwa7CY'\n",
    "emails = ['treasury@celsius.network',\n",
    "'weekly.portfolio@celsius.network']\n",
    "\n",
    "SCOPES = ['https://www.googleapis.com/auth/drive.readonly']\n",
    "creds = None\n",
    "creds = Credentials.from_authorized_user_file('token.json', SCOPES)\n",
    "service = build('sheets', 'v4', credentials=creds)\n",
    "\n",
    "# Call the Drive v3 API\n",
    "SAMPLE_RANGE_NAME = 'Summary Distribution!B3:G310'\n",
    "request = service.spreadsheets().values().batchGet(\n",
    "    spreadsheetId=spreadsheet_id,\n",
    "    ranges=SAMPLE_RANGE_NAME,\n",
    "    valueRenderOption='FORMATTED_VALUE')\n",
    "response = request.execute()\n",
    "\n",
    "# Get the carry table\n",
    "carry_range = 'Carry Rates!A2:H100'\n",
    "request = service.spreadsheets().values().batchGet(\n",
    "    spreadsheetId=spreadsheet_id,\n",
    "    ranges=carry_range,\n",
    "    valueRenderOption='FORMATTED_VALUE')\n",
    "response_carry = request.execute()"
   ],
   "metadata": {
    "collapsed": false,
    "pycharm": {
     "name": "#%%\n"
    }
   }
  },
  {
   "cell_type": "code",
   "execution_count": 11,
   "outputs": [
    {
     "data": {
      "text/plain": "\"SCOPES = ['https://www.googleapis.com/auth/gmail.send']\\nflow = InstalledAppFlow.from_client_secrets_file(\\n    'client_gmail.json', SCOPES)\\ncreds = flow.run_local_server(port=0)\\n# Save the credentials for the next run\\nwith open('token_gmail_send.json', 'w') as token:\\n    token.write(creds.to_json())\""
     },
     "execution_count": 11,
     "metadata": {},
     "output_type": "execute_result"
    }
   ],
   "source": [
    "'''SCOPES = ['https://www.googleapis.com/auth/gmail.send']\n",
    "flow = InstalledAppFlow.from_client_secrets_file(\n",
    "    'client_gmail.json', SCOPES)\n",
    "creds = flow.run_local_server(port=0)\n",
    "# Save the credentials for the next run\n",
    "with open('token_gmail_send.json', 'w') as token:\n",
    "    token.write(creds.to_json())'''"
   ],
   "metadata": {
    "collapsed": false,
    "pycharm": {
     "name": "#%%\n"
    }
   }
  },
  {
   "cell_type": "code",
   "execution_count": 12,
   "outputs": [],
   "source": [
    "df = pd.DataFrame(response['valueRanges'][0]['values']).dropna(how='all').reset_index(drop=True)\n",
    "df.set_index(df[0], inplace=True)\n",
    "df.columns = df.iloc[0]\n",
    "df.index = df.index.str.strip()\n",
    "\n",
    "summary_idx_level0 = [\n",
    "        'Deployable Coin Metric',\n",
    "        'Deployable Liquidity Reserve (Tiers 1-2)',\n",
    "        'Deployable Liquidity Reserve (Tiers 3-4)',\n",
    "        'Deployable Liquidity Excess (Tiers 5+)',\n",
    "        'Total Undeployed',\n",
    "        'Total Under Deployed']\n",
    "\n",
    "summary_idx_level1 = ['Non-Stablecoins',\n",
    "        'BTC',\n",
    "        'ETH',\n",
    "        'Non-Stablecoins (All Other)',\n",
    "        'Stable (USD)',\n",
    "        'Gold Tokens',\n",
    "        ]\n",
    "\n",
    "df_tiers1_2 = df.loc[summary_idx_level0[0]:summary_idx_level0[2]]\n",
    "df_tiers1_2 = df_tiers1_2.loc[summary_idx_level0[:2] + summary_idx_level1]\n",
    "\n",
    "df_tiers3_4 = df.loc[summary_idx_level0[2]:summary_idx_level0[3]]\n",
    "df_tiers3_4 = df_tiers3_4.loc[summary_idx_level0[2:3] + summary_idx_level1]\n",
    "\n",
    "df_tier5  = df.loc[summary_idx_level0[3:]]\n",
    "df_all = pd.concat([df_tiers1_2,df_tiers3_4, df_tier5])\n",
    "df_all.drop([''],axis=1, inplace=True)\n",
    "\n",
    "#Format for mail\n",
    "df_all_t = df_all.copy()\n",
    "#sub_col1 = ['',''] + summary_idx[2:8] + ['','','']\n",
    "#['','Deployable Liquidity Reserve (Tiers 1-4)'] + ['' for i in range(6)] +summary_idx[-3:]\n",
    "#df_all_t.loc[summary_idx[2:8], 'Deployable Coin Metric'] = ''\n",
    "#df_all_t.insert(1,'-', sub_col1)\n",
    "df_all_t = df_all_t.iloc[1:]\n",
    "#df_all_t.at['Stablecoins¹','Deployable Coin Metric'] = 'Stablecoins'\n",
    "#df_all_t.rename(columns={'Deployable Coin Metric':''}, inplace=True)\n",
    "df_all_t.columns.name = None\n",
    "df_all_t.loc[~df_all_t.index.isin(['BTC','ETH']),'Carry Rates']=''"
   ],
   "metadata": {
    "collapsed": false,
    "pycharm": {
     "name": "#%%\n"
    }
   }
  },
  {
   "cell_type": "code",
   "execution_count": 13,
   "outputs": [
    {
     "data": {
      "text/plain": "                                                            Deployable Coin Metric  \\\n0                                                                                    \nDeployable Liquidity Reserve (Tiers 1-2)  Deployable Liquidity Reserve (Tiers 1-2)   \nNon-Stablecoins                                                    Non-Stablecoins   \nBTC                                                                            BTC   \nETH                                                                            ETH   \nNon-Stablecoins (All Other)                            Non-Stablecoins (All Other)   \nStable (USD)                                                          Stable (USD)   \nGold Tokens                                                            Gold Tokens   \nDeployable Liquidity Reserve (Tiers 3-4)  Deployable Liquidity Reserve (Tiers 3-4)   \nNon-Stablecoins                                                    Non-Stablecoins   \nBTC                                                                            BTC   \nETH                                                                            ETH   \nNon-Stablecoins (All Other)                            Non-Stablecoins (All Other)   \nStable (USD)                                                          Stable (USD)   \nGold Tokens                                                            Gold Tokens   \nDeployable Liquidity Excess (Tiers 5+)      Deployable Liquidity Excess (Tiers 5+)   \nTotal Undeployed                                                  Total Undeployed   \nTotal Under Deployed                                          Total Under Deployed   \n\n                                              Coins               $  \\\n0                                                                     \nDeployable Liquidity Reserve (Tiers 1-2)             $1,496,682,529   \nNon-Stablecoins                                      $1,422,082,672   \nBTC                                        26,233.7  $1,030,511,963   \nETH                                       112,407.3    $297,482,595   \nNon-Stablecoins (All Other)                             $94,088,114   \nStable (USD)                                            $74,255,646   \nGold Tokens                                                $344,211   \nDeployable Liquidity Reserve (Tiers 3-4)             $1,475,674,400   \nNon-Stablecoins                                      $1,412,284,489   \nBTC                                        26,233.7  $1,030,511,963   \nETH                                       112,407.3    $297,482,595   \nNon-Stablecoins (All Other)                             $84,289,930   \nStable (USD)                                            $63,045,700   \nGold Tokens                                                $344,211   \nDeployable Liquidity Excess (Tiers 5+)               $1,465,752,549   \nTotal Undeployed                                       $502,147,085   \nTotal Under Deployed                                   $994,535,444   \n\n                                         Carry Rates  \n0                                                     \nDeployable Liquidity Reserve (Tiers 1-2)              \nNon-Stablecoins                                       \nBTC                                            1.66%  \nETH                                            3.06%  \nNon-Stablecoins (All Other)                           \nStable (USD)                                          \nGold Tokens                                           \nDeployable Liquidity Reserve (Tiers 3-4)              \nNon-Stablecoins                                       \nBTC                                            2.30%  \nETH                                            3.91%  \nNon-Stablecoins (All Other)                           \nStable (USD)                                          \nGold Tokens                                           \nDeployable Liquidity Excess (Tiers 5+)                \nTotal Undeployed                                      \nTotal Under Deployed                                  ",
      "text/html": "<div>\n<style scoped>\n    .dataframe tbody tr th:only-of-type {\n        vertical-align: middle;\n    }\n\n    .dataframe tbody tr th {\n        vertical-align: top;\n    }\n\n    .dataframe thead th {\n        text-align: right;\n    }\n</style>\n<table border=\"1\" class=\"dataframe\">\n  <thead>\n    <tr style=\"text-align: right;\">\n      <th></th>\n      <th>Deployable Coin Metric</th>\n      <th>Coins</th>\n      <th>$</th>\n      <th>Carry Rates</th>\n    </tr>\n    <tr>\n      <th>0</th>\n      <th></th>\n      <th></th>\n      <th></th>\n      <th></th>\n    </tr>\n  </thead>\n  <tbody>\n    <tr>\n      <th>Deployable Liquidity Reserve (Tiers 1-2)</th>\n      <td>Deployable Liquidity Reserve (Tiers 1-2)</td>\n      <td></td>\n      <td>$1,496,682,529</td>\n      <td></td>\n    </tr>\n    <tr>\n      <th>Non-Stablecoins</th>\n      <td>Non-Stablecoins</td>\n      <td></td>\n      <td>$1,422,082,672</td>\n      <td></td>\n    </tr>\n    <tr>\n      <th>BTC</th>\n      <td>BTC</td>\n      <td>26,233.7</td>\n      <td>$1,030,511,963</td>\n      <td>1.66%</td>\n    </tr>\n    <tr>\n      <th>ETH</th>\n      <td>ETH</td>\n      <td>112,407.3</td>\n      <td>$297,482,595</td>\n      <td>3.06%</td>\n    </tr>\n    <tr>\n      <th>Non-Stablecoins (All Other)</th>\n      <td>Non-Stablecoins (All Other)</td>\n      <td></td>\n      <td>$94,088,114</td>\n      <td></td>\n    </tr>\n    <tr>\n      <th>Stable (USD)</th>\n      <td>Stable (USD)</td>\n      <td></td>\n      <td>$74,255,646</td>\n      <td></td>\n    </tr>\n    <tr>\n      <th>Gold Tokens</th>\n      <td>Gold Tokens</td>\n      <td></td>\n      <td>$344,211</td>\n      <td></td>\n    </tr>\n    <tr>\n      <th>Deployable Liquidity Reserve (Tiers 3-4)</th>\n      <td>Deployable Liquidity Reserve (Tiers 3-4)</td>\n      <td></td>\n      <td>$1,475,674,400</td>\n      <td></td>\n    </tr>\n    <tr>\n      <th>Non-Stablecoins</th>\n      <td>Non-Stablecoins</td>\n      <td></td>\n      <td>$1,412,284,489</td>\n      <td></td>\n    </tr>\n    <tr>\n      <th>BTC</th>\n      <td>BTC</td>\n      <td>26,233.7</td>\n      <td>$1,030,511,963</td>\n      <td>2.30%</td>\n    </tr>\n    <tr>\n      <th>ETH</th>\n      <td>ETH</td>\n      <td>112,407.3</td>\n      <td>$297,482,595</td>\n      <td>3.91%</td>\n    </tr>\n    <tr>\n      <th>Non-Stablecoins (All Other)</th>\n      <td>Non-Stablecoins (All Other)</td>\n      <td></td>\n      <td>$84,289,930</td>\n      <td></td>\n    </tr>\n    <tr>\n      <th>Stable (USD)</th>\n      <td>Stable (USD)</td>\n      <td></td>\n      <td>$63,045,700</td>\n      <td></td>\n    </tr>\n    <tr>\n      <th>Gold Tokens</th>\n      <td>Gold Tokens</td>\n      <td></td>\n      <td>$344,211</td>\n      <td></td>\n    </tr>\n    <tr>\n      <th>Deployable Liquidity Excess (Tiers 5+)</th>\n      <td>Deployable Liquidity Excess (Tiers 5+)</td>\n      <td></td>\n      <td>$1,465,752,549</td>\n      <td></td>\n    </tr>\n    <tr>\n      <th>Total Undeployed</th>\n      <td>Total Undeployed</td>\n      <td></td>\n      <td>$502,147,085</td>\n      <td></td>\n    </tr>\n    <tr>\n      <th>Total Under Deployed</th>\n      <td>Total Under Deployed</td>\n      <td></td>\n      <td>$994,535,444</td>\n      <td></td>\n    </tr>\n  </tbody>\n</table>\n</div>"
     },
     "execution_count": 13,
     "metadata": {},
     "output_type": "execute_result"
    }
   ],
   "source": [
    "df_all_t"
   ],
   "metadata": {
    "collapsed": false,
    "pycharm": {
     "name": "#%%\n"
    }
   }
  },
  {
   "cell_type": "code",
   "execution_count": 16,
   "outputs": [
    {
     "data": {
      "text/plain": "0           Coin   Carry Carry Tier 5\n1            BTC   1.66%        2.30%\n2            ETH   3.06%        3.91%\n3            SNX  12.97%       16.32%\n4          MATIC   8.67%       10.70%\n5            DOT   7.20%        8.93%\n..           ...     ...          ...\n65         ALPHA   2.10%        2.60%\n66           FTM   1.62%        2.12%\n67          ALCX   2.10%        2.60%\n68          DOGE   6.23%        7.83%\n69  Stable (USD)   7.79%        9.74%\n\n[69 rows x 3 columns]",
      "text/html": "<div>\n<style scoped>\n    .dataframe tbody tr th:only-of-type {\n        vertical-align: middle;\n    }\n\n    .dataframe tbody tr th {\n        vertical-align: top;\n    }\n\n    .dataframe thead th {\n        text-align: right;\n    }\n</style>\n<table border=\"1\" class=\"dataframe\">\n  <thead>\n    <tr style=\"text-align: right;\">\n      <th></th>\n      <th>Coin</th>\n      <th>Carry</th>\n      <th>Carry Tier 5</th>\n    </tr>\n  </thead>\n  <tbody>\n    <tr>\n      <th>1</th>\n      <td>BTC</td>\n      <td>1.66%</td>\n      <td>2.30%</td>\n    </tr>\n    <tr>\n      <th>2</th>\n      <td>ETH</td>\n      <td>3.06%</td>\n      <td>3.91%</td>\n    </tr>\n    <tr>\n      <th>3</th>\n      <td>SNX</td>\n      <td>12.97%</td>\n      <td>16.32%</td>\n    </tr>\n    <tr>\n      <th>4</th>\n      <td>MATIC</td>\n      <td>8.67%</td>\n      <td>10.70%</td>\n    </tr>\n    <tr>\n      <th>5</th>\n      <td>DOT</td>\n      <td>7.20%</td>\n      <td>8.93%</td>\n    </tr>\n    <tr>\n      <th>...</th>\n      <td>...</td>\n      <td>...</td>\n      <td>...</td>\n    </tr>\n    <tr>\n      <th>65</th>\n      <td>ALPHA</td>\n      <td>2.10%</td>\n      <td>2.60%</td>\n    </tr>\n    <tr>\n      <th>66</th>\n      <td>FTM</td>\n      <td>1.62%</td>\n      <td>2.12%</td>\n    </tr>\n    <tr>\n      <th>67</th>\n      <td>ALCX</td>\n      <td>2.10%</td>\n      <td>2.60%</td>\n    </tr>\n    <tr>\n      <th>68</th>\n      <td>DOGE</td>\n      <td>6.23%</td>\n      <td>7.83%</td>\n    </tr>\n    <tr>\n      <th>69</th>\n      <td>Stable (USD)</td>\n      <td>7.79%</td>\n      <td>9.74%</td>\n    </tr>\n  </tbody>\n</table>\n<p>69 rows × 3 columns</p>\n</div>"
     },
     "execution_count": 16,
     "metadata": {},
     "output_type": "execute_result"
    }
   ],
   "source": [
    "# CARRY RATES\n",
    "df_carry = pd.DataFrame(response_carry['valueRanges'][0]['values']).dropna(how='all').reset_index(drop=True)\n",
    "df_carry.columns = df_carry.iloc[0]\n",
    "df_carry = df_carry.iloc[1:]\n",
    "df_carry2 = df_carry[['Coin','Carry','Carry Tier 5']]\n",
    "#df_carry2.columns = ['Coin', 'Carry (Tiers 1-2)', 'Carry (Tiers 3+)']\n",
    "cond = df_carry2['Carry'].map(lambda x: str(x)=='na')\n",
    "df_carry2 = df_carry2[~cond]\n",
    "df_carry2"
   ],
   "metadata": {
    "collapsed": false,
    "pycharm": {
     "name": "#%%\n"
    }
   }
  },
  {
   "cell_type": "code",
   "execution_count": 21,
   "outputs": [],
   "source": [
    "# Connect to GMAIL API\n",
    "client_id = \"me\"\n",
    "SCOPES = ['https://www.googleapis.com/auth/gmail.send']\n",
    "creds = None\n",
    "creds = Credentials.from_authorized_user_file('token_gmail_send.json', SCOPES)\n",
    "\n",
    "service_gmail = build('gmail', 'v1', credentials=creds)\n",
    "#results = service_gmail.users().labels().list(userId=client_id).execute()\n",
    "#labels = results.get('labels', [])"
   ],
   "metadata": {
    "collapsed": false,
    "pycharm": {
     "name": "#%%\n"
    }
   }
  },
  {
   "cell_type": "code",
   "execution_count": 16,
   "outputs": [],
   "source": [
    "def bold_tag(html, text):\n",
    "    bold_text = '<b>' + text + '</b>'\n",
    "    return html.replace(text, bold_text)\n",
    "\n",
    "def align_center(html, text):\n",
    "    align_center = text + \"&emsp;&emsp;&emsp;&emsp;\"\n",
    "    return html.replace(text, align_center)\n",
    "\n",
    "def title_size(html,text):\n",
    "    text_size = '<b style=\"font-size:16px\" style=\"font-color:grey\">' + text + '</b'\n",
    "    return html.replace(text, text_size)\n",
    "\n",
    "def format_subtitles(html,text):\n",
    "    text_format = text +'&nbsp;'\n",
    "    return html.replace(text,text_format)\n",
    "\n",
    "def right_align_head(html, text):\n",
    "    right_align = '<th align=right>' + text\n",
    "    text = '<td>' + text\n",
    "    return html.replace(text, right_align)\n",
    "\n",
    "def bold_style(html,text):\n",
    "    bold_tag = '<td style=\"font-size:160px\">'\n",
    "    bold_text = text[:-4] + bold_tag\n",
    "    return html.replace(text, bold_text)\n"
   ],
   "metadata": {
    "collapsed": false,
    "pycharm": {
     "name": "#%%\n"
    }
   }
  },
  {
   "cell_type": "code",
   "execution_count": 22,
   "outputs": [
    {
     "name": "stdout",
     "output_type": "stream",
     "text": [
      "Message Id: 17f2c282602f7164\n"
     ]
    }
   ],
   "source": [
    "html = \"\"\"\n",
    "<html><body><p>Hi all,</p>\n",
    "<p> here is a snapshot of the Deployable Coin Metric:</p>\n",
    "{table}\n",
    "\n",
    "<p> <b> Carry Rates Table </b></p>\n",
    "{table_carry}\n",
    "\n",
    "\n",
    "<p> And the link to the google sheet:</p>\n",
    "<a href=\"{url}\">Deployable Metric</a>\n",
    "\n",
    "<p>Regards,</p>\n",
    "<p>CNS BOT</p>\n",
    "</body></html>\n",
    "\"\"\"\n",
    "\n",
    "user_id = 'me'\n",
    "subject = 'Daily Deployable Coin Metric'\n",
    "to = 'gabriel.choukroun@celsius.network'\n",
    "sender = 'gabriel.choukroun@celsius.network'\n",
    "\n",
    "\n",
    "html_table = df_all_t.to_html(index=False,\n",
    "                              header=True,\n",
    "                              justify='right',\n",
    "                              col_space=70)\n",
    "\n",
    "html_carry = df_carry2.to_html(index=False,\n",
    "                              header=True,\n",
    "                              justify='left',\n",
    "                              col_space=70)\n",
    "\n",
    "html_table = html_table.replace('<td>', '<td align=right>')\n",
    "\n",
    "text_to_bold = [\n",
    "    'Deployable Liquidity Reserve (Tiers 1-2)',\n",
    "    'Deployable Liquidity Reserve (Tiers 3-4)',\n",
    "    'Deployable Liquidity Excess (Tiers 5+)',\n",
    "    'Total Undeployed',\n",
    "    'Total Under Deployed'\n",
    "]\n",
    "for text in text_to_bold:\n",
    "    html_table = bold_tag(html_table, text)\n",
    "\n",
    "to_center = ['BTC', 'ETH']\n",
    "for text in to_center:\n",
    "    html_table = align_center(html_table, text)\n",
    "\n",
    "title = ['Deployable Coin Metric']\n",
    "html_table = title_size(html_table, title[0])\n",
    "\n",
    "sub_titles = ['(All Other)',\n",
    "              'Stablecoins',\n",
    "              'Gold Tokens'\n",
    "              ]\n",
    "for text in sub_titles:\n",
    "    html_table = format_subtitles(html_table, text)\n",
    "\n",
    "\"\"\"bold_number = [r\"(Tiers 1-4)</b></td>\\n      <td></td>\\n      <td>\",\n",
    "               r\"5+)</b></td>\\n      <td></td>\\n      <td>\",\n",
    "               r\"Undeployed</b></td>\\n      <td></td>\\n      <td>\",\n",
    "               r\"Deployed</b></td>\\n      <td></td>\\n      <td>\"]\n",
    "\n",
    "for text in bold_number:\n",
    "    html_table = bold_style(html_table, text)\n",
    "\"\"\"\n",
    "\n",
    "html = html.format(table=html_table, table_carry=html_carry, url=url)\n",
    "\n",
    "message = MIMEText(html, 'html')\n",
    "message['to'] = to\n",
    "message['from'] = sender\n",
    "message['subject'] = subject\n",
    "raw_message = {\n",
    "    'raw':base64.urlsafe_b64encode(message.as_string().encode(\"utf-8\")).decode(\"utf-8\")}\n",
    " #   'payload': {'mimeType': 'text/html'}}\n",
    "\n",
    "message = service_gmail.users().messages().send(userId=user_id, body=raw_message).execute()\n",
    "print('Message Id: %s' % message['id'])"
   ],
   "metadata": {
    "collapsed": false,
    "pycharm": {
     "name": "#%%\n"
    }
   }
  },
  {
   "cell_type": "code",
   "execution_count": null,
   "outputs": [],
   "source": [],
   "metadata": {
    "collapsed": false,
    "pycharm": {
     "name": "#%%\n"
    }
   }
  }
 ],
 "metadata": {
  "kernelspec": {
   "display_name": "Python 3",
   "language": "python",
   "name": "python3"
  },
  "language_info": {
   "codemirror_mode": {
    "name": "ipython",
    "version": 2
   },
   "file_extension": ".py",
   "mimetype": "text/x-python",
   "name": "python",
   "nbconvert_exporter": "python",
   "pygments_lexer": "ipython2",
   "version": "2.7.6"
  }
 },
 "nbformat": 4,
 "nbformat_minor": 0
}