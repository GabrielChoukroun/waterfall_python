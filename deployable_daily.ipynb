{
 "cells": [
  {
   "cell_type": "code",
   "execution_count": 4,
   "metadata": {
    "collapsed": true
   },
   "outputs": [],
   "source": [
    "import os.path\n",
    "import pandas as pd\n",
    "from googleapiclient.discovery import build\n",
    "from google_auth_oauthlib.flow import InstalledAppFlow\n",
    "from google.auth.transport.requests import Request\n",
    "from google.oauth2.credentials import Credentials\n",
    "import datetime as dt"
   ]
  },
  {
   "cell_type": "code",
   "execution_count": 14,
   "outputs": [],
   "source": [
    "spreadsheet_id = '1-2FvSx-rVma1RCZ0Hu4p7J8DJjN6TpZwz6CgNSwa7CY'\n",
    "link = 'https://docs.google.com/spreadsheets/d/1-2FvSx-rVma1RCZ0Hu4p7J8DJjN6TpZwz6CgNSwa7CY'\n",
    "emails = ['treasury@celsius.network',\n",
    "'weekly.portfolio@celsius.network']\n",
    "\n",
    "SCOPES = ['https://www.googleapis.com/auth/drive.readonly']\n",
    "creds = None\n",
    "creds = Credentials.from_authorized_user_file('token.json', SCOPES)\n",
    "service = build('sheets', 'v4', credentials=creds)\n",
    "\n",
    "# Call the Drive v3 API\n",
    "SAMPLE_RANGE_NAME = 'Summary Distribution!B2:E210'\n",
    "request = service.spreadsheets().values().batchGet(\n",
    "    spreadsheetId=spreadsheet_id,\n",
    "    ranges=SAMPLE_RANGE_NAME,\n",
    "    valueRenderOption='FORMATTED_VALUE')\n",
    "response = request.execute()"
   ],
   "metadata": {
    "collapsed": false,
    "pycharm": {
     "name": "#%%\n"
    }
   }
  },
  {
   "cell_type": "code",
   "execution_count": 109,
   "outputs": [],
   "source": [
    "df = pd.DataFrame(response['valueRanges'][0]['values']).dropna().reset_index(drop=True)\n",
    "df.drop(df.index[6:35], inplace=True)\n",
    "df.reset_index(drop=True, inplace=True)\n",
    "df.drop(df.index[7:19], inplace=True)\n",
    "df.reset_index(drop=True, inplace=True)\n",
    "df.drop(df.index[8:11], inplace=True)\n",
    "df.reset_index(drop=True, inplace=True)\n",
    "df.drop(df.index[9:59], inplace=True)\n",
    "df.reset_index(drop=True, inplace=True)\n",
    "df.drop(df.index[10:60], inplace=True)\n",
    "df.reset_index(drop=True, inplace=True)\n",
    "df.drop(df.index[11:], inplace=True)\n",
    "df.drop([1], axis=1, inplace=True)\n",
    "table = df"
   ],
   "metadata": {
    "collapsed": false,
    "pycharm": {
     "name": "#%%\n"
    }
   }
  },
  {
   "cell_type": "code",
   "execution_count": null,
   "outputs": [],
   "source": [
    "text = \"\"\"\n",
    "Hello, Friend.\n",
    "\n",
    "Here is your data:\n",
    "\n",
    "{table}\n",
    "\n",
    "Regards,\n",
    "\n",
    "Me\"\"\"\n",
    "\n",
    "html = \"\"\"\n",
    "<html><body><p>Hello, Friend.</p>\n",
    "<p>Here is your data:</p>\n",
    "{table}\n",
    "<p>Regards,</p>\n",
    "<p>Me</p>\n",
    "</body></html>\n",
    "\"\"\""
   ],
   "metadata": {
    "collapsed": false,
    "pycharm": {
     "name": "#%%\n"
    }
   }
  }
 ],
 "metadata": {
  "kernelspec": {
   "display_name": "Python 3",
   "language": "python",
   "name": "python3"
  },
  "language_info": {
   "codemirror_mode": {
    "name": "ipython",
    "version": 2
   },
   "file_extension": ".py",
   "mimetype": "text/x-python",
   "name": "python",
   "nbconvert_exporter": "python",
   "pygments_lexer": "ipython2",
   "version": "2.7.6"
  }
 },
 "nbformat": 4,
 "nbformat_minor": 0
}