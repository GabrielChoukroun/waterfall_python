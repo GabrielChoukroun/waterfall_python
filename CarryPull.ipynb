{
 "cells": [
  {
   "cell_type": "code",
   "execution_count": 14,
   "metadata": {
    "collapsed": true
   },
   "outputs": [],
   "source": [
    "from email.mime.multipart import MIMEMultipart\n",
    "import os.path\n",
    "import pandas as pd\n",
    "from googleapiclient.discovery import build\n",
    "from google_auth_oauthlib.flow import InstalledAppFlow\n",
    "from google.auth.transport.requests import Request\n",
    "from google.oauth2.credentials import Credentials\n",
    "import datetime as dt\n",
    "from email.mime.text import MIMEText\n",
    "import base64"
   ]
  },
  {
   "cell_type": "code",
   "execution_count": 35,
   "outputs": [],
   "source": [
    "# Connect to Drive API\n",
    "spreadsheet_id = '1sSuQo8XTjcbeYyCXtGn-eYl5TJ-ZMpC0BaakwzwUoRY'\n",
    "url = 'https://docs.google.com/spreadsheets/d/1-2FvSx-rVma1RCZ0Hu4p7J8DJjN6TpZwz6CgNSwa7CY'\n",
    "emails = ['treasury@celsius.network',\n",
    "'weekly.portfolio@celsius.network']\n",
    "\n",
    "SCOPES = ['https://www.googleapis.com/auth/drive.readonly']\n",
    "creds = None\n",
    "creds = Credentials.from_authorized_user_file('token.json', SCOPES)\n",
    "service = build('sheets', 'v4', credentials=creds)\n",
    "\n",
    "# Call the Drive v3 API\n",
    "SAMPLE_RANGE_NAME = 'Carry Model!A2:H200'\n",
    "request = service.spreadsheets().values().batchGet(\n",
    "    spreadsheetId=spreadsheet_id,\n",
    "    ranges=SAMPLE_RANGE_NAME,\n",
    "    valueRenderOption='FORMATTED_VALUE')\n",
    "response = request.execute()\n",
    "df = pd.DataFrame(response['valueRanges'][0]['values']).reset_index(drop=True)"
   ],
   "metadata": {
    "collapsed": false,
    "pycharm": {
     "name": "#%%\n"
    }
   }
  },
  {
   "cell_type": "code",
   "execution_count": 46,
   "outputs": [
    {
     "data": {
      "text/plain": "[['Coin',\n  'Base COF',\n  '10%Target',\n  'Current Utilization',\n  'Base',\n  'Target Utilization',\n  'Carry',\n  'Carry Tier 5'],\n ['1INCH',\n  '4.81%',\n  '0.05292639216',\n  '98.77%',\n  '2.41%',\n  '100.00%',\n  '5.22%',\n  '6.42%'],\n ['AAVE',\n  '4.13%',\n  '0.04547844152',\n  '93.02%',\n  '2.07%',\n  '100.00%',\n  '4.21%',\n  '5.25%'],\n ['AAVE Stable', '3.61%', '1.75', '9.15%', '', '???', None, None],\n ['ADA',\n  '2.33%',\n  '0.02558055461',\n  '93.18%',\n  '1.16%',\n  '100.00%',\n  '2.37%',\n  '2.96%'],\n ['ALCX', '2.00%', '0.022', '100.00%', '1.00%', '100.00%', '2.20%', '2.70%'],\n ['ALPHA', '2.00%', '0.022', '100.00%', '1.00%', '100.00%', '2.20%', '2.70%'],\n ['AVAX',\n  '5.59%',\n  '0.0614819575',\n  '91.41%',\n  '2.79%',\n  '100.00%',\n  '5.60%',\n  '6.99%'],\n ['BADGER',\n  '15.00%',\n  '0.165',\n  '99.42%',\n  '7.50%',\n  '100.00%',\n  '16.40%',\n  '20.15%'],\n ['BAT',\n  '0.98%',\n  '0.01073239454',\n  '90.02%',\n  '0.49%',\n  '100.00%',\n  '0.96%',\n  '1.21%'],\n ['BCH',\n  '4.53%',\n  '0.0498315221',\n  '51.49%',\n  '2.27%',\n  '100.00%',\n  '2.99%',\n  '4.12%'],\n ['BNB',\n  '6.31%',\n  '0.06942356267',\n  '97.29%',\n  '3.16%',\n  '100.00%',\n  '6.74%',\n  '8.32%'],\n ['BNT',\n  '5.53%',\n  '0.06087480938',\n  '98.51%',\n  '2.77%',\n  '100.00%',\n  '5.99%',\n  '7.37%'],\n ['BSV',\n  '1.87%',\n  '0.02061431269',\n  '92.86%',\n  '0.94%',\n  '100.00%',\n  '1.91%',\n  '2.38%'],\n ['BTC',\n  '2.23%',\n  '0.02454308265',\n  '73.20%',\n  '1.12%',\n  '100.00%',\n  '1.83%',\n  '2.39%'],\n ['BUSD',\n  '7.13%',\n  '0.07838959232',\n  '100.00%',\n  '3.56%',\n  '100.00%',\n  '7.91%',\n  '9.69%'],\n ['CEL',\n  '5.51%',\n  '0.06058322749',\n  '0.91%',\n  '2.75%',\n  '100.00%',\n  '2.75%',\n  '4.13%'],\n ['COMP', '2.28%', '1.75', '7.82%', '', '???', None, None],\n ['COMP',\n  '4.54%',\n  '0.04990083904',\n  '65.60%',\n  '2.27%',\n  '100.00%',\n  '3.44%',\n  '4.57%'],\n ['CRV', '15.00%', '0.165', '99.30%', '7.50%', '100.00%', '16.37%', '20.12%'],\n ['CVX', '2.00%', '0.022', '100.00%', '1.00%', '100.00%', '2.20%', '2.70%'],\n ['DASH',\n  '3.93%',\n  '0.04327087993',\n  '52.00%',\n  '1.97%',\n  '100.00%',\n  '2.61%',\n  '3.59%'],\n ['DIGG', '2.00%', '0.022', '100.00%', '1.00%', '100.00%', '2.20%', '2.70%'],\n ['DOGE',\n  '4.87%',\n  '0.05358285058',\n  '92.30%',\n  '2.44%',\n  '100.00%',\n  '4.93%',\n  '6.14%'],\n ['DOT',\n  '7.39%',\n  '0.0812458052',\n  '99.00%',\n  '3.69%',\n  '100.00%',\n  '8.04%',\n  '9.88%'],\n ['EOS',\n  '4.24%',\n  '0.04658914602',\n  '93.35%',\n  '2.12%',\n  '100.00%',\n  '4.33%',\n  '5.39%'],\n ['ETC',\n  '3.03%',\n  '0.03334415581',\n  '84.02%',\n  '1.52%',\n  '100.00%',\n  '2.80%',\n  '3.56%'],\n ['ETH',\n  '3.56%',\n  '0.03914238993',\n  '90.10%',\n  '1.78%',\n  '100.00%',\n  '3.51%',\n  '4.40%'],\n ['EURT', '2.00%', '0.022', '100.00%', '1.00%', '100.00%', '2.20%', '2.70%'],\n ['FTM', '2.00%', '0.022', '65.40%', '1.00%', '100.00%', '1.51%', '2.01%'],\n ['FTT', '2.00%', '0.022', '99.88%', '1.00%', '100.00%', '2.20%', '2.70%'],\n ['FTX', '1.92%', '1.5', '6.67%', '', '???', None, None],\n ['GUSD',\n  '6.92%',\n  '0.07608395818',\n  '91.55%',\n  '3.46%',\n  '100.00%',\n  '6.94%',\n  '8.67%'],\n ['KNC',\n  '0.46%',\n  '0.005097171089',\n  '83.51%',\n  '0.23%',\n  '100.00%',\n  '0.43%',\n  '0.54%'],\n ['LDO', '2.00%', '0.022', '100.00%', '1.00%', '100.00%', '2.20%', '2.70%'],\n ['LINK',\n  '2.52%',\n  '0.02774126656',\n  '98.82%',\n  '1.26%',\n  '100.00%',\n  '2.74%',\n  '3.37%'],\n ['LPT', '2.00%', '0.022', '56.54%', '1.00%', '100.00%', '1.38%', '1.88%'],\n ['LTC',\n  '1.54%',\n  '0.01690835708',\n  '71.06%',\n  '0.77%',\n  '100.00%',\n  '1.23%',\n  '1.62%'],\n ['LUNA',\n  '5.99%',\n  '0.06586044586',\n  '72.75%',\n  '2.99%',\n  '100.00%',\n  '4.90%',\n  '6.39%'],\n ['MANA',\n  '0.40%',\n  '0.00438703872',\n  '96.97%',\n  '0.20%',\n  '100.00%',\n  '0.42%',\n  '0.52%'],\n ['MATIC',\n  '6.48%',\n  '0.07132317972',\n  '100.00%',\n  '3.24%',\n  '100.00%',\n  '7.13%',\n  '8.75%'],\n ['MCDAI',\n  '10.39%',\n  '0.11429977',\n  '91.04%',\n  '5.20%',\n  '100.00%',\n  '7.91%',\n  '10.50%'],\n ['MSOL', '2.00%', '0.022', '100.00%', '1.00%', '100.00%', '2.20%', '2.70%'],\n ['OMG',\n  '0.43%',\n  '0.004734628716',\n  '67.03%',\n  '0.22%',\n  '100.00%',\n  '0.33%',\n  '0.44%'],\n ['PAX',\n  '6.94%',\n  '0.07629256901',\n  '100.00%',\n  '3.47%',\n  '100.00%',\n  '7.89%',\n  '9.62%'],\n ['PAXG',\n  '5.36%',\n  '0.05895997607',\n  '10.46%',\n  '2.68%',\n  '100.00%',\n  '2.72%',\n  '4.06%'],\n ['REN', '2.00%', '0.022', '65.42%', '1.00%', '100.00%', '1.51%', '2.01%'],\n ['SGB', '2.00%', '0.022', '69.30%', '1.00%', '100.00%', '1.58%', '2.08%'],\n ['SNX',\n  '13.28%',\n  '0.1460885599',\n  '91.18%',\n  '6.64%',\n  '100.00%',\n  '13.27%',\n  '16.59%'],\n ['SOL',\n  '5.01%',\n  '0.05509921941',\n  '95.74%',\n  '2.50%',\n  '100.00%',\n  '5.26%',\n  '6.51%'],\n ['SRM',\n  '2.00%',\n  '0.022',\n  '-30775.53%',\n  '1.00%',\n  '100.00%',\n  '113657.02%',\n  '113657.52%'],\n ['SUSHI',\n  '4.21%',\n  '0.0463325135',\n  '97.62%',\n  '2.11%',\n  '100.00%',\n  '4.51%',\n  '5.57%'],\n ['Stable (USD)', '7.91%', '', '', '', '', '7.89%', '9.86%'],\n ['Stable 1', '6.92%', None, None, None, None, None, None],\n ['Stable 2', '7.89%', None, None, None, None, None, None],\n ['TAUD',\n  '7.07%',\n  '0.07772881966',\n  '17.17%',\n  '3.53%',\n  '100.00%',\n  '3.66%',\n  '5.42%'],\n ['TCAD',\n  '7.35%',\n  '0.08079979474',\n  '36.64%',\n  '3.67%',\n  '100.00%',\n  '4.26%',\n  '6.10%'],\n ['TGBP',\n  '7.12%',\n  '0.07835220203',\n  '17.93%',\n  '3.56%',\n  '100.00%',\n  '3.70%',\n  '5.48%'],\n ['THKD',\n  '6.83%',\n  '0.07508880903',\n  '42.99%',\n  '3.41%',\n  '100.00%',\n  '4.17%',\n  '5.88%'],\n ['TRU', '2.00%', '0.022', '100.00%', '1.00%', '100.00%', '2.20%', '2.70%'],\n ['TUSD',\n  '7.40%',\n  '0.0813856988',\n  '78.07%',\n  '3.70%',\n  '100.00%',\n  '7.89%',\n  '9.74%'],\n ['UMA',\n  '0.94%',\n  '0.01030851376',\n  '17.54%',\n  '0.47%',\n  '100.00%',\n  '0.49%',\n  '0.72%'],\n ['UNI',\n  '1.93%',\n  '0.0212144732',\n  '81.49%',\n  '0.96%',\n  '100.00%',\n  '1.73%',\n  '2.21%'],\n ['USDC',\n  '6.20%',\n  '0.06823164077',\n  '99.77%',\n  '3.10%',\n  '100.00%',\n  '7.89%',\n  '9.44%'],\n ['USDT ERC20',\n  '9.59%',\n  '0.1054574582',\n  '99.11%',\n  '4.79%',\n  '100.00%',\n  '7.89%',\n  '10.28%'],\n ['WBTC',\n  '1.34%',\n  '0.0146945289',\n  '99.36%',\n  '0.67%',\n  '100.00%',\n  '1.46%',\n  '1.79%'],\n ['WDGLD',\n  '5.48%',\n  '0.06027227904',\n  '99.79%',\n  '2.74%',\n  '100.00%',\n  '6.01%',\n  '7.38%'],\n ['XAUT',\n  '5.63%',\n  '0.06192756841',\n  '78.17%',\n  '2.81%',\n  '100.00%',\n  '4.88%',\n  '6.29%'],\n ['XEC', '2.00%', '0.022', '0.07%', '1.00%', '100.00%', '1.00%', '1.50%'],\n ['XLM',\n  '0.91%',\n  '0.01002694806',\n  '66.27%',\n  '0.46%',\n  '100.00%',\n  '0.70%',\n  '0.92%'],\n ['XRP',\n  '1.83%',\n  '0.02016549975',\n  '81.67%',\n  '0.92%',\n  '100.00%',\n  '1.65%',\n  '2.11%'],\n ['XTZ',\n  '3.80%',\n  '0.04183402953',\n  '93.82%',\n  '1.90%',\n  '100.00%',\n  '3.91%',\n  '4.86%'],\n ['ZEC',\n  '1.47%',\n  '0.01620118429',\n  '17.52%',\n  '0.74%',\n  '100.00%',\n  '0.76%',\n  '1.13%'],\n ['ZRX',\n  '1.70%',\n  '0.01869399917',\n  '88.99%',\n  '0.85%',\n  '100.00%',\n  '1.66%',\n  '2.08%'],\n ['ZUSD',\n  '4.50%',\n  '0.04952333552',\n  '63.55%',\n  '2.25%',\n  '100.00%',\n  '3.34%',\n  '4.47%']]"
     },
     "execution_count": 46,
     "metadata": {},
     "output_type": "execute_result"
    }
   ],
   "source": [],
   "metadata": {
    "collapsed": false,
    "pycharm": {
     "name": "#%%\n"
    }
   }
  },
  {
   "cell_type": "code",
   "execution_count": 36,
   "outputs": [
    {
     "data": {
      "text/plain": "0          Coin Base COF      10%Target Current Utilization   Base  \\\n8         1INCH    4.81%  0.05292639216              98.77%  2.41%   \n9          AAVE    4.13%  0.04547844152              93.02%  2.07%   \n70  AAVE Stable    3.61%           1.75               9.15%          \n16          ADA    2.33%  0.02558055461              93.18%  1.16%   \n66         ALCX    2.00%          0.022             100.00%  1.00%   \n..          ...      ...            ...                 ...    ...   \n21          XRP    1.83%  0.02016549975              81.67%  0.92%   \n14          XTZ    3.80%  0.04183402953              93.82%  1.90%   \n24          ZEC    1.47%  0.01620118429              17.52%  0.74%   \n25          ZRX    1.70%  0.01869399917              88.99%  0.85%   \n43         ZUSD    4.50%  0.04952333552              63.55%  2.25%   \n\n0  Target Utilization  Carry Carry Tier 5  \n8             100.00%  5.22%        6.42%  \n9             100.00%  4.21%        5.25%  \n70                ???   None         None  \n16            100.00%  2.37%        2.96%  \n66            100.00%  2.20%        2.70%  \n..                ...    ...          ...  \n21            100.00%  1.65%        2.11%  \n14            100.00%  3.91%        4.86%  \n24            100.00%  0.76%        1.13%  \n25            100.00%  1.66%        2.08%  \n43            100.00%  3.34%        4.47%  \n\n[74 rows x 8 columns]",
      "text/html": "<div>\n<style scoped>\n    .dataframe tbody tr th:only-of-type {\n        vertical-align: middle;\n    }\n\n    .dataframe tbody tr th {\n        vertical-align: top;\n    }\n\n    .dataframe thead th {\n        text-align: right;\n    }\n</style>\n<table border=\"1\" class=\"dataframe\">\n  <thead>\n    <tr style=\"text-align: right;\">\n      <th></th>\n      <th>Coin</th>\n      <th>Base COF</th>\n      <th>10%Target</th>\n      <th>Current Utilization</th>\n      <th>Base</th>\n      <th>Target Utilization</th>\n      <th>Carry</th>\n      <th>Carry Tier 5</th>\n    </tr>\n  </thead>\n  <tbody>\n    <tr>\n      <th>8</th>\n      <td>1INCH</td>\n      <td>4.81%</td>\n      <td>0.05292639216</td>\n      <td>98.77%</td>\n      <td>2.41%</td>\n      <td>100.00%</td>\n      <td>5.22%</td>\n      <td>6.42%</td>\n    </tr>\n    <tr>\n      <th>9</th>\n      <td>AAVE</td>\n      <td>4.13%</td>\n      <td>0.04547844152</td>\n      <td>93.02%</td>\n      <td>2.07%</td>\n      <td>100.00%</td>\n      <td>4.21%</td>\n      <td>5.25%</td>\n    </tr>\n    <tr>\n      <th>70</th>\n      <td>AAVE Stable</td>\n      <td>3.61%</td>\n      <td>1.75</td>\n      <td>9.15%</td>\n      <td></td>\n      <td>???</td>\n      <td>None</td>\n      <td>None</td>\n    </tr>\n    <tr>\n      <th>16</th>\n      <td>ADA</td>\n      <td>2.33%</td>\n      <td>0.02558055461</td>\n      <td>93.18%</td>\n      <td>1.16%</td>\n      <td>100.00%</td>\n      <td>2.37%</td>\n      <td>2.96%</td>\n    </tr>\n    <tr>\n      <th>66</th>\n      <td>ALCX</td>\n      <td>2.00%</td>\n      <td>0.022</td>\n      <td>100.00%</td>\n      <td>1.00%</td>\n      <td>100.00%</td>\n      <td>2.20%</td>\n      <td>2.70%</td>\n    </tr>\n    <tr>\n      <th>...</th>\n      <td>...</td>\n      <td>...</td>\n      <td>...</td>\n      <td>...</td>\n      <td>...</td>\n      <td>...</td>\n      <td>...</td>\n      <td>...</td>\n    </tr>\n    <tr>\n      <th>21</th>\n      <td>XRP</td>\n      <td>1.83%</td>\n      <td>0.02016549975</td>\n      <td>81.67%</td>\n      <td>0.92%</td>\n      <td>100.00%</td>\n      <td>1.65%</td>\n      <td>2.11%</td>\n    </tr>\n    <tr>\n      <th>14</th>\n      <td>XTZ</td>\n      <td>3.80%</td>\n      <td>0.04183402953</td>\n      <td>93.82%</td>\n      <td>1.90%</td>\n      <td>100.00%</td>\n      <td>3.91%</td>\n      <td>4.86%</td>\n    </tr>\n    <tr>\n      <th>24</th>\n      <td>ZEC</td>\n      <td>1.47%</td>\n      <td>0.01620118429</td>\n      <td>17.52%</td>\n      <td>0.74%</td>\n      <td>100.00%</td>\n      <td>0.76%</td>\n      <td>1.13%</td>\n    </tr>\n    <tr>\n      <th>25</th>\n      <td>ZRX</td>\n      <td>1.70%</td>\n      <td>0.01869399917</td>\n      <td>88.99%</td>\n      <td>0.85%</td>\n      <td>100.00%</td>\n      <td>1.66%</td>\n      <td>2.08%</td>\n    </tr>\n    <tr>\n      <th>43</th>\n      <td>ZUSD</td>\n      <td>4.50%</td>\n      <td>0.04952333552</td>\n      <td>63.55%</td>\n      <td>2.25%</td>\n      <td>100.00%</td>\n      <td>3.34%</td>\n      <td>4.47%</td>\n    </tr>\n  </tbody>\n</table>\n<p>74 rows × 8 columns</p>\n</div>"
     },
     "execution_count": 36,
     "metadata": {},
     "output_type": "execute_result"
    }
   ],
   "source": [],
   "metadata": {
    "collapsed": false,
    "pycharm": {
     "name": "#%%\n"
    }
   }
  },
  {
   "cell_type": "code",
   "execution_count": 16,
   "outputs": [
    {
     "name": "stdout",
     "output_type": "stream",
     "text": [
      "Send_MAIL\n"
     ]
    }
   ],
   "source": [
    "df2 = df.copy()\n",
    "df2.columns = df2.loc[0]\n",
    "df2 = df2.loc[1:]\n",
    "na_count = df2['Carry'].dropna().map(lambda x: ('N/A' in x) | ('#DIV/0!' in x)).sum()\n",
    "na_count += df2['Carry Tier 5'].dropna().map(lambda x: ('N/A' in x) | ('#DIV/0!' in x)).sum()\n",
    "if na_count>0:\n",
    "    print(\"Send_MAIL\")\n",
    "else:\n",
    "    print(\"PUSH to DEPLOYABLE\")\n",
    "    df.columns = df.loc[0]\n",
    "    df = df.loc[1:].reset_index(drop=True)\n",
    "    idx_drop = df[df['Coin'].isin(['', None, '#NA!','#Value!'])].index.tolist()\n",
    "    df = df.drop(idx_drop, axis=0).sort_values(\"Coin\")\n",
    "    data = [df.columns.tolist()] + df.fillna('na').values.tolist()"
   ],
   "metadata": {
    "collapsed": false,
    "pycharm": {
     "name": "#%%\n"
    }
   }
  }
 ],
 "metadata": {
  "kernelspec": {
   "display_name": "Python 3",
   "language": "python",
   "name": "python3"
  },
  "language_info": {
   "codemirror_mode": {
    "name": "ipython",
    "version": 2
   },
   "file_extension": ".py",
   "mimetype": "text/x-python",
   "name": "python",
   "nbconvert_exporter": "python",
   "pygments_lexer": "ipython2",
   "version": "2.7.6"
  }
 },
 "nbformat": 4,
 "nbformat_minor": 0
}