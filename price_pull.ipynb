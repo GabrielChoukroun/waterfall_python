{
 "cells": [
  {
   "cell_type": "code",
   "execution_count": 1,
   "id": "2348c9b7-2e3a-478b-9712-494da998a086",
   "metadata": {
    "scrolled": true,
    "tags": []
   },
   "outputs": [],
   "source": [
    "import os.path\n",
    "from googleapiclient.discovery import build\n",
    "from google_auth_oauthlib.flow import InstalledAppFlow\n",
    "from google.auth.transport.requests import Request\n",
    "from google.oauth2.credentials import Credentials\n",
    "\n",
    "from coinpaprika import client as Coinpaprika\n",
    "\n",
    "import pandas_datareader as web\n",
    "import datetime as dt\n",
    "import pandas as pd "
   ]
  },
  {
   "cell_type": "code",
   "execution_count": 5,
   "id": "e44f3b9b-0a0b-4375-994d-f2c73cf651ca",
   "metadata": {},
   "outputs": [],
   "source": [
    "# read the raw spreadsheet, downloanded from shared drive\n",
    "c_recon = pd.ExcelFile(\"../excel_input/Celsius_Reconciliation_Master.xlsx\")\n",
    "stats = pd.read_excel(c_recon, \"Coin Stats\", header = None)\n",
    "coins = stats.iloc[1:,0].dropna().tolist()"
   ]
  },
  {
   "cell_type": "code",
   "execution_count": 13,
   "id": "86742d88-3a4c-4774-88c8-0f68445cc59e",
   "metadata": {},
   "outputs": [
    {
     "data": {
      "text/plain": [
       "[{'time_open': '2021-12-14T00:00:00Z',\n",
       "  'time_close': '2021-12-14T23:59:59Z',\n",
       "  'open': 46810.44730500823,\n",
       "  'high': 48614.335495035746,\n",
       "  'low': 46568.61948105176,\n",
       "  'close': 48431.845280079535,\n",
       "  'volume': 37096313909,\n",
       "  'market_cap': 884727097016}]"
      ]
     },
     "execution_count": 13,
     "metadata": {},
     "output_type": "execute_result"
    }
   ],
   "source": [
    "client.candle(\"btc-bitcoin\", start=\"2019-04-11\")"
   ]
  },
  {
   "cell_type": "code",
   "execution_count": 6,
   "id": "0977f770-bc12-4233-a436-f10dcca77125",
   "metadata": {},
   "outputs": [],
   "source": [
    "client = Coinpaprika.Client()\n",
    "ids = {coin['symbol']:coin['id'] for coin in client.coins() if coin['is_active']}\n",
    "# List coins\n",
    "df_price = pd.DataFrame()\n",
    "for coin in coins:\n",
    "    if coin in ids.keys():\n",
    "        df_temp = pd.DataFrame(client.historical(ids[coin], start=\"2019-04-11T00:00:00Z\"))\n",
    "        if 'timestamp' in df_temp.columns: \n",
    "            df_temp['timestamp'] = df_temp['timestamp'].map(lambda x:x[:10])\n",
    "        df_temp.columns = f\"{coin}_\" + df_temp.columns\n",
    "        df_price = pd.concat([df_price, df_temp],axis=1)\n"
   ]
  },
  {
   "cell_type": "code",
   "execution_count": 7,
   "id": "fd2e90a4-87d4-468b-bf11-063cf3a7b893",
   "metadata": {},
   "outputs": [],
   "source": [
    "scope = [\n",
    "'https://www.googleapis.com/auth/spreadsheets',\n",
    "'https://www.googleapis.com/auth/drive'\n",
    "]\n",
    "\n",
    "SPREADSHEET_ID = \"1Jm4NLSXlGUWz27_Bi-JKVvpdOKLDv27tigXNtkJ8YcE\" #Coins Price History\n",
    "# The file token.json stores the user's access and refresh tokens, and is\n",
    "# created automatically when the authorization flow completes for the first\n",
    "# time.\n",
    "if os.path.exists('../write_token.json'):\n",
    "        creds = Credentials.from_authorized_user_file('../write_token.json', scope)\n",
    "'''flow = InstalledAppFlow.from_client_secrets_file('client_secret_992941975507-pvjneopi7dhmj2mqq6arpghs6r7q31jj.json', scope)\n",
    "creds = flow.run_local_server(port=0)\n",
    "with open('write_token.json', 'w') as token:\n",
    "    token.write(creds.to_json())'''\n",
    "service = build('sheets', 'v4', credentials=creds)"
   ]
  },
  {
   "cell_type": "code",
   "execution_count": 9,
   "id": "bc7527e7-ea12-4a70-9f81-8d09fe5fb783",
   "metadata": {},
   "outputs": [],
   "source": [
    "response = service.spreadsheets().values().clear(\n",
    "    spreadsheetId=SPREADSHEET_ID,\n",
    "    range=\"data_pull_coinPaprika\",\n",
    "    ).execute()\n",
    "\n",
    "response = service.spreadsheets().values().update(\n",
    "    spreadsheetId=SPREADSHEET_ID,\n",
    "    valueInputOption='RAW',\n",
    "    range=\"data_pull_coinPaprika!A1\",\n",
    "    body=dict(\n",
    "        majorDimension='ROWS',\n",
    "        values=df_price.T.reset_index().T.fillna('').values.tolist())\n",
    ").execute()"
   ]
  },
  {
   "cell_type": "code",
   "execution_count": 14,
   "id": "ed20ec7f-83ad-4c68-9f09-9f684f26e067",
   "metadata": {},
   "outputs": [
    {
     "name": "stdout",
     "output_type": "stream",
     "text": [
      "Collecting bitfinex\n",
      "  Downloading bitfinex-0.2.6.tar.gz (3.3 kB)\n",
      "Requirement already satisfied: requests in /Users/gabrielchoukroun/opt/anaconda3/lib/python3.9/site-packages (from bitfinex) (2.26.0)\n",
      "Collecting httpretty\n",
      "  Downloading httpretty-1.1.4.tar.gz (442 kB)\n",
      "\u001b[K     |████████████████████████████████| 442 kB 931 kB/s eta 0:00:01\n",
      "\u001b[?25hRequirement already satisfied: charset-normalizer~=2.0.0 in /Users/gabrielchoukroun/opt/anaconda3/lib/python3.9/site-packages (from requests->bitfinex) (2.0.4)\n",
      "Requirement already satisfied: urllib3<1.27,>=1.21.1 in /Users/gabrielchoukroun/opt/anaconda3/lib/python3.9/site-packages (from requests->bitfinex) (1.26.7)\n",
      "Requirement already satisfied: idna<4,>=2.5 in /Users/gabrielchoukroun/opt/anaconda3/lib/python3.9/site-packages (from requests->bitfinex) (3.2)\n",
      "Requirement already satisfied: certifi>=2017.4.17 in /Users/gabrielchoukroun/opt/anaconda3/lib/python3.9/site-packages (from requests->bitfinex) (2021.10.8)\n",
      "Building wheels for collected packages: bitfinex, httpretty\n",
      "  Building wheel for bitfinex (setup.py) ... \u001b[?25ldone\n",
      "\u001b[?25h  Created wheel for bitfinex: filename=bitfinex-0.2.6-py3-none-any.whl size=4129 sha256=08dc57aaac72afc1ee5cf3f6e197ef5d8bf8d5ffa05fc0317516dd5af19fc93f\n",
      "  Stored in directory: /Users/gabrielchoukroun/Library/Caches/pip/wheels/26/cf/99/c8418d7c07b41ac5d8001348991fb10a9e6d082e6fa8739e48\n",
      "  Building wheel for httpretty (setup.py) ... \u001b[?25ldone\n",
      "\u001b[?25h  Created wheel for httpretty: filename=httpretty-1.1.4-py3-none-any.whl size=28807 sha256=afc6a1bc08a28ad1410f117e70e6f290121e16634a27e60fe0da38327138e8c2\n",
      "  Stored in directory: /Users/gabrielchoukroun/Library/Caches/pip/wheels/66/bc/72/0216589b99f1bb65d1fd872d89d504ce7e990d868185a3c9a9\n",
      "Successfully built bitfinex httpretty\n",
      "Installing collected packages: httpretty, bitfinex\n",
      "Successfully installed bitfinex-0.2.6 httpretty-1.1.4\n"
     ]
    }
   ],
   "source": [
    "!pip install bitfinex"
   ]
  },
  {
   "cell_type": "code",
   "execution_count": 18,
   "id": "321360d2-4d34-4f6c-bc11-3af5d2081aee",
   "metadata": {},
   "outputs": [
    {
     "ename": "AttributeError",
     "evalue": "'Client' object has no attribute 'candles'",
     "output_type": "error",
     "traceback": [
      "\u001b[0;31m---------------------------------------------------------------------------\u001b[0m",
      "\u001b[0;31mAttributeError\u001b[0m                            Traceback (most recent call last)",
      "\u001b[0;32m/var/folders/q7/qhj4q23x49vb9f__hlp8t3280000gn/T/ipykernel_67362/734688704.py\u001b[0m in \u001b[0;36m<module>\u001b[0;34m\u001b[0m\n\u001b[1;32m     20\u001b[0m \u001b[0;34m\u001b[0m\u001b[0m\n\u001b[1;32m     21\u001b[0m \u001b[0;31m# Download OHCL data from API\u001b[0m\u001b[0;34m\u001b[0m\u001b[0;34m\u001b[0m\u001b[0m\n\u001b[0;32m---> 22\u001b[0;31m \u001b[0mresult\u001b[0m \u001b[0;34m=\u001b[0m \u001b[0mapi_v2\u001b[0m\u001b[0;34m.\u001b[0m\u001b[0mcandles\u001b[0m\u001b[0;34m(\u001b[0m\u001b[0msymbol\u001b[0m\u001b[0;34m=\u001b[0m\u001b[0mpair\u001b[0m\u001b[0;34m,\u001b[0m \u001b[0minterval\u001b[0m\u001b[0;34m=\u001b[0m\u001b[0mTIMEFRAME\u001b[0m\u001b[0;34m,\u001b[0m \u001b[0mlimit\u001b[0m\u001b[0;34m=\u001b[0m\u001b[0;36m1000\u001b[0m\u001b[0;34m,\u001b[0m \u001b[0mstart\u001b[0m\u001b[0;34m=\u001b[0m\u001b[0mt_start\u001b[0m\u001b[0;34m,\u001b[0m \u001b[0mend\u001b[0m\u001b[0;34m=\u001b[0m\u001b[0mt_stop\u001b[0m\u001b[0;34m)\u001b[0m\u001b[0;34m\u001b[0m\u001b[0;34m\u001b[0m\u001b[0m\n\u001b[0m",
      "\u001b[0;31mAttributeError\u001b[0m: 'Client' object has no attribute 'candles'"
     ]
    }
   ],
   "source": [
    "\n",
    "import bitfinex\n",
    "import datetime\n",
    "import time\n",
    "import pandas as pd\n",
    "\n",
    "# Create api instance of the v2 API\n",
    "api_v2 = bitfinex.Client()\n",
    "\n",
    "# Define query parameters\n",
    "pair = 'BTCUSD' # Currency pair of interest\n",
    "TIMEFRAME = '1h'#,'4h','1h','15m','1m'\n",
    "\n",
    "# Define the start date\n",
    "t_start = datetime.datetime(2018, 9, 1, 0, 0)\n",
    "t_start = time.mktime(t_start.timetuple()) * 1000\n",
    "\n",
    "# Define the end date\n",
    "t_stop = datetime.datetime(2020, 10, 1, 0, 0)\n",
    "t_stop = time.mktime(t_stop.timetuple()) * 1000\n",
    "\n",
    "# Download OHCL data from API\n",
    "result = api_v2.candles(symbol=pair, interval=TIMEFRAME, limit=1000, start=t_start, end=t_stop)"
   ]
  },
  {
   "cell_type": "code",
   "execution_count": null,
   "id": "3bcced87-820d-4855-bf72-7ff78b61ae38",
   "metadata": {},
   "outputs": [],
   "source": []
  }
 ],
 "metadata": {
  "kernelspec": {
   "display_name": "Python 3 (ipykernel)",
   "language": "python",
   "name": "python3"
  },
  "language_info": {
   "codemirror_mode": {
    "name": "ipython",
    "version": 3
   },
   "file_extension": ".py",
   "mimetype": "text/x-python",
   "name": "python",
   "nbconvert_exporter": "python",
   "pygments_lexer": "ipython3",
   "version": "3.9.7"
  }
 },
 "nbformat": 4,
 "nbformat_minor": 5
}
