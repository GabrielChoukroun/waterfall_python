{
 "cells": [
  {
   "cell_type": "code",
   "execution_count": 1,
   "metadata": {
    "collapsed": true
   },
   "outputs": [],
   "source": [
    "from email.mime.multipart import MIMEMultipart\n",
    "import os.path\n",
    "import pandas as pd\n",
    "from googleapiclient.discovery import build\n",
    "from google_auth_oauthlib.flow import InstalledAppFlow\n",
    "from google.auth.transport.requests import Request\n",
    "from google.oauth2.credentials import Credentials\n",
    "import datetime as dt\n",
    "from email.mime.text import MIMEText\n",
    "import base64"
   ]
  },
  {
   "cell_type": "code",
   "execution_count": 32,
   "outputs": [],
   "source": [
    "# Connect to Drive API\n",
    "spreadsheet_id = '12qUTImjAbEXDBxyIL6U6z35-rmQ9OL84RHbLPciK7BY'\n",
    "url = 'https://docs.google.com/spreadsheets/d/1-2FvSx-rVma1RCZ0Hu4p7J8DJjN6TpZwz6CgNSwa7CY'\n",
    "emails = ['treasury@celsius.network',\n",
    "'weekly.portfolio@celsius.network']\n",
    "\n",
    "SCOPES = ['https://www.googleapis.com/auth/drive.readonly']\n",
    "creds = None\n",
    "creds = Credentials.from_authorized_user_file('token.json', SCOPES)\n",
    "service = build('sheets', 'v4', credentials=creds)\n",
    "\n",
    "# Call the Drive v3 API\n",
    "SAMPLE_RANGE_NAME = 'Alerts!A1:H200'\n",
    "request = service.spreadsheets().values().batchGet(\n",
    "    spreadsheetId=spreadsheet_id,\n",
    "    ranges=SAMPLE_RANGE_NAME,\n",
    "    valueRenderOption='FORMATTED_VALUE')\n",
    "response = request.execute()\n",
    "\n",
    "df = pd.DataFrame(response['valueRanges'][0]['values']).reset_index(drop=True)"
   ],
   "metadata": {
    "collapsed": false,
    "pycharm": {
     "name": "#%%\n"
    }
   }
  },
  {
   "cell_type": "code",
   "execution_count": 37,
   "outputs": [
    {
     "name": "stdout",
     "output_type": "stream",
     "text": [
      "PUSH to DEPLOYABLE\n"
     ]
    }
   ],
   "source": [
    "df2 = df.copy()\n",
    "df2.columns = df2.loc[0]\n",
    "df2 = df2.loc[1:]\n",
    "na_count = df2['Minimum Balance'].map(lambda x: 'N/A' in x).sum()\n",
    "\n",
    "if na_count>3:\n",
    "    print(\"Send_MAIL\")\n",
    "else:\n",
    "    print(\"PUSH to DEPLOYABLE\")\n",
    "    data = df.fillna('na').values.tolist()"
   ],
   "metadata": {
    "collapsed": false,
    "pycharm": {
     "name": "#%%\n"
    }
   }
  },
  {
   "cell_type": "code",
   "execution_count": 39,
   "outputs": [
    {
     "data": {
      "text/plain": "0  Vault Name        Coin Converted Coin Minimum Balance Current Balance  \\\n1       _Main         BTC            BTC  $56,742,767.81        2,465.50   \n2       _Main         ETH            ETH  $37,589,121.50        7,046.29   \n3       _Main       MATIC          MATIC  $13,582,710.07    5,738,906.74   \n4       _Main         ADA            ADA   $3,873,968.42    5,734,053.25   \n5       _Main         DOT            DOT   $2,035,794.16       44,232.50   \n6       _Main       SUSHI          SUSHI      $71,606.02      204,971.06   \n7       _Main       1INCH          1INCH      $86,138.48      180,483.57   \n8       _Main         KNC            KNC     $101,113.00       72,251.99   \n9                              KNC (Old)            #N/A       14,582.54   \n10      _Main        AAVE           AAVE     $423,190.10           #REF!   \n11      _Main         OMG            OMG      $64,981.54       14,750.01   \n12      _Main         EOS            EOS     $244,808.43      327,769.87   \n13      _Main         BCH            BCH     $481,746.70        2,488.45   \n14      _Main         LTC            LTC     $931,078.51       26,039.62   \n15      _Main         XRP            XRP   $1,932,779.21   10,336,637.92   \n16      _Main         XLM            XLM     $443,729.09   21,702,194.62   \n17      _Main         UNI            UNI     $387,389.70        9,733.84   \n18      _Main        MANA           MANA     $554,026.38       88,062.51   \n19      _Main        LUNA           LUNA   $4,204,023.22      122,084.04   \n20      _Main        DASH           DASH     $213,665.34        7,804.70   \n21      _Main         SNX            SNX     $589,028.06      630,914.04   \n22      _Main         CEL            CEL           $0.00   15,688,778.96   \n23      _Main        PAXG           PAXG     $636,967.63        2,244.14   \n24      _Main         ZEC            ZEC     $403,263.27       40,488.13   \n25      _Main        LINK           LINK   $2,838,261.15      297,957.87   \n26      _Main         ETC            ETC     $174,222.07       30,790.53   \n27      _Main        COMP           COMP      $89,979.93        7,368.31   \n28      _Main         ZRX            ZRX      $93,948.45    1,793,878.98   \n29      _Main         BSV            BSV      $67,407.08        3,465.90   \n30      _Main        XAUT           XAUT      $42,470.53          169.81   \n31      _Main       WDGLD          WDGLD           $0.00            1.00   \n32      _Main         BNT            BNT      $26,740.55        6,340.48   \n33      _Main         UMA            UMA       $6,537.79        1,492.02   \n34      _Main         BAT            BAT     $210,497.60       22,162.92   \n35      _Main        TCAD           TCAD   $1,000,000.00    2,139,762.10   \n36      _Main        TAUD           TAUD   $1,000,000.00    4,919,424.21   \n37      _Main        TUSD           TUSD   $1,000,000.00    1,071,725.11   \n38      _Main        TGBP           TGBP   $1,000,000.00    2,892,728.89   \n39      _Main        USDC           USDC   $5,000,000.00   23,065,939.90   \n40      _Main  USDT ERC20     USDT ERC20   $5,000,000.00    7,115,025.37   \n41      _Main        GUSD           GUSD   $1,000,000.00    1,236,816.65   \n42      _Main        BUSD           BUSD   $1,000,000.00    4,641,339.28   \n43      _Main        USDP            PAX   $1,000,000.00      766,799.85   \n44      _Main       MCDAI          MCDAI   $5,000,000.00    6,365,776.95   \n45      _Main         XTZ            XTZ      $21,468.16      166,581.18   \n46      _Main         BNB        BNB_BSC     $412,331.44        4,170.78   \n47      _Main        wBTC            BTC     $373,252.27        2,465.50   \n48      _Main        TGBP           TGBP   $1,000,000.00    2,892,728.89   \n49      _Main        THKD           THKD   $1,000,000.00    9,543,768.25   \n50      _Main        ZUSD           ZUSD   $1,000,000.00      539,101.61   \n51      _Main        XAUT           XAUT      $42,470.53          169.81   \n52      _Main        USDP            PAX   $1,000,000.00      766,799.85   \n53      _Main         FTT            FTT           $0.00            #N/A   \n54      _Main         SRM            SRM           $0.00            #N/A   \n55      _Main        AVAX           AVAX     $306,139.08        2,570.51   \n56      _Main         SOL            SOL           $0.00            #N/A   \n\n0      Frictional Min Main Balance       Price  \n1          618.01           693.06  $43,279.70  \n2        5,153.31         7,141.28   $3,057.37  \n3    1,093,086.15     6,140,532.15       $1.88  \n4      979,718.86     2,371,916.14       $1.16  \n5       49,727.12        45,988.30      $21.27  \n6       23,471.17             0.00       $4.56  \n7       91,686.35             0.00       $1.81  \n8      125,598.14             0.00       $1.91  \n9            0.00             #N/A        None  \n10       2,441.18             0.00     $175.76  \n11      34,276.12             0.00       $5.14  \n12      37,473.47        57,953.39       $2.57  \n13         268.14         1,195.42     $329.16  \n14       5,250.04         1,841.74     $131.29  \n15   1,609,000.31       768,162.03       $0.81  \n16   1,988,403.23             0.00       $0.24  \n17      98,114.54             0.00      $11.61  \n18     130,241.71        45,625.84       $3.15  \n19      33,708.57        42,320.05      $55.30  \n20       1,242.04           682.15     $111.04  \n21      75,579.37        33,646.47       $5.39  \n22   7,206,207.50             0.00       $3.02  \n23       1,413.99             0.00   $1,836.27  \n24       6,248.97             0.00     $127.41  \n25      55,872.29       102,972.66      $17.87  \n26       7,974.65             0.00      $30.96  \n27       2,338.77             0.00     $138.40  \n28     474,885.85             0.00       $0.65  \n29       1,161.50             0.00      $99.02  \n30          66.43             0.00   $1,810.40  \n31         465.47             0.00     $178.19  \n32      87,102.07             0.00       $2.70  \n33      26,749.83             0.00       $6.51  \n34     355,686.20             0.00       $0.90  \n35   1,040,108.12       231,347.69       $0.79  \n36     688,386.41       713,941.45       $0.71  \n37     798,984.97       201,015.03       $1.00  \n38     796,316.55             0.00       $1.36  \n39  15,024,723.74             0.00       $1.00  \n40   1,670,223.92     3,318,155.03       $1.00  \n41     271,159.50       728,903.35       $1.00  \n42     907,416.31        90,441.35       $1.00  \n43           0.00       999,144.54       $1.00  \n44   1,018,508.02     3,981,491.98       $1.00  \n45      34,739.89             0.00       $4.31  \n46         722.78           263.87     $417.91  \n47           8.62             0.00  $43,279.70  \n48     796,316.55             0.00       $1.36  \n49   4,650,309.38     3,143,922.89       $0.13  \n50     246,884.42       753,474.70       $1.00  \n51          66.43             0.00   $1,810.40  \n52           0.00       999,144.54       $1.00  \n53           0.00             0.00      $45.58  \n54           0.00             0.00       $2.47  \n55       3,494.13           127.96      $84.52  \n56           0.00             0.00     $111.46  ",
      "text/html": "<div>\n<style scoped>\n    .dataframe tbody tr th:only-of-type {\n        vertical-align: middle;\n    }\n\n    .dataframe tbody tr th {\n        vertical-align: top;\n    }\n\n    .dataframe thead th {\n        text-align: right;\n    }\n</style>\n<table border=\"1\" class=\"dataframe\">\n  <thead>\n    <tr style=\"text-align: right;\">\n      <th></th>\n      <th>Vault Name</th>\n      <th>Coin</th>\n      <th>Converted Coin</th>\n      <th>Minimum Balance</th>\n      <th>Current Balance</th>\n      <th>Frictional</th>\n      <th>Min Main Balance</th>\n      <th>Price</th>\n    </tr>\n  </thead>\n  <tbody>\n    <tr>\n      <th>1</th>\n      <td>_Main</td>\n      <td>BTC</td>\n      <td>BTC</td>\n      <td>$56,742,767.81</td>\n      <td>2,465.50</td>\n      <td>618.01</td>\n      <td>693.06</td>\n      <td>$43,279.70</td>\n    </tr>\n    <tr>\n      <th>2</th>\n      <td>_Main</td>\n      <td>ETH</td>\n      <td>ETH</td>\n      <td>$37,589,121.50</td>\n      <td>7,046.29</td>\n      <td>5,153.31</td>\n      <td>7,141.28</td>\n      <td>$3,057.37</td>\n    </tr>\n    <tr>\n      <th>3</th>\n      <td>_Main</td>\n      <td>MATIC</td>\n      <td>MATIC</td>\n      <td>$13,582,710.07</td>\n      <td>5,738,906.74</td>\n      <td>1,093,086.15</td>\n      <td>6,140,532.15</td>\n      <td>$1.88</td>\n    </tr>\n    <tr>\n      <th>4</th>\n      <td>_Main</td>\n      <td>ADA</td>\n      <td>ADA</td>\n      <td>$3,873,968.42</td>\n      <td>5,734,053.25</td>\n      <td>979,718.86</td>\n      <td>2,371,916.14</td>\n      <td>$1.16</td>\n    </tr>\n    <tr>\n      <th>5</th>\n      <td>_Main</td>\n      <td>DOT</td>\n      <td>DOT</td>\n      <td>$2,035,794.16</td>\n      <td>44,232.50</td>\n      <td>49,727.12</td>\n      <td>45,988.30</td>\n      <td>$21.27</td>\n    </tr>\n    <tr>\n      <th>6</th>\n      <td>_Main</td>\n      <td>SUSHI</td>\n      <td>SUSHI</td>\n      <td>$71,606.02</td>\n      <td>204,971.06</td>\n      <td>23,471.17</td>\n      <td>0.00</td>\n      <td>$4.56</td>\n    </tr>\n    <tr>\n      <th>7</th>\n      <td>_Main</td>\n      <td>1INCH</td>\n      <td>1INCH</td>\n      <td>$86,138.48</td>\n      <td>180,483.57</td>\n      <td>91,686.35</td>\n      <td>0.00</td>\n      <td>$1.81</td>\n    </tr>\n    <tr>\n      <th>8</th>\n      <td>_Main</td>\n      <td>KNC</td>\n      <td>KNC</td>\n      <td>$101,113.00</td>\n      <td>72,251.99</td>\n      <td>125,598.14</td>\n      <td>0.00</td>\n      <td>$1.91</td>\n    </tr>\n    <tr>\n      <th>9</th>\n      <td></td>\n      <td></td>\n      <td>KNC (Old)</td>\n      <td>#N/A</td>\n      <td>14,582.54</td>\n      <td>0.00</td>\n      <td>#N/A</td>\n      <td>None</td>\n    </tr>\n    <tr>\n      <th>10</th>\n      <td>_Main</td>\n      <td>AAVE</td>\n      <td>AAVE</td>\n      <td>$423,190.10</td>\n      <td>#REF!</td>\n      <td>2,441.18</td>\n      <td>0.00</td>\n      <td>$175.76</td>\n    </tr>\n    <tr>\n      <th>11</th>\n      <td>_Main</td>\n      <td>OMG</td>\n      <td>OMG</td>\n      <td>$64,981.54</td>\n      <td>14,750.01</td>\n      <td>34,276.12</td>\n      <td>0.00</td>\n      <td>$5.14</td>\n    </tr>\n    <tr>\n      <th>12</th>\n      <td>_Main</td>\n      <td>EOS</td>\n      <td>EOS</td>\n      <td>$244,808.43</td>\n      <td>327,769.87</td>\n      <td>37,473.47</td>\n      <td>57,953.39</td>\n      <td>$2.57</td>\n    </tr>\n    <tr>\n      <th>13</th>\n      <td>_Main</td>\n      <td>BCH</td>\n      <td>BCH</td>\n      <td>$481,746.70</td>\n      <td>2,488.45</td>\n      <td>268.14</td>\n      <td>1,195.42</td>\n      <td>$329.16</td>\n    </tr>\n    <tr>\n      <th>14</th>\n      <td>_Main</td>\n      <td>LTC</td>\n      <td>LTC</td>\n      <td>$931,078.51</td>\n      <td>26,039.62</td>\n      <td>5,250.04</td>\n      <td>1,841.74</td>\n      <td>$131.29</td>\n    </tr>\n    <tr>\n      <th>15</th>\n      <td>_Main</td>\n      <td>XRP</td>\n      <td>XRP</td>\n      <td>$1,932,779.21</td>\n      <td>10,336,637.92</td>\n      <td>1,609,000.31</td>\n      <td>768,162.03</td>\n      <td>$0.81</td>\n    </tr>\n    <tr>\n      <th>16</th>\n      <td>_Main</td>\n      <td>XLM</td>\n      <td>XLM</td>\n      <td>$443,729.09</td>\n      <td>21,702,194.62</td>\n      <td>1,988,403.23</td>\n      <td>0.00</td>\n      <td>$0.24</td>\n    </tr>\n    <tr>\n      <th>17</th>\n      <td>_Main</td>\n      <td>UNI</td>\n      <td>UNI</td>\n      <td>$387,389.70</td>\n      <td>9,733.84</td>\n      <td>98,114.54</td>\n      <td>0.00</td>\n      <td>$11.61</td>\n    </tr>\n    <tr>\n      <th>18</th>\n      <td>_Main</td>\n      <td>MANA</td>\n      <td>MANA</td>\n      <td>$554,026.38</td>\n      <td>88,062.51</td>\n      <td>130,241.71</td>\n      <td>45,625.84</td>\n      <td>$3.15</td>\n    </tr>\n    <tr>\n      <th>19</th>\n      <td>_Main</td>\n      <td>LUNA</td>\n      <td>LUNA</td>\n      <td>$4,204,023.22</td>\n      <td>122,084.04</td>\n      <td>33,708.57</td>\n      <td>42,320.05</td>\n      <td>$55.30</td>\n    </tr>\n    <tr>\n      <th>20</th>\n      <td>_Main</td>\n      <td>DASH</td>\n      <td>DASH</td>\n      <td>$213,665.34</td>\n      <td>7,804.70</td>\n      <td>1,242.04</td>\n      <td>682.15</td>\n      <td>$111.04</td>\n    </tr>\n    <tr>\n      <th>21</th>\n      <td>_Main</td>\n      <td>SNX</td>\n      <td>SNX</td>\n      <td>$589,028.06</td>\n      <td>630,914.04</td>\n      <td>75,579.37</td>\n      <td>33,646.47</td>\n      <td>$5.39</td>\n    </tr>\n    <tr>\n      <th>22</th>\n      <td>_Main</td>\n      <td>CEL</td>\n      <td>CEL</td>\n      <td>$0.00</td>\n      <td>15,688,778.96</td>\n      <td>7,206,207.50</td>\n      <td>0.00</td>\n      <td>$3.02</td>\n    </tr>\n    <tr>\n      <th>23</th>\n      <td>_Main</td>\n      <td>PAXG</td>\n      <td>PAXG</td>\n      <td>$636,967.63</td>\n      <td>2,244.14</td>\n      <td>1,413.99</td>\n      <td>0.00</td>\n      <td>$1,836.27</td>\n    </tr>\n    <tr>\n      <th>24</th>\n      <td>_Main</td>\n      <td>ZEC</td>\n      <td>ZEC</td>\n      <td>$403,263.27</td>\n      <td>40,488.13</td>\n      <td>6,248.97</td>\n      <td>0.00</td>\n      <td>$127.41</td>\n    </tr>\n    <tr>\n      <th>25</th>\n      <td>_Main</td>\n      <td>LINK</td>\n      <td>LINK</td>\n      <td>$2,838,261.15</td>\n      <td>297,957.87</td>\n      <td>55,872.29</td>\n      <td>102,972.66</td>\n      <td>$17.87</td>\n    </tr>\n    <tr>\n      <th>26</th>\n      <td>_Main</td>\n      <td>ETC</td>\n      <td>ETC</td>\n      <td>$174,222.07</td>\n      <td>30,790.53</td>\n      <td>7,974.65</td>\n      <td>0.00</td>\n      <td>$30.96</td>\n    </tr>\n    <tr>\n      <th>27</th>\n      <td>_Main</td>\n      <td>COMP</td>\n      <td>COMP</td>\n      <td>$89,979.93</td>\n      <td>7,368.31</td>\n      <td>2,338.77</td>\n      <td>0.00</td>\n      <td>$138.40</td>\n    </tr>\n    <tr>\n      <th>28</th>\n      <td>_Main</td>\n      <td>ZRX</td>\n      <td>ZRX</td>\n      <td>$93,948.45</td>\n      <td>1,793,878.98</td>\n      <td>474,885.85</td>\n      <td>0.00</td>\n      <td>$0.65</td>\n    </tr>\n    <tr>\n      <th>29</th>\n      <td>_Main</td>\n      <td>BSV</td>\n      <td>BSV</td>\n      <td>$67,407.08</td>\n      <td>3,465.90</td>\n      <td>1,161.50</td>\n      <td>0.00</td>\n      <td>$99.02</td>\n    </tr>\n    <tr>\n      <th>30</th>\n      <td>_Main</td>\n      <td>XAUT</td>\n      <td>XAUT</td>\n      <td>$42,470.53</td>\n      <td>169.81</td>\n      <td>66.43</td>\n      <td>0.00</td>\n      <td>$1,810.40</td>\n    </tr>\n    <tr>\n      <th>31</th>\n      <td>_Main</td>\n      <td>WDGLD</td>\n      <td>WDGLD</td>\n      <td>$0.00</td>\n      <td>1.00</td>\n      <td>465.47</td>\n      <td>0.00</td>\n      <td>$178.19</td>\n    </tr>\n    <tr>\n      <th>32</th>\n      <td>_Main</td>\n      <td>BNT</td>\n      <td>BNT</td>\n      <td>$26,740.55</td>\n      <td>6,340.48</td>\n      <td>87,102.07</td>\n      <td>0.00</td>\n      <td>$2.70</td>\n    </tr>\n    <tr>\n      <th>33</th>\n      <td>_Main</td>\n      <td>UMA</td>\n      <td>UMA</td>\n      <td>$6,537.79</td>\n      <td>1,492.02</td>\n      <td>26,749.83</td>\n      <td>0.00</td>\n      <td>$6.51</td>\n    </tr>\n    <tr>\n      <th>34</th>\n      <td>_Main</td>\n      <td>BAT</td>\n      <td>BAT</td>\n      <td>$210,497.60</td>\n      <td>22,162.92</td>\n      <td>355,686.20</td>\n      <td>0.00</td>\n      <td>$0.90</td>\n    </tr>\n    <tr>\n      <th>35</th>\n      <td>_Main</td>\n      <td>TCAD</td>\n      <td>TCAD</td>\n      <td>$1,000,000.00</td>\n      <td>2,139,762.10</td>\n      <td>1,040,108.12</td>\n      <td>231,347.69</td>\n      <td>$0.79</td>\n    </tr>\n    <tr>\n      <th>36</th>\n      <td>_Main</td>\n      <td>TAUD</td>\n      <td>TAUD</td>\n      <td>$1,000,000.00</td>\n      <td>4,919,424.21</td>\n      <td>688,386.41</td>\n      <td>713,941.45</td>\n      <td>$0.71</td>\n    </tr>\n    <tr>\n      <th>37</th>\n      <td>_Main</td>\n      <td>TUSD</td>\n      <td>TUSD</td>\n      <td>$1,000,000.00</td>\n      <td>1,071,725.11</td>\n      <td>798,984.97</td>\n      <td>201,015.03</td>\n      <td>$1.00</td>\n    </tr>\n    <tr>\n      <th>38</th>\n      <td>_Main</td>\n      <td>TGBP</td>\n      <td>TGBP</td>\n      <td>$1,000,000.00</td>\n      <td>2,892,728.89</td>\n      <td>796,316.55</td>\n      <td>0.00</td>\n      <td>$1.36</td>\n    </tr>\n    <tr>\n      <th>39</th>\n      <td>_Main</td>\n      <td>USDC</td>\n      <td>USDC</td>\n      <td>$5,000,000.00</td>\n      <td>23,065,939.90</td>\n      <td>15,024,723.74</td>\n      <td>0.00</td>\n      <td>$1.00</td>\n    </tr>\n    <tr>\n      <th>40</th>\n      <td>_Main</td>\n      <td>USDT ERC20</td>\n      <td>USDT ERC20</td>\n      <td>$5,000,000.00</td>\n      <td>7,115,025.37</td>\n      <td>1,670,223.92</td>\n      <td>3,318,155.03</td>\n      <td>$1.00</td>\n    </tr>\n    <tr>\n      <th>41</th>\n      <td>_Main</td>\n      <td>GUSD</td>\n      <td>GUSD</td>\n      <td>$1,000,000.00</td>\n      <td>1,236,816.65</td>\n      <td>271,159.50</td>\n      <td>728,903.35</td>\n      <td>$1.00</td>\n    </tr>\n    <tr>\n      <th>42</th>\n      <td>_Main</td>\n      <td>BUSD</td>\n      <td>BUSD</td>\n      <td>$1,000,000.00</td>\n      <td>4,641,339.28</td>\n      <td>907,416.31</td>\n      <td>90,441.35</td>\n      <td>$1.00</td>\n    </tr>\n    <tr>\n      <th>43</th>\n      <td>_Main</td>\n      <td>USDP</td>\n      <td>PAX</td>\n      <td>$1,000,000.00</td>\n      <td>766,799.85</td>\n      <td>0.00</td>\n      <td>999,144.54</td>\n      <td>$1.00</td>\n    </tr>\n    <tr>\n      <th>44</th>\n      <td>_Main</td>\n      <td>MCDAI</td>\n      <td>MCDAI</td>\n      <td>$5,000,000.00</td>\n      <td>6,365,776.95</td>\n      <td>1,018,508.02</td>\n      <td>3,981,491.98</td>\n      <td>$1.00</td>\n    </tr>\n    <tr>\n      <th>45</th>\n      <td>_Main</td>\n      <td>XTZ</td>\n      <td>XTZ</td>\n      <td>$21,468.16</td>\n      <td>166,581.18</td>\n      <td>34,739.89</td>\n      <td>0.00</td>\n      <td>$4.31</td>\n    </tr>\n    <tr>\n      <th>46</th>\n      <td>_Main</td>\n      <td>BNB</td>\n      <td>BNB_BSC</td>\n      <td>$412,331.44</td>\n      <td>4,170.78</td>\n      <td>722.78</td>\n      <td>263.87</td>\n      <td>$417.91</td>\n    </tr>\n    <tr>\n      <th>47</th>\n      <td>_Main</td>\n      <td>wBTC</td>\n      <td>BTC</td>\n      <td>$373,252.27</td>\n      <td>2,465.50</td>\n      <td>8.62</td>\n      <td>0.00</td>\n      <td>$43,279.70</td>\n    </tr>\n    <tr>\n      <th>48</th>\n      <td>_Main</td>\n      <td>TGBP</td>\n      <td>TGBP</td>\n      <td>$1,000,000.00</td>\n      <td>2,892,728.89</td>\n      <td>796,316.55</td>\n      <td>0.00</td>\n      <td>$1.36</td>\n    </tr>\n    <tr>\n      <th>49</th>\n      <td>_Main</td>\n      <td>THKD</td>\n      <td>THKD</td>\n      <td>$1,000,000.00</td>\n      <td>9,543,768.25</td>\n      <td>4,650,309.38</td>\n      <td>3,143,922.89</td>\n      <td>$0.13</td>\n    </tr>\n    <tr>\n      <th>50</th>\n      <td>_Main</td>\n      <td>ZUSD</td>\n      <td>ZUSD</td>\n      <td>$1,000,000.00</td>\n      <td>539,101.61</td>\n      <td>246,884.42</td>\n      <td>753,474.70</td>\n      <td>$1.00</td>\n    </tr>\n    <tr>\n      <th>51</th>\n      <td>_Main</td>\n      <td>XAUT</td>\n      <td>XAUT</td>\n      <td>$42,470.53</td>\n      <td>169.81</td>\n      <td>66.43</td>\n      <td>0.00</td>\n      <td>$1,810.40</td>\n    </tr>\n    <tr>\n      <th>52</th>\n      <td>_Main</td>\n      <td>USDP</td>\n      <td>PAX</td>\n      <td>$1,000,000.00</td>\n      <td>766,799.85</td>\n      <td>0.00</td>\n      <td>999,144.54</td>\n      <td>$1.00</td>\n    </tr>\n    <tr>\n      <th>53</th>\n      <td>_Main</td>\n      <td>FTT</td>\n      <td>FTT</td>\n      <td>$0.00</td>\n      <td>#N/A</td>\n      <td>0.00</td>\n      <td>0.00</td>\n      <td>$45.58</td>\n    </tr>\n    <tr>\n      <th>54</th>\n      <td>_Main</td>\n      <td>SRM</td>\n      <td>SRM</td>\n      <td>$0.00</td>\n      <td>#N/A</td>\n      <td>0.00</td>\n      <td>0.00</td>\n      <td>$2.47</td>\n    </tr>\n    <tr>\n      <th>55</th>\n      <td>_Main</td>\n      <td>AVAX</td>\n      <td>AVAX</td>\n      <td>$306,139.08</td>\n      <td>2,570.51</td>\n      <td>3,494.13</td>\n      <td>127.96</td>\n      <td>$84.52</td>\n    </tr>\n    <tr>\n      <th>56</th>\n      <td>_Main</td>\n      <td>SOL</td>\n      <td>SOL</td>\n      <td>$0.00</td>\n      <td>#N/A</td>\n      <td>0.00</td>\n      <td>0.00</td>\n      <td>$111.46</td>\n    </tr>\n  </tbody>\n</table>\n</div>"
     },
     "execution_count": 39,
     "metadata": {},
     "output_type": "execute_result"
    }
   ],
   "source": [
    "df2"
   ],
   "metadata": {
    "collapsed": false,
    "pycharm": {
     "name": "#%%\n"
    }
   }
  },
  {
   "cell_type": "code",
   "execution_count": null,
   "outputs": [],
   "source": [],
   "metadata": {
    "collapsed": false,
    "pycharm": {
     "name": "#%%\n"
    }
   }
  }
 ],
 "metadata": {
  "kernelspec": {
   "display_name": "Python 3",
   "language": "python",
   "name": "python3"
  },
  "language_info": {
   "codemirror_mode": {
    "name": "ipython",
    "version": 2
   },
   "file_extension": ".py",
   "mimetype": "text/x-python",
   "name": "python",
   "nbconvert_exporter": "python",
   "pygments_lexer": "ipython2",
   "version": "2.7.6"
  }
 },
 "nbformat": 4,
 "nbformat_minor": 0
}