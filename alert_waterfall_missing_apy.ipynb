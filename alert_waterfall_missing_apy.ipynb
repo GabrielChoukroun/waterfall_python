{
 "cells": [
  {
   "cell_type": "code",
   "execution_count": 1,
   "metadata": {
    "collapsed": true
   },
   "outputs": [],
   "source": [
    "from email.mime.multipart import MIMEMultipart\n",
    "import os.path\n",
    "import pandas as pd\n",
    "from googleapiclient.discovery import build\n",
    "from google_auth_oauthlib.flow import InstalledAppFlow\n",
    "from google.auth.transport.requests import Request\n",
    "from google.oauth2.credentials import Credentials\n",
    "import datetime as dt\n",
    "from email.mime.text import MIMEText\n",
    "import base64\n",
    "import requests"
   ]
  },
  {
   "cell_type": "code",
   "execution_count": 2,
   "outputs": [],
   "source": [
    "# Connect to Drive API\n",
    "spreadsheet_id = '1ZkSLZH2QwHnfdSpQUWAv2qum6xzhemngjWQBJBn_KeM'\n",
    "url = 'https://docs.google.com/spreadsheets/d/1ZkSLZH2QwHnfdSpQUWAv2qum6xzhemngjWQBJBn_KeM/'\n",
    "emails = ['treasury@celsius.network',\n",
    "'weekly.portfolio@celsius.network']\n",
    "\n",
    "SCOPES = ['https://www.googleapis.com/auth/drive.readonly']\n",
    "creds = None\n",
    "creds = Credentials.from_authorized_user_file('token.json', SCOPES)\n",
    "service = build('sheets', 'v4', credentials=creds)\n",
    "\n",
    "# Call the Drive v3 API\n",
    "SAMPLE_RANGE_NAME = 'Pivot_Data!A1:H'\n",
    "request = service.spreadsheets().values().batchGet(\n",
    "    spreadsheetId=spreadsheet_id,\n",
    "    ranges=SAMPLE_RANGE_NAME,\n",
    "    valueRenderOption='UNFORMATTED_VALUE')\n",
    "response = request.execute()"
   ],
   "metadata": {
    "collapsed": false,
    "pycharm": {
     "name": "#%%\n"
    }
   }
  },
  {
   "cell_type": "code",
   "execution_count": 3,
   "outputs": [],
   "source": [
    "df = pd.DataFrame(response['valueRanges'][0]['values']).dropna().reset_index(drop=True)\n",
    "df.columns = df.loc[0]\n",
    "df2 = df.loc[1:]\n",
    "cond = (df2['USD Value']>10000000) & ((df2['APY'].isna())|(df2['APY']==0)) & (~df2['Category'].isin(['CEL Treasury','Posted Collateral','Mining','CEL Users','Investments','undeployed','underdeployed','Underdeployed', 'operational']))\n",
    "error_table = df2[cond][['Coin','Category','Account','APY','USD Value']]\n",
    "error_table['USD Value'] = error_table['USD Value'].map(lambda x: f\"${int(x):,}\")\n",
    "error = error_table.shape[0]>0"
   ],
   "metadata": {
    "collapsed": false,
    "pycharm": {
     "name": "#%%\n"
    }
   }
  },
  {
   "cell_type": "code",
   "execution_count": 4,
   "outputs": [],
   "source": [
    "# Connect to GMAIL API\n",
    "client_id = \"me\"\n",
    "SCOPES = ['https://www.googleapis.com/auth/gmail.send']\n",
    "creds = None\n",
    "creds = Credentials.from_authorized_user_file('token_gmail_send.json', SCOPES)\n",
    "\n",
    "service_gmail = build('gmail', 'v1', credentials=creds)"
   ],
   "metadata": {
    "collapsed": false,
    "pycharm": {
     "name": "#%%\n"
    }
   }
  },
  {
   "cell_type": "code",
   "execution_count": 5,
   "outputs": [
    {
     "name": "stdout",
     "output_type": "stream",
     "text": [
      "Message Id: 18018ea4466b21ae\n"
     ]
    }
   ],
   "source": [
    "if error:\n",
    "    html = \"\"\"\n",
    "    <html><body><p>Hi all,</p>\n",
    "    Those following accounts have more than $10M deployed in and does not have any APY in the WaterFall\"\n",
    "    {table}\n",
    "\n",
    "    <p> And the link to the google sheet:</p>\n",
    "    <a href=\"{url}\">Portfolio Waterfall</a>\n",
    "\n",
    "    <p>Regards,</p>\n",
    "    <p>CNS BOT</p>\n",
    "    </body></html>\n",
    "    \"\"\"\n",
    "\n",
    "\n",
    "    subject = '[Alert] Portfolio Waterfall ---- Missing APYs'\n",
    "    to = 'gabriel.choukroun@celsius.network'\n",
    "    sender = 'gabriel.choukroun@celsius.network'\n",
    "\n",
    "\n",
    "    html_table = error_table.to_html(index=False,\n",
    "                                  header=True,\n",
    "                                  justify='center',\n",
    "                                  col_space=70)\n",
    "\n",
    "    html = html.format(table=html_table, url=url)\n",
    "\n",
    "    message = MIMEText(html, 'html')\n",
    "    message['to'] = to\n",
    "    message['from'] = sender\n",
    "    message['subject'] = subject\n",
    "    user_id = \"me\"\n",
    "    raw_message = {\n",
    "        'raw':base64.urlsafe_b64encode(message.as_string().encode(\"utf-8\")).decode(\"utf-8\")}\n",
    "     #   'payload': {'mimeType': 'text/html'}}\n",
    "\n",
    "    message = service_gmail.users().messages().send(userId=user_id, body=raw_message).execute()\n",
    "    print('Message Id: %s' % message['id'])"
   ],
   "metadata": {
    "collapsed": false,
    "pycharm": {
     "name": "#%%\n"
    }
   }
  },
  {
   "cell_type": "code",
   "execution_count": null,
   "outputs": [],
   "source": [],
   "metadata": {
    "collapsed": false,
    "pycharm": {
     "name": "#%%\n"
    }
   }
  }
 ],
 "metadata": {
  "kernelspec": {
   "display_name": "Python 3",
   "language": "python",
   "name": "python3"
  },
  "language_info": {
   "codemirror_mode": {
    "name": "ipython",
    "version": 2
   },
   "file_extension": ".py",
   "mimetype": "text/x-python",
   "name": "python",
   "nbconvert_exporter": "python",
   "pygments_lexer": "ipython2",
   "version": "2.7.6"
  }
 },
 "nbformat": 4,
 "nbformat_minor": 0
}